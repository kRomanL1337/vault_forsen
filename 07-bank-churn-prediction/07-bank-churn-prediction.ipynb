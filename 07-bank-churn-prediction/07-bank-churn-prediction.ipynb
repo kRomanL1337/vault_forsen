{
 "cells": [
  {
   "cell_type": "markdown",
   "metadata": {
    "toc": true
   },
   "source": [
    "<h1>Содержание<span class=\"tocSkip\"></span></h1>\n",
    "<div class=\"toc\"><ul class=\"toc-item\"><li><span><a href=\"#Подготовка-данных\" data-toc-modified-id=\"Подготовка-данных-1\"><span class=\"toc-item-num\">1&nbsp;&nbsp;</span>Подготовка данных</a></span></li><li><span><a href=\"#Откроем-и-изучим-файл\" data-toc-modified-id=\"Откроем-и-изучим-файл-2\"><span class=\"toc-item-num\">2&nbsp;&nbsp;</span>Откроем и изучим файл</a></span></li><li><span><a href=\"#Исследование-задачи\" data-toc-modified-id=\"Исследование-задачи-3\"><span class=\"toc-item-num\">3&nbsp;&nbsp;</span>Исследование задачи</a></span></li><li><span><a href=\"#Борьба-с-дисбалансом\" data-toc-modified-id=\"Борьба-с-дисбалансом-4\"><span class=\"toc-item-num\">4&nbsp;&nbsp;</span>Борьба с дисбалансом</a></span></li><li><span><a href=\"#Тестирование-модели\" data-toc-modified-id=\"Тестирование-модели-5\"><span class=\"toc-item-num\">5&nbsp;&nbsp;</span>Тестирование модели</a></span><ul class=\"toc-item\"><li><span><a href=\"#Общий-вывод\" data-toc-modified-id=\"Общий-вывод-5.1\"><span class=\"toc-item-num\">5.1&nbsp;&nbsp;</span>Общий вывод</a></span></li></ul></li><li><span><a href=\"#Чек-лист-готовности-проекта\" data-toc-modified-id=\"Чек-лист-готовности-проекта-6\"><span class=\"toc-item-num\">6&nbsp;&nbsp;</span>Чек-лист готовности проекта</a></span></li></ul></div>"
   ]
  },
  {
   "cell_type": "markdown",
   "metadata": {},
   "source": [
    "# Отток клиентов из банка"
   ]
  },
  {
   "cell_type": "markdown",
   "metadata": {},
   "source": [
    "В нашем распоряжении исторические данные банка \"Бета-Банк\" о поведении клиентов и расторжении договоров с банком. Из него стали уходить клиенты. Каждый месяц. \n",
    "\n",
    "Данные включают в себя уникальную информацию про каждого клиента, а именно:\n",
    "* уникальный идентификатор\n",
    "* фамилия\n",
    "* кредитный рейтинг\n",
    "* страна проживания\n",
    "* пол\n",
    "* возраст\n",
    "* сколько лет человек является клиентом банка\n",
    "* баланс на счёте\n",
    "* кол-во продуктов банка, которые используются клиентом\n",
    "* наличие кредитной карты\n",
    "* активность клиента\n",
    "* предполагаемая зарплата  \n",
    "\n",
    "Банковские маркетологи посчитали, что сохранять текущих клиентов дешевле, чем привлекать новых.\n",
    "\n",
    "Нам нужно спрогнозировать, уйдёт клиент из банка в ближайшее время или нет. "
   ]
  },
  {
   "cell_type": "markdown",
   "metadata": {},
   "source": [
    "<h1>План работы<span class=\"tocSkip\"></span></h1>\n",
    "<div class=\"toc\"><ul class=\"toc-item\"><li><span><a href=\"#Подготовка-данных\" data-toc-modified-id=\"Подготовка-данных-1\"><span class=\"toc-item-num\">1&nbsp;&nbsp;</span>Подготовка данных</a></span></li><li><span><a href=\"#Исследование-задачи\" data-toc-modified-id=\"Исследование-задачи-2\"><span class=\"toc-item-num\">2&nbsp;&nbsp;</span>Исследование задачи</a></span></li><li><span><a href=\"#Борьба-с-дисбалансом\" data-toc-modified-id=\"Борьба-с-дисбалансом-3\"><span class=\"toc-item-num\">3&nbsp;&nbsp;</span>Борьба с дисбалансом</a></span></li><li><span><a href=\"#Тестирование-модели\" data-toc-modified-id=\"Тестирование-модели-4\"><span class=\"toc-item-num\">4&nbsp;&nbsp;</span>Тестирование модели</a>"
   ]
  },
  {
   "cell_type": "markdown",
   "metadata": {},
   "source": [
    "## Подготовка данных"
   ]
  },
  {
   "cell_type": "markdown",
   "metadata": {},
   "source": [
    "## Откроем и изучим файл"
   ]
  },
  {
   "cell_type": "markdown",
   "metadata": {},
   "source": [
    "Для начала импортируем всё необходимое для выполнения проекта"
   ]
  },
  {
   "cell_type": "code",
   "execution_count": 56,
   "metadata": {},
   "outputs": [],
   "source": [
    "import pandas as pd\n",
    "import numpy as np\n",
    "import matplotlib.pyplot as plt\n",
    "from sklearn.model_selection import train_test_split\n",
    "from sklearn.ensemble import RandomForestClassifier\n",
    "from sklearn.tree import DecisionTreeClassifier\n",
    "from sklearn.linear_model import LogisticRegression \n",
    "from sklearn.preprocessing import StandardScaler, OneHotEncoder\n",
    "from sklearn.metrics import f1_score, precision_score, recall_score, accuracy_score, precision_recall_curve, roc_auc_score, roc_curve\n",
    "from sklearn.utils import shuffle"
   ]
  },
  {
   "cell_type": "code",
   "execution_count": 2,
   "metadata": {},
   "outputs": [
    {
     "data": {
      "text/html": [
       "<div>\n",
       "<style scoped>\n",
       "    .dataframe tbody tr th:only-of-type {\n",
       "        vertical-align: middle;\n",
       "    }\n",
       "\n",
       "    .dataframe tbody tr th {\n",
       "        vertical-align: top;\n",
       "    }\n",
       "\n",
       "    .dataframe thead th {\n",
       "        text-align: right;\n",
       "    }\n",
       "</style>\n",
       "<table border=\"1\" class=\"dataframe\">\n",
       "  <thead>\n",
       "    <tr style=\"text-align: right;\">\n",
       "      <th></th>\n",
       "      <th>RowNumber</th>\n",
       "      <th>CustomerId</th>\n",
       "      <th>Surname</th>\n",
       "      <th>CreditScore</th>\n",
       "      <th>Geography</th>\n",
       "      <th>Gender</th>\n",
       "      <th>Age</th>\n",
       "      <th>Tenure</th>\n",
       "      <th>Balance</th>\n",
       "      <th>NumOfProducts</th>\n",
       "      <th>HasCrCard</th>\n",
       "      <th>IsActiveMember</th>\n",
       "      <th>EstimatedSalary</th>\n",
       "      <th>Exited</th>\n",
       "    </tr>\n",
       "  </thead>\n",
       "  <tbody>\n",
       "    <tr>\n",
       "      <th>0</th>\n",
       "      <td>1</td>\n",
       "      <td>15634602</td>\n",
       "      <td>Hargrave</td>\n",
       "      <td>619</td>\n",
       "      <td>France</td>\n",
       "      <td>Female</td>\n",
       "      <td>42</td>\n",
       "      <td>2.0</td>\n",
       "      <td>0.00</td>\n",
       "      <td>1</td>\n",
       "      <td>1</td>\n",
       "      <td>1</td>\n",
       "      <td>101348.88</td>\n",
       "      <td>1</td>\n",
       "    </tr>\n",
       "    <tr>\n",
       "      <th>1</th>\n",
       "      <td>2</td>\n",
       "      <td>15647311</td>\n",
       "      <td>Hill</td>\n",
       "      <td>608</td>\n",
       "      <td>Spain</td>\n",
       "      <td>Female</td>\n",
       "      <td>41</td>\n",
       "      <td>1.0</td>\n",
       "      <td>83807.86</td>\n",
       "      <td>1</td>\n",
       "      <td>0</td>\n",
       "      <td>1</td>\n",
       "      <td>112542.58</td>\n",
       "      <td>0</td>\n",
       "    </tr>\n",
       "    <tr>\n",
       "      <th>2</th>\n",
       "      <td>3</td>\n",
       "      <td>15619304</td>\n",
       "      <td>Onio</td>\n",
       "      <td>502</td>\n",
       "      <td>France</td>\n",
       "      <td>Female</td>\n",
       "      <td>42</td>\n",
       "      <td>8.0</td>\n",
       "      <td>159660.80</td>\n",
       "      <td>3</td>\n",
       "      <td>1</td>\n",
       "      <td>0</td>\n",
       "      <td>113931.57</td>\n",
       "      <td>1</td>\n",
       "    </tr>\n",
       "    <tr>\n",
       "      <th>3</th>\n",
       "      <td>4</td>\n",
       "      <td>15701354</td>\n",
       "      <td>Boni</td>\n",
       "      <td>699</td>\n",
       "      <td>France</td>\n",
       "      <td>Female</td>\n",
       "      <td>39</td>\n",
       "      <td>1.0</td>\n",
       "      <td>0.00</td>\n",
       "      <td>2</td>\n",
       "      <td>0</td>\n",
       "      <td>0</td>\n",
       "      <td>93826.63</td>\n",
       "      <td>0</td>\n",
       "    </tr>\n",
       "    <tr>\n",
       "      <th>4</th>\n",
       "      <td>5</td>\n",
       "      <td>15737888</td>\n",
       "      <td>Mitchell</td>\n",
       "      <td>850</td>\n",
       "      <td>Spain</td>\n",
       "      <td>Female</td>\n",
       "      <td>43</td>\n",
       "      <td>2.0</td>\n",
       "      <td>125510.82</td>\n",
       "      <td>1</td>\n",
       "      <td>1</td>\n",
       "      <td>1</td>\n",
       "      <td>79084.10</td>\n",
       "      <td>0</td>\n",
       "    </tr>\n",
       "  </tbody>\n",
       "</table>\n",
       "</div>"
      ],
      "text/plain": [
       "   RowNumber  CustomerId   Surname  CreditScore Geography  Gender  Age  \\\n",
       "0          1    15634602  Hargrave          619    France  Female   42   \n",
       "1          2    15647311      Hill          608     Spain  Female   41   \n",
       "2          3    15619304      Onio          502    France  Female   42   \n",
       "3          4    15701354      Boni          699    France  Female   39   \n",
       "4          5    15737888  Mitchell          850     Spain  Female   43   \n",
       "\n",
       "   Tenure    Balance  NumOfProducts  HasCrCard  IsActiveMember  \\\n",
       "0     2.0       0.00              1          1               1   \n",
       "1     1.0   83807.86              1          0               1   \n",
       "2     8.0  159660.80              3          1               0   \n",
       "3     1.0       0.00              2          0               0   \n",
       "4     2.0  125510.82              1          1               1   \n",
       "\n",
       "   EstimatedSalary  Exited  \n",
       "0        101348.88       1  \n",
       "1        112542.58       0  \n",
       "2        113931.57       1  \n",
       "3         93826.63       0  \n",
       "4         79084.10       0  "
      ]
     },
     "metadata": {},
     "output_type": "display_data"
    }
   ],
   "source": [
    "try:\n",
    "    forsen = pd.read_csv('C:/Users/Games/Downloads/Churn.csv')\n",
    "except:\n",
    "    forsen = pd.read_csv('/datasets/Churn.csv')\n",
    "    \n",
    "display(forsen.head())"
   ]
  },
  {
   "cell_type": "code",
   "execution_count": 3,
   "metadata": {},
   "outputs": [
    {
     "name": "stdout",
     "output_type": "stream",
     "text": [
      "<class 'pandas.core.frame.DataFrame'>\n",
      "RangeIndex: 10000 entries, 0 to 9999\n",
      "Data columns (total 14 columns):\n",
      " #   Column           Non-Null Count  Dtype  \n",
      "---  ------           --------------  -----  \n",
      " 0   RowNumber        10000 non-null  int64  \n",
      " 1   CustomerId       10000 non-null  int64  \n",
      " 2   Surname          10000 non-null  object \n",
      " 3   CreditScore      10000 non-null  int64  \n",
      " 4   Geography        10000 non-null  object \n",
      " 5   Gender           10000 non-null  object \n",
      " 6   Age              10000 non-null  int64  \n",
      " 7   Tenure           9091 non-null   float64\n",
      " 8   Balance          10000 non-null  float64\n",
      " 9   NumOfProducts    10000 non-null  int64  \n",
      " 10  HasCrCard        10000 non-null  int64  \n",
      " 11  IsActiveMember   10000 non-null  int64  \n",
      " 12  EstimatedSalary  10000 non-null  float64\n",
      " 13  Exited           10000 non-null  int64  \n",
      "dtypes: float64(3), int64(8), object(3)\n",
      "memory usage: 1.1+ MB\n"
     ]
    }
   ],
   "source": [
    "forsen.info()"
   ]
  },
  {
   "cell_type": "markdown",
   "metadata": {},
   "source": [
    "В датасете 10 тыс. строк, 14 столбцов. Пропуски только в одном из них - в кол-ве лет, которые человек является клиентом банка (909 шт.). Их мы позже заполним медианным значением.  \n",
    "С типами данных каждого столбца всё в порядке, кроме столбца с данными о кол-ве лет, которые каждый клиент провёл взаимодействуя с банком. Сделаем их целыми числами. Остальное преобразовывать не нужно.  \n",
    "Для нашего удобства, однако, необходимо привести названия столбцов к нижнему регистру."
   ]
  },
  {
   "cell_type": "code",
   "execution_count": 4,
   "metadata": {},
   "outputs": [
    {
     "data": {
      "text/plain": [
       "Index(['rownumber', 'customerid', 'surname', 'creditscore', 'geography',\n",
       "       'gender', 'age', 'tenure', 'balance', 'numofproducts', 'hascrcard',\n",
       "       'isactivemember', 'estimatedsalary', 'exited'],\n",
       "      dtype='object')"
      ]
     },
     "execution_count": 4,
     "metadata": {},
     "output_type": "execute_result"
    }
   ],
   "source": [
    "forsen.columns = forsen.columns.str.lower()\n",
    "forsen.columns"
   ]
  },
  {
   "cell_type": "markdown",
   "metadata": {},
   "source": [
    "Теперь преобразуем их ещё в более подобающий вид, разделив слова нижними подчёркиваниями."
   ]
  },
  {
   "cell_type": "code",
   "execution_count": 5,
   "metadata": {},
   "outputs": [
    {
     "data": {
      "text/plain": [
       "Index(['row_number', 'customer_id', 'surname', 'credit_score', 'geography',\n",
       "       'gender', 'age', 'tenure', 'balance', 'num_of_products', 'has_cr_card',\n",
       "       'is_active_member', 'estimated_salary', 'exited'],\n",
       "      dtype='object')"
      ]
     },
     "execution_count": 5,
     "metadata": {},
     "output_type": "execute_result"
    }
   ],
   "source": [
    "forsen.columns = ('row_number', 'customer_id', 'surname', 'credit_score', 'geography',\n",
    "       'gender', 'age', 'tenure', 'balance', 'num_of_products', 'has_cr_card',\n",
    "       'is_active_member', 'estimated_salary', 'exited')\n",
    "forsen.columns"
   ]
  },
  {
   "cell_type": "markdown",
   "metadata": {},
   "source": [
    "Теперь заполним пропуски в вышеупомянутом столбце а также преобразуем тип данных в столбце 'tenure' в целые числа."
   ]
  },
  {
   "cell_type": "code",
   "execution_count": 6,
   "metadata": {},
   "outputs": [
    {
     "name": "stdout",
     "output_type": "stream",
     "text": [
      "<class 'pandas.core.frame.DataFrame'>\n",
      "RangeIndex: 10000 entries, 0 to 9999\n",
      "Data columns (total 14 columns):\n",
      " #   Column            Non-Null Count  Dtype  \n",
      "---  ------            --------------  -----  \n",
      " 0   row_number        10000 non-null  int64  \n",
      " 1   customer_id       10000 non-null  int64  \n",
      " 2   surname           10000 non-null  object \n",
      " 3   credit_score      10000 non-null  int64  \n",
      " 4   geography         10000 non-null  object \n",
      " 5   gender            10000 non-null  object \n",
      " 6   age               10000 non-null  int64  \n",
      " 7   tenure            10000 non-null  float64\n",
      " 8   balance           10000 non-null  float64\n",
      " 9   num_of_products   10000 non-null  int64  \n",
      " 10  has_cr_card       10000 non-null  int64  \n",
      " 11  is_active_member  10000 non-null  int64  \n",
      " 12  estimated_salary  10000 non-null  float64\n",
      " 13  exited            10000 non-null  int64  \n",
      "dtypes: float64(3), int64(8), object(3)\n",
      "memory usage: 1.1+ MB\n"
     ]
    }
   ],
   "source": [
    "forsen['tenure'] = forsen['tenure'].fillna(forsen['tenure'].median())\n",
    "forsen.info()"
   ]
  },
  {
   "cell_type": "code",
   "execution_count": 7,
   "metadata": {},
   "outputs": [
    {
     "name": "stdout",
     "output_type": "stream",
     "text": [
      "<class 'pandas.core.frame.DataFrame'>\n",
      "RangeIndex: 10000 entries, 0 to 9999\n",
      "Data columns (total 14 columns):\n",
      " #   Column            Non-Null Count  Dtype  \n",
      "---  ------            --------------  -----  \n",
      " 0   row_number        10000 non-null  int64  \n",
      " 1   customer_id       10000 non-null  int64  \n",
      " 2   surname           10000 non-null  object \n",
      " 3   credit_score      10000 non-null  int64  \n",
      " 4   geography         10000 non-null  object \n",
      " 5   gender            10000 non-null  object \n",
      " 6   age               10000 non-null  int64  \n",
      " 7   tenure            10000 non-null  int64  \n",
      " 8   balance           10000 non-null  float64\n",
      " 9   num_of_products   10000 non-null  int64  \n",
      " 10  has_cr_card       10000 non-null  int64  \n",
      " 11  is_active_member  10000 non-null  int64  \n",
      " 12  estimated_salary  10000 non-null  float64\n",
      " 13  exited            10000 non-null  int64  \n",
      "dtypes: float64(2), int64(9), object(3)\n",
      "memory usage: 1.1+ MB\n"
     ]
    }
   ],
   "source": [
    "forsen['tenure'] = forsen['tenure'].astype('int64')\n",
    "forsen.info()"
   ]
  },
  {
   "cell_type": "markdown",
   "metadata": {},
   "source": [
    "Пропуски отсутствуют, все данные в нужном формате. "
   ]
  },
  {
   "cell_type": "markdown",
   "metadata": {},
   "source": [
    "Проверим наличие дубликатов в датасете."
   ]
  },
  {
   "cell_type": "code",
   "execution_count": 8,
   "metadata": {},
   "outputs": [
    {
     "data": {
      "text/plain": [
       "0"
      ]
     },
     "execution_count": 8,
     "metadata": {},
     "output_type": "execute_result"
    }
   ],
   "source": [
    "forsen.duplicated().sum()"
   ]
  },
  {
   "cell_type": "markdown",
   "metadata": {},
   "source": [
    "Дублирующиеся строки отсутствуют."
   ]
  },
  {
   "cell_type": "markdown",
   "metadata": {},
   "source": [
    "Теперь удалим ненужные столбцы из датасета, т.е. те столбцы, данные в которых не помогут в обучении модели. А именно:  \n",
    "* фамилия\n",
    "* индекс строки в данных\n",
    "* уникальный идентификатор клиента"
   ]
  },
  {
   "cell_type": "code",
   "execution_count": 9,
   "metadata": {},
   "outputs": [
    {
     "data": {
      "text/html": [
       "<div>\n",
       "<style scoped>\n",
       "    .dataframe tbody tr th:only-of-type {\n",
       "        vertical-align: middle;\n",
       "    }\n",
       "\n",
       "    .dataframe tbody tr th {\n",
       "        vertical-align: top;\n",
       "    }\n",
       "\n",
       "    .dataframe thead th {\n",
       "        text-align: right;\n",
       "    }\n",
       "</style>\n",
       "<table border=\"1\" class=\"dataframe\">\n",
       "  <thead>\n",
       "    <tr style=\"text-align: right;\">\n",
       "      <th></th>\n",
       "      <th>credit_score</th>\n",
       "      <th>geography</th>\n",
       "      <th>gender</th>\n",
       "      <th>age</th>\n",
       "      <th>tenure</th>\n",
       "      <th>balance</th>\n",
       "      <th>num_of_products</th>\n",
       "      <th>has_cr_card</th>\n",
       "      <th>is_active_member</th>\n",
       "      <th>estimated_salary</th>\n",
       "      <th>exited</th>\n",
       "    </tr>\n",
       "  </thead>\n",
       "  <tbody>\n",
       "    <tr>\n",
       "      <th>0</th>\n",
       "      <td>619</td>\n",
       "      <td>France</td>\n",
       "      <td>Female</td>\n",
       "      <td>42</td>\n",
       "      <td>2</td>\n",
       "      <td>0.00</td>\n",
       "      <td>1</td>\n",
       "      <td>1</td>\n",
       "      <td>1</td>\n",
       "      <td>101348.88</td>\n",
       "      <td>1</td>\n",
       "    </tr>\n",
       "    <tr>\n",
       "      <th>1</th>\n",
       "      <td>608</td>\n",
       "      <td>Spain</td>\n",
       "      <td>Female</td>\n",
       "      <td>41</td>\n",
       "      <td>1</td>\n",
       "      <td>83807.86</td>\n",
       "      <td>1</td>\n",
       "      <td>0</td>\n",
       "      <td>1</td>\n",
       "      <td>112542.58</td>\n",
       "      <td>0</td>\n",
       "    </tr>\n",
       "    <tr>\n",
       "      <th>2</th>\n",
       "      <td>502</td>\n",
       "      <td>France</td>\n",
       "      <td>Female</td>\n",
       "      <td>42</td>\n",
       "      <td>8</td>\n",
       "      <td>159660.80</td>\n",
       "      <td>3</td>\n",
       "      <td>1</td>\n",
       "      <td>0</td>\n",
       "      <td>113931.57</td>\n",
       "      <td>1</td>\n",
       "    </tr>\n",
       "    <tr>\n",
       "      <th>3</th>\n",
       "      <td>699</td>\n",
       "      <td>France</td>\n",
       "      <td>Female</td>\n",
       "      <td>39</td>\n",
       "      <td>1</td>\n",
       "      <td>0.00</td>\n",
       "      <td>2</td>\n",
       "      <td>0</td>\n",
       "      <td>0</td>\n",
       "      <td>93826.63</td>\n",
       "      <td>0</td>\n",
       "    </tr>\n",
       "    <tr>\n",
       "      <th>4</th>\n",
       "      <td>850</td>\n",
       "      <td>Spain</td>\n",
       "      <td>Female</td>\n",
       "      <td>43</td>\n",
       "      <td>2</td>\n",
       "      <td>125510.82</td>\n",
       "      <td>1</td>\n",
       "      <td>1</td>\n",
       "      <td>1</td>\n",
       "      <td>79084.10</td>\n",
       "      <td>0</td>\n",
       "    </tr>\n",
       "  </tbody>\n",
       "</table>\n",
       "</div>"
      ],
      "text/plain": [
       "   credit_score geography  gender  age  tenure    balance  num_of_products  \\\n",
       "0           619    France  Female   42       2       0.00                1   \n",
       "1           608     Spain  Female   41       1   83807.86                1   \n",
       "2           502    France  Female   42       8  159660.80                3   \n",
       "3           699    France  Female   39       1       0.00                2   \n",
       "4           850     Spain  Female   43       2  125510.82                1   \n",
       "\n",
       "   has_cr_card  is_active_member  estimated_salary  exited  \n",
       "0            1                 1         101348.88       1  \n",
       "1            0                 1         112542.58       0  \n",
       "2            1                 0         113931.57       1  \n",
       "3            0                 0          93826.63       0  \n",
       "4            1                 1          79084.10       0  "
      ]
     },
     "execution_count": 9,
     "metadata": {},
     "output_type": "execute_result"
    }
   ],
   "source": [
    "forsen = forsen.drop(['surname', 'row_number', 'customer_id'], axis=1).copy()\n",
    "forsen.head()"
   ]
  },
  {
   "cell_type": "markdown",
   "metadata": {},
   "source": [
    "Применим прямое кодирование для преобразования категориальных признаков в численные. У нас таких два - 'geography' и 'gender'."
   ]
  },
  {
   "cell_type": "code",
   "execution_count": 10,
   "metadata": {},
   "outputs": [
    {
     "data": {
      "text/plain": [
       "France     5014\n",
       "Germany    2509\n",
       "Spain      2477\n",
       "Name: geography, dtype: int64"
      ]
     },
     "execution_count": 10,
     "metadata": {},
     "output_type": "execute_result"
    }
   ],
   "source": [
    "forsen['geography'].value_counts()"
   ]
  },
  {
   "cell_type": "code",
   "execution_count": 11,
   "metadata": {},
   "outputs": [
    {
     "data": {
      "text/plain": [
       "Male      5457\n",
       "Female    4543\n",
       "Name: gender, dtype: int64"
      ]
     },
     "execution_count": 11,
     "metadata": {},
     "output_type": "execute_result"
    }
   ],
   "source": [
    "forsen['gender'].value_counts()"
   ]
  },
  {
   "cell_type": "markdown",
   "metadata": {},
   "source": [
    "Целевым признаком является столбец 'exited' с данными о том, ушёл клиент или нет.  \n",
    "\n",
    "Теперь обозначим целевой признак и разделим исходный датасет на три выборки: \n",
    "* тренировочную\n",
    "* валидационную \n",
    "* тестовую"
   ]
  },
  {
   "cell_type": "code",
   "execution_count": 13,
   "metadata": {},
   "outputs": [],
   "source": [
    "RANDOM_STATE = 12345"
   ]
  },
  {
   "cell_type": "code",
   "execution_count": 14,
   "metadata": {},
   "outputs": [],
   "source": [
    "features = forsen.drop(['exited'], axis=1)\n",
    "target = forsen['exited']\n",
    "\n",
    "features_train, features_other, target_train, target_other = train_test_split(features, target,\n",
    "                                                                              test_size=0.4, random_state=RANDOM_STATE)\n",
    "features_valid, features_test, target_valid, target_test = train_test_split(features_other, target_other,\n",
    "                                                                             test_size=0.5, random_state=RANDOM_STATE)\n"
   ]
  },
  {
   "cell_type": "code",
   "execution_count": 15,
   "metadata": {},
   "outputs": [
    {
     "name": "stdout",
     "output_type": "stream",
     "text": [
      "Objects of train: 6000\n",
      "Objects of valid: 2000\n",
      "Objects of test: 2000\n",
      "Sum of objects: 10000\n",
      "\n",
      "Objects of original set (check sum): 10000\n"
     ]
    }
   ],
   "source": [
    "print('Objects of train:', len(features_train))\n",
    "print('Objects of valid:', len(features_valid))\n",
    "print('Objects of test:', len(features_test))\n",
    "print('Sum of objects:', len(features_train) + len(features_test) + len(features_test))\n",
    "print()\n",
    "print('Objects of original set (check sum):', len(forsen))"
   ]
  },
  {
   "cell_type": "markdown",
   "metadata": {},
   "source": [
    "Задействуем прямое кодирование."
   ]
  },
  {
   "cell_type": "code",
   "execution_count": 16,
   "metadata": {},
   "outputs": [
    {
     "name": "stderr",
     "output_type": "stream",
     "text": [
      "C:\\Users\\Games\\AppData\\Local\\Temp\\ipykernel_18744\\1998967785.py:6: SettingWithCopyWarning: \n",
      "A value is trying to be set on a copy of a slice from a DataFrame.\n",
      "Try using .loc[row_indexer,col_indexer] = value instead\n",
      "\n",
      "See the caveats in the documentation: https://pandas.pydata.org/pandas-docs/stable/user_guide/indexing.html#returning-a-view-versus-a-copy\n",
      "  features_train[ohe_encoder.get_feature_names()] = features_train_ohe\n",
      "C:\\Users\\Games\\anaconda3\\envs\\ds_practicum_env\\lib\\site-packages\\pandas\\core\\indexing.py:1738: SettingWithCopyWarning: \n",
      "A value is trying to be set on a copy of a slice from a DataFrame.\n",
      "Try using .loc[row_indexer,col_indexer] = value instead\n",
      "\n",
      "See the caveats in the documentation: https://pandas.pydata.org/pandas-docs/stable/user_guide/indexing.html#returning-a-view-versus-a-copy\n",
      "  self._setitem_single_column(loc, value[:, i].tolist(), pi)\n",
      "C:\\Users\\Games\\anaconda3\\envs\\ds_practicum_env\\lib\\site-packages\\pandas\\core\\frame.py:4308: SettingWithCopyWarning: \n",
      "A value is trying to be set on a copy of a slice from a DataFrame\n",
      "\n",
      "See the caveats in the documentation: https://pandas.pydata.org/pandas-docs/stable/user_guide/indexing.html#returning-a-view-versus-a-copy\n",
      "  return super().drop(\n",
      "C:\\Users\\Games\\AppData\\Local\\Temp\\ipykernel_18744\\1998967785.py:10: SettingWithCopyWarning: \n",
      "A value is trying to be set on a copy of a slice from a DataFrame.\n",
      "Try using .loc[row_indexer,col_indexer] = value instead\n",
      "\n",
      "See the caveats in the documentation: https://pandas.pydata.org/pandas-docs/stable/user_guide/indexing.html#returning-a-view-versus-a-copy\n",
      "  features_valid[ohe_encoder.get_feature_names()] = features_valid_ohe\n",
      "C:\\Users\\Games\\anaconda3\\envs\\ds_practicum_env\\lib\\site-packages\\pandas\\core\\indexing.py:1738: SettingWithCopyWarning: \n",
      "A value is trying to be set on a copy of a slice from a DataFrame.\n",
      "Try using .loc[row_indexer,col_indexer] = value instead\n",
      "\n",
      "See the caveats in the documentation: https://pandas.pydata.org/pandas-docs/stable/user_guide/indexing.html#returning-a-view-versus-a-copy\n",
      "  self._setitem_single_column(loc, value[:, i].tolist(), pi)\n",
      "C:\\Users\\Games\\anaconda3\\envs\\ds_practicum_env\\lib\\site-packages\\pandas\\core\\frame.py:4308: SettingWithCopyWarning: \n",
      "A value is trying to be set on a copy of a slice from a DataFrame\n",
      "\n",
      "See the caveats in the documentation: https://pandas.pydata.org/pandas-docs/stable/user_guide/indexing.html#returning-a-view-versus-a-copy\n",
      "  return super().drop(\n",
      "C:\\Users\\Games\\AppData\\Local\\Temp\\ipykernel_18744\\1998967785.py:14: SettingWithCopyWarning: \n",
      "A value is trying to be set on a copy of a slice from a DataFrame.\n",
      "Try using .loc[row_indexer,col_indexer] = value instead\n",
      "\n",
      "See the caveats in the documentation: https://pandas.pydata.org/pandas-docs/stable/user_guide/indexing.html#returning-a-view-versus-a-copy\n",
      "  features_test[ohe_encoder.get_feature_names()] = features_test_ohe\n",
      "C:\\Users\\Games\\anaconda3\\envs\\ds_practicum_env\\lib\\site-packages\\pandas\\core\\indexing.py:1738: SettingWithCopyWarning: \n",
      "A value is trying to be set on a copy of a slice from a DataFrame.\n",
      "Try using .loc[row_indexer,col_indexer] = value instead\n",
      "\n",
      "See the caveats in the documentation: https://pandas.pydata.org/pandas-docs/stable/user_guide/indexing.html#returning-a-view-versus-a-copy\n",
      "  self._setitem_single_column(loc, value[:, i].tolist(), pi)\n",
      "C:\\Users\\Games\\anaconda3\\envs\\ds_practicum_env\\lib\\site-packages\\pandas\\core\\frame.py:4308: SettingWithCopyWarning: \n",
      "A value is trying to be set on a copy of a slice from a DataFrame\n",
      "\n",
      "See the caveats in the documentation: https://pandas.pydata.org/pandas-docs/stable/user_guide/indexing.html#returning-a-view-versus-a-copy\n",
      "  return super().drop(\n"
     ]
    },
    {
     "data": {
      "text/html": [
       "<div>\n",
       "<style scoped>\n",
       "    .dataframe tbody tr th:only-of-type {\n",
       "        vertical-align: middle;\n",
       "    }\n",
       "\n",
       "    .dataframe tbody tr th {\n",
       "        vertical-align: top;\n",
       "    }\n",
       "\n",
       "    .dataframe thead th {\n",
       "        text-align: right;\n",
       "    }\n",
       "</style>\n",
       "<table border=\"1\" class=\"dataframe\">\n",
       "  <thead>\n",
       "    <tr style=\"text-align: right;\">\n",
       "      <th></th>\n",
       "      <th>credit_score</th>\n",
       "      <th>age</th>\n",
       "      <th>tenure</th>\n",
       "      <th>balance</th>\n",
       "      <th>num_of_products</th>\n",
       "      <th>has_cr_card</th>\n",
       "      <th>is_active_member</th>\n",
       "      <th>estimated_salary</th>\n",
       "      <th>x0_Germany</th>\n",
       "      <th>x0_Spain</th>\n",
       "      <th>x1_Male</th>\n",
       "    </tr>\n",
       "  </thead>\n",
       "  <tbody>\n",
       "    <tr>\n",
       "      <th>7479</th>\n",
       "      <td>567</td>\n",
       "      <td>35</td>\n",
       "      <td>8</td>\n",
       "      <td>153137.74</td>\n",
       "      <td>1</td>\n",
       "      <td>1</td>\n",
       "      <td>0</td>\n",
       "      <td>88659.07</td>\n",
       "      <td>0.0</td>\n",
       "      <td>1.0</td>\n",
       "      <td>1.0</td>\n",
       "    </tr>\n",
       "    <tr>\n",
       "      <th>3411</th>\n",
       "      <td>711</td>\n",
       "      <td>37</td>\n",
       "      <td>8</td>\n",
       "      <td>113899.92</td>\n",
       "      <td>1</td>\n",
       "      <td>0</td>\n",
       "      <td>0</td>\n",
       "      <td>80215.20</td>\n",
       "      <td>0.0</td>\n",
       "      <td>0.0</td>\n",
       "      <td>0.0</td>\n",
       "    </tr>\n",
       "    <tr>\n",
       "      <th>6027</th>\n",
       "      <td>850</td>\n",
       "      <td>44</td>\n",
       "      <td>3</td>\n",
       "      <td>140393.65</td>\n",
       "      <td>2</td>\n",
       "      <td>0</td>\n",
       "      <td>1</td>\n",
       "      <td>186285.52</td>\n",
       "      <td>1.0</td>\n",
       "      <td>0.0</td>\n",
       "      <td>1.0</td>\n",
       "    </tr>\n",
       "    <tr>\n",
       "      <th>1247</th>\n",
       "      <td>512</td>\n",
       "      <td>24</td>\n",
       "      <td>6</td>\n",
       "      <td>0.00</td>\n",
       "      <td>2</td>\n",
       "      <td>1</td>\n",
       "      <td>0</td>\n",
       "      <td>37654.31</td>\n",
       "      <td>0.0</td>\n",
       "      <td>0.0</td>\n",
       "      <td>1.0</td>\n",
       "    </tr>\n",
       "    <tr>\n",
       "      <th>3716</th>\n",
       "      <td>665</td>\n",
       "      <td>27</td>\n",
       "      <td>2</td>\n",
       "      <td>147435.96</td>\n",
       "      <td>1</td>\n",
       "      <td>0</td>\n",
       "      <td>0</td>\n",
       "      <td>187508.06</td>\n",
       "      <td>1.0</td>\n",
       "      <td>0.0</td>\n",
       "      <td>0.0</td>\n",
       "    </tr>\n",
       "  </tbody>\n",
       "</table>\n",
       "</div>"
      ],
      "text/plain": [
       "      credit_score  age  tenure    balance  num_of_products  has_cr_card  \\\n",
       "7479           567   35       8  153137.74                1            1   \n",
       "3411           711   37       8  113899.92                1            0   \n",
       "6027           850   44       3  140393.65                2            0   \n",
       "1247           512   24       6       0.00                2            1   \n",
       "3716           665   27       2  147435.96                1            0   \n",
       "\n",
       "      is_active_member  estimated_salary  x0_Germany  x0_Spain  x1_Male  \n",
       "7479                 0          88659.07         0.0       1.0      1.0  \n",
       "3411                 0          80215.20         0.0       0.0      0.0  \n",
       "6027                 1         186285.52         1.0       0.0      1.0  \n",
       "1247                 0          37654.31         0.0       0.0      1.0  \n",
       "3716                 0         187508.06         1.0       0.0      0.0  "
      ]
     },
     "metadata": {},
     "output_type": "display_data"
    },
    {
     "name": "stdout",
     "output_type": "stream",
     "text": [
      "\n",
      "\n"
     ]
    },
    {
     "data": {
      "text/html": [
       "<div>\n",
       "<style scoped>\n",
       "    .dataframe tbody tr th:only-of-type {\n",
       "        vertical-align: middle;\n",
       "    }\n",
       "\n",
       "    .dataframe tbody tr th {\n",
       "        vertical-align: top;\n",
       "    }\n",
       "\n",
       "    .dataframe thead th {\n",
       "        text-align: right;\n",
       "    }\n",
       "</style>\n",
       "<table border=\"1\" class=\"dataframe\">\n",
       "  <thead>\n",
       "    <tr style=\"text-align: right;\">\n",
       "      <th></th>\n",
       "      <th>credit_score</th>\n",
       "      <th>age</th>\n",
       "      <th>tenure</th>\n",
       "      <th>balance</th>\n",
       "      <th>num_of_products</th>\n",
       "      <th>has_cr_card</th>\n",
       "      <th>is_active_member</th>\n",
       "      <th>estimated_salary</th>\n",
       "      <th>x0_Germany</th>\n",
       "      <th>x0_Spain</th>\n",
       "      <th>x1_Male</th>\n",
       "    </tr>\n",
       "  </thead>\n",
       "  <tbody>\n",
       "    <tr>\n",
       "      <th>8532</th>\n",
       "      <td>585</td>\n",
       "      <td>35</td>\n",
       "      <td>2</td>\n",
       "      <td>0.00</td>\n",
       "      <td>2</td>\n",
       "      <td>1</td>\n",
       "      <td>0</td>\n",
       "      <td>98621.04</td>\n",
       "      <td>0.0</td>\n",
       "      <td>0.0</td>\n",
       "      <td>0.0</td>\n",
       "    </tr>\n",
       "    <tr>\n",
       "      <th>5799</th>\n",
       "      <td>625</td>\n",
       "      <td>45</td>\n",
       "      <td>3</td>\n",
       "      <td>0.00</td>\n",
       "      <td>1</td>\n",
       "      <td>1</td>\n",
       "      <td>1</td>\n",
       "      <td>184474.15</td>\n",
       "      <td>0.0</td>\n",
       "      <td>0.0</td>\n",
       "      <td>0.0</td>\n",
       "    </tr>\n",
       "    <tr>\n",
       "      <th>5511</th>\n",
       "      <td>667</td>\n",
       "      <td>32</td>\n",
       "      <td>0</td>\n",
       "      <td>103846.65</td>\n",
       "      <td>1</td>\n",
       "      <td>1</td>\n",
       "      <td>0</td>\n",
       "      <td>20560.69</td>\n",
       "      <td>1.0</td>\n",
       "      <td>0.0</td>\n",
       "      <td>1.0</td>\n",
       "    </tr>\n",
       "    <tr>\n",
       "      <th>7365</th>\n",
       "      <td>568</td>\n",
       "      <td>36</td>\n",
       "      <td>10</td>\n",
       "      <td>153610.61</td>\n",
       "      <td>1</td>\n",
       "      <td>1</td>\n",
       "      <td>1</td>\n",
       "      <td>54083.80</td>\n",
       "      <td>0.0</td>\n",
       "      <td>1.0</td>\n",
       "      <td>0.0</td>\n",
       "    </tr>\n",
       "    <tr>\n",
       "      <th>7367</th>\n",
       "      <td>606</td>\n",
       "      <td>42</td>\n",
       "      <td>10</td>\n",
       "      <td>0.00</td>\n",
       "      <td>2</td>\n",
       "      <td>1</td>\n",
       "      <td>0</td>\n",
       "      <td>177938.52</td>\n",
       "      <td>0.0</td>\n",
       "      <td>1.0</td>\n",
       "      <td>1.0</td>\n",
       "    </tr>\n",
       "  </tbody>\n",
       "</table>\n",
       "</div>"
      ],
      "text/plain": [
       "      credit_score  age  tenure    balance  num_of_products  has_cr_card  \\\n",
       "8532           585   35       2       0.00                2            1   \n",
       "5799           625   45       3       0.00                1            1   \n",
       "5511           667   32       0  103846.65                1            1   \n",
       "7365           568   36      10  153610.61                1            1   \n",
       "7367           606   42      10       0.00                2            1   \n",
       "\n",
       "      is_active_member  estimated_salary  x0_Germany  x0_Spain  x1_Male  \n",
       "8532                 0          98621.04         0.0       0.0      0.0  \n",
       "5799                 1         184474.15         0.0       0.0      0.0  \n",
       "5511                 0          20560.69         1.0       0.0      1.0  \n",
       "7365                 1          54083.80         0.0       1.0      0.0  \n",
       "7367                 0         177938.52         0.0       1.0      1.0  "
      ]
     },
     "metadata": {},
     "output_type": "display_data"
    },
    {
     "name": "stdout",
     "output_type": "stream",
     "text": [
      "\n",
      "\n"
     ]
    },
    {
     "data": {
      "text/html": [
       "<div>\n",
       "<style scoped>\n",
       "    .dataframe tbody tr th:only-of-type {\n",
       "        vertical-align: middle;\n",
       "    }\n",
       "\n",
       "    .dataframe tbody tr th {\n",
       "        vertical-align: top;\n",
       "    }\n",
       "\n",
       "    .dataframe thead th {\n",
       "        text-align: right;\n",
       "    }\n",
       "</style>\n",
       "<table border=\"1\" class=\"dataframe\">\n",
       "  <thead>\n",
       "    <tr style=\"text-align: right;\">\n",
       "      <th></th>\n",
       "      <th>credit_score</th>\n",
       "      <th>age</th>\n",
       "      <th>tenure</th>\n",
       "      <th>balance</th>\n",
       "      <th>num_of_products</th>\n",
       "      <th>has_cr_card</th>\n",
       "      <th>is_active_member</th>\n",
       "      <th>estimated_salary</th>\n",
       "      <th>x0_Germany</th>\n",
       "      <th>x0_Spain</th>\n",
       "      <th>x1_Male</th>\n",
       "    </tr>\n",
       "  </thead>\n",
       "  <tbody>\n",
       "    <tr>\n",
       "      <th>7041</th>\n",
       "      <td>438</td>\n",
       "      <td>38</td>\n",
       "      <td>2</td>\n",
       "      <td>0.00</td>\n",
       "      <td>2</td>\n",
       "      <td>1</td>\n",
       "      <td>0</td>\n",
       "      <td>136859.55</td>\n",
       "      <td>0.0</td>\n",
       "      <td>0.0</td>\n",
       "      <td>1.0</td>\n",
       "    </tr>\n",
       "    <tr>\n",
       "      <th>5709</th>\n",
       "      <td>644</td>\n",
       "      <td>39</td>\n",
       "      <td>9</td>\n",
       "      <td>0.00</td>\n",
       "      <td>1</td>\n",
       "      <td>1</td>\n",
       "      <td>0</td>\n",
       "      <td>3740.93</td>\n",
       "      <td>0.0</td>\n",
       "      <td>0.0</td>\n",
       "      <td>0.0</td>\n",
       "    </tr>\n",
       "    <tr>\n",
       "      <th>7117</th>\n",
       "      <td>564</td>\n",
       "      <td>31</td>\n",
       "      <td>5</td>\n",
       "      <td>121461.87</td>\n",
       "      <td>1</td>\n",
       "      <td>1</td>\n",
       "      <td>1</td>\n",
       "      <td>20432.09</td>\n",
       "      <td>0.0</td>\n",
       "      <td>1.0</td>\n",
       "      <td>1.0</td>\n",
       "    </tr>\n",
       "    <tr>\n",
       "      <th>7775</th>\n",
       "      <td>628</td>\n",
       "      <td>40</td>\n",
       "      <td>10</td>\n",
       "      <td>0.00</td>\n",
       "      <td>2</td>\n",
       "      <td>1</td>\n",
       "      <td>0</td>\n",
       "      <td>103832.58</td>\n",
       "      <td>0.0</td>\n",
       "      <td>1.0</td>\n",
       "      <td>1.0</td>\n",
       "    </tr>\n",
       "    <tr>\n",
       "      <th>8735</th>\n",
       "      <td>728</td>\n",
       "      <td>30</td>\n",
       "      <td>10</td>\n",
       "      <td>114835.43</td>\n",
       "      <td>1</td>\n",
       "      <td>0</td>\n",
       "      <td>1</td>\n",
       "      <td>37662.49</td>\n",
       "      <td>0.0</td>\n",
       "      <td>0.0</td>\n",
       "      <td>1.0</td>\n",
       "    </tr>\n",
       "  </tbody>\n",
       "</table>\n",
       "</div>"
      ],
      "text/plain": [
       "      credit_score  age  tenure    balance  num_of_products  has_cr_card  \\\n",
       "7041           438   38       2       0.00                2            1   \n",
       "5709           644   39       9       0.00                1            1   \n",
       "7117           564   31       5  121461.87                1            1   \n",
       "7775           628   40      10       0.00                2            1   \n",
       "8735           728   30      10  114835.43                1            0   \n",
       "\n",
       "      is_active_member  estimated_salary  x0_Germany  x0_Spain  x1_Male  \n",
       "7041                 0         136859.55         0.0       0.0      1.0  \n",
       "5709                 0           3740.93         0.0       0.0      0.0  \n",
       "7117                 1          20432.09         0.0       1.0      1.0  \n",
       "7775                 0         103832.58         0.0       1.0      1.0  \n",
       "8735                 1          37662.49         0.0       0.0      1.0  "
      ]
     },
     "metadata": {},
     "output_type": "display_data"
    }
   ],
   "source": [
    "cat_features = ['geography', 'gender']\n",
    "\n",
    "ohe_encoder = OneHotEncoder(sparse=False, drop='first')\n",
    "\n",
    "features_train_ohe = ohe_encoder.fit_transform(features_train[cat_features])\n",
    "features_train[ohe_encoder.get_feature_names()] = features_train_ohe\n",
    "features_train.drop(cat_features, axis=1, inplace=True)\n",
    "\n",
    "features_valid_ohe = ohe_encoder.transform(features_valid[cat_features])\n",
    "features_valid[ohe_encoder.get_feature_names()] = features_valid_ohe\n",
    "features_valid.drop(cat_features, axis=1, inplace=True)\n",
    "\n",
    "features_test_ohe = ohe_encoder.transform(features_test[cat_features])\n",
    "features_test[ohe_encoder.get_feature_names()] = features_test_ohe\n",
    "features_test.drop(cat_features, axis=1, inplace=True)\n",
    "\n",
    "display(features_train.head())\n",
    "print()\n",
    "print()\n",
    "display(features_valid.head())\n",
    "print()\n",
    "print()\n",
    "display(features_test.head())"
   ]
  },
  {
   "cell_type": "markdown",
   "metadata": {},
   "source": [
    "Масштабируем признаки."
   ]
  },
  {
   "cell_type": "code",
   "execution_count": 17,
   "metadata": {},
   "outputs": [
    {
     "name": "stderr",
     "output_type": "stream",
     "text": [
      "C:\\Users\\Games\\AppData\\Local\\Temp\\ipykernel_18744\\3380027884.py:3: SettingWithCopyWarning: \n",
      "A value is trying to be set on a copy of a slice from a DataFrame.\n",
      "Try using .loc[row_indexer,col_indexer] = value instead\n",
      "\n",
      "See the caveats in the documentation: https://pandas.pydata.org/pandas-docs/stable/user_guide/indexing.html#returning-a-view-versus-a-copy\n",
      "  features_train[numeric] = scaler.fit_transform(features_train[numeric])\n",
      "C:\\Users\\Games\\anaconda3\\envs\\ds_practicum_env\\lib\\site-packages\\pandas\\core\\indexing.py:1738: SettingWithCopyWarning: \n",
      "A value is trying to be set on a copy of a slice from a DataFrame.\n",
      "Try using .loc[row_indexer,col_indexer] = value instead\n",
      "\n",
      "See the caveats in the documentation: https://pandas.pydata.org/pandas-docs/stable/user_guide/indexing.html#returning-a-view-versus-a-copy\n",
      "  self._setitem_single_column(loc, value[:, i].tolist(), pi)\n"
     ]
    }
   ],
   "source": [
    "numeric = ['credit_score', 'age', 'balance', 'estimated_salary']\n",
    "scaler = StandardScaler()\n",
    "features_train[numeric] = scaler.fit_transform(features_train[numeric])\n",
    "pd.options.mode.chained_assignment = None"
   ]
  },
  {
   "cell_type": "code",
   "execution_count": 18,
   "metadata": {
    "scrolled": true
   },
   "outputs": [
    {
     "data": {
      "text/html": [
       "<div>\n",
       "<style scoped>\n",
       "    .dataframe tbody tr th:only-of-type {\n",
       "        vertical-align: middle;\n",
       "    }\n",
       "\n",
       "    .dataframe tbody tr th {\n",
       "        vertical-align: top;\n",
       "    }\n",
       "\n",
       "    .dataframe thead th {\n",
       "        text-align: right;\n",
       "    }\n",
       "</style>\n",
       "<table border=\"1\" class=\"dataframe\">\n",
       "  <thead>\n",
       "    <tr style=\"text-align: right;\">\n",
       "      <th></th>\n",
       "      <th>credit_score</th>\n",
       "      <th>age</th>\n",
       "      <th>tenure</th>\n",
       "      <th>balance</th>\n",
       "      <th>num_of_products</th>\n",
       "      <th>has_cr_card</th>\n",
       "      <th>is_active_member</th>\n",
       "      <th>estimated_salary</th>\n",
       "      <th>x0_Germany</th>\n",
       "      <th>x0_Spain</th>\n",
       "      <th>x1_Male</th>\n",
       "    </tr>\n",
       "  </thead>\n",
       "  <tbody>\n",
       "    <tr>\n",
       "      <th>7479</th>\n",
       "      <td>-0.886751</td>\n",
       "      <td>-0.373192</td>\n",
       "      <td>8</td>\n",
       "      <td>1.232271</td>\n",
       "      <td>1</td>\n",
       "      <td>1</td>\n",
       "      <td>0</td>\n",
       "      <td>-0.187705</td>\n",
       "      <td>0.0</td>\n",
       "      <td>1.0</td>\n",
       "      <td>1.0</td>\n",
       "    </tr>\n",
       "    <tr>\n",
       "      <th>3411</th>\n",
       "      <td>0.608663</td>\n",
       "      <td>-0.183385</td>\n",
       "      <td>8</td>\n",
       "      <td>0.600563</td>\n",
       "      <td>1</td>\n",
       "      <td>0</td>\n",
       "      <td>0</td>\n",
       "      <td>-0.333945</td>\n",
       "      <td>0.0</td>\n",
       "      <td>0.0</td>\n",
       "      <td>0.0</td>\n",
       "    </tr>\n",
       "    <tr>\n",
       "      <th>6027</th>\n",
       "      <td>2.052152</td>\n",
       "      <td>0.480939</td>\n",
       "      <td>3</td>\n",
       "      <td>1.027098</td>\n",
       "      <td>2</td>\n",
       "      <td>0</td>\n",
       "      <td>1</td>\n",
       "      <td>1.503095</td>\n",
       "      <td>1.0</td>\n",
       "      <td>0.0</td>\n",
       "      <td>1.0</td>\n",
       "    </tr>\n",
       "    <tr>\n",
       "      <th>1247</th>\n",
       "      <td>-1.457915</td>\n",
       "      <td>-1.417129</td>\n",
       "      <td>6</td>\n",
       "      <td>-1.233163</td>\n",
       "      <td>2</td>\n",
       "      <td>1</td>\n",
       "      <td>0</td>\n",
       "      <td>-1.071061</td>\n",
       "      <td>0.0</td>\n",
       "      <td>0.0</td>\n",
       "      <td>1.0</td>\n",
       "    </tr>\n",
       "    <tr>\n",
       "      <th>3716</th>\n",
       "      <td>0.130961</td>\n",
       "      <td>-1.132419</td>\n",
       "      <td>2</td>\n",
       "      <td>1.140475</td>\n",
       "      <td>1</td>\n",
       "      <td>0</td>\n",
       "      <td>0</td>\n",
       "      <td>1.524268</td>\n",
       "      <td>1.0</td>\n",
       "      <td>0.0</td>\n",
       "      <td>0.0</td>\n",
       "    </tr>\n",
       "  </tbody>\n",
       "</table>\n",
       "</div>"
      ],
      "text/plain": [
       "      credit_score       age  tenure   balance  num_of_products  has_cr_card  \\\n",
       "7479     -0.886751 -0.373192       8  1.232271                1            1   \n",
       "3411      0.608663 -0.183385       8  0.600563                1            0   \n",
       "6027      2.052152  0.480939       3  1.027098                2            0   \n",
       "1247     -1.457915 -1.417129       6 -1.233163                2            1   \n",
       "3716      0.130961 -1.132419       2  1.140475                1            0   \n",
       "\n",
       "      is_active_member  estimated_salary  x0_Germany  x0_Spain  x1_Male  \n",
       "7479                 0         -0.187705         0.0       1.0      1.0  \n",
       "3411                 0         -0.333945         0.0       0.0      0.0  \n",
       "6027                 1          1.503095         1.0       0.0      1.0  \n",
       "1247                 0         -1.071061         0.0       0.0      1.0  \n",
       "3716                 0          1.524268         1.0       0.0      0.0  "
      ]
     },
     "metadata": {},
     "output_type": "display_data"
    }
   ],
   "source": [
    "display(features_train.head())"
   ]
  },
  {
   "cell_type": "code",
   "execution_count": 19,
   "metadata": {},
   "outputs": [
    {
     "data": {
      "text/html": [
       "<div>\n",
       "<style scoped>\n",
       "    .dataframe tbody tr th:only-of-type {\n",
       "        vertical-align: middle;\n",
       "    }\n",
       "\n",
       "    .dataframe tbody tr th {\n",
       "        vertical-align: top;\n",
       "    }\n",
       "\n",
       "    .dataframe thead th {\n",
       "        text-align: right;\n",
       "    }\n",
       "</style>\n",
       "<table border=\"1\" class=\"dataframe\">\n",
       "  <thead>\n",
       "    <tr style=\"text-align: right;\">\n",
       "      <th></th>\n",
       "      <th>credit_score</th>\n",
       "      <th>age</th>\n",
       "      <th>tenure</th>\n",
       "      <th>balance</th>\n",
       "      <th>num_of_products</th>\n",
       "      <th>has_cr_card</th>\n",
       "      <th>is_active_member</th>\n",
       "      <th>estimated_salary</th>\n",
       "      <th>x0_Germany</th>\n",
       "      <th>x0_Spain</th>\n",
       "      <th>x1_Male</th>\n",
       "    </tr>\n",
       "  </thead>\n",
       "  <tbody>\n",
       "    <tr>\n",
       "      <th>8532</th>\n",
       "      <td>-0.699824</td>\n",
       "      <td>-0.373192</td>\n",
       "      <td>2</td>\n",
       "      <td>-1.233163</td>\n",
       "      <td>2</td>\n",
       "      <td>1</td>\n",
       "      <td>0</td>\n",
       "      <td>-0.015173</td>\n",
       "      <td>0.0</td>\n",
       "      <td>0.0</td>\n",
       "      <td>0.0</td>\n",
       "    </tr>\n",
       "    <tr>\n",
       "      <th>5799</th>\n",
       "      <td>-0.284431</td>\n",
       "      <td>0.575842</td>\n",
       "      <td>3</td>\n",
       "      <td>-1.233163</td>\n",
       "      <td>1</td>\n",
       "      <td>1</td>\n",
       "      <td>1</td>\n",
       "      <td>1.471724</td>\n",
       "      <td>0.0</td>\n",
       "      <td>0.0</td>\n",
       "      <td>0.0</td>\n",
       "    </tr>\n",
       "    <tr>\n",
       "      <th>5511</th>\n",
       "      <td>0.151731</td>\n",
       "      <td>-0.657902</td>\n",
       "      <td>0</td>\n",
       "      <td>0.438711</td>\n",
       "      <td>1</td>\n",
       "      <td>1</td>\n",
       "      <td>0</td>\n",
       "      <td>-1.367107</td>\n",
       "      <td>1.0</td>\n",
       "      <td>0.0</td>\n",
       "      <td>1.0</td>\n",
       "    </tr>\n",
       "    <tr>\n",
       "      <th>7365</th>\n",
       "      <td>-0.876366</td>\n",
       "      <td>-0.278288</td>\n",
       "      <td>10</td>\n",
       "      <td>1.239884</td>\n",
       "      <td>1</td>\n",
       "      <td>1</td>\n",
       "      <td>1</td>\n",
       "      <td>-0.786517</td>\n",
       "      <td>0.0</td>\n",
       "      <td>1.0</td>\n",
       "      <td>0.0</td>\n",
       "    </tr>\n",
       "    <tr>\n",
       "      <th>7367</th>\n",
       "      <td>-0.481743</td>\n",
       "      <td>0.291132</td>\n",
       "      <td>10</td>\n",
       "      <td>-1.233163</td>\n",
       "      <td>2</td>\n",
       "      <td>1</td>\n",
       "      <td>0</td>\n",
       "      <td>1.358533</td>\n",
       "      <td>0.0</td>\n",
       "      <td>1.0</td>\n",
       "      <td>1.0</td>\n",
       "    </tr>\n",
       "  </tbody>\n",
       "</table>\n",
       "</div>"
      ],
      "text/plain": [
       "      credit_score       age  tenure   balance  num_of_products  has_cr_card  \\\n",
       "8532     -0.699824 -0.373192       2 -1.233163                2            1   \n",
       "5799     -0.284431  0.575842       3 -1.233163                1            1   \n",
       "5511      0.151731 -0.657902       0  0.438711                1            1   \n",
       "7365     -0.876366 -0.278288      10  1.239884                1            1   \n",
       "7367     -0.481743  0.291132      10 -1.233163                2            1   \n",
       "\n",
       "      is_active_member  estimated_salary  x0_Germany  x0_Spain  x1_Male  \n",
       "8532                 0         -0.015173         0.0       0.0      0.0  \n",
       "5799                 1          1.471724         0.0       0.0      0.0  \n",
       "5511                 0         -1.367107         1.0       0.0      1.0  \n",
       "7365                 1         -0.786517         0.0       1.0      0.0  \n",
       "7367                 0          1.358533         0.0       1.0      1.0  "
      ]
     },
     "execution_count": 19,
     "metadata": {},
     "output_type": "execute_result"
    }
   ],
   "source": [
    "features_valid[numeric] = scaler.transform(features_valid[numeric])\n",
    "features_valid.head()"
   ]
  },
  {
   "cell_type": "code",
   "execution_count": 20,
   "metadata": {},
   "outputs": [
    {
     "data": {
      "text/html": [
       "<div>\n",
       "<style scoped>\n",
       "    .dataframe tbody tr th:only-of-type {\n",
       "        vertical-align: middle;\n",
       "    }\n",
       "\n",
       "    .dataframe tbody tr th {\n",
       "        vertical-align: top;\n",
       "    }\n",
       "\n",
       "    .dataframe thead th {\n",
       "        text-align: right;\n",
       "    }\n",
       "</style>\n",
       "<table border=\"1\" class=\"dataframe\">\n",
       "  <thead>\n",
       "    <tr style=\"text-align: right;\">\n",
       "      <th></th>\n",
       "      <th>credit_score</th>\n",
       "      <th>age</th>\n",
       "      <th>tenure</th>\n",
       "      <th>balance</th>\n",
       "      <th>num_of_products</th>\n",
       "      <th>has_cr_card</th>\n",
       "      <th>is_active_member</th>\n",
       "      <th>estimated_salary</th>\n",
       "      <th>x0_Germany</th>\n",
       "      <th>x0_Spain</th>\n",
       "      <th>x1_Male</th>\n",
       "    </tr>\n",
       "  </thead>\n",
       "  <tbody>\n",
       "    <tr>\n",
       "      <th>7041</th>\n",
       "      <td>-2.226392</td>\n",
       "      <td>-0.088482</td>\n",
       "      <td>2</td>\n",
       "      <td>-1.233163</td>\n",
       "      <td>2</td>\n",
       "      <td>1</td>\n",
       "      <td>0</td>\n",
       "      <td>0.647083</td>\n",
       "      <td>0.0</td>\n",
       "      <td>0.0</td>\n",
       "      <td>1.0</td>\n",
       "    </tr>\n",
       "    <tr>\n",
       "      <th>5709</th>\n",
       "      <td>-0.087120</td>\n",
       "      <td>0.006422</td>\n",
       "      <td>9</td>\n",
       "      <td>-1.233163</td>\n",
       "      <td>1</td>\n",
       "      <td>1</td>\n",
       "      <td>0</td>\n",
       "      <td>-1.658410</td>\n",
       "      <td>0.0</td>\n",
       "      <td>0.0</td>\n",
       "      <td>0.0</td>\n",
       "    </tr>\n",
       "    <tr>\n",
       "      <th>7117</th>\n",
       "      <td>-0.917905</td>\n",
       "      <td>-0.752805</td>\n",
       "      <td>5</td>\n",
       "      <td>0.722307</td>\n",
       "      <td>1</td>\n",
       "      <td>1</td>\n",
       "      <td>1</td>\n",
       "      <td>-1.369334</td>\n",
       "      <td>0.0</td>\n",
       "      <td>1.0</td>\n",
       "      <td>1.0</td>\n",
       "    </tr>\n",
       "    <tr>\n",
       "      <th>7775</th>\n",
       "      <td>-0.253277</td>\n",
       "      <td>0.101325</td>\n",
       "      <td>10</td>\n",
       "      <td>-1.233163</td>\n",
       "      <td>2</td>\n",
       "      <td>1</td>\n",
       "      <td>0</td>\n",
       "      <td>0.075086</td>\n",
       "      <td>0.0</td>\n",
       "      <td>1.0</td>\n",
       "      <td>1.0</td>\n",
       "    </tr>\n",
       "    <tr>\n",
       "      <th>8735</th>\n",
       "      <td>0.785204</td>\n",
       "      <td>-0.847708</td>\n",
       "      <td>10</td>\n",
       "      <td>0.615625</td>\n",
       "      <td>1</td>\n",
       "      <td>0</td>\n",
       "      <td>1</td>\n",
       "      <td>-1.070919</td>\n",
       "      <td>0.0</td>\n",
       "      <td>0.0</td>\n",
       "      <td>1.0</td>\n",
       "    </tr>\n",
       "  </tbody>\n",
       "</table>\n",
       "</div>"
      ],
      "text/plain": [
       "      credit_score       age  tenure   balance  num_of_products  has_cr_card  \\\n",
       "7041     -2.226392 -0.088482       2 -1.233163                2            1   \n",
       "5709     -0.087120  0.006422       9 -1.233163                1            1   \n",
       "7117     -0.917905 -0.752805       5  0.722307                1            1   \n",
       "7775     -0.253277  0.101325      10 -1.233163                2            1   \n",
       "8735      0.785204 -0.847708      10  0.615625                1            0   \n",
       "\n",
       "      is_active_member  estimated_salary  x0_Germany  x0_Spain  x1_Male  \n",
       "7041                 0          0.647083         0.0       0.0      1.0  \n",
       "5709                 0         -1.658410         0.0       0.0      0.0  \n",
       "7117                 1         -1.369334         0.0       1.0      1.0  \n",
       "7775                 0          0.075086         0.0       1.0      1.0  \n",
       "8735                 1         -1.070919         0.0       0.0      1.0  "
      ]
     },
     "execution_count": 20,
     "metadata": {},
     "output_type": "execute_result"
    }
   ],
   "source": [
    "features_test[numeric] = scaler.transform(features_test[numeric])\n",
    "features_test.head()"
   ]
  },
  {
   "cell_type": "markdown",
   "metadata": {},
   "source": [
    "## Исследование задачи"
   ]
  },
  {
   "cell_type": "markdown",
   "metadata": {},
   "source": [
    "Посмотрим на дизбаланс классов. Изучим количество 0 и 1 в целевом признаке. "
   ]
  },
  {
   "cell_type": "code",
   "execution_count": 21,
   "metadata": {},
   "outputs": [
    {
     "data": {
      "text/html": [
       "<div>\n",
       "<style scoped>\n",
       "    .dataframe tbody tr th:only-of-type {\n",
       "        vertical-align: middle;\n",
       "    }\n",
       "\n",
       "    .dataframe tbody tr th {\n",
       "        vertical-align: top;\n",
       "    }\n",
       "\n",
       "    .dataframe thead th {\n",
       "        text-align: right;\n",
       "    }\n",
       "</style>\n",
       "<table border=\"1\" class=\"dataframe\">\n",
       "  <thead>\n",
       "    <tr style=\"text-align: right;\">\n",
       "      <th></th>\n",
       "      <th>exited</th>\n",
       "    </tr>\n",
       "  </thead>\n",
       "  <tbody>\n",
       "    <tr>\n",
       "      <th>0</th>\n",
       "      <td>7963</td>\n",
       "    </tr>\n",
       "    <tr>\n",
       "      <th>1</th>\n",
       "      <td>2037</td>\n",
       "    </tr>\n",
       "  </tbody>\n",
       "</table>\n",
       "</div>"
      ],
      "text/plain": [
       "   exited\n",
       "0    7963\n",
       "1    2037"
      ]
     },
     "execution_count": 21,
     "metadata": {},
     "output_type": "execute_result"
    }
   ],
   "source": [
    "forsen['exited'].value_counts().to_frame()"
   ]
  },
  {
   "cell_type": "markdown",
   "metadata": {},
   "source": [
    "Соотношение неравное, сильный дизбаланс классов. 20,4% положительных и 79,6% отрицательных."
   ]
  },
  {
   "cell_type": "markdown",
   "metadata": {},
   "source": [
    "Обучим различные модели с разными гиперпараметрами, игнорируя дизбаланс классов.  \n",
    "Это задача классификации, поэтому будем использовать следующие модели:\n",
    "* случайный лес\n",
    "* решающее дерево\n",
    "* логистическая регрессия"
   ]
  },
  {
   "cell_type": "markdown",
   "metadata": {},
   "source": [
    "**случайный лес**"
   ]
  },
  {
   "cell_type": "code",
   "execution_count": 22,
   "metadata": {},
   "outputs": [
    {
     "name": "stdout",
     "output_type": "stream",
     "text": [
      "F1_score наилучшей модели на валидационной выборке: 0.5816186556927296 наилучшее кол-во деревьев: 7\n"
     ]
    }
   ],
   "source": [
    "best_model = None\n",
    "best_result = 0\n",
    "best_est = 0\n",
    "for est in range(1, 11, 1):\n",
    "    model = RandomForestClassifier(random_state=RANDOM_STATE, n_estimators=est) \n",
    "    model.fit(features_train, target_train) \n",
    "    predicted_valid = model.predict(features_valid)\n",
    "    result = f1_score(target_valid, predicted_valid) \n",
    "    if result > best_result:\n",
    "        best_model = model\n",
    "        best_result = result\n",
    "        best_est = est\n",
    "\n",
    "print(\"F1_score наилучшей модели на валидационной выборке:\", best_result, \"наилучшее кол-во деревьев:\", best_est)"
   ]
  },
  {
   "cell_type": "code",
   "execution_count": 23,
   "metadata": {},
   "outputs": [
    {
     "name": "stdout",
     "output_type": "stream",
     "text": [
      "F1_score наилучшей модели на валидационной выборке: 0.592814371257485 наилучшее кол-во деревьев: 180\n"
     ]
    }
   ],
   "source": [
    "best_model = None\n",
    "best_result = 0\n",
    "best_est = 0\n",
    "for est in range(100, 201, 5):\n",
    "    model = RandomForestClassifier(random_state=RANDOM_STATE, n_estimators=est) \n",
    "    model.fit(features_train, target_train) \n",
    "    predicted_valid = model.predict(features_valid)\n",
    "    result = f1_score(target_valid, predicted_valid) \n",
    "    if result > best_result:\n",
    "        best_model = model\n",
    "        best_result = result\n",
    "        best_est = est\n",
    "\n",
    "print(\"F1_score наилучшей модели на валидационной выборке:\", best_result, \"наилучшее кол-во деревьев:\", best_est)"
   ]
  },
  {
   "cell_type": "code",
   "execution_count": 24,
   "metadata": {},
   "outputs": [
    {
     "name": "stdout",
     "output_type": "stream",
     "text": [
      "F1_score наилучшей модели на валидационной выборке: 0.5863095238095238 наилучшее кол-во деревьев: 75\n"
     ]
    }
   ],
   "source": [
    "best_model = None\n",
    "best_result = 0\n",
    "best_est = 0\n",
    "for est in range(50, 101, 5):\n",
    "    model = RandomForestClassifier(random_state=RANDOM_STATE, n_estimators=est) \n",
    "    model.fit(features_train, target_train) \n",
    "    predicted_valid = model.predict(features_valid)\n",
    "    result = f1_score(target_valid, predicted_valid) \n",
    "    if result > best_result:\n",
    "        best_model = model\n",
    "        best_result = result\n",
    "        best_est = est\n",
    "\n",
    "print(\"F1_score наилучшей модели на валидационной выборке:\", best_result, \"наилучшее кол-во деревьев:\", best_est)"
   ]
  },
  {
   "cell_type": "markdown",
   "metadata": {},
   "source": [
    "**В модели случайного леса наилучшее значение метрики Ф1 (0.5928) достигается при кол-ве деревьев равному 180.**"
   ]
  },
  {
   "cell_type": "markdown",
   "metadata": {},
   "source": [
    "**решающее дерево**"
   ]
  },
  {
   "cell_type": "code",
   "execution_count": 25,
   "metadata": {},
   "outputs": [
    {
     "name": "stdout",
     "output_type": "stream",
     "text": [
      "Наиболее подходящая глубина дерева = 4 , F1 score модели: 0.5528700906344411\n"
     ]
    }
   ],
   "source": [
    "best_model = None\n",
    "best_depth = 0\n",
    "best_result = 0\n",
    "for depth in range(1,6):\n",
    "    model= DecisionTreeClassifier(random_state=RANDOM_STATE, max_depth=depth)\n",
    "    model.fit(features_train, target_train)\n",
    "    predicted_valid = model.predict(features_valid)\n",
    "    result = f1_score(target_valid, predicted_valid)\n",
    "    if result > best_result:\n",
    "        best_model = model\n",
    "        best_result = result\n",
    "        best_depth = depth\n",
    "        \n",
    "print('Наиболее подходящая глубина дерева =', best_depth, ', F1 score модели:', best_result)"
   ]
  },
  {
   "cell_type": "markdown",
   "metadata": {},
   "source": [
    "**В модели решающего дерева наилучшее значение метрики Ф1 (0.5529) достигается при максимальной глубине в 4.**"
   ]
  },
  {
   "cell_type": "markdown",
   "metadata": {},
   "source": [
    "**логистическая регрессия**"
   ]
  },
  {
   "cell_type": "code",
   "execution_count": 26,
   "metadata": {},
   "outputs": [
    {
     "name": "stdout",
     "output_type": "stream",
     "text": [
      "Наиболее подходящее кол-во итераций: 100 , F1 score модели: 0.33108108108108103\n"
     ]
    }
   ],
   "source": [
    "best_model = None\n",
    "best_max_iter = 0\n",
    "best_result = 0\n",
    "for iter in [100, 250, 500, 750, 1000]:\n",
    "    model = LogisticRegression(random_state=RANDOM_STATE, solver='lbfgs', max_iter=iter)\n",
    "    model.fit(features_train, target_train)\n",
    "    predicted_valid = model.predict(features_valid)\n",
    "    result = f1_score(target_valid, predicted_valid)\n",
    "    if result > best_result:\n",
    "        best_model = model\n",
    "        best_result = result\n",
    "        best_max_iter = iter\n",
    "\n",
    "print('Наиболее подходящее кол-во итераций:', best_max_iter, ', F1 score модели:', best_result)"
   ]
  },
  {
   "cell_type": "markdown",
   "metadata": {},
   "source": [
    "**В модели логистической регрессии наилучшее значение метрики Ф1 (0.3311) достигается при кол-ве итераций равному 100.**  \n",
    "Наихудшее значение метрики Ф1 из трёх моделей."
   ]
  },
  {
   "cell_type": "markdown",
   "metadata": {},
   "source": [
    "## Борьба с дисбалансом"
   ]
  },
  {
   "cell_type": "markdown",
   "metadata": {},
   "source": [
    "Проведём обучение моделей в цикле для выявленния наилучших значений гиперпараметров на новых выборках, предназначенных для борьбы с дизбалансом классов."
   ]
  },
  {
   "cell_type": "markdown",
   "metadata": {},
   "source": [
    "**увеличение выборки**"
   ]
  },
  {
   "cell_type": "markdown",
   "metadata": {},
   "source": [
    "Преобразование проходит в несколько этапов:\n",
    "* Разделить обучающую выборку на отрицательные и положительные объекты;\n",
    "* Скопировать несколько раз положительные объекты;\n",
    "* С учётом полученных данных создать новую обучающую выборку;\n",
    "* Перемешать данные: идущие друг за другом одинаковые вопросы не помогут обучению."
   ]
  },
  {
   "cell_type": "code",
   "execution_count": 27,
   "metadata": {},
   "outputs": [
    {
     "name": "stdout",
     "output_type": "stream",
     "text": [
      "(9588, 11)\n",
      "(9588,)\n"
     ]
    }
   ],
   "source": [
    "def upsample(features, target, repeat):\n",
    "    features_zeros = features[target == 0]\n",
    "    features_ones = features[target == 1]\n",
    "    target_zeros = target[target == 0]\n",
    "    target_ones = target[target == 1]\n",
    "\n",
    "    features_upsampled = pd.concat([features_zeros] + [features_ones] * repeat)\n",
    "    target_upsampled = pd.concat([target_zeros] + [target_ones] * repeat)\n",
    "    \n",
    "    features_upsampled, target_upsampled = shuffle(\n",
    "        features_upsampled, target_upsampled, random_state=RANDOM_STATE)\n",
    "    \n",
    "    return features_upsampled, target_upsampled\n",
    "\n",
    "features_upsampled, target_upsampled = upsample(features_train, target_train, 4)\n",
    "\n",
    "print(features_upsampled.shape)\n",
    "print(target_upsampled.shape)"
   ]
  },
  {
   "cell_type": "code",
   "execution_count": 28,
   "metadata": {},
   "outputs": [
    {
     "data": {
      "text/html": [
       "<div>\n",
       "<style scoped>\n",
       "    .dataframe tbody tr th:only-of-type {\n",
       "        vertical-align: middle;\n",
       "    }\n",
       "\n",
       "    .dataframe tbody tr th {\n",
       "        vertical-align: top;\n",
       "    }\n",
       "\n",
       "    .dataframe thead th {\n",
       "        text-align: right;\n",
       "    }\n",
       "</style>\n",
       "<table border=\"1\" class=\"dataframe\">\n",
       "  <thead>\n",
       "    <tr style=\"text-align: right;\">\n",
       "      <th></th>\n",
       "      <th>exited</th>\n",
       "    </tr>\n",
       "  </thead>\n",
       "  <tbody>\n",
       "    <tr>\n",
       "      <th>0</th>\n",
       "      <td>4804</td>\n",
       "    </tr>\n",
       "    <tr>\n",
       "      <th>1</th>\n",
       "      <td>4784</td>\n",
       "    </tr>\n",
       "  </tbody>\n",
       "</table>\n",
       "</div>"
      ],
      "text/plain": [
       "   exited\n",
       "0    4804\n",
       "1    4784"
      ]
     },
     "execution_count": 28,
     "metadata": {},
     "output_type": "execute_result"
    }
   ],
   "source": [
    "target_upsampled.value_counts().to_frame()"
   ]
  },
  {
   "cell_type": "markdown",
   "metadata": {},
   "source": [
    "**логистическая регрессия**"
   ]
  },
  {
   "cell_type": "code",
   "execution_count": 29,
   "metadata": {},
   "outputs": [
    {
     "name": "stdout",
     "output_type": "stream",
     "text": [
      "Наиболее подходящее кол-во итераций: 100 , F1 score модели: 0.4888507718696398\n"
     ]
    }
   ],
   "source": [
    "best_model = None\n",
    "best_max_iter = 0\n",
    "best_result = 0\n",
    "for iter in [100, 250, 500, 750, 1000]:\n",
    "    model = LogisticRegression(random_state=RANDOM_STATE, solver='lbfgs', max_iter=iter)\n",
    "    model.fit(features_upsampled, target_upsampled)\n",
    "    predicted_valid = model.predict(features_valid)\n",
    "    result = f1_score(target_valid, predicted_valid)\n",
    "    if result > best_result:\n",
    "        best_model = model\n",
    "        best_result = result\n",
    "        best_max_iter = iter\n",
    "\n",
    "print('Наиболее подходящее кол-во итераций:', best_max_iter, ', F1 score модели:', best_result)"
   ]
  },
  {
   "cell_type": "markdown",
   "metadata": {},
   "source": [
    "Значение метрики Ф1 на новой upsampled выборке не изменилось **(0.4889)**."
   ]
  },
  {
   "cell_type": "markdown",
   "metadata": {},
   "source": [
    "**случайный лес**"
   ]
  },
  {
   "cell_type": "code",
   "execution_count": 30,
   "metadata": {},
   "outputs": [
    {
     "name": "stdout",
     "output_type": "stream",
     "text": [
      "F1_score наилучшей модели на валидационной выборке: 0.6089238845144357 наилучшее кол-во деревьев: 105\n"
     ]
    }
   ],
   "source": [
    "best_model = None\n",
    "best_result = 0\n",
    "best_est = 0\n",
    "for est in range(100, 201, 5):\n",
    "    model = RandomForestClassifier(random_state=RANDOM_STATE, n_estimators=est) \n",
    "    model.fit(features_upsampled, target_upsampled) \n",
    "    predicted_valid = model.predict(features_valid)\n",
    "    result = f1_score(target_valid, predicted_valid) \n",
    "    if result > best_result:\n",
    "        best_model = model\n",
    "        best_result = result\n",
    "        best_est = est\n",
    "\n",
    "print(\"F1_score наилучшей модели на валидационной выборке:\", best_result, \"наилучшее кол-во деревьев:\", best_est)"
   ]
  },
  {
   "cell_type": "code",
   "execution_count": 31,
   "metadata": {},
   "outputs": [
    {
     "name": "stdout",
     "output_type": "stream",
     "text": [
      "F1_score наилучшей модели на валидационной выборке: 0.611764705882353 наилучшее кол-во деревьев: 90\n"
     ]
    }
   ],
   "source": [
    "best_model = None\n",
    "best_result = 0\n",
    "best_est = 0\n",
    "for est in range(50, 101, 5):\n",
    "    model = RandomForestClassifier(random_state=RANDOM_STATE, n_estimators=est) \n",
    "    model.fit(features_upsampled, target_upsampled) \n",
    "    predicted_valid = model.predict(features_valid)\n",
    "    result = f1_score(target_valid, predicted_valid) \n",
    "    if result > best_result:\n",
    "        best_model = model\n",
    "        best_result = result\n",
    "        best_est = est\n",
    "\n",
    "print(\"F1_score наилучшей модели на валидационной выборке:\", best_result, \"наилучшее кол-во деревьев:\", best_est)"
   ]
  },
  {
   "cell_type": "code",
   "execution_count": 32,
   "metadata": {},
   "outputs": [
    {
     "name": "stdout",
     "output_type": "stream",
     "text": [
      "F1_score наилучшей модели на валидационной выборке: 0.5849056603773585 наилучшее кол-во деревьев: 10\n"
     ]
    }
   ],
   "source": [
    "best_model = None\n",
    "best_result = 0\n",
    "best_est = 0\n",
    "for est in range(1, 11, 1):\n",
    "    model = RandomForestClassifier(random_state=RANDOM_STATE, n_estimators=est) \n",
    "    model.fit(features_upsampled, target_upsampled) \n",
    "    predicted_valid = model.predict(features_valid)\n",
    "    result = f1_score(target_valid, predicted_valid) \n",
    "    if result > best_result:\n",
    "        best_model = model\n",
    "        best_result = result\n",
    "        best_est = est\n",
    "\n",
    "print(\"F1_score наилучшей модели на валидационной выборке:\", best_result, \"наилучшее кол-во деревьев:\", best_est)"
   ]
  },
  {
   "cell_type": "markdown",
   "metadata": {},
   "source": [
    "Наилучшее значение метрики Ф1 на новой выборке, призванной бороться с дизбалансом, достигается при значении деревьев 90 - **(0.6118)**."
   ]
  },
  {
   "cell_type": "markdown",
   "metadata": {},
   "source": [
    "**решающее дерево**"
   ]
  },
  {
   "cell_type": "code",
   "execution_count": 33,
   "metadata": {},
   "outputs": [
    {
     "name": "stdout",
     "output_type": "stream",
     "text": [
      "Наиболее подходящая глубина дерева = 5 , F1 score модели: 0.5963791267305644\n"
     ]
    }
   ],
   "source": [
    "best_model = None\n",
    "best_depth = 0\n",
    "best_result = 0\n",
    "for depth in range(1,6):\n",
    "    model= DecisionTreeClassifier(random_state=RANDOM_STATE, max_depth=depth)\n",
    "    model.fit(features_upsampled, target_upsampled)\n",
    "    predicted_valid = model.predict(features_valid)\n",
    "    result = f1_score(target_valid, predicted_valid)\n",
    "    if result > best_result:\n",
    "        best_model = model\n",
    "        best_result = result\n",
    "        best_depth = depth\n",
    "        \n",
    "print('Наиболее подходящая глубина дерева =', best_depth, ', F1 score модели:', best_result)"
   ]
  },
  {
   "cell_type": "markdown",
   "metadata": {},
   "source": [
    "Наилучшее значение метрики Ф1 на новой выборке upsampled достигается при макс. глубине в 5 - **(0.5964)**."
   ]
  },
  {
   "cell_type": "markdown",
   "metadata": {},
   "source": [
    "Хуже всего себя показала модель логистической регрессии. Лучше всего случайный лес - **0.6118**."
   ]
  },
  {
   "cell_type": "markdown",
   "metadata": {},
   "source": [
    "**уменьшение выборки**"
   ]
  },
  {
   "cell_type": "markdown",
   "metadata": {},
   "source": [
    "Преобразование проходит в несколько этапов:\n",
    "* Разделить обучающую выборку на отрицательные и положительные объекты;\n",
    "* Случайным образом отбросить часть из отрицательных объектов;\n",
    "* С учётом полученных данных создать новую обучающую выборку;\n",
    "* Перемешать данные. Положительные не должны идти следом за отрицательными: алгоритмам будет сложнее обучаться."
   ]
  },
  {
   "cell_type": "code",
   "execution_count": 34,
   "metadata": {},
   "outputs": [
    {
     "name": "stdout",
     "output_type": "stream",
     "text": [
      "(2397, 11)\n",
      "(2397,)\n"
     ]
    }
   ],
   "source": [
    "def downsample(features, target, fraction):\n",
    "    features_zeros = features[target == 0]\n",
    "    features_ones = features[target == 1]\n",
    "    target_zeros = target[target == 0]\n",
    "    target_ones = target[target == 1]\n",
    "\n",
    "    features_downsampled = pd.concat(\n",
    "        [features_zeros.sample(frac=fraction, random_state=RANDOM_STATE)] + [features_ones])\n",
    "    target_downsampled = pd.concat(\n",
    "        [target_zeros.sample(frac=fraction, random_state=RANDOM_STATE)] + [target_ones])\n",
    "    \n",
    "    features_downsampled, target_downsampled = shuffle(\n",
    "        features_downsampled, target_downsampled, random_state=RANDOM_STATE)\n",
    "    \n",
    "    return features_downsampled, target_downsampled\n",
    "\n",
    "features_downsampled, target_downsampled = downsample(features_train, target_train, 0.25)\n",
    "\n",
    "print(features_downsampled.shape)\n",
    "print(target_downsampled.shape)"
   ]
  },
  {
   "cell_type": "code",
   "execution_count": 35,
   "metadata": {},
   "outputs": [
    {
     "data": {
      "text/html": [
       "<div>\n",
       "<style scoped>\n",
       "    .dataframe tbody tr th:only-of-type {\n",
       "        vertical-align: middle;\n",
       "    }\n",
       "\n",
       "    .dataframe tbody tr th {\n",
       "        vertical-align: top;\n",
       "    }\n",
       "\n",
       "    .dataframe thead th {\n",
       "        text-align: right;\n",
       "    }\n",
       "</style>\n",
       "<table border=\"1\" class=\"dataframe\">\n",
       "  <thead>\n",
       "    <tr style=\"text-align: right;\">\n",
       "      <th></th>\n",
       "      <th>exited</th>\n",
       "    </tr>\n",
       "  </thead>\n",
       "  <tbody>\n",
       "    <tr>\n",
       "      <th>0</th>\n",
       "      <td>1201</td>\n",
       "    </tr>\n",
       "    <tr>\n",
       "      <th>1</th>\n",
       "      <td>1196</td>\n",
       "    </tr>\n",
       "  </tbody>\n",
       "</table>\n",
       "</div>"
      ],
      "text/plain": [
       "   exited\n",
       "0    1201\n",
       "1    1196"
      ]
     },
     "execution_count": 35,
     "metadata": {},
     "output_type": "execute_result"
    }
   ],
   "source": [
    "target_downsampled.value_counts().to_frame()"
   ]
  },
  {
   "cell_type": "markdown",
   "metadata": {},
   "source": [
    "**логистическая регрессия**"
   ]
  },
  {
   "cell_type": "code",
   "execution_count": 36,
   "metadata": {},
   "outputs": [
    {
     "name": "stdout",
     "output_type": "stream",
     "text": [
      "Наиболее подходящее кол-во итераций: 100 , F1 score модели: 0.48406546080964685\n"
     ]
    }
   ],
   "source": [
    "best_model = None\n",
    "best_max_iter = 0\n",
    "best_result = 0\n",
    "for iter in [100, 250, 500, 750, 1000]:\n",
    "    model = LogisticRegression(random_state=RANDOM_STATE, solver='lbfgs', max_iter=iter)\n",
    "    model.fit(features_downsampled, target_downsampled)\n",
    "    predicted_valid = model.predict(features_valid)\n",
    "    result = f1_score(target_valid, predicted_valid)\n",
    "    if result > best_result:\n",
    "        best_model = model\n",
    "        best_result = result\n",
    "        best_max_iter = iter\n",
    "\n",
    "print('Наиболее подходящее кол-во итераций:', best_max_iter, ', F1 score модели:', best_result)"
   ]
  },
  {
   "cell_type": "markdown",
   "metadata": {},
   "source": [
    "Наилучшее значение метрики Ф1 на downsampled выборке достигается при кол-ве итераций в 100, но оно оказалось меньше, чем при увеличении выборки - **0.4841 против 0.4889**."
   ]
  },
  {
   "cell_type": "markdown",
   "metadata": {},
   "source": [
    "**случайный лес**"
   ]
  },
  {
   "cell_type": "code",
   "execution_count": 37,
   "metadata": {},
   "outputs": [
    {
     "name": "stdout",
     "output_type": "stream",
     "text": [
      "F1_score наилучшей модели на валидационной выборке: 0.5886722376973075 наилучшее кол-во деревьев: 155\n"
     ]
    }
   ],
   "source": [
    "best_model = None\n",
    "best_result = 0\n",
    "best_est = 0\n",
    "for est in range(100, 201, 5):\n",
    "    model = RandomForestClassifier(random_state=RANDOM_STATE, n_estimators=est) \n",
    "    model.fit(features_downsampled, target_downsampled) \n",
    "    predicted_valid = model.predict(features_valid)\n",
    "    result = f1_score(target_valid, predicted_valid) \n",
    "    if result > best_result:\n",
    "        best_model = model\n",
    "        best_result = result\n",
    "        best_est = est\n",
    "\n",
    "print(\"F1_score наилучшей модели на валидационной выборке:\", best_result, \"наилучшее кол-во деревьев:\", best_est)"
   ]
  },
  {
   "cell_type": "code",
   "execution_count": 38,
   "metadata": {},
   "outputs": [
    {
     "name": "stdout",
     "output_type": "stream",
     "text": [
      "F1_score наилучшей модели на валидационной выборке: 0.5832549388523048 наилучшее кол-во деревьев: 60\n"
     ]
    }
   ],
   "source": [
    "best_model = None\n",
    "best_result = 0\n",
    "best_est = 0\n",
    "for est in range(50, 101, 5):\n",
    "    model = RandomForestClassifier(random_state=RANDOM_STATE, n_estimators=est) \n",
    "    model.fit(features_downsampled, target_downsampled) \n",
    "    predicted_valid = model.predict(features_valid)\n",
    "    result = f1_score(target_valid, predicted_valid) \n",
    "    if result > best_result:\n",
    "        best_model = model\n",
    "        best_result = result\n",
    "        best_est = est\n",
    "\n",
    "print(\"F1_score наилучшей модели на валидационной выборке:\", best_result, \"наилучшее кол-во деревьев:\", best_est)"
   ]
  },
  {
   "cell_type": "code",
   "execution_count": 39,
   "metadata": {},
   "outputs": [
    {
     "name": "stdout",
     "output_type": "stream",
     "text": [
      "F1_score наилучшей модели на валидационной выборке: 0.5778648383937316 наилучшее кол-во деревьев: 8\n"
     ]
    }
   ],
   "source": [
    "best_model = None\n",
    "best_result = 0\n",
    "best_est = 0\n",
    "for est in range(1, 11, 1):\n",
    "    model = RandomForestClassifier(random_state=RANDOM_STATE, n_estimators=est) \n",
    "    model.fit(features_downsampled, target_downsampled) \n",
    "    predicted_valid = model.predict(features_valid)\n",
    "    result = f1_score(target_valid, predicted_valid) \n",
    "    if result > best_result:\n",
    "        best_model = model\n",
    "        best_result = result\n",
    "        best_est = est\n",
    "\n",
    "print(\"F1_score наилучшей модели на валидационной выборке:\", best_result, \"наилучшее кол-во деревьев:\", best_est)"
   ]
  },
  {
   "cell_type": "markdown",
   "metadata": {},
   "source": [
    "Наилучшее значение метрики Ф1 на downsampled выборке модели случайного леса при кол-ве деревьев 155 оказалось ниже, чем при upsampled выборке **(0.5887 против 0.6118)**."
   ]
  },
  {
   "cell_type": "markdown",
   "metadata": {},
   "source": [
    "**решающее дерево**"
   ]
  },
  {
   "cell_type": "code",
   "execution_count": 40,
   "metadata": {},
   "outputs": [
    {
     "name": "stdout",
     "output_type": "stream",
     "text": [
      "Наиболее подходящая глубина дерева = 5 , F1 score модели: 0.5928934010152282\n"
     ]
    }
   ],
   "source": [
    "best_model = None\n",
    "best_depth = 0\n",
    "best_result = 0\n",
    "for depth in range(1,6):\n",
    "    model= DecisionTreeClassifier(random_state=RANDOM_STATE, max_depth=depth)\n",
    "    model.fit(features_downsampled, target_downsampled)\n",
    "    predicted_valid = model.predict(features_valid)\n",
    "    result = f1_score(target_valid, predicted_valid)\n",
    "    if result > best_result:\n",
    "        best_model = model\n",
    "        best_result = result\n",
    "        best_depth = depth\n",
    "        \n",
    "print('Наиболее подходящая глубина дерева =', best_depth, ', F1 score модели:', best_result)"
   ]
  },
  {
   "cell_type": "markdown",
   "metadata": {},
   "source": [
    "Наилучшее значение метрики Ф1 на downsampled выборке модели решающего дерева при кол-ве деревьев - 5, оказалось чуть ниже, чем при upsampled выборке **(0.5929 против 0.5964)**."
   ]
  },
  {
   "cell_type": "markdown",
   "metadata": {},
   "source": [
    "Значения метрики Ф1 всех моделей при уменьшении выборки показали себя хуже, чем при её увеличении."
   ]
  },
  {
   "cell_type": "markdown",
   "metadata": {},
   "source": [
    "**изменение порога**"
   ]
  },
  {
   "cell_type": "markdown",
   "metadata": {},
   "source": [
    "**логистическая регрессия**"
   ]
  },
  {
   "cell_type": "code",
   "execution_count": 41,
   "metadata": {},
   "outputs": [
    {
     "name": "stdout",
     "output_type": "stream",
     "text": [
      "Порог = 0.00 | Точность = 0.209, Полнота = 1.000, F1 = 0.346\n",
      "Порог = 0.05 | Точность = 0.235, Полнота = 0.981, F1 = 0.379\n",
      "Порог = 0.10 | Точность = 0.276, Полнота = 0.897, F1 = 0.423\n",
      "Порог = 0.15 | Точность = 0.327, Полнота = 0.792, F1 = 0.463\n",
      "Порог = 0.20 | Точность = 0.369, Полнота = 0.672, F1 = 0.477\n",
      "Порог = 0.25 | Точность = 0.426, Полнота = 0.603, F1 = 0.499\n",
      "Порог = 0.30 | Точность = 0.455, Полнота = 0.517, F1 = 0.484\n",
      "Порог = 0.35 | Точность = 0.488, Полнота = 0.426, F1 = 0.455\n",
      "Порог = 0.40 | Точность = 0.502, Полнота = 0.330, F1 = 0.398\n",
      "Порог = 0.45 | Точность = 0.524, Полнота = 0.282, F1 = 0.367\n",
      "Порог = 0.50 | Точность = 0.563, Полнота = 0.234, F1 = 0.331\n",
      "Порог = 0.55 | Точность = 0.621, Полнота = 0.172, F1 = 0.270\n",
      "Порог = 0.60 | Точность = 0.654, Полнота = 0.122, F1 = 0.206\n",
      "Порог = 0.65 | Точность = 0.647, Полнота = 0.079, F1 = 0.141\n",
      "Порог = 0.70 | Точность = 0.633, Полнота = 0.045, F1 = 0.085\n",
      "Порог = 0.75 | Точность = 0.650, Полнота = 0.031, F1 = 0.059\n",
      "Порог = 0.80 | Точность = 0.533, Полнота = 0.019, F1 = 0.037\n",
      "Порог = 0.85 | Точность = 0.400, Полнота = 0.005, F1 = 0.009\n",
      "Порог = 0.90 | Точность = 0.500, Полнота = 0.002, F1 = 0.005\n"
     ]
    },
    {
     "data": {
      "image/png": "[encoded data removed]",
      "text/plain": [
       "<Figure size 600x600 with 1 Axes>"
      ]
     },
     "metadata": {},
     "output_type": "display_data"
    }
   ],
   "source": [
    "model = LogisticRegression(random_state=RANDOM_STATE, solver='lbfgs')\n",
    "model.fit(features_train, target_train)\n",
    "probabilities_valid = model.predict_proba(features_valid)\n",
    "probabilities_one_valid = probabilities_valid[:, 1]\n",
    "\n",
    "for threshold in np.arange(0, 0.95, 0.05):\n",
    "    predicted_valid = probabilities_one_valid > threshold\n",
    "    precision = precision_score(target_valid, predicted_valid)\n",
    "    recall = recall_score(target_valid, predicted_valid)\n",
    "    f1 = f1_score(target_valid, predicted_valid)\n",
    "\n",
    "    print(\"Порог = {:.2f} | Точность = {:.3f}, Полнота = {:.3f}, F1 = {:.3f}\".format(\n",
    "        threshold, precision, recall, f1))\n",
    "    \n",
    "precision, recall, thresholds = precision_recall_curve(target_valid, probabilities_valid[:, 1])\n",
    "\n",
    "plt.figure(figsize=(6, 6))\n",
    "plt.step(recall, precision, where='post')\n",
    "plt.xlabel('Recall')\n",
    "plt.ylabel('Precision')\n",
    "plt.ylim([0.0, 1.05])\n",
    "plt.xlim([0.0, 1.0])\n",
    "plt.title('Кривая Precision-Recall')\n",
    "plt.show() "
   ]
  },
  {
   "cell_type": "code",
   "execution_count": 42,
   "metadata": {},
   "outputs": [
    {
     "name": "stdout",
     "output_type": "stream",
     "text": [
      "Порог = 0.00 | Точность = 0.209, Полнота = 1.000, F1 = 0.346\n",
      "Порог = 0.05 | Точность = 0.209, Полнота = 1.000, F1 = 0.346\n",
      "Порог = 0.10 | Точность = 0.215, Полнота = 1.000, F1 = 0.354\n",
      "Порог = 0.15 | Точность = 0.228, Полнота = 0.990, F1 = 0.371\n",
      "Порог = 0.20 | Точность = 0.242, Полнота = 0.969, F1 = 0.387\n",
      "Порог = 0.25 | Точность = 0.258, Полнота = 0.938, F1 = 0.404\n",
      "Порог = 0.30 | Точность = 0.276, Полнота = 0.904, F1 = 0.423\n",
      "Порог = 0.35 | Точность = 0.300, Полнота = 0.871, F1 = 0.447\n",
      "Порог = 0.40 | Точность = 0.330, Полнота = 0.823, F1 = 0.472\n",
      "Порог = 0.45 | Точность = 0.358, Полнота = 0.754, F1 = 0.485\n",
      "Порог = 0.50 | Точность = 0.381, Полнота = 0.682, F1 = 0.489\n",
      "Порог = 0.55 | Точность = 0.417, Полнота = 0.627, F1 = 0.500\n",
      "Порог = 0.60 | Точность = 0.435, Полнота = 0.562, F1 = 0.491\n",
      "Порог = 0.65 | Точность = 0.471, Полнота = 0.488, F1 = 0.479\n",
      "Порог = 0.70 | Точность = 0.488, Полнота = 0.385, F1 = 0.430\n",
      "Порог = 0.75 | Точность = 0.500, Полнота = 0.297, F1 = 0.372\n",
      "Порог = 0.80 | Точность = 0.566, Полнота = 0.237, F1 = 0.334\n",
      "Порог = 0.85 | Точность = 0.613, Полнота = 0.136, F1 = 0.223\n",
      "Порог = 0.90 | Точность = 0.550, Полнота = 0.053, F1 = 0.096\n"
     ]
    },
    {
     "data": {
      "image/png": "[encoded data removed]",
      "text/plain": [
       "<Figure size 600x600 with 1 Axes>"
      ]
     },
     "metadata": {},
     "output_type": "display_data"
    }
   ],
   "source": [
    "model = LogisticRegression(random_state=RANDOM_STATE, solver='lbfgs', class_weight='balanced')\n",
    "model.fit(features_train, target_train)\n",
    "probabilities_valid = model.predict_proba(features_valid)\n",
    "probabilities_one_valid = probabilities_valid[:, 1]\n",
    "\n",
    "for threshold in np.arange(0, 0.95, 0.05):\n",
    "    predicted_valid = probabilities_one_valid > threshold\n",
    "    precision = precision_score(target_valid, predicted_valid)\n",
    "    recall = recall_score(target_valid, predicted_valid)\n",
    "    f1 = f1_score(target_valid, predicted_valid)\n",
    "\n",
    "    print(\"Порог = {:.2f} | Точность = {:.3f}, Полнота = {:.3f}, F1 = {:.3f}\".format(\n",
    "        threshold, precision, recall, f1))\n",
    "    \n",
    "precision, recall, thresholds = precision_recall_curve(target_valid, probabilities_valid[:, 1])\n",
    "\n",
    "plt.figure(figsize=(6, 6))\n",
    "plt.step(recall, precision, where='post')\n",
    "plt.xlabel('Recall')\n",
    "plt.ylabel('Precision')\n",
    "plt.ylim([0.0, 1.05])\n",
    "plt.xlim([0.0, 1.0])\n",
    "plt.title('Кривая Precision-Recall')\n",
    "plt.show() "
   ]
  },
  {
   "cell_type": "markdown",
   "metadata": {},
   "source": [
    "Метрика Ф1 при пороге в 0.55 и class_weight='balanced' = 0.5"
   ]
  },
  {
   "cell_type": "markdown",
   "metadata": {},
   "source": [
    "**случайный лес**"
   ]
  },
  {
   "cell_type": "code",
   "execution_count": 43,
   "metadata": {},
   "outputs": [
    {
     "name": "stdout",
     "output_type": "stream",
     "text": [
      "Порог = 0.00 | Точность = 0.217, Полнота = 0.995, F1 = 0.357\n",
      "Порог = 0.05 | Точность = 0.281, Полнота = 0.940, F1 = 0.432\n",
      "Порог = 0.10 | Точность = 0.339, Полнота = 0.878, F1 = 0.489\n",
      "Порог = 0.15 | Точность = 0.398, Полнота = 0.821, F1 = 0.536\n",
      "Порог = 0.20 | Точность = 0.457, Полнота = 0.758, F1 = 0.570\n",
      "Порог = 0.25 | Точность = 0.521, Полнота = 0.718, F1 = 0.604\n",
      "Порог = 0.30 | Точность = 0.574, Полнота = 0.653, F1 = 0.611\n",
      "Порог = 0.35 | Точность = 0.640, Полнота = 0.612, F1 = 0.626\n",
      "Порог = 0.40 | Точность = 0.682, Полнота = 0.565, F1 = 0.618\n",
      "Порог = 0.45 | Точность = 0.714, Полнота = 0.502, F1 = 0.590\n",
      "Порог = 0.50 | Точность = 0.776, Полнота = 0.455, F1 = 0.573\n",
      "Порог = 0.55 | Точность = 0.811, Полнота = 0.421, F1 = 0.554\n",
      "Порог = 0.60 | Точность = 0.852, Полнота = 0.400, F1 = 0.544\n",
      "Порог = 0.65 | Точность = 0.867, Полнота = 0.344, F1 = 0.493\n",
      "Порог = 0.70 | Точность = 0.890, Полнота = 0.311, F1 = 0.461\n",
      "Порог = 0.75 | Точность = 0.897, Полнота = 0.249, F1 = 0.390\n",
      "Порог = 0.80 | Точность = 0.911, Полнота = 0.196, F1 = 0.323\n",
      "Порог = 0.85 | Точность = 0.921, Полнота = 0.139, F1 = 0.241\n",
      "Порог = 0.90 | Точность = 0.960, Полнота = 0.057, F1 = 0.108\n"
     ]
    },
    {
     "data": {
      "image/png": "[encoded data removed]",
      "text/plain": [
       "<Figure size 600x600 with 1 Axes>"
      ]
     },
     "metadata": {},
     "output_type": "display_data"
    }
   ],
   "source": [
    "model = RandomForestClassifier(random_state=RANDOM_STATE, n_estimators=120)\n",
    "model.fit(features_train, target_train)\n",
    "probabilities_valid = model.predict_proba(features_valid)\n",
    "probabilities_one_valid = probabilities_valid[:, 1]\n",
    "\n",
    "for threshold in np.arange(0, 0.95, 0.05):\n",
    "    predicted_valid = probabilities_one_valid > threshold\n",
    "    precision = precision_score(target_valid, predicted_valid)\n",
    "    recall = recall_score(target_valid, predicted_valid)\n",
    "    f1 = f1_score(target_valid, predicted_valid)\n",
    "\n",
    "    print(\"Порог = {:.2f} | Точность = {:.3f}, Полнота = {:.3f}, F1 = {:.3f}\".format(\n",
    "        threshold, precision, recall, f1))\n",
    "    \n",
    "precision, recall, thresholds = precision_recall_curve(target_valid, probabilities_valid[:, 1])\n",
    "\n",
    "plt.figure(figsize=(6, 6))\n",
    "plt.step(recall, precision, where='post')\n",
    "plt.xlabel('Recall')\n",
    "plt.ylabel('Precision')\n",
    "plt.ylim([0.0, 1.05])\n",
    "plt.xlim([0.0, 1.0])\n",
    "plt.title('Кривая Precision-Recall')\n",
    "plt.show() "
   ]
  },
  {
   "cell_type": "code",
   "execution_count": 44,
   "metadata": {
    "scrolled": false
   },
   "outputs": [
    {
     "name": "stdout",
     "output_type": "stream",
     "text": [
      "Порог = 0.00 | Точность = 0.220, Полнота = 0.998, F1 = 0.361\n",
      "Порог = 0.05 | Точность = 0.280, Полнота = 0.926, F1 = 0.430\n",
      "Порог = 0.10 | Точность = 0.343, Полнота = 0.864, F1 = 0.491\n",
      "Порог = 0.15 | Точность = 0.407, Полнота = 0.799, F1 = 0.539\n",
      "Порог = 0.20 | Точность = 0.476, Полнота = 0.746, F1 = 0.581\n",
      "Порог = 0.25 | Точность = 0.540, Полнота = 0.675, F1 = 0.600\n",
      "Порог = 0.30 | Точность = 0.594, Полнота = 0.629, F1 = 0.611\n",
      "Порог = 0.35 | Точность = 0.645, Полнота = 0.586, F1 = 0.614\n",
      "Порог = 0.40 | Точность = 0.683, Полнота = 0.531, F1 = 0.598\n",
      "Порог = 0.45 | Точность = 0.744, Полнота = 0.493, F1 = 0.593\n",
      "Порог = 0.50 | Точность = 0.803, Полнота = 0.447, F1 = 0.575\n",
      "Порог = 0.55 | Точность = 0.836, Полнота = 0.390, F1 = 0.532\n",
      "Порог = 0.60 | Точность = 0.867, Полнота = 0.359, F1 = 0.508\n",
      "Порог = 0.65 | Точность = 0.886, Полнота = 0.316, F1 = 0.466\n",
      "Порог = 0.70 | Точность = 0.910, Полнота = 0.266, F1 = 0.411\n",
      "Порог = 0.75 | Точность = 0.896, Полнота = 0.206, F1 = 0.335\n",
      "Порог = 0.80 | Точность = 0.946, Полнота = 0.167, F1 = 0.285\n",
      "Порог = 0.85 | Точность = 0.977, Полнота = 0.103, F1 = 0.186\n",
      "Порог = 0.90 | Точность = 1.000, Полнота = 0.031, F1 = 0.060\n"
     ]
    },
    {
     "data": {
      "image/png": "[encoded data removed]",
      "text/plain": [
       "<Figure size 600x600 with 1 Axes>"
      ]
     },
     "metadata": {},
     "output_type": "display_data"
    }
   ],
   "source": [
    "model = RandomForestClassifier(random_state=RANDOM_STATE, n_estimators=120, class_weight='balanced')\n",
    "model.fit(features_train, target_train)\n",
    "probabilities_valid = model.predict_proba(features_valid)\n",
    "probabilities_one_valid = probabilities_valid[:, 1]\n",
    "\n",
    "for threshold in np.arange(0, 0.95, 0.05):\n",
    "    predicted_valid = probabilities_one_valid > threshold\n",
    "    precision = precision_score(target_valid, predicted_valid)\n",
    "    recall = recall_score(target_valid, predicted_valid)\n",
    "    f1 = f1_score(target_valid, predicted_valid)\n",
    "\n",
    "    print(\"Порог = {:.2f} | Точность = {:.3f}, Полнота = {:.3f}, F1 = {:.3f}\".format(\n",
    "        threshold, precision, recall, f1))\n",
    "    \n",
    "precision, recall, thresholds = precision_recall_curve(target_valid, probabilities_valid[:, 1])\n",
    "\n",
    "plt.figure(figsize=(6, 6))\n",
    "plt.step(recall, precision, where='post')\n",
    "plt.xlabel('Recall')\n",
    "plt.ylabel('Precision')\n",
    "plt.ylim([0.0, 1.05])\n",
    "plt.xlim([0.0, 1.0])\n",
    "plt.title('Кривая Precision-Recall')\n",
    "plt.show() "
   ]
  },
  {
   "cell_type": "code",
   "execution_count": 45,
   "metadata": {},
   "outputs": [
    {
     "name": "stdout",
     "output_type": "stream",
     "text": [
      "Порог = 0.00 | Точность = 0.214, Полнота = 0.998, F1 = 0.352\n",
      "Порог = 0.05 | Точность = 0.274, Полнота = 0.938, F1 = 0.424\n",
      "Порог = 0.10 | Точность = 0.334, Полнота = 0.883, F1 = 0.485\n",
      "Порог = 0.15 | Точность = 0.395, Полнота = 0.828, F1 = 0.535\n",
      "Порог = 0.20 | Точность = 0.454, Полнота = 0.758, F1 = 0.568\n",
      "Порог = 0.25 | Точность = 0.517, Полнота = 0.711, F1 = 0.598\n",
      "Порог = 0.30 | Точность = 0.580, Полнота = 0.660, F1 = 0.617\n",
      "Порог = 0.35 | Точность = 0.628, Полнота = 0.622, F1 = 0.625\n",
      "Порог = 0.40 | Точность = 0.675, Полнота = 0.557, F1 = 0.611\n",
      "Порог = 0.45 | Точность = 0.705, Полнота = 0.502, F1 = 0.587\n",
      "Порог = 0.50 | Точность = 0.794, Полнота = 0.469, F1 = 0.589\n",
      "Порог = 0.55 | Точность = 0.813, Полнота = 0.426, F1 = 0.559\n",
      "Порог = 0.60 | Точность = 0.862, Полнота = 0.390, F1 = 0.537\n",
      "Порог = 0.65 | Точность = 0.869, Полнота = 0.349, F1 = 0.498\n",
      "Порог = 0.70 | Точность = 0.886, Полнота = 0.316, F1 = 0.466\n",
      "Порог = 0.75 | Точность = 0.899, Полнота = 0.256, F1 = 0.399\n",
      "Порог = 0.80 | Точность = 0.906, Полнота = 0.208, F1 = 0.339\n",
      "Порог = 0.85 | Точность = 0.924, Полнота = 0.146, F1 = 0.252\n",
      "Порог = 0.90 | Точность = 0.968, Полнота = 0.072, F1 = 0.134\n"
     ]
    },
    {
     "data": {
      "image/png": "[encoded data removed]",
      "text/plain": [
       "<Figure size 600x600 with 1 Axes>"
      ]
     },
     "metadata": {},
     "output_type": "display_data"
    }
   ],
   "source": [
    "model = RandomForestClassifier(random_state=RANDOM_STATE, n_estimators=185)\n",
    "model.fit(features_train, target_train)\n",
    "probabilities_valid = model.predict_proba(features_valid)\n",
    "probabilities_one_valid = probabilities_valid[:, 1]\n",
    "\n",
    "for threshold in np.arange(0, 0.95, 0.05):\n",
    "    predicted_valid = probabilities_one_valid > threshold\n",
    "    precision = precision_score(target_valid, predicted_valid)\n",
    "    recall = recall_score(target_valid, predicted_valid)\n",
    "    f1 = f1_score(target_valid, predicted_valid)\n",
    "\n",
    "    print(\"Порог = {:.2f} | Точность = {:.3f}, Полнота = {:.3f}, F1 = {:.3f}\".format(\n",
    "        threshold, precision, recall, f1))\n",
    "    \n",
    "precision, recall, thresholds = precision_recall_curve(target_valid, probabilities_valid[:, 1])\n",
    "\n",
    "plt.figure(figsize=(6, 6))\n",
    "plt.step(recall, precision, where='post')\n",
    "plt.xlabel('Recall')\n",
    "plt.ylabel('Precision')\n",
    "plt.ylim([0.0, 1.05])\n",
    "plt.xlim([0.0, 1.0])\n",
    "plt.title('Кривая Precision-Recall')\n",
    "plt.show() "
   ]
  },
  {
   "cell_type": "code",
   "execution_count": 46,
   "metadata": {},
   "outputs": [
    {
     "name": "stdout",
     "output_type": "stream",
     "text": [
      "Порог = 0.00 | Точность = 0.214, Полнота = 0.998, F1 = 0.352\n",
      "Порог = 0.05 | Точность = 0.275, Полнота = 0.938, F1 = 0.425\n",
      "Порог = 0.10 | Точность = 0.337, Полнота = 0.876, F1 = 0.487\n",
      "Порог = 0.15 | Точность = 0.401, Полнота = 0.825, F1 = 0.540\n",
      "Порог = 0.20 | Точность = 0.454, Полнота = 0.761, F1 = 0.568\n",
      "Порог = 0.25 | Точность = 0.517, Полнота = 0.711, F1 = 0.598\n",
      "Порог = 0.30 | Точность = 0.584, Полнота = 0.660, F1 = 0.620\n",
      "Порог = 0.35 | Точность = 0.635, Полнота = 0.620, F1 = 0.627\n",
      "Порог = 0.40 | Точность = 0.669, Полнота = 0.555, F1 = 0.607\n",
      "Порог = 0.45 | Точность = 0.705, Полнота = 0.502, F1 = 0.587\n",
      "Порог = 0.50 | Точность = 0.792, Полнота = 0.474, F1 = 0.593\n",
      "Порог = 0.55 | Точность = 0.825, Полнота = 0.419, F1 = 0.556\n",
      "Порог = 0.60 | Точность = 0.858, Полнота = 0.390, F1 = 0.536\n",
      "Порог = 0.65 | Точность = 0.868, Полнота = 0.347, F1 = 0.496\n",
      "Порог = 0.70 | Точность = 0.884, Полнота = 0.311, F1 = 0.460\n",
      "Порог = 0.75 | Точность = 0.898, Полнота = 0.254, F1 = 0.396\n",
      "Порог = 0.80 | Точность = 0.906, Полнота = 0.208, F1 = 0.339\n",
      "Порог = 0.85 | Точность = 0.922, Полнота = 0.141, F1 = 0.245\n",
      "Порог = 0.90 | Точность = 0.964, Полнота = 0.065, F1 = 0.121\n"
     ]
    },
    {
     "data": {
      "image/png": "[encoded data removed]",
      "text/plain": [
       "<Figure size 600x600 with 1 Axes>"
      ]
     },
     "metadata": {},
     "output_type": "display_data"
    }
   ],
   "source": [
    "model = RandomForestClassifier(random_state=RANDOM_STATE, n_estimators=180)\n",
    "model.fit(features_train, target_train)\n",
    "probabilities_valid = model.predict_proba(features_valid)\n",
    "probabilities_one_valid = probabilities_valid[:, 1]\n",
    "\n",
    "for threshold in np.arange(0, 0.95, 0.05):\n",
    "    predicted_valid = probabilities_one_valid > threshold\n",
    "    precision = precision_score(target_valid, predicted_valid)\n",
    "    recall = recall_score(target_valid, predicted_valid)\n",
    "    f1 = f1_score(target_valid, predicted_valid)\n",
    "\n",
    "    print(\"Порог = {:.2f} | Точность = {:.3f}, Полнота = {:.3f}, F1 = {:.3f}\".format(\n",
    "        threshold, precision, recall, f1))\n",
    "    \n",
    "precision, recall, thresholds = precision_recall_curve(target_valid, probabilities_valid[:, 1])\n",
    "\n",
    "plt.figure(figsize=(6, 6))\n",
    "plt.step(recall, precision, where='post')\n",
    "plt.xlabel('Recall')\n",
    "plt.ylabel('Precision')\n",
    "plt.ylim([0.0, 1.05])\n",
    "plt.xlim([0.0, 1.0])\n",
    "plt.title('Кривая Precision-Recall')\n",
    "plt.show() "
   ]
  },
  {
   "cell_type": "code",
   "execution_count": 47,
   "metadata": {},
   "outputs": [
    {
     "name": "stdout",
     "output_type": "stream",
     "text": [
      "Порог = 0.00 | Точность = 0.216, Полнота = 0.998, F1 = 0.356\n",
      "Порог = 0.05 | Точность = 0.278, Полнота = 0.935, F1 = 0.428\n",
      "Порог = 0.10 | Точность = 0.340, Полнота = 0.880, F1 = 0.491\n",
      "Порог = 0.15 | Точность = 0.395, Полнота = 0.813, F1 = 0.532\n",
      "Порог = 0.20 | Точность = 0.455, Полнота = 0.756, F1 = 0.568\n",
      "Порог = 0.25 | Точность = 0.517, Полнота = 0.713, F1 = 0.600\n",
      "Порог = 0.30 | Точность = 0.581, Полнота = 0.658, F1 = 0.617\n",
      "Порог = 0.35 | Точность = 0.643, Полнота = 0.612, F1 = 0.627\n",
      "Порог = 0.40 | Точность = 0.676, Полнота = 0.565, F1 = 0.615\n",
      "Порог = 0.45 | Точность = 0.714, Полнота = 0.502, F1 = 0.590\n",
      "Порог = 0.50 | Точность = 0.789, Полнота = 0.467, F1 = 0.586\n",
      "Порог = 0.55 | Точность = 0.818, Полнота = 0.419, F1 = 0.554\n",
      "Порог = 0.60 | Точность = 0.851, Полнота = 0.395, F1 = 0.539\n",
      "Порог = 0.65 | Точность = 0.874, Полнота = 0.349, F1 = 0.499\n",
      "Порог = 0.70 | Точность = 0.891, Полнота = 0.313, F1 = 0.464\n",
      "Порог = 0.75 | Точность = 0.898, Полнота = 0.254, F1 = 0.396\n",
      "Порог = 0.80 | Точность = 0.921, Полнота = 0.196, F1 = 0.323\n",
      "Порог = 0.85 | Точность = 0.909, Полнота = 0.144, F1 = 0.248\n",
      "Порог = 0.90 | Точность = 0.963, Полнота = 0.062, F1 = 0.117\n"
     ]
    },
    {
     "data": {
      "image/png": "[encoded data removed]",
      "text/plain": [
       "<Figure size 600x600 with 1 Axes>"
      ]
     },
     "metadata": {},
     "output_type": "display_data"
    }
   ],
   "source": [
    "model = RandomForestClassifier(random_state=RANDOM_STATE, n_estimators=140)\n",
    "model.fit(features_train, target_train)\n",
    "probabilities_valid = model.predict_proba(features_valid)\n",
    "probabilities_one_valid = probabilities_valid[:, 1]\n",
    "\n",
    "for threshold in np.arange(0, 0.95, 0.05):\n",
    "    predicted_valid = probabilities_one_valid > threshold\n",
    "    precision = precision_score(target_valid, predicted_valid)\n",
    "    recall = recall_score(target_valid, predicted_valid)\n",
    "    f1 = f1_score(target_valid, predicted_valid)\n",
    "\n",
    "    print(\"Порог = {:.2f} | Точность = {:.3f}, Полнота = {:.3f}, F1 = {:.3f}\".format(\n",
    "        threshold, precision, recall, f1))\n",
    "    \n",
    "precision, recall, thresholds = precision_recall_curve(target_valid, probabilities_valid[:, 1])\n",
    "\n",
    "plt.figure(figsize=(6, 6))\n",
    "plt.step(recall, precision, where='post')\n",
    "plt.xlabel('Recall')\n",
    "plt.ylabel('Precision')\n",
    "plt.ylim([0.0, 1.05])\n",
    "plt.xlim([0.0, 1.0])\n",
    "plt.title('Кривая Precision-Recall')\n",
    "plt.show() "
   ]
  },
  {
   "cell_type": "code",
   "execution_count": 48,
   "metadata": {},
   "outputs": [
    {
     "name": "stdout",
     "output_type": "stream",
     "text": [
      "Порог = 0.00 | Точность = 0.227, Полнота = 0.988, F1 = 0.369\n",
      "Порог = 0.05 | Точность = 0.277, Полнота = 0.933, F1 = 0.427\n",
      "Порог = 0.10 | Точность = 0.333, Полнота = 0.878, F1 = 0.483\n",
      "Порог = 0.15 | Точность = 0.384, Полнота = 0.823, F1 = 0.524\n",
      "Порог = 0.20 | Точность = 0.457, Полнота = 0.746, F1 = 0.567\n",
      "Порог = 0.25 | Точность = 0.517, Полнота = 0.711, F1 = 0.598\n",
      "Порог = 0.30 | Точность = 0.574, Полнота = 0.670, F1 = 0.618\n",
      "Порог = 0.35 | Точность = 0.611, Полнота = 0.624, F1 = 0.618\n",
      "Порог = 0.40 | Точность = 0.667, Полнота = 0.545, F1 = 0.600\n",
      "Порог = 0.45 | Точность = 0.712, Полнота = 0.498, F1 = 0.586\n",
      "Порог = 0.50 | Точность = 0.767, Полнота = 0.471, F1 = 0.584\n",
      "Порог = 0.55 | Точность = 0.801, Полнота = 0.433, F1 = 0.562\n",
      "Порог = 0.60 | Точность = 0.846, Полнота = 0.395, F1 = 0.538\n",
      "Порог = 0.65 | Точность = 0.876, Полнота = 0.373, F1 = 0.523\n",
      "Порог = 0.70 | Точность = 0.885, Полнота = 0.313, F1 = 0.463\n",
      "Порог = 0.75 | Точность = 0.899, Полнота = 0.278, F1 = 0.424\n",
      "Порог = 0.80 | Точность = 0.923, Полнота = 0.201, F1 = 0.330\n",
      "Порог = 0.85 | Точность = 0.923, Полнота = 0.144, F1 = 0.248\n",
      "Порог = 0.90 | Точность = 0.914, Полнота = 0.077, F1 = 0.141\n"
     ]
    },
    {
     "data": {
      "image/png": "[encoded data removed]",
      "text/plain": [
       "<Figure size 600x600 with 1 Axes>"
      ]
     },
     "metadata": {},
     "output_type": "display_data"
    }
   ],
   "source": [
    "model = RandomForestClassifier(random_state=RANDOM_STATE, n_estimators=65)\n",
    "model.fit(features_train, target_train)\n",
    "probabilities_valid = model.predict_proba(features_valid)\n",
    "probabilities_one_valid = probabilities_valid[:, 1]\n",
    "\n",
    "for threshold in np.arange(0, 0.95, 0.05):\n",
    "    predicted_valid = probabilities_one_valid > threshold\n",
    "    precision = precision_score(target_valid, predicted_valid)\n",
    "    recall = recall_score(target_valid, predicted_valid)\n",
    "    f1 = f1_score(target_valid, predicted_valid)\n",
    "\n",
    "    print(\"Порог = {:.2f} | Точность = {:.3f}, Полнота = {:.3f}, F1 = {:.3f}\".format(\n",
    "        threshold, precision, recall, f1))\n",
    "    \n",
    "precision, recall, thresholds = precision_recall_curve(target_valid, probabilities_valid[:, 1])\n",
    "\n",
    "plt.figure(figsize=(6, 6))\n",
    "plt.step(recall, precision, where='post')\n",
    "plt.xlabel('Recall')\n",
    "plt.ylabel('Precision')\n",
    "plt.ylim([0.0, 1.05])\n",
    "plt.xlim([0.0, 1.0])\n",
    "plt.title('Кривая Precision-Recall')\n",
    "plt.show() "
   ]
  },
  {
   "cell_type": "code",
   "execution_count": 49,
   "metadata": {},
   "outputs": [
    {
     "name": "stdout",
     "output_type": "stream",
     "text": [
      "Порог = 0.00 | Точность = 0.218, Полнота = 0.998, F1 = 0.358\n",
      "Порог = 0.05 | Точность = 0.280, Полнота = 0.931, F1 = 0.431\n",
      "Порог = 0.10 | Точность = 0.345, Полнота = 0.871, F1 = 0.495\n",
      "Порог = 0.15 | Точность = 0.408, Полнота = 0.799, F1 = 0.540\n",
      "Порог = 0.20 | Точность = 0.479, Полнота = 0.746, F1 = 0.583\n",
      "Порог = 0.25 | Точность = 0.546, Полнота = 0.684, F1 = 0.607\n",
      "Порог = 0.30 | Точность = 0.592, Полнота = 0.632, F1 = 0.611\n",
      "Порог = 0.35 | Точность = 0.639, Полнота = 0.581, F1 = 0.609\n",
      "Порог = 0.40 | Точность = 0.690, Полнота = 0.533, F1 = 0.602\n",
      "Порог = 0.45 | Точность = 0.750, Полнота = 0.502, F1 = 0.602\n",
      "Порог = 0.50 | Точность = 0.792, Полнота = 0.438, F1 = 0.564\n",
      "Порог = 0.55 | Точность = 0.836, Полнота = 0.390, F1 = 0.532\n",
      "Порог = 0.60 | Точность = 0.867, Полнота = 0.359, F1 = 0.508\n",
      "Порог = 0.65 | Точность = 0.873, Полнота = 0.328, F1 = 0.477\n",
      "Порог = 0.70 | Точность = 0.901, Полнота = 0.261, F1 = 0.404\n",
      "Порог = 0.75 | Точность = 0.891, Полнота = 0.196, F1 = 0.322\n",
      "Порог = 0.80 | Точность = 0.944, Полнота = 0.163, F1 = 0.278\n",
      "Порог = 0.85 | Точность = 0.952, Полнота = 0.096, F1 = 0.174\n",
      "Порог = 0.90 | Точность = 1.000, Полнота = 0.033, F1 = 0.065\n"
     ]
    },
    {
     "data": {
      "image/png": "[encoded data removed]",
      "text/plain": [
       "<Figure size 600x600 with 1 Axes>"
      ]
     },
     "metadata": {},
     "output_type": "display_data"
    }
   ],
   "source": [
    "model = RandomForestClassifier(random_state=RANDOM_STATE, n_estimators=140, class_weight='balanced')\n",
    "model.fit(features_train, target_train)\n",
    "probabilities_valid = model.predict_proba(features_valid)\n",
    "probabilities_one_valid = probabilities_valid[:, 1]\n",
    "\n",
    "for threshold in np.arange(0, 0.95, 0.05):\n",
    "    predicted_valid = probabilities_one_valid > threshold\n",
    "    precision = precision_score(target_valid, predicted_valid)\n",
    "    recall = recall_score(target_valid, predicted_valid)\n",
    "    f1 = f1_score(target_valid, predicted_valid)\n",
    "\n",
    "    print(\"Порог = {:.2f} | Точность = {:.3f}, Полнота = {:.3f}, F1 = {:.3f}\".format(\n",
    "        threshold, precision, recall, f1))\n",
    "    \n",
    "precision, recall, thresholds = precision_recall_curve(target_valid, probabilities_valid[:, 1])\n",
    "\n",
    "plt.figure(figsize=(6, 6))\n",
    "plt.step(recall, precision, where='post')\n",
    "plt.xlabel('Recall')\n",
    "plt.ylabel('Precision')\n",
    "plt.ylim([0.0, 1.05])\n",
    "plt.xlim([0.0, 1.0])\n",
    "plt.title('Кривая Precision-Recall')\n",
    "plt.show() "
   ]
  },
  {
   "cell_type": "code",
   "execution_count": 50,
   "metadata": {},
   "outputs": [
    {
     "name": "stdout",
     "output_type": "stream",
     "text": [
      "Порог = 0.00 | Точность = 0.224, Полнота = 0.993, F1 = 0.366\n",
      "Порог = 0.05 | Точность = 0.270, Полнота = 0.945, F1 = 0.420\n",
      "Порог = 0.10 | Точность = 0.335, Полнота = 0.880, F1 = 0.485\n",
      "Порог = 0.15 | Точность = 0.396, Полнота = 0.811, F1 = 0.532\n",
      "Порог = 0.20 | Точность = 0.466, Полнота = 0.766, F1 = 0.579\n",
      "Порог = 0.25 | Точность = 0.509, Полнота = 0.718, F1 = 0.596\n",
      "Порог = 0.30 | Точность = 0.564, Полнота = 0.667, F1 = 0.611\n",
      "Порог = 0.35 | Точность = 0.620, Полнота = 0.608, F1 = 0.614\n",
      "Порог = 0.40 | Точность = 0.668, Полнота = 0.553, F1 = 0.605\n",
      "Порог = 0.45 | Точность = 0.711, Полнота = 0.512, F1 = 0.595\n",
      "Порог = 0.50 | Точность = 0.776, Полнота = 0.471, F1 = 0.586\n",
      "Порог = 0.55 | Точность = 0.802, Полнота = 0.426, F1 = 0.556\n",
      "Порог = 0.60 | Точность = 0.834, Полнота = 0.397, F1 = 0.538\n",
      "Порог = 0.65 | Точность = 0.879, Полнота = 0.366, F1 = 0.517\n",
      "Порог = 0.70 | Точность = 0.875, Полнота = 0.318, F1 = 0.467\n",
      "Порог = 0.75 | Точность = 0.908, Полнота = 0.261, F1 = 0.405\n",
      "Порог = 0.80 | Точность = 0.918, Полнота = 0.187, F1 = 0.310\n",
      "Порог = 0.85 | Точность = 0.926, Полнота = 0.151, F1 = 0.259\n",
      "Порог = 0.90 | Точность = 0.938, Полнота = 0.072, F1 = 0.133\n"
     ]
    },
    {
     "data": {
      "image/png": "[encoded data removed]",
      "text/plain": [
       "<Figure size 600x600 with 1 Axes>"
      ]
     },
     "metadata": {},
     "output_type": "display_data"
    }
   ],
   "source": [
    "model = RandomForestClassifier(random_state=RANDOM_STATE, n_estimators=75)\n",
    "model.fit(features_train, target_train)\n",
    "probabilities_valid = model.predict_proba(features_valid)\n",
    "probabilities_one_valid = probabilities_valid[:, 1]\n",
    "\n",
    "for threshold in np.arange(0, 0.95, 0.05):\n",
    "    predicted_valid = probabilities_one_valid > threshold\n",
    "    precision = precision_score(target_valid, predicted_valid)\n",
    "    recall = recall_score(target_valid, predicted_valid)\n",
    "    f1 = f1_score(target_valid, predicted_valid)\n",
    "\n",
    "    print(\"Порог = {:.2f} | Точность = {:.3f}, Полнота = {:.3f}, F1 = {:.3f}\".format(\n",
    "        threshold, precision, recall, f1))\n",
    "    \n",
    "precision, recall, thresholds = precision_recall_curve(target_valid, probabilities_valid[:, 1])\n",
    "\n",
    "plt.figure(figsize=(6, 6))\n",
    "plt.step(recall, precision, where='post')\n",
    "plt.xlabel('Recall')\n",
    "plt.ylabel('Precision')\n",
    "plt.ylim([0.0, 1.05])\n",
    "plt.xlim([0.0, 1.0])\n",
    "plt.title('Кривая Precision-Recall')\n",
    "plt.show() "
   ]
  },
  {
   "cell_type": "markdown",
   "metadata": {},
   "source": [
    "Наилучшее значение метрики Ф1 модели случайного леса достигается при значении class_weight='None', кол-ве деревьев 180/140 и пороге 0.35 - **0.627**, что **является наилучшим значением** из всех способов (увеличение выборки, уменьшение выборки, изменение порога)."
   ]
  },
  {
   "cell_type": "markdown",
   "metadata": {},
   "source": [
    "**решающее дерево**"
   ]
  },
  {
   "cell_type": "code",
   "execution_count": 51,
   "metadata": {},
   "outputs": [
    {
     "name": "stdout",
     "output_type": "stream",
     "text": [
      "Порог = 0.00 | Точность = 0.208, Полнота = 0.993, F1 = 0.344\n",
      "Порог = 0.05 | Точность = 0.252, Полнота = 0.959, F1 = 0.399\n",
      "Порог = 0.10 | Точность = 0.404, Полнота = 0.782, F1 = 0.533\n",
      "Порог = 0.15 | Точность = 0.404, Полнота = 0.782, F1 = 0.533\n",
      "Порог = 0.20 | Точность = 0.463, Полнота = 0.708, F1 = 0.560\n",
      "Порог = 0.25 | Точность = 0.632, Полнота = 0.555, F1 = 0.591\n",
      "Порог = 0.30 | Точность = 0.632, Полнота = 0.555, F1 = 0.591\n",
      "Порог = 0.35 | Точность = 0.720, Полнота = 0.493, F1 = 0.585\n",
      "Порог = 0.40 | Точность = 0.720, Полнота = 0.493, F1 = 0.585\n",
      "Порог = 0.45 | Точность = 0.720, Полнота = 0.493, F1 = 0.585\n",
      "Порог = 0.50 | Точность = 0.779, Полнота = 0.414, F1 = 0.541\n",
      "Порог = 0.55 | Точность = 0.831, Полнота = 0.364, F1 = 0.506\n",
      "Порог = 0.60 | Точность = 0.831, Полнота = 0.364, F1 = 0.506\n",
      "Порог = 0.65 | Точность = 0.831, Полнота = 0.364, F1 = 0.506\n",
      "Порог = 0.70 | Точность = 0.831, Полнота = 0.364, F1 = 0.506\n",
      "Порог = 0.75 | Точность = 0.831, Полнота = 0.364, F1 = 0.506\n",
      "Порог = 0.80 | Точность = 0.870, Полнота = 0.256, F1 = 0.396\n",
      "Порог = 0.85 | Точность = 0.916, Полнота = 0.182, F1 = 0.303\n",
      "Порог = 0.90 | Точность = 0.917, Полнота = 0.158, F1 = 0.269\n"
     ]
    },
    {
     "data": {
      "image/png": "[encoded data removed]",
      "text/plain": [
       "<Figure size 600x600 with 1 Axes>"
      ]
     },
     "metadata": {},
     "output_type": "display_data"
    }
   ],
   "source": [
    "model = DecisionTreeClassifier(random_state=RANDOM_STATE, max_depth=5)\n",
    "model.fit(features_train, target_train)\n",
    "probabilities_valid = model.predict_proba(features_valid)\n",
    "probabilities_one_valid = probabilities_valid[:, 1]\n",
    "\n",
    "for threshold in np.arange(0, 0.95, 0.05):\n",
    "    predicted_valid = probabilities_one_valid > threshold\n",
    "    precision = precision_score(target_valid, predicted_valid)\n",
    "    recall = recall_score(target_valid, predicted_valid)\n",
    "    f1 = f1_score(target_valid, predicted_valid)\n",
    "\n",
    "    print(\"Порог = {:.2f} | Точность = {:.3f}, Полнота = {:.3f}, F1 = {:.3f}\".format(\n",
    "        threshold, precision, recall, f1))\n",
    "    \n",
    "precision, recall, thresholds = precision_recall_curve(target_valid, probabilities_valid[:, 1])\n",
    "\n",
    "plt.figure(figsize=(6, 6))\n",
    "plt.step(recall, precision, where='post')\n",
    "plt.xlabel('Recall')\n",
    "plt.ylabel('Precision')\n",
    "plt.ylim([0.0, 1.05])\n",
    "plt.xlim([0.0, 1.0])\n",
    "plt.title('Кривая Precision-Recall')\n",
    "plt.show() "
   ]
  },
  {
   "cell_type": "code",
   "execution_count": 52,
   "metadata": {},
   "outputs": [
    {
     "name": "stdout",
     "output_type": "stream",
     "text": [
      "Порог = 0.00 | Точность = 0.252, Полнота = 0.811, F1 = 0.384\n",
      "Порог = 0.05 | Точность = 0.290, Полнота = 0.768, F1 = 0.421\n",
      "Порог = 0.10 | Точность = 0.416, Полнота = 0.632, F1 = 0.502\n",
      "Порог = 0.15 | Точность = 0.452, Полнота = 0.615, F1 = 0.521\n",
      "Порог = 0.20 | Точность = 0.474, Полнота = 0.572, F1 = 0.518\n",
      "Порог = 0.25 | Точность = 0.504, Полнота = 0.548, F1 = 0.525\n",
      "Порог = 0.30 | Точность = 0.534, Полнота = 0.522, F1 = 0.528\n",
      "Порог = 0.35 | Точность = 0.550, Полнота = 0.517, F1 = 0.533\n",
      "Порог = 0.40 | Точность = 0.557, Полнота = 0.505, F1 = 0.529\n",
      "Порог = 0.45 | Точность = 0.565, Полнота = 0.488, F1 = 0.524\n",
      "Порог = 0.50 | Точность = 0.572, Полнота = 0.457, F1 = 0.508\n",
      "Порог = 0.55 | Точность = 0.582, Полнота = 0.452, F1 = 0.509\n",
      "Порог = 0.60 | Точность = 0.605, Полнота = 0.433, F1 = 0.505\n",
      "Порог = 0.65 | Точность = 0.605, Полнота = 0.433, F1 = 0.505\n",
      "Порог = 0.70 | Точность = 0.624, Полнота = 0.428, F1 = 0.508\n",
      "Порог = 0.75 | Точность = 0.624, Полнота = 0.373, F1 = 0.467\n",
      "Порог = 0.80 | Точность = 0.630, Полнота = 0.371, F1 = 0.467\n",
      "Порог = 0.85 | Точность = 0.629, Полнота = 0.368, F1 = 0.465\n",
      "Порог = 0.90 | Точность = 0.622, Полнота = 0.354, F1 = 0.451\n"
     ]
    },
    {
     "data": {
      "image/png": "[encoded data removed]",
      "text/plain": [
       "<Figure size 600x600 with 1 Axes>"
      ]
     },
     "metadata": {},
     "output_type": "display_data"
    }
   ],
   "source": [
    "model = DecisionTreeClassifier(random_state=RANDOM_STATE, max_depth=11)\n",
    "model.fit(features_train, target_train)\n",
    "probabilities_valid = model.predict_proba(features_valid)\n",
    "probabilities_one_valid = probabilities_valid[:, 1]\n",
    "\n",
    "for threshold in np.arange(0, 0.95, 0.05):\n",
    "    predicted_valid = probabilities_one_valid > threshold\n",
    "    precision = precision_score(target_valid, predicted_valid)\n",
    "    recall = recall_score(target_valid, predicted_valid)\n",
    "    f1 = f1_score(target_valid, predicted_valid)\n",
    "\n",
    "    print(\"Порог = {:.2f} | Точность = {:.3f}, Полнота = {:.3f}, F1 = {:.3f}\".format(\n",
    "        threshold, precision, recall, f1))\n",
    "    \n",
    "precision, recall, thresholds = precision_recall_curve(target_valid, probabilities_valid[:, 1])\n",
    "\n",
    "plt.figure(figsize=(6, 6))\n",
    "plt.step(recall, precision, where='post')\n",
    "plt.xlabel('Recall')\n",
    "plt.ylabel('Precision')\n",
    "plt.ylim([0.0, 1.05])\n",
    "plt.xlim([0.0, 1.0])\n",
    "plt.title('Кривая Precision-Recall')\n",
    "plt.show() "
   ]
  },
  {
   "cell_type": "markdown",
   "metadata": {},
   "source": [
    "Модель решающего дерева при изменении порога показывает результаты хуже."
   ]
  },
  {
   "cell_type": "markdown",
   "metadata": {},
   "source": [
    "**Лучше всего себя показала модель случайного леса при использовании способа для борьбы с дизбалансом классов - изменение порога.**\n",
    "**Наилучшее значение Ф1 - 0.627 при пороге в 0.35 и кол-ве деревьев 140/180**"
   ]
  },
  {
   "cell_type": "markdown",
   "metadata": {},
   "source": [
    "Посмотрим также на кривую ROC и значение метрики AUC-ROC нашей лучшей модели на валидационной выборке."
   ]
  },
  {
   "cell_type": "code",
   "execution_count": 57,
   "metadata": {},
   "outputs": [
    {
     "name": "stdout",
     "output_type": "stream",
     "text": [
      "Порог = 0.35 | Точность = 0.643, Полнота = 0.612, F1 = 0.627\n"
     ]
    },
    {
     "data": {
      "image/png": "[encoded data removed]",
      "text/plain": [
       "<Figure size 600x600 with 1 Axes>"
      ]
     },
     "metadata": {},
     "output_type": "display_data"
    },
    {
     "data": {
      "image/png": "[encoded data removed]",
      "text/plain": [
       "<Figure size 1000x1000 with 1 Axes>"
      ]
     },
     "metadata": {},
     "output_type": "display_data"
    },
    {
     "name": "stdout",
     "output_type": "stream",
     "text": [
      "AUC: 0.8412841234219903\n"
     ]
    }
   ],
   "source": [
    "model = RandomForestClassifier(random_state=RANDOM_STATE, n_estimators=140)\n",
    "model.fit(features_train, target_train)\n",
    "probabilities_valid = model.predict_proba(features_valid)\n",
    "probabilities_one_valid = probabilities_valid[:, 1]\n",
    "\n",
    "threshold = 0.35\n",
    "\n",
    "predicted_valid = probabilities_one_valid > threshold\n",
    "precision = precision_score(target_valid, predicted_valid)\n",
    "recall = recall_score(target_valid, predicted_valid)\n",
    "f1 = f1_score(target_valid, predicted_valid)\n",
    "\n",
    "print(\"Порог = {:.2f} | Точность = {:.3f}, Полнота = {:.3f}, F1 = {:.3f}\".format(\n",
    "    threshold, precision, recall, f1))\n",
    "    \n",
    "precision, recall, thresholds = precision_recall_curve(target_valid, probabilities_valid[:, 1])\n",
    "\n",
    "plt.figure(figsize=(6, 6))\n",
    "plt.step(recall, precision, where='post')\n",
    "plt.xlabel('Recall')\n",
    "plt.ylabel('Precision')\n",
    "plt.ylim([0.0, 1.05])\n",
    "plt.xlim([0.0, 1.0])\n",
    "plt.title('Кривая Precision-Recall')\n",
    "plt.show() \n",
    "\n",
    "fpr, tpr, thresholds = roc_curve(target_valid, probabilities_one_valid) \n",
    "\n",
    "plt.figure(figsize=(10, 10))\n",
    "plt.plot(fpr, tpr, linestyle='-')\n",
    "plt.plot([0, 1], [0, 1], linestyle='--')\n",
    "plt.xlim([0.0, 1.0])\n",
    "plt.ylim([0.0, 1.0])\n",
    "plt.xlabel('False Positive Rate')\n",
    "plt.ylabel('True Positive Rate')\n",
    "plt.title('ROC-curve')\n",
    "plt.show()\n",
    "\n",
    "auc_roc = roc_auc_score (target_valid, probabilities_one_valid)\n",
    "\n",
    "print(\"AUC:\", auc_roc)"
   ]
  },
  {
   "cell_type": "markdown",
   "metadata": {},
   "source": [
    "Наша модель лучше случайной, т.к. AUC > 0.5"
   ]
  },
  {
   "cell_type": "markdown",
   "metadata": {},
   "source": [
    "## Тестирование модели"
   ]
  },
  {
   "cell_type": "markdown",
   "metadata": {},
   "source": [
    "Проведём тестирование нашей лучшей модели на тестовой выборке."
   ]
  },
  {
   "cell_type": "code",
   "execution_count": 58,
   "metadata": {},
   "outputs": [
    {
     "name": "stdout",
     "output_type": "stream",
     "text": [
      "Порог = 0.35 | F1 = 0.623\n"
     ]
    },
    {
     "data": {
      "image/png": "[encoded data removed]",
      "text/plain": [
       "<Figure size 600x600 with 1 Axes>"
      ]
     },
     "metadata": {},
     "output_type": "display_data"
    }
   ],
   "source": [
    "model = RandomForestClassifier(random_state=RANDOM_STATE, n_estimators=140)\n",
    "model.fit(features_train, target_train)\n",
    "probabilities_test = model.predict_proba(features_test)\n",
    "probabilities_one_test = probabilities_test[:, 1]\n",
    "\n",
    "threshold = 0.35\n",
    "\n",
    "predicted_test = probabilities_one_test > threshold\n",
    "f1 = f1_score(target_test, predicted_test)\n",
    "\n",
    "print(\"Порог = {:.2f} | F1 = {:.3f}\".format(\n",
    "        threshold, f1))\n",
    "    \n",
    "\n",
    "precision, recall, thresholds = precision_recall_curve(target_test, probabilities_test[:, 1])\n",
    "\n",
    "plt.figure(figsize=(6, 6))\n",
    "plt.step(recall, precision, where='post')\n",
    "plt.xlabel('Recall')\n",
    "plt.ylabel('Precision')\n",
    "plt.ylim([0.0, 1.05])\n",
    "plt.xlim([0.0, 1.0])\n",
    "plt.title('Кривая Precision-Recall')\n",
    "plt.show() "
   ]
  },
  {
   "cell_type": "code",
   "execution_count": null,
   "metadata": {},
   "outputs": [],
   "source": [
    "fpr, tpr, thresholds = roc_curve(target_test, probabilities_one_test) \n",
    "\n",
    "plt.figure(figsize=(10, 10))\n",
    "plt.plot(fpr, tpr, linestyle='-')\n",
    "plt.plot([0, 1], [0, 1], linestyle='--')\n",
    "plt.xlim([0.0, 1.0])\n",
    "plt.ylim([0.0, 1.0])\n",
    "plt.xlabel('False Positive Rate')\n",
    "plt.ylabel('True Positive Rate')\n",
    "plt.title('ROC-curve')\n",
    "plt.show()\n",
    "\n",
    "auc_roc = roc_auc_score (target_valid, probabilities_one_valid)\n",
    "\n",
    "print(\"AUC:\", auc_roc)"
   ]
  },
  {
   "cell_type": "markdown",
   "metadata": {},
   "source": [
    "Итак, найденная нами и обученная на валидационных данных модель случайного леса показала себя хорошо при тестировании.  \n",
    "Метрика Ф1 оказалась выше нужного значения в 0.590, составив 0.623. Значение AUC также показало, что модель лучше случайной, ибо выше значения 0.5."
   ]
  },
  {
   "cell_type": "markdown",
   "metadata": {},
   "source": [
    "### Общий вывод"
   ]
  },
  {
   "cell_type": "markdown",
   "metadata": {},
   "source": [
    "**Общий вывод исследования**  \n",
    "Проведя исследование, мы выяснили, что:  \n",
    "* в задании был сильный дизбаланс классов;\n",
    "* игнорируя дизбаланс классов, мы узнали, что из трёх моделей, наилучшей оказалась модель случайного леса с наилучшим значением метрики Ф1 (0.5928), которая достигается при кол-ве деревьев - 180;\n",
    "* при борьбе с дизбалансом, мы использовали три способа (увеличение выборки, уменьшение выборки, изменение порога);\n",
    "* лучше всего себя показала модель случайного леса при использовании способа для борьбы с дизбалансом классов - изменение порога, наилучшее значение Ф1 - 0.627 при пороге в 35 и кол-ве деревьев 140/180;\n",
    "* мы также посмотрели на кривую ROC и значение метрики AUC-ROC нашей лучшей модели на валидационной выборке, модель оказалась лучше случайной, т.к. AUC-ROC = 0.8413, что больше 0.5;\n",
    "* провели финальное тестирование модели на тестовой выборке, модель показала себя хорошо, метрика Ф1 оказалась выше нужного порога в 0.590, составив 0.623, значение AUC также показало, что модель лучше случайной (0.5);\n"
   ]
  }
 ],
 "metadata": {
  "ExecuteTimeLog": [
   {
    "duration": 1749,
    "start_time": "2023-05-29T00:55:53.659Z"
   },
   {
    "duration": 109,
    "start_time": "2023-05-29T00:55:55.410Z"
   },
   {
    "duration": 19,
    "start_time": "2023-05-29T00:55:55.521Z"
   },
   {
    "duration": 7,
    "start_time": "2023-05-29T00:55:55.542Z"
   },
   {
    "duration": 6,
    "start_time": "2023-05-29T00:55:55.551Z"
   },
   {
    "duration": 31,
    "start_time": "2023-05-29T00:55:55.559Z"
   },
   {
    "duration": 18,
    "start_time": "2023-05-29T00:55:55.593Z"
   },
   {
    "duration": 16,
    "start_time": "2023-05-29T00:55:55.613Z"
   },
   {
    "duration": 13,
    "start_time": "2023-05-29T00:55:55.630Z"
   },
   {
    "duration": 35,
    "start_time": "2023-05-29T00:55:55.646Z"
   },
   {
    "duration": 12,
    "start_time": "2023-05-29T00:55:55.683Z"
   },
   {
    "duration": 17,
    "start_time": "2023-05-29T00:55:55.696Z"
   },
   {
    "duration": 3,
    "start_time": "2023-05-29T00:55:55.715Z"
   },
   {
    "duration": 11,
    "start_time": "2023-05-29T00:55:55.721Z"
   },
   {
    "duration": 41,
    "start_time": "2023-05-29T00:55:55.734Z"
   },
   {
    "duration": 12,
    "start_time": "2023-05-29T00:55:55.778Z"
   },
   {
    "duration": 28,
    "start_time": "2023-05-29T00:55:55.792Z"
   },
   {
    "duration": 17,
    "start_time": "2023-05-29T00:55:55.821Z"
   },
   {
    "duration": 47,
    "start_time": "2023-05-29T00:55:55.840Z"
   },
   {
    "duration": 13,
    "start_time": "2023-05-29T00:55:55.889Z"
   },
   {
    "duration": 520,
    "start_time": "2023-05-29T00:55:55.904Z"
   },
   {
    "duration": 480,
    "start_time": "2023-05-29T00:55:56.426Z"
   },
   {
    "duration": 22028,
    "start_time": "2023-05-29T00:55:56.909Z"
   },
   {
    "duration": 21752,
    "start_time": "2023-05-29T00:56:18.939Z"
   },
   {
    "duration": 5861,
    "start_time": "2023-05-29T00:56:40.693Z"
   },
   {
    "duration": 5724,
    "start_time": "2023-05-29T00:56:46.556Z"
   },
   {
    "duration": 72,
    "start_time": "2023-05-29T00:56:52.283Z"
   },
   {
    "duration": 90,
    "start_time": "2023-05-29T00:56:52.359Z"
   },
   {
    "duration": 8527,
    "start_time": "2023-05-29T00:56:52.451Z"
   },
   {
    "duration": 6401,
    "start_time": "2023-05-29T00:57:00.980Z"
   },
   {
    "duration": 104,
    "start_time": "2023-05-29T00:57:07.384Z"
   },
   {
    "duration": 8688,
    "start_time": "2023-05-29T00:57:07.490Z"
   },
   {
    "duration": 10810,
    "start_time": "2023-05-29T00:57:16.181Z"
   },
   {
    "duration": 2065,
    "start_time": "2023-05-29T00:57:26.993Z"
   },
   {
    "duration": 31992,
    "start_time": "2023-05-29T00:57:29.060Z"
   },
   {
    "duration": 32388,
    "start_time": "2023-05-29T00:58:01.054Z"
   },
   {
    "duration": 8375,
    "start_time": "2023-05-29T00:58:33.444Z"
   },
   {
    "duration": 8516,
    "start_time": "2023-05-29T00:58:41.821Z"
   },
   {
    "duration": 654,
    "start_time": "2023-05-29T00:58:50.339Z"
   },
   {
    "duration": 670,
    "start_time": "2023-05-29T00:58:50.995Z"
   },
   {
    "duration": 88,
    "start_time": "2023-05-29T00:58:51.667Z"
   },
   {
    "duration": 112,
    "start_time": "2023-05-29T00:58:51.756Z"
   },
   {
    "duration": 13,
    "start_time": "2023-05-29T00:58:51.875Z"
   },
   {
    "duration": 1096,
    "start_time": "2023-05-29T00:58:51.890Z"
   },
   {
    "duration": 2498,
    "start_time": "2023-05-29T00:58:52.989Z"
   },
   {
    "duration": 9253,
    "start_time": "2023-05-29T00:58:55.492Z"
   },
   {
    "duration": 8924,
    "start_time": "2023-05-29T00:59:04.747Z"
   },
   {
    "duration": 2378,
    "start_time": "2023-05-29T00:59:13.678Z"
   },
   {
    "duration": 2336,
    "start_time": "2023-05-29T00:59:16.058Z"
   },
   {
    "duration": 233,
    "start_time": "2023-05-29T00:59:18.396Z"
   },
   {
    "duration": 236,
    "start_time": "2023-05-29T00:59:18.631Z"
   },
   {
    "duration": 43,
    "start_time": "2023-05-29T00:59:18.868Z"
   },
   {
    "duration": 40,
    "start_time": "2023-05-29T00:59:18.913Z"
   },
   {
    "duration": 811,
    "start_time": "2023-05-29T00:59:18.974Z"
   },
   {
    "duration": 805,
    "start_time": "2023-05-29T00:59:19.786Z"
   },
   {
    "duration": 1029,
    "start_time": "2023-05-29T00:59:20.595Z"
   },
   {
    "duration": 993,
    "start_time": "2023-05-29T00:59:21.625Z"
   },
   {
    "duration": 1520,
    "start_time": "2023-05-29T00:59:22.620Z"
   },
   {
    "duration": 1442,
    "start_time": "2023-05-29T00:59:24.142Z"
   },
   {
    "duration": 1234,
    "start_time": "2023-05-29T00:59:25.586Z"
   },
   {
    "duration": 698,
    "start_time": "2023-05-29T00:59:26.822Z"
   },
   {
    "duration": 1277,
    "start_time": "2023-05-29T00:59:27.522Z"
   },
   {
    "duration": 779,
    "start_time": "2023-05-29T00:59:28.801Z"
   },
   {
    "duration": 258,
    "start_time": "2023-05-29T00:59:29.582Z"
   },
   {
    "duration": 340,
    "start_time": "2023-05-29T00:59:29.842Z"
   },
   {
    "duration": 1382,
    "start_time": "2023-05-29T00:59:30.184Z"
   },
   {
    "duration": 1373,
    "start_time": "2023-05-29T00:59:31.567Z"
   },
   {
    "duration": 164,
    "start_time": "2023-05-29T00:59:32.942Z"
   },
   {
    "duration": 7,
    "start_time": "2023-05-29T00:59:33.107Z"
   },
   {
    "duration": 134,
    "start_time": "2023-05-29T01:01:00.796Z"
   },
   {
    "duration": 17,
    "start_time": "2023-05-29T01:01:10.111Z"
   },
   {
    "duration": 1621,
    "start_time": "2023-05-29T01:01:58.656Z"
   },
   {
    "duration": 115,
    "start_time": "2023-05-29T01:02:00.279Z"
   },
   {
    "duration": 20,
    "start_time": "2023-05-29T01:02:00.396Z"
   },
   {
    "duration": 7,
    "start_time": "2023-05-29T01:02:00.417Z"
   },
   {
    "duration": 28,
    "start_time": "2023-05-29T01:02:00.427Z"
   },
   {
    "duration": 47,
    "start_time": "2023-05-29T01:02:00.456Z"
   },
   {
    "duration": 23,
    "start_time": "2023-05-29T01:02:00.505Z"
   },
   {
    "duration": 43,
    "start_time": "2023-05-29T01:02:00.529Z"
   },
   {
    "duration": 59,
    "start_time": "2023-05-29T01:02:00.574Z"
   },
   {
    "duration": 41,
    "start_time": "2023-05-29T01:02:00.636Z"
   },
   {
    "duration": 46,
    "start_time": "2023-05-29T01:02:00.680Z"
   },
   {
    "duration": 146,
    "start_time": "2023-05-29T01:02:00.727Z"
   },
   {
    "duration": 0,
    "start_time": "2023-05-29T01:02:00.879Z"
   },
   {
    "duration": 0,
    "start_time": "2023-05-29T01:02:00.880Z"
   },
   {
    "duration": 0,
    "start_time": "2023-05-29T01:02:00.882Z"
   },
   {
    "duration": 0,
    "start_time": "2023-05-29T01:02:00.883Z"
   },
   {
    "duration": 0,
    "start_time": "2023-05-29T01:02:00.885Z"
   },
   {
    "duration": 0,
    "start_time": "2023-05-29T01:02:00.886Z"
   },
   {
    "duration": 0,
    "start_time": "2023-05-29T01:02:00.887Z"
   },
   {
    "duration": 1,
    "start_time": "2023-05-29T01:02:00.887Z"
   },
   {
    "duration": 0,
    "start_time": "2023-05-29T01:02:00.888Z"
   },
   {
    "duration": 0,
    "start_time": "2023-05-29T01:02:00.889Z"
   },
   {
    "duration": 0,
    "start_time": "2023-05-29T01:02:00.891Z"
   },
   {
    "duration": 0,
    "start_time": "2023-05-29T01:02:00.892Z"
   },
   {
    "duration": 0,
    "start_time": "2023-05-29T01:02:00.893Z"
   },
   {
    "duration": 0,
    "start_time": "2023-05-29T01:02:00.894Z"
   },
   {
    "duration": 0,
    "start_time": "2023-05-29T01:02:00.895Z"
   },
   {
    "duration": 0,
    "start_time": "2023-05-29T01:02:00.896Z"
   },
   {
    "duration": 0,
    "start_time": "2023-05-29T01:02:00.897Z"
   },
   {
    "duration": 0,
    "start_time": "2023-05-29T01:02:00.899Z"
   },
   {
    "duration": 0,
    "start_time": "2023-05-29T01:02:00.900Z"
   },
   {
    "duration": 0,
    "start_time": "2023-05-29T01:02:00.902Z"
   },
   {
    "duration": 0,
    "start_time": "2023-05-29T01:02:00.903Z"
   },
   {
    "duration": 0,
    "start_time": "2023-05-29T01:02:00.904Z"
   },
   {
    "duration": 0,
    "start_time": "2023-05-29T01:02:00.906Z"
   },
   {
    "duration": 0,
    "start_time": "2023-05-29T01:02:00.907Z"
   },
   {
    "duration": 0,
    "start_time": "2023-05-29T01:02:00.909Z"
   },
   {
    "duration": 0,
    "start_time": "2023-05-29T01:02:00.910Z"
   },
   {
    "duration": 0,
    "start_time": "2023-05-29T01:02:00.911Z"
   },
   {
    "duration": 0,
    "start_time": "2023-05-29T01:02:00.912Z"
   },
   {
    "duration": 0,
    "start_time": "2023-05-29T01:02:00.912Z"
   },
   {
    "duration": 0,
    "start_time": "2023-05-29T01:02:00.913Z"
   },
   {
    "duration": 0,
    "start_time": "2023-05-29T01:02:00.914Z"
   },
   {
    "duration": 0,
    "start_time": "2023-05-29T01:02:00.915Z"
   },
   {
    "duration": 0,
    "start_time": "2023-05-29T01:02:00.916Z"
   },
   {
    "duration": 0,
    "start_time": "2023-05-29T01:02:00.917Z"
   },
   {
    "duration": 0,
    "start_time": "2023-05-29T01:02:00.918Z"
   },
   {
    "duration": 0,
    "start_time": "2023-05-29T01:02:00.918Z"
   },
   {
    "duration": 0,
    "start_time": "2023-05-29T01:02:00.919Z"
   },
   {
    "duration": 0,
    "start_time": "2023-05-29T01:02:00.919Z"
   },
   {
    "duration": 0,
    "start_time": "2023-05-29T01:02:00.920Z"
   },
   {
    "duration": 0,
    "start_time": "2023-05-29T01:02:00.920Z"
   },
   {
    "duration": 0,
    "start_time": "2023-05-29T01:02:00.921Z"
   },
   {
    "duration": 0,
    "start_time": "2023-05-29T01:02:00.975Z"
   },
   {
    "duration": 0,
    "start_time": "2023-05-29T01:02:00.977Z"
   },
   {
    "duration": 0,
    "start_time": "2023-05-29T01:02:00.978Z"
   },
   {
    "duration": 0,
    "start_time": "2023-05-29T01:02:00.980Z"
   },
   {
    "duration": 0,
    "start_time": "2023-05-29T01:02:00.982Z"
   },
   {
    "duration": 0,
    "start_time": "2023-05-29T01:02:00.983Z"
   },
   {
    "duration": 0,
    "start_time": "2023-05-29T01:02:00.985Z"
   },
   {
    "duration": 0,
    "start_time": "2023-05-29T01:02:00.987Z"
   },
   {
    "duration": 0,
    "start_time": "2023-05-29T01:02:00.988Z"
   },
   {
    "duration": 0,
    "start_time": "2023-05-29T01:02:00.990Z"
   },
   {
    "duration": 0,
    "start_time": "2023-05-29T01:02:00.990Z"
   },
   {
    "duration": 0,
    "start_time": "2023-05-29T01:02:00.992Z"
   },
   {
    "duration": 0,
    "start_time": "2023-05-29T01:02:00.993Z"
   },
   {
    "duration": 0,
    "start_time": "2023-05-29T01:02:00.995Z"
   },
   {
    "duration": 0,
    "start_time": "2023-05-29T01:02:00.996Z"
   },
   {
    "duration": 0,
    "start_time": "2023-05-29T01:02:00.998Z"
   },
   {
    "duration": 0,
    "start_time": "2023-05-29T01:02:01.003Z"
   },
   {
    "duration": 1580,
    "start_time": "2023-05-29T01:02:20.488Z"
   },
   {
    "duration": 107,
    "start_time": "2023-05-29T01:02:22.070Z"
   },
   {
    "duration": 15,
    "start_time": "2023-05-29T01:02:22.179Z"
   },
   {
    "duration": 12,
    "start_time": "2023-05-29T01:02:22.197Z"
   },
   {
    "duration": 14,
    "start_time": "2023-05-29T01:02:22.210Z"
   },
   {
    "duration": 17,
    "start_time": "2023-05-29T01:02:22.226Z"
   },
   {
    "duration": 32,
    "start_time": "2023-05-29T01:02:22.244Z"
   },
   {
    "duration": 13,
    "start_time": "2023-05-29T01:02:22.279Z"
   },
   {
    "duration": 16,
    "start_time": "2023-05-29T01:02:22.294Z"
   },
   {
    "duration": 10,
    "start_time": "2023-05-29T01:02:22.314Z"
   },
   {
    "duration": 18,
    "start_time": "2023-05-29T01:02:22.326Z"
   },
   {
    "duration": 80,
    "start_time": "2023-05-29T01:02:22.346Z"
   },
   {
    "duration": 17,
    "start_time": "2023-05-29T01:02:22.427Z"
   },
   {
    "duration": 3,
    "start_time": "2023-05-29T01:02:22.445Z"
   },
   {
    "duration": 34,
    "start_time": "2023-05-29T01:02:22.450Z"
   },
   {
    "duration": 6,
    "start_time": "2023-05-29T01:02:22.486Z"
   },
   {
    "duration": 16,
    "start_time": "2023-05-29T01:02:22.494Z"
   },
   {
    "duration": 29,
    "start_time": "2023-05-29T01:02:22.512Z"
   },
   {
    "duration": 16,
    "start_time": "2023-05-29T01:02:22.543Z"
   },
   {
    "duration": 25,
    "start_time": "2023-05-29T01:02:22.575Z"
   },
   {
    "duration": 10,
    "start_time": "2023-05-29T01:02:22.602Z"
   },
   {
    "duration": 494,
    "start_time": "2023-05-29T01:02:22.613Z"
   },
   {
    "duration": 487,
    "start_time": "2023-05-29T01:02:23.109Z"
   },
   {
    "duration": 22447,
    "start_time": "2023-05-29T01:02:23.599Z"
   },
   {
    "duration": 21870,
    "start_time": "2023-05-29T01:02:46.048Z"
   },
   {
    "duration": 5911,
    "start_time": "2023-05-29T01:03:07.920Z"
   },
   {
    "duration": 5683,
    "start_time": "2023-05-29T01:03:13.833Z"
   },
   {
    "duration": 79,
    "start_time": "2023-05-29T01:03:19.520Z"
   },
   {
    "duration": 86,
    "start_time": "2023-05-29T01:03:19.601Z"
   },
   {
    "duration": 2294,
    "start_time": "2023-05-29T01:03:19.700Z"
   },
   {
    "duration": 6609,
    "start_time": "2023-05-29T01:03:22.076Z"
   },
   {
    "duration": 95,
    "start_time": "2023-05-29T01:03:28.699Z"
   },
   {
    "duration": 12013,
    "start_time": "2023-05-29T01:03:28.876Z"
   },
   {
    "duration": 18384,
    "start_time": "2023-05-29T01:03:40.892Z"
   },
   {
    "duration": 1904,
    "start_time": "2023-05-29T01:03:59.280Z"
   },
   {
    "duration": 31799,
    "start_time": "2023-05-29T01:04:01.186Z"
   },
   {
    "duration": 32781,
    "start_time": "2023-05-29T01:04:32.987Z"
   },
   {
    "duration": 8566,
    "start_time": "2023-05-29T01:05:05.769Z"
   },
   {
    "duration": 8541,
    "start_time": "2023-05-29T01:05:14.337Z"
   },
   {
    "duration": 647,
    "start_time": "2023-05-29T01:05:22.880Z"
   },
   {
    "duration": 744,
    "start_time": "2023-05-29T01:05:23.529Z"
   },
   {
    "duration": 105,
    "start_time": "2023-05-29T01:05:24.275Z"
   },
   {
    "duration": 137,
    "start_time": "2023-05-29T01:05:24.382Z"
   },
   {
    "duration": 15,
    "start_time": "2023-05-29T01:05:24.521Z"
   },
   {
    "duration": 4840,
    "start_time": "2023-05-29T01:05:24.538Z"
   },
   {
    "duration": 9212,
    "start_time": "2023-05-29T01:05:29.381Z"
   },
   {
    "duration": 9871,
    "start_time": "2023-05-29T01:05:38.676Z"
   },
   {
    "duration": 8933,
    "start_time": "2023-05-29T01:05:48.548Z"
   },
   {
    "duration": 2404,
    "start_time": "2023-05-29T01:05:57.483Z"
   },
   {
    "duration": 2385,
    "start_time": "2023-05-29T01:05:59.890Z"
   },
   {
    "duration": 264,
    "start_time": "2023-05-29T01:06:02.277Z"
   },
   {
    "duration": 254,
    "start_time": "2023-05-29T01:06:02.543Z"
   },
   {
    "duration": 41,
    "start_time": "2023-05-29T01:06:02.799Z"
   },
   {
    "duration": 60,
    "start_time": "2023-05-29T01:06:02.842Z"
   },
   {
    "duration": 1218,
    "start_time": "2023-05-29T01:06:02.905Z"
   },
   {
    "duration": 880,
    "start_time": "2023-05-29T01:06:04.125Z"
   },
   {
    "duration": 1051,
    "start_time": "2023-05-29T01:06:05.008Z"
   },
   {
    "duration": 1032,
    "start_time": "2023-05-29T01:06:06.062Z"
   },
   {
    "duration": 1521,
    "start_time": "2023-05-29T01:06:07.095Z"
   },
   {
    "duration": 1481,
    "start_time": "2023-05-29T01:06:08.618Z"
   },
   {
    "duration": 1217,
    "start_time": "2023-05-29T01:06:10.102Z"
   },
   {
    "duration": 671,
    "start_time": "2023-05-29T01:06:11.321Z"
   },
   {
    "duration": 1151,
    "start_time": "2023-05-29T01:06:11.994Z"
   },
   {
    "duration": 759,
    "start_time": "2023-05-29T01:06:13.146Z"
   },
   {
    "duration": 369,
    "start_time": "2023-05-29T01:06:13.908Z"
   },
   {
    "duration": 230,
    "start_time": "2023-05-29T01:06:14.279Z"
   },
   {
    "duration": 1347,
    "start_time": "2023-05-29T01:06:14.511Z"
   },
   {
    "duration": 1254,
    "start_time": "2023-05-29T01:06:15.859Z"
   },
   {
    "duration": 160,
    "start_time": "2023-05-29T01:06:17.115Z"
   },
   {
    "duration": 7,
    "start_time": "2023-05-29T01:06:17.277Z"
   }
  ],
  "kernelspec": {
   "display_name": "Python 3 (ipykernel)",
   "language": "python",
   "name": "python3"
  },
  "language_info": {
   "codemirror_mode": {
    "name": "ipython",
    "version": 3
   },
   "file_extension": ".py",
   "mimetype": "text/x-python",
   "name": "python",
   "nbconvert_exporter": "python",
   "pygments_lexer": "ipython3",
   "version": "3.9.16"
  },
  "toc": {
   "base_numbering": 1,
   "nav_menu": {},
   "number_sections": true,
   "sideBar": true,
   "skip_h1_title": true,
   "title_cell": "Содержание",
   "title_sidebar": "Contents",
   "toc_cell": true,
   "toc_position": {},
   "toc_section_display": true,
   "toc_window_display": true
  }
 },
 "nbformat": 4,
 "nbformat_minor": 2
}
