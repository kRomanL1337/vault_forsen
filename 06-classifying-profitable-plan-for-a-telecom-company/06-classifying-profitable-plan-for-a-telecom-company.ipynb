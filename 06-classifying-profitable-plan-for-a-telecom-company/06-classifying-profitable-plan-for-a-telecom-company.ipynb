{
 "cells": [
  {
   "cell_type": "markdown",
   "metadata": {},
   "source": [
    "# Рекомендация тарифов"
   ]
  },
  {
   "cell_type": "markdown",
   "metadata": {},
   "source": [
    "В вашем распоряжении данные о поведении клиентов, которые уже перешли на эти тарифы (из проекта курса «Статистический анализ данных»). Нужно построить модель для задачи классификации, которая выберет подходящий тариф. Предобработка данных не понадобится — вы её уже сделали.\n",
    "\n",
    "Постройте модель с максимально большим значением *accuracy*. Чтобы сдать проект успешно, нужно довести долю правильных ответов по крайней мере до 0.75. Проверьте *accuracy* на тестовой выборке самостоятельно."
   ]
  },
  {
   "cell_type": "markdown",
   "metadata": {},
   "source": [
    "**Описание данных** \n",
    "В нашем распоряжении данные о поведении клиентов, которые перешли на тарифы 'smart' и 'ultra'. Данные включают себя кол-во звонков, их продолжительность, кол-во смс, кол-во мегабайт использованного интернета в месяц для каждого пользователя и подключенный тариф."
   ]
  },
  {
   "cell_type": "markdown",
   "metadata": {},
   "source": [
    "**План работы**\n",
    "* Открыть файл с данными и изучить его;\n",
    "* Разделить исходные данные на обучающую, валидационную и тестовую выборки;\n",
    "* Исследовать качество разных моделей, меняя гиперпараметры. Кратко написать выводы исследования;\n",
    "* Проверить качество модели на тестовой выборке; \n",
    "* Проверить модель на вменяемость;"
   ]
  },
  {
   "cell_type": "markdown",
   "metadata": {},
   "source": [
    "## Откроем и изучим файл"
   ]
  },
  {
   "cell_type": "code",
   "execution_count": 1,
   "metadata": {},
   "outputs": [],
   "source": [
    "import pandas as pd\n",
    "from sklearn.model_selection import train_test_split\n",
    "from sklearn.ensemble import RandomForestClassifier\n",
    "from sklearn.tree import DecisionTreeClassifier\n",
    "from sklearn.linear_model import LogisticRegression \n",
    "from sklearn.metrics import accuracy_score\n",
    "from sklearn.dummy import DummyClassifier\n",
    "from sklearn.metrics import plot_confusion_matrix"
   ]
  },
  {
   "cell_type": "code",
   "execution_count": 18,
   "metadata": {},
   "outputs": [
    {
     "name": "stdout",
     "output_type": "stream",
     "text": [
      "<class 'pandas.core.frame.DataFrame'>\n",
      "RangeIndex: 3214 entries, 0 to 3213\n",
      "Data columns (total 5 columns):\n",
      " #   Column    Non-Null Count  Dtype  \n",
      "---  ------    --------------  -----  \n",
      " 0   calls     3214 non-null   float64\n",
      " 1   minutes   3214 non-null   float64\n",
      " 2   messages  3214 non-null   float64\n",
      " 3   mb_used   3214 non-null   float64\n",
      " 4   is_ultra  3214 non-null   int64  \n",
      "dtypes: float64(4), int64(1)\n",
      "memory usage: 125.7 KB\n"
     ]
    },
    {
     "data": {
      "text/html": [
       "<div>\n",
       "<style scoped>\n",
       "    .dataframe tbody tr th:only-of-type {\n",
       "        vertical-align: middle;\n",
       "    }\n",
       "\n",
       "    .dataframe tbody tr th {\n",
       "        vertical-align: top;\n",
       "    }\n",
       "\n",
       "    .dataframe thead th {\n",
       "        text-align: right;\n",
       "    }\n",
       "</style>\n",
       "<table border=\"1\" class=\"dataframe\">\n",
       "  <thead>\n",
       "    <tr style=\"text-align: right;\">\n",
       "      <th></th>\n",
       "      <th>calls</th>\n",
       "      <th>minutes</th>\n",
       "      <th>messages</th>\n",
       "      <th>mb_used</th>\n",
       "      <th>is_ultra</th>\n",
       "    </tr>\n",
       "  </thead>\n",
       "  <tbody>\n",
       "    <tr>\n",
       "      <th>0</th>\n",
       "      <td>40.0</td>\n",
       "      <td>311.90</td>\n",
       "      <td>83.0</td>\n",
       "      <td>19915.42</td>\n",
       "      <td>0</td>\n",
       "    </tr>\n",
       "    <tr>\n",
       "      <th>1</th>\n",
       "      <td>85.0</td>\n",
       "      <td>516.75</td>\n",
       "      <td>56.0</td>\n",
       "      <td>22696.96</td>\n",
       "      <td>0</td>\n",
       "    </tr>\n",
       "    <tr>\n",
       "      <th>2</th>\n",
       "      <td>77.0</td>\n",
       "      <td>467.66</td>\n",
       "      <td>86.0</td>\n",
       "      <td>21060.45</td>\n",
       "      <td>0</td>\n",
       "    </tr>\n",
       "    <tr>\n",
       "      <th>3</th>\n",
       "      <td>106.0</td>\n",
       "      <td>745.53</td>\n",
       "      <td>81.0</td>\n",
       "      <td>8437.39</td>\n",
       "      <td>1</td>\n",
       "    </tr>\n",
       "    <tr>\n",
       "      <th>4</th>\n",
       "      <td>66.0</td>\n",
       "      <td>418.74</td>\n",
       "      <td>1.0</td>\n",
       "      <td>14502.75</td>\n",
       "      <td>0</td>\n",
       "    </tr>\n",
       "    <tr>\n",
       "      <th>...</th>\n",
       "      <td>...</td>\n",
       "      <td>...</td>\n",
       "      <td>...</td>\n",
       "      <td>...</td>\n",
       "      <td>...</td>\n",
       "    </tr>\n",
       "    <tr>\n",
       "      <th>3209</th>\n",
       "      <td>122.0</td>\n",
       "      <td>910.98</td>\n",
       "      <td>20.0</td>\n",
       "      <td>35124.90</td>\n",
       "      <td>1</td>\n",
       "    </tr>\n",
       "    <tr>\n",
       "      <th>3210</th>\n",
       "      <td>25.0</td>\n",
       "      <td>190.36</td>\n",
       "      <td>0.0</td>\n",
       "      <td>3275.61</td>\n",
       "      <td>0</td>\n",
       "    </tr>\n",
       "    <tr>\n",
       "      <th>3211</th>\n",
       "      <td>97.0</td>\n",
       "      <td>634.44</td>\n",
       "      <td>70.0</td>\n",
       "      <td>13974.06</td>\n",
       "      <td>0</td>\n",
       "    </tr>\n",
       "    <tr>\n",
       "      <th>3212</th>\n",
       "      <td>64.0</td>\n",
       "      <td>462.32</td>\n",
       "      <td>90.0</td>\n",
       "      <td>31239.78</td>\n",
       "      <td>0</td>\n",
       "    </tr>\n",
       "    <tr>\n",
       "      <th>3213</th>\n",
       "      <td>80.0</td>\n",
       "      <td>566.09</td>\n",
       "      <td>6.0</td>\n",
       "      <td>29480.52</td>\n",
       "      <td>1</td>\n",
       "    </tr>\n",
       "  </tbody>\n",
       "</table>\n",
       "<p>3214 rows × 5 columns</p>\n",
       "</div>"
      ],
      "text/plain": [
       "      calls  minutes  messages   mb_used  is_ultra\n",
       "0      40.0   311.90      83.0  19915.42         0\n",
       "1      85.0   516.75      56.0  22696.96         0\n",
       "2      77.0   467.66      86.0  21060.45         0\n",
       "3     106.0   745.53      81.0   8437.39         1\n",
       "4      66.0   418.74       1.0  14502.75         0\n",
       "...     ...      ...       ...       ...       ...\n",
       "3209  122.0   910.98      20.0  35124.90         1\n",
       "3210   25.0   190.36       0.0   3275.61         0\n",
       "3211   97.0   634.44      70.0  13974.06         0\n",
       "3212   64.0   462.32      90.0  31239.78         0\n",
       "3213   80.0   566.09       6.0  29480.52         1\n",
       "\n",
       "[3214 rows x 5 columns]"
      ]
     },
     "metadata": {},
     "output_type": "display_data"
    }
   ],
   "source": [
    "try:\n",
    "    forsen = pd.read_csv('C:/Users/Games/Downloads/users_behavior.csv')\n",
    "except:\n",
    "    forsen = pd.read_csv('/datasets/users_behavior.csv')\n",
    "\n",
    "forsen.info()\n",
    "display(forsen)"
   ]
  },
  {
   "cell_type": "markdown",
   "metadata": {},
   "source": [
    "В датасете 3214 строк, 5 столбцов с данными для каждого пользователя:\n",
    "* кол-во звонков\n",
    "* минуты совершённых звонков\n",
    "* кол-во отправленных сообщений\n",
    "* кол-во МБ использованного интернета\n",
    "* тариф "
   ]
  },
  {
   "cell_type": "markdown",
   "metadata": {},
   "source": [
    "## Разделим данные на выборки"
   ]
  },
  {
   "cell_type": "code",
   "execution_count": 3,
   "metadata": {},
   "outputs": [],
   "source": [
    "forsen_train, forsen_other = train_test_split(forsen, test_size=0.4, random_state=777)\n",
    "forsen_valid, forsen_test = train_test_split(forsen_other, test_size=0.5, random_state=777)\n",
    "\n",
    "features_train = forsen_train.drop(['is_ultra'], axis=1) \n",
    "target_train = forsen_train['is_ultra']\n",
    "\n",
    "features_valid = forsen_valid.drop(['is_ultra'], axis=1)\n",
    "target_valid = forsen_valid['is_ultra']\n",
    "\n",
    "features_test = forsen_test.drop(['is_ultra'], axis=1)\n",
    "target_test = forsen_test['is_ultra']"
   ]
  },
  {
   "cell_type": "markdown",
   "metadata": {},
   "source": [
    "Выше мы разделили все данные на три выборки - тренировочную, валидационную и тестовую в соотношении 3:1:1."
   ]
  },
  {
   "cell_type": "code",
   "execution_count": 4,
   "metadata": {},
   "outputs": [],
   "source": [
    "RANDOM_STATE=1234"
   ]
  },
  {
   "cell_type": "markdown",
   "metadata": {},
   "source": [
    "## Исследуйте модели"
   ]
  },
  {
   "cell_type": "markdown",
   "metadata": {},
   "source": [
    "Исследуем три модели на тренировочной и валидационной выборках и проверим их качество, меняя гиперпараметры:"
   ]
  },
  {
   "cell_type": "markdown",
   "metadata": {},
   "source": [
    "Начнем с самой точной модели - модели случайного леса. Будем менять кол-во деревьев и шаги."
   ]
  },
  {
   "cell_type": "markdown",
   "metadata": {},
   "source": [
    "Для этого напишем циклы и укажем разное кол-во деревьев для исследования."
   ]
  },
  {
   "cell_type": "code",
   "execution_count": 5,
   "metadata": {},
   "outputs": [
    {
     "name": "stdout",
     "output_type": "stream",
     "text": [
      "Accuracy наилучшей модели на валидационной выборке: 0.7978227060653188 наилучшее кол-во деревьев: 10\n"
     ]
    }
   ],
   "source": [
    "best_model = None\n",
    "best_result = 0\n",
    "best_est = 0\n",
    "for est in range(1, 11, 1):\n",
    "    model = RandomForestClassifier(random_state=RANDOM_STATE, n_estimators=est) \n",
    "    model.fit(features_train, target_train) \n",
    "    result = model.score(features_valid, target_valid) \n",
    "    if result > best_result:\n",
    "        best_model = model\n",
    "        best_result = result\n",
    "        best_est = est\n",
    "\n",
    "print(\"Accuracy наилучшей модели на валидационной выборке:\", best_result, \"наилучшее кол-во деревьев:\", best_est)"
   ]
  },
  {
   "cell_type": "code",
   "execution_count": 6,
   "metadata": {
    "scrolled": true
   },
   "outputs": [
    {
     "name": "stdout",
     "output_type": "stream",
     "text": [
      "Accuracy наилучшей модели на валидационной выборке: 0.7869362363919129 наилучшее кол-во деревьев: 200\n"
     ]
    }
   ],
   "source": [
    "best_model = None\n",
    "best_result = 0\n",
    "best_est = 0\n",
    "for est in range(100, 201, 50):\n",
    "    model = RandomForestClassifier(random_state=RANDOM_STATE, n_estimators=est) \n",
    "    model.fit(features_train, target_train) \n",
    "    result = model.score(features_valid, target_valid) \n",
    "    if result > best_result:\n",
    "        best_model = model\n",
    "        best_result = result\n",
    "        best_est = est\n",
    "\n",
    "print(\"Accuracy наилучшей модели на валидационной выборке:\", best_result, \"наилучшее кол-во деревьев:\", best_est)"
   ]
  },
  {
   "cell_type": "code",
   "execution_count": 7,
   "metadata": {},
   "outputs": [
    {
     "name": "stdout",
     "output_type": "stream",
     "text": [
      "Accuracy наилучшей модели на валидационной выборке: 0.7884914463452566 наилучшее кол-во деревьев: 70\n"
     ]
    }
   ],
   "source": [
    "best_model = None\n",
    "best_result = 0\n",
    "best_est = 0\n",
    "for est in range(50, 101, 10):\n",
    "    model = RandomForestClassifier(random_state=RANDOM_STATE, n_estimators=est) \n",
    "    model.fit(features_train, target_train) \n",
    "    result = model.score(features_valid, target_valid) \n",
    "    if result > best_result:\n",
    "        best_model = model\n",
    "        best_result = result\n",
    "        best_est = est\n",
    "\n",
    "print(\"Accuracy наилучшей модели на валидационной выборке:\", best_result, \"наилучшее кол-во деревьев:\", best_est)"
   ]
  },
  {
   "cell_type": "markdown",
   "metadata": {},
   "source": [
    "Самая качественная модель получилась при кол-ве деревьев равному 10. Accuracy наилучшей модели на валидационной выборке: 0.7978."
   ]
  },
  {
   "cell_type": "markdown",
   "metadata": {},
   "source": [
    "Далее исследуем модель решающего дерева. Будем менять гиперпараметр максимальной глубины от 1 до 5."
   ]
  },
  {
   "cell_type": "code",
   "execution_count": 8,
   "metadata": {},
   "outputs": [
    {
     "name": "stdout",
     "output_type": "stream",
     "text": [
      "Наиболее подходящая глубина дерева = 3 , Качество модели: 0.7698289269051322\n"
     ]
    }
   ],
   "source": [
    "best_model = None\n",
    "best_depth = 0\n",
    "best_result = 0\n",
    "for depth in range(1,6):\n",
    "    model= DecisionTreeClassifier(random_state=RANDOM_STATE, max_depth=depth)\n",
    "    model.fit(features_train, target_train)\n",
    "    valid_predictions = model.predict(features_valid)\n",
    "    result = model.score(features_valid, target_valid)\n",
    "    if result > best_result:\n",
    "        best_model = model\n",
    "        best_result = result\n",
    "        best_depth = depth\n",
    "        \n",
    "print('Наиболее подходящая глубина дерева =', best_depth, ', Качество модели:', best_result)"
   ]
  },
  {
   "cell_type": "markdown",
   "metadata": {},
   "source": [
    "Самая подходящая максимальная глубина с наивысшей точностью - 3. Качество такой модели - 0.7698. \\\n",
    "Качество модели решающего дерева ожидаемо оказалось ниже, чем у модели случайного леса."
   ]
  },
  {
   "cell_type": "markdown",
   "metadata": {},
   "source": [
    "Теперь исследуем качество модели логистической регрессии. Будем менять гиперпараметр максимальной итерации."
   ]
  },
  {
   "cell_type": "code",
   "execution_count": 9,
   "metadata": {},
   "outputs": [
    {
     "name": "stdout",
     "output_type": "stream",
     "text": [
      "Наиболее подходящее кол-во итераций: 100 , Качество модели: 0.7262830482115086\n"
     ]
    }
   ],
   "source": [
    "best_model = None\n",
    "best_max_iter = 0\n",
    "best_result = 0\n",
    "for iter in [100, 250, 500, 750, 1000]:\n",
    "    model = LogisticRegression(random_state=RANDOM_STATE, solver='lbfgs', max_iter=iter)\n",
    "    model.fit(features_train, target_train)\n",
    "    result = model.score(features_valid, target_valid)\n",
    "    if result > best_result:\n",
    "        best_model = model\n",
    "        best_result = result\n",
    "        best_max_iter = iter\n",
    "\n",
    "print('Наиболее подходящее кол-во итераций:', best_max_iter, ', Качество модели:', best_result)"
   ]
  },
  {
   "cell_type": "markdown",
   "metadata": {},
   "source": [
    "Как видим, точность модели не изменялась при различных трешхолдах макс. итераций - 0.7263 при всех пяти экспериментах. \\\n",
    "Качество модели оказалось самым низким из трёх."
   ]
  },
  {
   "cell_type": "markdown",
   "metadata": {},
   "source": [
    "Подведём итоги исследования различных моделей и оценки их качества. \\ \n",
    "Самой точной, как и ожидалось, оказалась модель случайного леса с кол-м деревьев равному 10. Accuracy на валидационной выборке: 0.7978.  \n",
    "\n",
    "На втором месте - модель решающего дерева со значением гиперпараметра максимальной глубины 3. Accuracy на валидационной выборке: 0.7698.  \n",
    "\n",
    "Замыкает тройку модель логистической регрессии, точность которой не менялась от изменения гиперпараметра максимального кол-ва итераций: 0.7263 при всех пяти экспериментах."
   ]
  },
  {
   "cell_type": "markdown",
   "metadata": {},
   "source": [
    "## Проверьте модель на тестовой выборке"
   ]
  },
  {
   "cell_type": "markdown",
   "metadata": {},
   "source": [
    "Возьмём самую точную модель с подходящими гиперпараметрами из исследования для проверки на тестовой выборке. \\\n",
    "Модель случайного леса с кол-м деревьев равному десяти. Проверим её на тестовой выборке."
   ]
  },
  {
   "cell_type": "code",
   "execution_count": 10,
   "metadata": {},
   "outputs": [
    {
     "name": "stdout",
     "output_type": "stream",
     "text": [
      "Качество модели на валидационной выборке: 0.7978227060653188\n",
      "\n",
      "Качество модели на тестовой выборке: 0.7807153965785381\n"
     ]
    }
   ],
   "source": [
    "model = RandomForestClassifier(random_state=RANDOM_STATE, n_estimators=10) \n",
    "model.fit(features_train, target_train)\n",
    "\n",
    "predictions_test = model.predict(features_test)\n",
    "accuracy_test = accuracy_score(target_test, predictions_test)\n",
    "result = model.score(features_valid, target_valid) \n",
    "print('Качество модели на валидационной выборке:', result)\n",
    "print()\n",
    "print('Качество модели на тестовой выборке:', accuracy_test)"
   ]
  },
  {
   "cell_type": "markdown",
   "metadata": {},
   "source": [
    "Как видим, качество модели на тестовой выборке несколько ниже, чем на валидационной, однако значимого переобучения не обнаружено, точность ниже лишь на ~0.0171"
   ]
  },
  {
   "cell_type": "markdown",
   "metadata": {},
   "source": [
    "## (бонус) Проверьте модели на адекватность"
   ]
  },
  {
   "cell_type": "markdown",
   "metadata": {},
   "source": [
    "Попробуем проверить нашу модель на адекватность (sanity check), используя DummyClassifier:"
   ]
  },
  {
   "cell_type": "code",
   "execution_count": 11,
   "metadata": {},
   "outputs": [
    {
     "name": "stdout",
     "output_type": "stream",
     "text": [
      "0.6702954898911353\n"
     ]
    }
   ],
   "source": [
    "dummy_clf = DummyClassifier(random_state=RANDOM_STATE)\n",
    "dummy_clf.fit(features_train, target_train)\n",
    "dummy_predictions = dummy_clf.predict(features_test)\n",
    "accuracy_sane = accuracy_score(target_test, dummy_predictions)\n",
    "print(accuracy_sane)\n"
   ]
  },
  {
   "cell_type": "code",
   "execution_count": 12,
   "metadata": {},
   "outputs": [
    {
     "name": "stdout",
     "output_type": "stream",
     "text": [
      "0.6702954898911353\n"
     ]
    }
   ],
   "source": [
    "dummy_clf = DummyClassifier(random_state=RANDOM_STATE, strategy='most_frequent')\n",
    "dummy_clf.fit(features_train, target_train)\n",
    "dummy_predictions = dummy_clf.predict(features_test)\n",
    "accuracy_sane = accuracy_score(target_test, dummy_predictions)\n",
    "print(accuracy_sane)\n"
   ]
  },
  {
   "cell_type": "markdown",
   "metadata": {},
   "source": [
    "### Общий вывод"
   ]
  },
  {
   "cell_type": "markdown",
   "metadata": {},
   "source": [
    "**Общий вывод исследования**  \n",
    "Проведя исследование, мы выяснили, что:  \n",
    "* самой качественной моделью из трёх (случайный лес, решающее дерево, логистическая регрессия) в нашем случае оказалась модель случайного леса со значением гиперпараметра кол-во деревьев - 10. Accuracy модели на валидационной выборке: 0.7978.\n",
    "* при проверке данной модели на тестовой выборке она показала качество чуть ниже, чем на валидационной - 0.7807 и 0.7978 соответственно. Значимого переобучения не обнаружено, точность ниже лишь на ~0.0171.\n",
    "* также мы проверили модель на вменяемость, качество модели оказалось выше, чем качество, полученное при sanity check с помощью DummyClassifier (0.7807 и 0.6703 соответственно)"
   ]
  }
 ],
 "metadata": {
  "ExecuteTimeLog": [
   {
    "duration": 62,
    "start_time": "2023-05-22T18:35:46.107Z"
   },
   {
    "duration": 1108,
    "start_time": "2023-05-22T18:35:54.080Z"
   },
   {
    "duration": 185,
    "start_time": "2023-05-22T18:35:55.190Z"
   },
   {
    "duration": 9,
    "start_time": "2023-05-22T18:35:55.376Z"
   },
   {
    "duration": 7,
    "start_time": "2023-05-22T18:35:55.388Z"
   },
   {
    "duration": 312,
    "start_time": "2023-05-22T18:35:55.396Z"
   },
   {
    "duration": 1950,
    "start_time": "2023-05-22T18:35:55.709Z"
   },
   {
    "duration": 1946,
    "start_time": "2023-05-22T18:35:57.661Z"
   },
   {
    "duration": 51,
    "start_time": "2023-05-22T18:35:59.609Z"
   },
   {
    "duration": 147,
    "start_time": "2023-05-22T18:35:59.662Z"
   },
   {
    "duration": 70,
    "start_time": "2023-05-22T18:35:59.811Z"
   },
   {
    "duration": 5,
    "start_time": "2023-05-22T18:35:59.883Z"
   },
   {
    "duration": 10,
    "start_time": "2023-05-22T18:35:59.890Z"
   },
   {
    "duration": 74,
    "start_time": "2023-05-22T18:36:08.168Z"
   },
   {
    "duration": 72,
    "start_time": "2023-05-22T18:36:11.823Z"
   },
   {
    "duration": 180,
    "start_time": "2023-05-22T18:36:15.421Z"
   },
   {
    "duration": 77,
    "start_time": "2023-05-22T18:36:18.681Z"
   },
   {
    "duration": 71,
    "start_time": "2023-05-22T18:36:24.757Z"
   },
   {
    "duration": 72,
    "start_time": "2023-05-22T18:36:28.115Z"
   }
  ],
  "kernelspec": {
   "display_name": "Python 3 (ipykernel)",
   "language": "python",
   "name": "python3"
  },
  "language_info": {
   "codemirror_mode": {
    "name": "ipython",
    "version": 3
   },
   "file_extension": ".py",
   "mimetype": "text/x-python",
   "name": "python",
   "nbconvert_exporter": "python",
   "pygments_lexer": "ipython3",
   "version": "3.9.16"
  },
  "toc": {
   "base_numbering": 1,
   "nav_menu": {},
   "number_sections": true,
   "sideBar": true,
   "skip_h1_title": true,
   "title_cell": "Table of Contents",
   "title_sidebar": "Contents",
   "toc_cell": false,
   "toc_position": {},
   "toc_section_display": true,
   "toc_window_display": false
  }
 },
 "nbformat": 4,
 "nbformat_minor": 2
}
