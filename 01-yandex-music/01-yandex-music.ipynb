{
 "cells": [
  {
   "cell_type": "markdown",
   "metadata": {
    "deletable": false,
    "editable": false,
    "id": "E0vqbgi9ay0H"
   },
   "source": [
    "# Яндекс.Музыка"
   ]
  },
  {
   "cell_type": "markdown",
   "metadata": {
    "deletable": false,
    "editable": false,
    "id": "VUC88oWjTJw2"
   },
   "source": [
    "Сравнение Москвы и Петербурга окружено мифами. Например:\n",
    " * Москва — мегаполис, подчинённый жёсткому ритму рабочей недели;\n",
    " * Петербург — культурная столица, со своими вкусами.\n",
    "\n",
    "На данных Яндекс Музыки вы сравните поведение пользователей двух столиц.\n",
    "\n",
    "**Цель исследования** — проверьте три гипотезы:\n",
    "1. Активность пользователей зависит от дня недели. Причём в Москве и Петербурге это проявляется по-разному.\n",
    "2. В понедельник утром в Москве преобладают одни жанры, а в Петербурге — другие. Так же и вечером пятницы преобладают разные жанры — в зависимости от города. \n",
    "3. Москва и Петербург предпочитают разные жанры музыки. В Москве чаще слушают поп-музыку, в Петербурге — русский рэп.\n",
    "\n",
    "**Ход исследования**\n",
    "\n",
    "Данные о поведении пользователей вы получите из файла `yandex_music_project.csv`. О качестве данных ничего не известно. Поэтому перед проверкой гипотез понадобится обзор данных. \n",
    "\n",
    "Вы проверите данные на ошибки и оцените их влияние на исследование. Затем, на этапе предобработки вы поищете возможность исправить самые критичные ошибки данных.\n",
    " \n",
    "Таким образом, исследование пройдёт в три этапа:\n",
    " 1. Обзор данных.\n",
    " 2. Предобработка данных.\n",
    " 3. Проверка гипотез.\n",
    "\n"
   ]
  },
  {
   "cell_type": "markdown",
   "metadata": {
    "deletable": false,
    "editable": false,
    "id": "Ml1hmfXC_Zcs"
   },
   "source": [
    "## Обзор данных\n",
    "\n",
    "Составьте первое представление о данных Яндекс Музыки.\n",
    "\n",
    "\n"
   ]
  },
  {
   "cell_type": "markdown",
   "metadata": {
    "deletable": false,
    "editable": false,
    "id": "57eAOGIz_Zcs",
    "tags": [
     "start_task"
    ]
   },
   "source": [
    "**Задание 1**\n",
    "\n",
    "Основной инструмент аналитика — `pandas`. Импортируйте эту библиотеку."
   ]
  },
  {
   "cell_type": "code",
   "execution_count": 1,
   "metadata": {
    "deletable": false,
    "id": "AXN7PHPN_Zcs"
   },
   "outputs": [],
   "source": [
    "import pandas as pd "
   ]
  },
  {
   "cell_type": "markdown",
   "metadata": {
    "deletable": false,
    "editable": false,
    "id": "SG23P8tt_Zcs",
    "tags": [
     "start_task"
    ]
   },
   "source": [
    "**Задание 2**\n",
    "\n",
    "Прочитайте файл `yandex_music_project.csv` из папки `/datasets` и сохраните его в переменной `df`:"
   ]
  },
  {
   "cell_type": "code",
   "execution_count": 2,
   "metadata": {
    "deletable": false,
    "id": "fFVu7vqh_Zct"
   },
   "outputs": [],
   "source": [
    "try:\n",
    "    df = pd.read_csv('/datasets/yandex_music_project.csv')\n",
    "except:\n",
    "    df = pd.read_csv('C:/Users/Games/Downloads/yandex_music_project.csv')"
   ]
  },
  {
   "cell_type": "markdown",
   "metadata": {
    "deletable": false,
    "editable": false,
    "id": "rDoOMd3uTqnZ",
    "tags": [
     "start_task"
    ]
   },
   "source": [
    "**Задание 3**\n",
    "\n",
    "\n",
    "Выведите на экран первые десять строк таблицы:"
   ]
  },
  {
   "cell_type": "code",
   "execution_count": 3,
   "metadata": {
    "deletable": false,
    "id": "oWTVX3gW_Zct"
   },
   "outputs": [
    {
     "data": {
      "text/html": [
       "<div>\n",
       "<style scoped>\n",
       "    .dataframe tbody tr th:only-of-type {\n",
       "        vertical-align: middle;\n",
       "    }\n",
       "\n",
       "    .dataframe tbody tr th {\n",
       "        vertical-align: top;\n",
       "    }\n",
       "\n",
       "    .dataframe thead th {\n",
       "        text-align: right;\n",
       "    }\n",
       "</style>\n",
       "<table border=\"1\" class=\"dataframe\">\n",
       "  <thead>\n",
       "    <tr style=\"text-align: right;\">\n",
       "      <th></th>\n",
       "      <th>userID</th>\n",
       "      <th>Track</th>\n",
       "      <th>artist</th>\n",
       "      <th>genre</th>\n",
       "      <th>City</th>\n",
       "      <th>time</th>\n",
       "      <th>Day</th>\n",
       "    </tr>\n",
       "  </thead>\n",
       "  <tbody>\n",
       "    <tr>\n",
       "      <th>0</th>\n",
       "      <td>FFB692EC</td>\n",
       "      <td>Kamigata To Boots</td>\n",
       "      <td>The Mass Missile</td>\n",
       "      <td>rock</td>\n",
       "      <td>Saint-Petersburg</td>\n",
       "      <td>20:28:33</td>\n",
       "      <td>Wednesday</td>\n",
       "    </tr>\n",
       "    <tr>\n",
       "      <th>1</th>\n",
       "      <td>55204538</td>\n",
       "      <td>Delayed Because of Accident</td>\n",
       "      <td>Andreas Rönnberg</td>\n",
       "      <td>rock</td>\n",
       "      <td>Moscow</td>\n",
       "      <td>14:07:09</td>\n",
       "      <td>Friday</td>\n",
       "    </tr>\n",
       "    <tr>\n",
       "      <th>2</th>\n",
       "      <td>20EC38</td>\n",
       "      <td>Funiculì funiculà</td>\n",
       "      <td>Mario Lanza</td>\n",
       "      <td>pop</td>\n",
       "      <td>Saint-Petersburg</td>\n",
       "      <td>20:58:07</td>\n",
       "      <td>Wednesday</td>\n",
       "    </tr>\n",
       "    <tr>\n",
       "      <th>3</th>\n",
       "      <td>A3DD03C9</td>\n",
       "      <td>Dragons in the Sunset</td>\n",
       "      <td>Fire + Ice</td>\n",
       "      <td>folk</td>\n",
       "      <td>Saint-Petersburg</td>\n",
       "      <td>08:37:09</td>\n",
       "      <td>Monday</td>\n",
       "    </tr>\n",
       "    <tr>\n",
       "      <th>4</th>\n",
       "      <td>E2DC1FAE</td>\n",
       "      <td>Soul People</td>\n",
       "      <td>Space Echo</td>\n",
       "      <td>dance</td>\n",
       "      <td>Moscow</td>\n",
       "      <td>08:34:34</td>\n",
       "      <td>Monday</td>\n",
       "    </tr>\n",
       "    <tr>\n",
       "      <th>5</th>\n",
       "      <td>842029A1</td>\n",
       "      <td>Преданная</td>\n",
       "      <td>IMPERVTOR</td>\n",
       "      <td>rusrap</td>\n",
       "      <td>Saint-Petersburg</td>\n",
       "      <td>13:09:41</td>\n",
       "      <td>Friday</td>\n",
       "    </tr>\n",
       "    <tr>\n",
       "      <th>6</th>\n",
       "      <td>4CB90AA5</td>\n",
       "      <td>True</td>\n",
       "      <td>Roman Messer</td>\n",
       "      <td>dance</td>\n",
       "      <td>Moscow</td>\n",
       "      <td>13:00:07</td>\n",
       "      <td>Wednesday</td>\n",
       "    </tr>\n",
       "    <tr>\n",
       "      <th>7</th>\n",
       "      <td>F03E1C1F</td>\n",
       "      <td>Feeling This Way</td>\n",
       "      <td>Polina Griffith</td>\n",
       "      <td>dance</td>\n",
       "      <td>Moscow</td>\n",
       "      <td>20:47:49</td>\n",
       "      <td>Wednesday</td>\n",
       "    </tr>\n",
       "    <tr>\n",
       "      <th>8</th>\n",
       "      <td>8FA1D3BE</td>\n",
       "      <td>И вновь продолжается бой</td>\n",
       "      <td>NaN</td>\n",
       "      <td>ruspop</td>\n",
       "      <td>Moscow</td>\n",
       "      <td>09:17:40</td>\n",
       "      <td>Friday</td>\n",
       "    </tr>\n",
       "    <tr>\n",
       "      <th>9</th>\n",
       "      <td>E772D5C0</td>\n",
       "      <td>Pessimist</td>\n",
       "      <td>NaN</td>\n",
       "      <td>dance</td>\n",
       "      <td>Saint-Petersburg</td>\n",
       "      <td>21:20:49</td>\n",
       "      <td>Wednesday</td>\n",
       "    </tr>\n",
       "  </tbody>\n",
       "</table>\n",
       "</div>"
      ],
      "text/plain": [
       "     userID                        Track            artist   genre  \\\n",
       "0  FFB692EC            Kamigata To Boots  The Mass Missile    rock   \n",
       "1  55204538  Delayed Because of Accident  Andreas Rönnberg    rock   \n",
       "2    20EC38            Funiculì funiculà       Mario Lanza     pop   \n",
       "3  A3DD03C9        Dragons in the Sunset        Fire + Ice    folk   \n",
       "4  E2DC1FAE                  Soul People        Space Echo   dance   \n",
       "5  842029A1                    Преданная         IMPERVTOR  rusrap   \n",
       "6  4CB90AA5                         True      Roman Messer   dance   \n",
       "7  F03E1C1F             Feeling This Way   Polina Griffith   dance   \n",
       "8  8FA1D3BE     И вновь продолжается бой               NaN  ruspop   \n",
       "9  E772D5C0                    Pessimist               NaN   dance   \n",
       "\n",
       "             City        time        Day  \n",
       "0  Saint-Petersburg  20:28:33  Wednesday  \n",
       "1            Moscow  14:07:09     Friday  \n",
       "2  Saint-Petersburg  20:58:07  Wednesday  \n",
       "3  Saint-Petersburg  08:37:09     Monday  \n",
       "4            Moscow  08:34:34     Monday  \n",
       "5  Saint-Petersburg  13:09:41     Friday  \n",
       "6            Moscow  13:00:07  Wednesday  \n",
       "7            Moscow  20:47:49  Wednesday  \n",
       "8            Moscow  09:17:40     Friday  \n",
       "9  Saint-Petersburg  21:20:49  Wednesday  "
      ]
     },
     "metadata": {},
     "output_type": "display_data"
    }
   ],
   "source": [
    "display(df.head(10))"
   ]
  },
  {
   "cell_type": "markdown",
   "metadata": {
    "deletable": false,
    "editable": false,
    "id": "EO73Kwic_Zct",
    "tags": [
     "start_task"
    ]
   },
   "source": [
    "**Задание 4**\n",
    "\n",
    "\n",
    "Одной командой получить общую информацию о таблице c помощью метода `info()`:"
   ]
  },
  {
   "cell_type": "code",
   "execution_count": 4,
   "metadata": {
    "deletable": false,
    "id": "DSf2kIb-_Zct"
   },
   "outputs": [
    {
     "name": "stdout",
     "output_type": "stream",
     "text": [
      "<class 'pandas.core.frame.DataFrame'>\n",
      "RangeIndex: 65079 entries, 0 to 65078\n",
      "Data columns (total 7 columns):\n",
      " #   Column    Non-Null Count  Dtype \n",
      "---  ------    --------------  ----- \n",
      " 0     userID  65079 non-null  object\n",
      " 1   Track     63848 non-null  object\n",
      " 2   artist    57876 non-null  object\n",
      " 3   genre     63881 non-null  object\n",
      " 4     City    65079 non-null  object\n",
      " 5   time      65079 non-null  object\n",
      " 6   Day       65079 non-null  object\n",
      "dtypes: object(7)\n",
      "memory usage: 3.5+ MB\n"
     ]
    }
   ],
   "source": [
    "df.info()"
   ]
  },
  {
   "cell_type": "markdown",
   "metadata": {
    "deletable": false,
    "editable": false,
    "id": "TaQ2Iwbr_Zct"
   },
   "source": [
    "Итак, в таблице семь столбцов. Тип данных во всех столбцах — `object`.\n",
    "\n",
    "Согласно документации к данным:\n",
    "* `userID` — идентификатор пользователя;\n",
    "* `Track` — название трека;  \n",
    "* `artist` — имя исполнителя;\n",
    "* `genre` — название жанра;\n",
    "* `City` — город пользователя;\n",
    "* `time` — время начала прослушивания;\n",
    "* `Day` — день недели.\n",
    "\n",
    "Количество значений в столбцах различается. Значит, в данных есть пропущенные значения."
   ]
  },
  {
   "cell_type": "markdown",
   "metadata": {
    "deletable": false,
    "editable": false,
    "id": "4P0UCWzswgEm",
    "tags": [
     "start_task"
    ]
   },
   "source": [
    "**Задание 5**\n",
    "\n",
    "**Вопрос со свободной формой ответа**\n",
    "\n",
    "В названиях колонок видны три нарушения стиля:\n",
    "1. Строчные буквы сочетаются с прописными.\n",
    "2. Встречаются пробелы."
   ]
  },
  {
   "cell_type": "markdown",
   "metadata": {
    "deletable": false,
    "editable": false,
    "id": "MCB6-dXG_Zct"
   },
   "source": [
    "**Выводы**\n",
    "\n",
    "В каждой строке таблицы — данные о прослушанном треке. Часть колонок описывает саму композицию: название, исполнителя и жанр. Остальные данные рассказывают о пользователе: из какого он города, когда он слушал музыку. \n",
    "\n",
    "Предварительно можно утверждать, что, данных достаточно для проверки гипотез. Но встречаются пропуски в данных, а в названиях колонок — расхождения с хорошим стилем.\n",
    "\n",
    "Чтобы двигаться дальше, нужно устранить проблемы в данных."
   ]
  },
  {
   "cell_type": "markdown",
   "metadata": {
    "deletable": false,
    "editable": false,
    "id": "SjYF6Ub9_Zct"
   },
   "source": [
    "## Предобработка данных\n",
    "Исправьте стиль в заголовках столбцов, исключите пропуски. Затем проверьте данные на дубликаты."
   ]
  },
  {
   "cell_type": "markdown",
   "metadata": {
    "deletable": false,
    "editable": false,
    "id": "dIaKXr29_Zct",
    "tags": [
     "start_task"
    ]
   },
   "source": [
    "### Стиль заголовков\n",
    "\n",
    "**Задание 6**\n",
    "\n",
    "Выведите на экран названия столбцов:"
   ]
  },
  {
   "cell_type": "code",
   "execution_count": 5,
   "metadata": {
    "deletable": false,
    "id": "oKOTdF_Q_Zct"
   },
   "outputs": [
    {
     "name": "stdout",
     "output_type": "stream",
     "text": [
      "Index(['  userID', 'Track', 'artist', 'genre', '  City  ', 'time', 'Day'], dtype='object')\n"
     ]
    }
   ],
   "source": [
    "print(df.columns)"
   ]
  },
  {
   "cell_type": "markdown",
   "metadata": {
    "deletable": false,
    "editable": false,
    "id": "zj5534cv_Zct",
    "tags": [
     "start_task"
    ]
   },
   "source": [
    "**Задание 7**\n",
    "\n",
    "\n",
    "Приведите названия в соответствие с хорошим стилем:\n",
    "* несколько слов в названии запишите в «змеином_регистре»,\n",
    "* все символы сделайте строчными,\n",
    "* устраните пробелы.\n",
    "\n",
    "Для этого переименуйте колонки так:\n",
    "* `'  userID'` → `'user_id'`;\n",
    "* `'Track'` → `'track'`;\n",
    "* `'  City  '` → `'city'`;\n",
    "* `'Day'` → `'day'`."
   ]
  },
  {
   "cell_type": "code",
   "execution_count": 6,
   "metadata": {
    "deletable": false,
    "id": "ISlFqs5y_Zct"
   },
   "outputs": [],
   "source": [
    "df = df.rename(columns={'  userID' : 'user_id', 'Track' : 'track', '  City  ' : 'city', 'Day' : 'day'})"
   ]
  },
  {
   "cell_type": "markdown",
   "metadata": {
    "deletable": false,
    "editable": false,
    "id": "1dqbh00J_Zct",
    "tags": [
     "start_task"
    ]
   },
   "source": [
    "**Задание 8**\n",
    "\n",
    "\n",
    "Проверьте результат. Для этого ещё раз выведите на экран названия столбцов:"
   ]
  },
  {
   "cell_type": "code",
   "execution_count": 7,
   "metadata": {
    "deletable": false,
    "id": "d4NOAmTW_Zct"
   },
   "outputs": [
    {
     "name": "stdout",
     "output_type": "stream",
     "text": [
      "Index(['user_id', 'track', 'artist', 'genre', 'city', 'time', 'day'], dtype='object')\n"
     ]
    }
   ],
   "source": [
    "print(df.columns)"
   ]
  },
  {
   "cell_type": "markdown",
   "metadata": {
    "deletable": false,
    "editable": false,
    "id": "5ISfbcfY_Zct",
    "tags": [
     "start_task"
    ]
   },
   "source": [
    "### Пропуски значений\n",
    "\n",
    "**Задание 9**\n",
    "\n",
    "Сначала посчитайте, сколько в таблице пропущенных значений. Для этого достаточно двух методов `pandas`:"
   ]
  },
  {
   "cell_type": "code",
   "execution_count": 8,
   "metadata": {
    "deletable": false,
    "id": "RskX29qr_Zct"
   },
   "outputs": [
    {
     "data": {
      "text/plain": [
       "user_id       0\n",
       "track      1231\n",
       "artist     7203\n",
       "genre      1198\n",
       "city          0\n",
       "time          0\n",
       "day           0\n",
       "dtype: int64"
      ]
     },
     "execution_count": 8,
     "metadata": {},
     "output_type": "execute_result"
    }
   ],
   "source": [
    "df.isna().sum()"
   ]
  },
  {
   "cell_type": "markdown",
   "metadata": {
    "deletable": false,
    "editable": false,
    "id": "qubhgnlO_Zct"
   },
   "source": [
    "Не все пропущенные значения влияют на исследование. Так в `track` и `artist` пропуски не важны для вашей работы. Достаточно заменить их явными обозначениями.\n",
    "\n",
    "Но пропуски в `genre` могут помешать сравнению музыкальных вкусов в Москве и Санкт-Петербурге. На практике было бы правильно установить причину пропусков и восстановить данные. Такой возможности нет в учебном проекте. Придётся:\n",
    "* заполнить и эти пропуски явными обозначениями,\n",
    "* оценить, насколько они повредят расчётам. "
   ]
  },
  {
   "cell_type": "markdown",
   "metadata": {
    "deletable": false,
    "editable": false,
    "id": "fSv2laPA_Zct",
    "tags": [
     "start_task"
    ]
   },
   "source": [
    "**Задание 10**\n",
    "\n",
    "Замените пропущенные значения в столбцах `track`, `artist` и `genre` на строку `'unknown'`. Для этого создайте список `columns_to_replace`, переберите его элементы циклом `for` и для каждого столбца выполните замену пропущенных значений:"
   ]
  },
  {
   "cell_type": "code",
   "execution_count": 9,
   "metadata": {
    "deletable": false,
    "id": "KplB5qWs_Zct"
   },
   "outputs": [],
   "source": [
    "columns_to_replace = df.iloc [:, [1,2,3]]\n",
    "for column in columns_to_replace:\n",
    "    df[column] = df[column].fillna('unknown')"
   ]
  },
  {
   "cell_type": "markdown",
   "metadata": {
    "deletable": false,
    "editable": false,
    "id": "Ilsm-MZo_Zct",
    "tags": [
     "start_task"
    ]
   },
   "source": [
    "**Задание 11**\n",
    "\n",
    "Убедитесь, что в таблице не осталось пропусков. Для этого ещё раз посчитайте пропущенные значения."
   ]
  },
  {
   "cell_type": "code",
   "execution_count": 10,
   "metadata": {
    "deletable": false,
    "id": "Tq4nYRX4_Zct"
   },
   "outputs": [
    {
     "data": {
      "text/plain": [
       "user_id    0\n",
       "track      0\n",
       "artist     0\n",
       "genre      0\n",
       "city       0\n",
       "time       0\n",
       "day        0\n",
       "dtype: int64"
      ]
     },
     "execution_count": 10,
     "metadata": {},
     "output_type": "execute_result"
    }
   ],
   "source": [
    "df.isna().sum()"
   ]
  },
  {
   "cell_type": "markdown",
   "metadata": {
    "deletable": false,
    "editable": false,
    "id": "BWKRtBJ3_Zct",
    "tags": [
     "start_task"
    ]
   },
   "source": [
    "### Дубликаты\n",
    "\n",
    "**Задание 12**\n",
    "\n",
    "Посчитайте явные дубликаты в таблице одной командой:"
   ]
  },
  {
   "cell_type": "code",
   "execution_count": 11,
   "metadata": {
    "deletable": false,
    "id": "36eES_S0_Zct"
   },
   "outputs": [
    {
     "data": {
      "text/plain": [
       "3826"
      ]
     },
     "execution_count": 11,
     "metadata": {},
     "output_type": "execute_result"
    }
   ],
   "source": [
    "df.duplicated().sum()"
   ]
  },
  {
   "cell_type": "markdown",
   "metadata": {
    "deletable": false,
    "editable": false,
    "id": "Ot25h6XR_Zct",
    "tags": [
     "start_task"
    ]
   },
   "source": [
    "**Задание 13**\n",
    "\n",
    "Вызовите специальный метод `pandas`, чтобы удалить явные дубликаты:"
   ]
  },
  {
   "cell_type": "code",
   "execution_count": 12,
   "metadata": {
    "deletable": false,
    "id": "exFHq6tt_Zct"
   },
   "outputs": [],
   "source": [
    "df = df.drop_duplicates()"
   ]
  },
  {
   "cell_type": "markdown",
   "metadata": {
    "deletable": false,
    "editable": false,
    "id": "Im2YwBEG_Zct",
    "tags": [
     "start_task"
    ]
   },
   "source": [
    "**Задание 14**\n",
    "\n",
    "Ещё раз посчитайте явные дубликаты в таблице — убедитесь, что полностью от них избавились:"
   ]
  },
  {
   "cell_type": "code",
   "execution_count": 13,
   "metadata": {
    "deletable": false,
    "id": "-8PuNWQ0_Zct"
   },
   "outputs": [
    {
     "data": {
      "text/plain": [
       "0"
      ]
     },
     "execution_count": 13,
     "metadata": {},
     "output_type": "execute_result"
    }
   ],
   "source": [
    "df.duplicated().sum()"
   ]
  },
  {
   "cell_type": "markdown",
   "metadata": {
    "deletable": false,
    "editable": false,
    "id": "QlFBsxAr_Zct"
   },
   "source": [
    "Теперь избавьтесь от неявных дубликатов в колонке `genre`. Например, название одного и того же жанра может быть записано немного по-разному. Такие ошибки тоже повлияют на результат исследования."
   ]
  },
  {
   "cell_type": "markdown",
   "metadata": {
    "deletable": false,
    "editable": false,
    "id": "eSjWwsOh_Zct",
    "tags": [
     "start_task"
    ]
   },
   "source": [
    "**Задание 15**\n",
    "\n",
    "Выведите на экран список уникальных названий жанров, отсортированный в алфавитном порядке. Для этого:\n",
    "* извлеките нужный столбец датафрейма, \n",
    "* примените к нему метод сортировки,\n",
    "* для отсортированного столбца вызовите метод, который вернёт уникальные значения из столбца."
   ]
  },
  {
   "cell_type": "code",
   "execution_count": 14,
   "metadata": {
    "deletable": false,
    "id": "JIUcqzZN_Zct"
   },
   "outputs": [
    {
     "name": "stdout",
     "output_type": "stream",
     "text": [
      "['acid' 'acoustic' 'action' 'adult' 'africa' 'afrikaans' 'alternative'\n",
      " 'alternativepunk' 'ambient' 'americana' 'animated' 'anime' 'arabesk'\n",
      " 'arabic' 'arena' 'argentinetango' 'art' 'audiobook' 'author' 'avantgarde'\n",
      " 'axé' 'baile' 'balkan' 'beats' 'bigroom' 'black' 'bluegrass' 'blues'\n",
      " 'bollywood' 'bossa' 'brazilian' 'breakbeat' 'breaks' 'broadway'\n",
      " 'cantautori' 'cantopop' 'canzone' 'caribbean' 'caucasian' 'celtic'\n",
      " 'chamber' 'chanson' 'children' 'chill' 'chinese' 'choral' 'christian'\n",
      " 'christmas' 'classical' 'classicmetal' 'club' 'colombian' 'comedy'\n",
      " 'conjazz' 'contemporary' 'country' 'cuban' 'dance' 'dancehall' 'dancepop'\n",
      " 'dark' 'death' 'deep' 'deutschrock' 'deutschspr' 'dirty' 'disco' 'dnb'\n",
      " 'documentary' 'downbeat' 'downtempo' 'drum' 'dub' 'dubstep' 'eastern'\n",
      " 'easy' 'electronic' 'electropop' 'emo' 'entehno' 'epicmetal' 'estrada'\n",
      " 'ethnic' 'eurofolk' 'european' 'experimental' 'extrememetal' 'fado'\n",
      " 'fairytail' 'film' 'fitness' 'flamenco' 'folk' 'folklore' 'folkmetal'\n",
      " 'folkrock' 'folktronica' 'forró' 'frankreich' 'französisch' 'french'\n",
      " 'funk' 'future' 'gangsta' 'garage' 'german' 'ghazal' 'gitarre' 'glitch'\n",
      " 'gospel' 'gothic' 'grime' 'grunge' 'gypsy' 'handsup' \"hard'n'heavy\"\n",
      " 'hardcore' 'hardstyle' 'hardtechno' 'hip' 'hip-hop' 'hiphop' 'historisch'\n",
      " 'holiday' 'hop' 'horror' 'house' 'hymn' 'idm' 'independent' 'indian'\n",
      " 'indie' 'indipop' 'industrial' 'inspirational' 'instrumental'\n",
      " 'international' 'irish' 'jam' 'japanese' 'jazz' 'jewish' 'jpop' 'jungle'\n",
      " 'k-pop' 'karadeniz' 'karaoke' 'kayokyoku' 'korean' 'laiko' 'latin'\n",
      " 'latino' 'leftfield' 'local' 'lounge' 'loungeelectronic' 'lovers'\n",
      " 'malaysian' 'mandopop' 'marschmusik' 'meditative' 'mediterranean'\n",
      " 'melodic' 'metal' 'metalcore' 'mexican' 'middle' 'minimal'\n",
      " 'miscellaneous' 'modern' 'mood' 'mpb' 'muslim' 'native' 'neoklassik'\n",
      " 'neue' 'new' 'newage' 'newwave' 'nu' 'nujazz' 'numetal' 'oceania' 'old'\n",
      " 'opera' 'orchestral' 'other' 'piano' 'podcasts' 'pop' 'popdance'\n",
      " 'popelectronic' 'popeurodance' 'poprussian' 'post' 'posthardcore'\n",
      " 'postrock' 'power' 'progmetal' 'progressive' 'psychedelic' 'punjabi'\n",
      " 'punk' 'quebecois' 'ragga' 'ram' 'rancheras' 'rap' 'rave' 'reggae'\n",
      " 'reggaeton' 'regional' 'relax' 'religious' 'retro' 'rhythm' 'rnb' 'rnr'\n",
      " 'rock' 'rockabilly' 'rockalternative' 'rockindie' 'rockother' 'romance'\n",
      " 'roots' 'ruspop' 'rusrap' 'rusrock' 'russian' 'salsa' 'samba' 'scenic'\n",
      " 'schlager' 'self' 'sertanejo' 'shanson' 'shoegazing' 'showtunes' 'singer'\n",
      " 'ska' 'skarock' 'slow' 'smooth' 'soft' 'soul' 'soulful' 'sound'\n",
      " 'soundtrack' 'southern' 'specialty' 'speech' 'spiritual' 'sport'\n",
      " 'stonerrock' 'surf' 'swing' 'synthpop' 'synthrock' 'sängerportrait'\n",
      " 'tango' 'tanzorchester' 'taraftar' 'tatar' 'tech' 'techno' 'teen'\n",
      " 'thrash' 'top' 'traditional' 'tradjazz' 'trance' 'tribal' 'trip'\n",
      " 'triphop' 'tropical' 'türk' 'türkçe' 'ukrrock' 'unknown' 'urban' 'uzbek'\n",
      " 'variété' 'vi' 'videogame' 'vocal' 'western' 'world' 'worldbeat' 'ïîï'\n",
      " 'электроника']\n"
     ]
    }
   ],
   "source": [
    "forsen = df['genre'].sort_values()\n",
    "print(forsen.unique())"
   ]
  },
  {
   "cell_type": "markdown",
   "metadata": {
    "deletable": false,
    "editable": false,
    "id": "qej-Qmuo_Zct",
    "tags": [
     "start_task"
    ]
   },
   "source": [
    "**Задание 16**\n",
    "\n",
    "Просмотрите список и найдите неявные дубликаты названия `hiphop`. Это могут быть названия с ошибками или альтернативные названия того же жанра.\n",
    "\n",
    "Вы увидите следующие неявные дубликаты:\n",
    "* *hip*,\n",
    "* *hop*,\n",
    "* *hip-hop*.\n",
    "\n",
    "Чтобы очистить от них таблицу используйте метод `replace()` с двумя аргументами: списком строк-дубликатов (включащий *hip*, *hop* и *hip-hop*) и строкой с правильным значением. Вам нужно исправить колонку `genre` в таблице `df`: заменить каждое значение из списка дубликатов на верное. Вместо `hip`, `hop` и `hip-hop` в таблице должно быть значение `hiphop`:"
   ]
  },
  {
   "cell_type": "code",
   "execution_count": 15,
   "metadata": {
    "deletable": false,
    "id": "ErNDkmns_Zct"
   },
   "outputs": [
    {
     "name": "stdout",
     "output_type": "stream",
     "text": [
      "0              rock\n",
      "1              rock\n",
      "2               pop\n",
      "3              folk\n",
      "4             dance\n",
      "            ...    \n",
      "65074           rnb\n",
      "65075        hiphop\n",
      "65076    industrial\n",
      "65077          rock\n",
      "65078       country\n",
      "Name: genre, Length: 61253, dtype: object\n"
     ]
    }
   ],
   "source": [
    "forse = ['hip', 'hop', 'hip-hop']\n",
    "fors = 'hiphop'\n",
    "df['genre']= df['genre'].replace(forse, fors)\n",
    "print(df['genre'])\n"
   ]
  },
  {
   "cell_type": "markdown",
   "metadata": {
    "deletable": false,
    "editable": false,
    "id": "zQKF16_RG15m",
    "tags": [
     "start_task"
    ]
   },
   "source": [
    "**Задание 17**\n",
    "\n",
    "Проверьте, что заменили неправильные названия:\n",
    "\n",
    "*   hip\n",
    "*   hop\n",
    "*   hip-hop\n",
    "\n",
    "Выведите отсортированный список уникальных значений столбца `genre`:"
   ]
  },
  {
   "cell_type": "code",
   "execution_count": 16,
   "metadata": {
    "deletable": false,
    "id": "wvixALnFG15m"
   },
   "outputs": [
    {
     "name": "stdout",
     "output_type": "stream",
     "text": [
      "['acid' 'acoustic' 'action' 'adult' 'africa' 'afrikaans' 'alternative'\n",
      " 'alternativepunk' 'ambient' 'americana' 'animated' 'anime' 'arabesk'\n",
      " 'arabic' 'arena' 'argentinetango' 'art' 'audiobook' 'author' 'avantgarde'\n",
      " 'axé' 'baile' 'balkan' 'beats' 'bigroom' 'black' 'bluegrass' 'blues'\n",
      " 'bollywood' 'bossa' 'brazilian' 'breakbeat' 'breaks' 'broadway'\n",
      " 'cantautori' 'cantopop' 'canzone' 'caribbean' 'caucasian' 'celtic'\n",
      " 'chamber' 'chanson' 'children' 'chill' 'chinese' 'choral' 'christian'\n",
      " 'christmas' 'classical' 'classicmetal' 'club' 'colombian' 'comedy'\n",
      " 'conjazz' 'contemporary' 'country' 'cuban' 'dance' 'dancehall' 'dancepop'\n",
      " 'dark' 'death' 'deep' 'deutschrock' 'deutschspr' 'dirty' 'disco' 'dnb'\n",
      " 'documentary' 'downbeat' 'downtempo' 'drum' 'dub' 'dubstep' 'eastern'\n",
      " 'easy' 'electronic' 'electropop' 'emo' 'entehno' 'epicmetal' 'estrada'\n",
      " 'ethnic' 'eurofolk' 'european' 'experimental' 'extrememetal' 'fado'\n",
      " 'fairytail' 'film' 'fitness' 'flamenco' 'folk' 'folklore' 'folkmetal'\n",
      " 'folkrock' 'folktronica' 'forró' 'frankreich' 'französisch' 'french'\n",
      " 'funk' 'future' 'gangsta' 'garage' 'german' 'ghazal' 'gitarre' 'glitch'\n",
      " 'gospel' 'gothic' 'grime' 'grunge' 'gypsy' 'handsup' \"hard'n'heavy\"\n",
      " 'hardcore' 'hardstyle' 'hardtechno' 'hiphop' 'historisch' 'holiday'\n",
      " 'horror' 'house' 'hymn' 'idm' 'independent' 'indian' 'indie' 'indipop'\n",
      " 'industrial' 'inspirational' 'instrumental' 'international' 'irish' 'jam'\n",
      " 'japanese' 'jazz' 'jewish' 'jpop' 'jungle' 'k-pop' 'karadeniz' 'karaoke'\n",
      " 'kayokyoku' 'korean' 'laiko' 'latin' 'latino' 'leftfield' 'local'\n",
      " 'lounge' 'loungeelectronic' 'lovers' 'malaysian' 'mandopop' 'marschmusik'\n",
      " 'meditative' 'mediterranean' 'melodic' 'metal' 'metalcore' 'mexican'\n",
      " 'middle' 'minimal' 'miscellaneous' 'modern' 'mood' 'mpb' 'muslim'\n",
      " 'native' 'neoklassik' 'neue' 'new' 'newage' 'newwave' 'nu' 'nujazz'\n",
      " 'numetal' 'oceania' 'old' 'opera' 'orchestral' 'other' 'piano' 'podcasts'\n",
      " 'pop' 'popdance' 'popelectronic' 'popeurodance' 'poprussian' 'post'\n",
      " 'posthardcore' 'postrock' 'power' 'progmetal' 'progressive' 'psychedelic'\n",
      " 'punjabi' 'punk' 'quebecois' 'ragga' 'ram' 'rancheras' 'rap' 'rave'\n",
      " 'reggae' 'reggaeton' 'regional' 'relax' 'religious' 'retro' 'rhythm'\n",
      " 'rnb' 'rnr' 'rock' 'rockabilly' 'rockalternative' 'rockindie' 'rockother'\n",
      " 'romance' 'roots' 'ruspop' 'rusrap' 'rusrock' 'russian' 'salsa' 'samba'\n",
      " 'scenic' 'schlager' 'self' 'sertanejo' 'shanson' 'shoegazing' 'showtunes'\n",
      " 'singer' 'ska' 'skarock' 'slow' 'smooth' 'soft' 'soul' 'soulful' 'sound'\n",
      " 'soundtrack' 'southern' 'specialty' 'speech' 'spiritual' 'sport'\n",
      " 'stonerrock' 'surf' 'swing' 'synthpop' 'synthrock' 'sängerportrait'\n",
      " 'tango' 'tanzorchester' 'taraftar' 'tatar' 'tech' 'techno' 'teen'\n",
      " 'thrash' 'top' 'traditional' 'tradjazz' 'trance' 'tribal' 'trip'\n",
      " 'triphop' 'tropical' 'türk' 'türkçe' 'ukrrock' 'unknown' 'urban' 'uzbek'\n",
      " 'variété' 'vi' 'videogame' 'vocal' 'western' 'world' 'worldbeat' 'ïîï'\n",
      " 'электроника']\n"
     ]
    }
   ],
   "source": [
    "forsen = df['genre'].sort_values()\n",
    "print(forsen.unique())\n"
   ]
  },
  {
   "cell_type": "markdown",
   "metadata": {
    "deletable": false,
    "editable": false,
    "id": "jz6a9-7HQUDd"
   },
   "source": [
    "**Выводы**\n",
    "\n",
    "Предобработка обнаружила три проблемы в данных:\n",
    "\n",
    "- нарушения в стиле заголовков,\n",
    "- пропущенные значения,\n",
    "- дубликаты — явные и неявные.\n",
    "\n",
    "Вы исправили заголовки, чтобы упростить работу с таблицей. Без дубликатов исследование станет более точным.\n",
    "\n",
    "Пропущенные значения вы заменили на `'unknown'`. Ещё предстоит увидеть, не повредят ли исследованию пропуски в колонке `genre`.\n",
    "\n",
    "Теперь можно перейти к проверке гипотез. "
   ]
  },
  {
   "cell_type": "markdown",
   "metadata": {
    "deletable": false,
    "editable": false,
    "id": "WttZHXH0SqKk"
   },
   "source": [
    "## Проверка гипотез"
   ]
  },
  {
   "cell_type": "markdown",
   "metadata": {
    "deletable": false,
    "editable": false,
    "id": "Im936VVi_Zcu"
   },
   "source": [
    "### Сравнение поведения пользователей двух столиц"
   ]
  },
  {
   "cell_type": "markdown",
   "metadata": {
    "deletable": false,
    "editable": false,
    "id": "nwt_MuaL_Zcu"
   },
   "source": [
    "Первая гипотеза утверждает, что пользователи по-разному слушают музыку в Москве и Санкт-Петербурге. Проверьте это предположение по данным о трёх днях недели — понедельнике, среде и пятнице. Для этого:\n",
    "\n",
    "* Разделите пользователей Москвы и Санкт-Петербурга\n",
    "* Сравните, сколько треков послушала каждая группа пользователей в понедельник, среду и пятницу.\n"
   ]
  },
  {
   "cell_type": "markdown",
   "metadata": {
    "deletable": false,
    "editable": false,
    "id": "8Dw_YMmT_Zcu",
    "tags": [
     "start_task"
    ]
   },
   "source": [
    "**Задание 18**\n",
    "\n",
    "Для тренировки сначала выполните каждый из расчётов по отдельности. \n",
    "\n",
    "Оцените активность пользователей в каждом городе. Сгруппируйте данные по городу и посчитайте прослушивания в каждой группе.\n",
    "\n"
   ]
  },
  {
   "cell_type": "code",
   "execution_count": 17,
   "metadata": {
    "deletable": false,
    "id": "0_Qs96oh_Zcu"
   },
   "outputs": [
    {
     "name": "stdout",
     "output_type": "stream",
     "text": [
      "city\n",
      "Moscow              42741\n",
      "Saint-Petersburg    18512\n",
      "Name: user_id, dtype: int64\n"
     ]
    }
   ],
   "source": [
    "forsen = df.groupby('city')['user_id'].count()\n",
    "print(forsen)"
   ]
  },
  {
   "cell_type": "markdown",
   "metadata": {
    "deletable": false,
    "editable": false,
    "id": "dzli3w8o_Zcu",
    "tags": [
     "start_task"
    ]
   },
   "source": [
    "В Москве прослушиваний больше, чем в Петербурге. Из этого не следует, что московские пользователи чаще слушают музыку. Просто самих пользователей в Москве больше.\n",
    "\n",
    "**Задание 19**\n",
    "\n",
    "Теперь сгруппируйте данные по дню недели и подсчитайте прослушивания в понедельник, среду и пятницу. Учтите, что в данных есть информация только о прослушиваниях только за эти дни.\n"
   ]
  },
  {
   "cell_type": "code",
   "execution_count": 18,
   "metadata": {
    "deletable": false,
    "id": "uZMKjiJz_Zcu"
   },
   "outputs": [
    {
     "name": "stdout",
     "output_type": "stream",
     "text": [
      "day\n",
      "Friday       21840\n",
      "Monday       21354\n",
      "Wednesday    18059\n",
      "Name: city, dtype: int64\n"
     ]
    }
   ],
   "source": [
    "forsen = df.groupby('day')['city'].count()\n",
    "print(forsen)"
   ]
  },
  {
   "cell_type": "markdown",
   "metadata": {
    "deletable": false,
    "editable": false,
    "id": "cC2tNrlL_Zcu"
   },
   "source": [
    "В среднем пользователи из двух городов менее активны по средам. Но картина может измениться, если рассмотреть каждый город в отдельности."
   ]
  },
  {
   "cell_type": "markdown",
   "metadata": {
    "deletable": false,
    "editable": false,
    "id": "POzs8bGa_Zcu",
    "tags": [
     "start_task"
    ]
   },
   "source": [
    "**Задание 20**\n",
    "\n",
    "\n",
    "Вы видели, как работает группировка по городу и по дням недели. Теперь напишите функцию, которая объединит два эти расчёта.\n",
    "\n",
    "Создайте функцию `number_tracks()`, которая посчитает прослушивания для заданного дня и города. Ей понадобятся два параметра:\n",
    "* день недели,\n",
    "* название города.\n",
    "\n",
    "В функции сохраните в переменную строки исходной таблицы, у которых значение:\n",
    "  * в колонке `day` равно параметру `day`,\n",
    "  * в колонке `city` равно параметру `city`.\n",
    "\n",
    "Для этого примените последовательную фильтрацию с логической индексацией (или сложные логические выражения в одну строку, если вы уже знакомы с ними).\n",
    "\n",
    "Затем посчитайте значения в столбце `user_id` получившейся таблицы. Результат сохраните в новую переменную. Верните эту переменную из функции."
   ]
  },
  {
   "cell_type": "code",
   "execution_count": 19,
   "metadata": {
    "deletable": false,
    "id": "Nz3GdQB1_Zcu"
   },
   "outputs": [],
   "source": [
    "def number_tracks(day, city):\n",
    "    track_list = df[df['day'] == day] \n",
    "    track_list = track_list[track_list['city'] == city]\n",
    "    track_list_count = track_list['user_id'].count()\n",
    "    return track_list_count"
   ]
  },
  {
   "cell_type": "markdown",
   "metadata": {
    "deletable": false,
    "editable": false,
    "id": "ytf7xFrFJQ2r",
    "tags": [
     "start_task"
    ]
   },
   "source": [
    "**Задание 21**\n",
    "\n",
    "Вызовите `number_tracks()` шесть раз, меняя значение параметров — так, чтобы получить данные для каждого города в каждый из трёх дней."
   ]
  },
  {
   "cell_type": "code",
   "execution_count": 20,
   "metadata": {
    "deletable": false,
    "id": "rJcRATNQ_Zcu"
   },
   "outputs": [
    {
     "data": {
      "text/plain": [
       "15740"
      ]
     },
     "execution_count": 20,
     "metadata": {},
     "output_type": "execute_result"
    }
   ],
   "source": [
    "number_tracks('Monday', 'Moscow')"
   ]
  },
  {
   "cell_type": "code",
   "execution_count": 21,
   "metadata": {
    "deletable": false,
    "id": "hq_ncZ5T_Zcu"
   },
   "outputs": [
    {
     "data": {
      "text/plain": [
       "5614"
      ]
     },
     "execution_count": 21,
     "metadata": {},
     "output_type": "execute_result"
    }
   ],
   "source": [
    "number_tracks('Monday', 'Saint-Petersburg')"
   ]
  },
  {
   "cell_type": "code",
   "execution_count": 22,
   "metadata": {
    "deletable": false,
    "id": "_NTy2VPU_Zcu"
   },
   "outputs": [
    {
     "data": {
      "text/plain": [
       "11056"
      ]
     },
     "execution_count": 22,
     "metadata": {},
     "output_type": "execute_result"
    }
   ],
   "source": [
    "number_tracks('Wednesday', 'Moscow')"
   ]
  },
  {
   "cell_type": "code",
   "execution_count": 23,
   "metadata": {
    "deletable": false,
    "id": "j2y3TAwo_Zcu"
   },
   "outputs": [
    {
     "data": {
      "text/plain": [
       "7003"
      ]
     },
     "execution_count": 23,
     "metadata": {},
     "output_type": "execute_result"
    }
   ],
   "source": [
    "number_tracks('Wednesday', 'Saint-Petersburg')"
   ]
  },
  {
   "cell_type": "code",
   "execution_count": 24,
   "metadata": {
    "deletable": false,
    "id": "vYDw5u_K_Zcu"
   },
   "outputs": [
    {
     "data": {
      "text/plain": [
       "15945"
      ]
     },
     "execution_count": 24,
     "metadata": {},
     "output_type": "execute_result"
    }
   ],
   "source": [
    "number_tracks('Friday', 'Moscow')"
   ]
  },
  {
   "cell_type": "code",
   "execution_count": 25,
   "metadata": {
    "deletable": false,
    "id": "8_yzFtW3_Zcu"
   },
   "outputs": [
    {
     "data": {
      "text/plain": [
       "5895"
      ]
     },
     "execution_count": 25,
     "metadata": {},
     "output_type": "execute_result"
    }
   ],
   "source": [
    "number_tracks('Friday', 'Saint-Petersburg')"
   ]
  },
  {
   "cell_type": "markdown",
   "metadata": {
    "deletable": false,
    "editable": false,
    "id": "7QXffbO-_Zcu",
    "tags": [
     "start_task"
    ]
   },
   "source": [
    "**Задание 22**\n",
    "\n",
    "Создайте c помощью конструктора `pd.DataFrame` таблицу, где\n",
    "* названия колонок — `['city', 'monday', 'wednesday', 'friday']`;\n",
    "* данные — результаты, которые вы получили с помощью `number_tracks`."
   ]
  },
  {
   "cell_type": "code",
   "execution_count": 26,
   "metadata": {
    "deletable": false,
    "id": "APAcLpOr_Zcu"
   },
   "outputs": [],
   "source": [
    "\n",
    "info = pd.DataFrame(data=[['Moscow', 15740, 11056, 15945], ['Saint-Petersburg', 5614, 7003, 5895]], columns=['city', 'monday', 'wednesday', 'friday'])"
   ]
  },
  {
   "cell_type": "markdown",
   "metadata": {
    "deletable": false,
    "editable": false,
    "id": "-EgPIHYu_Zcu"
   },
   "source": [
    "**Выводы**\n",
    "\n",
    "Данные показывают разницу поведения пользователей:\n",
    "\n",
    "- В Москве пик прослушиваний приходится на понедельник и пятницу, а в среду заметен спад.\n",
    "- В Петербурге, наоборот, больше слушают музыку по средам. Активность в понедельник и пятницу здесь почти в равной мере уступает среде.\n",
    "\n",
    "Значит, данные говорят в пользу первой гипотезы."
   ]
  },
  {
   "cell_type": "markdown",
   "metadata": {
    "deletable": false,
    "editable": false,
    "id": "atZAxtq4_Zcu"
   },
   "source": [
    "### Музыка в начале и в конце недели"
   ]
  },
  {
   "cell_type": "markdown",
   "metadata": {
    "deletable": false,
    "editable": false,
    "id": "eXrQqXFH_Zcu"
   },
   "source": [
    "Согласно второй гипотезе, утром в понедельник в Москве преобладают одни жанры, а в Петербурге — другие. Так же и вечером пятницы преобладают разные жанры — в зависимости от города."
   ]
  },
  {
   "cell_type": "markdown",
   "metadata": {
    "deletable": false,
    "editable": false,
    "id": "S8UcW6Hw_Zcu",
    "tags": [
     "start_task"
    ]
   },
   "source": [
    "**Задание 23**\n",
    "\n",
    "Сохраните таблицы с данными в две переменные:\n",
    "* по Москве — в `moscow_general`;\n",
    "* по Санкт-Петербургу — в `spb_general`."
   ]
  },
  {
   "cell_type": "code",
   "execution_count": 27,
   "metadata": {
    "deletable": false,
    "id": "qeaFfM_P_Zcu"
   },
   "outputs": [],
   "source": [
    "moscow_general = df[df['city'] == 'Moscow']\n"
   ]
  },
  {
   "cell_type": "code",
   "execution_count": 28,
   "metadata": {
    "deletable": false,
    "id": "ORaVRKto_Zcu"
   },
   "outputs": [
    {
     "data": {
      "text/html": [
       "<div>\n",
       "<style scoped>\n",
       "    .dataframe tbody tr th:only-of-type {\n",
       "        vertical-align: middle;\n",
       "    }\n",
       "\n",
       "    .dataframe tbody tr th {\n",
       "        vertical-align: top;\n",
       "    }\n",
       "\n",
       "    .dataframe thead th {\n",
       "        text-align: right;\n",
       "    }\n",
       "</style>\n",
       "<table border=\"1\" class=\"dataframe\">\n",
       "  <thead>\n",
       "    <tr style=\"text-align: right;\">\n",
       "      <th></th>\n",
       "      <th>user_id</th>\n",
       "      <th>track</th>\n",
       "      <th>artist</th>\n",
       "      <th>genre</th>\n",
       "      <th>city</th>\n",
       "      <th>time</th>\n",
       "      <th>day</th>\n",
       "    </tr>\n",
       "  </thead>\n",
       "  <tbody>\n",
       "    <tr>\n",
       "      <th>0</th>\n",
       "      <td>FFB692EC</td>\n",
       "      <td>Kamigata To Boots</td>\n",
       "      <td>The Mass Missile</td>\n",
       "      <td>rock</td>\n",
       "      <td>Saint-Petersburg</td>\n",
       "      <td>20:28:33</td>\n",
       "      <td>Wednesday</td>\n",
       "    </tr>\n",
       "    <tr>\n",
       "      <th>2</th>\n",
       "      <td>20EC38</td>\n",
       "      <td>Funiculì funiculà</td>\n",
       "      <td>Mario Lanza</td>\n",
       "      <td>pop</td>\n",
       "      <td>Saint-Petersburg</td>\n",
       "      <td>20:58:07</td>\n",
       "      <td>Wednesday</td>\n",
       "    </tr>\n",
       "    <tr>\n",
       "      <th>3</th>\n",
       "      <td>A3DD03C9</td>\n",
       "      <td>Dragons in the Sunset</td>\n",
       "      <td>Fire + Ice</td>\n",
       "      <td>folk</td>\n",
       "      <td>Saint-Petersburg</td>\n",
       "      <td>08:37:09</td>\n",
       "      <td>Monday</td>\n",
       "    </tr>\n",
       "    <tr>\n",
       "      <th>5</th>\n",
       "      <td>842029A1</td>\n",
       "      <td>Преданная</td>\n",
       "      <td>IMPERVTOR</td>\n",
       "      <td>rusrap</td>\n",
       "      <td>Saint-Petersburg</td>\n",
       "      <td>13:09:41</td>\n",
       "      <td>Friday</td>\n",
       "    </tr>\n",
       "    <tr>\n",
       "      <th>9</th>\n",
       "      <td>E772D5C0</td>\n",
       "      <td>Pessimist</td>\n",
       "      <td>unknown</td>\n",
       "      <td>dance</td>\n",
       "      <td>Saint-Petersburg</td>\n",
       "      <td>21:20:49</td>\n",
       "      <td>Wednesday</td>\n",
       "    </tr>\n",
       "  </tbody>\n",
       "</table>\n",
       "</div>"
      ],
      "text/plain": [
       "    user_id                  track            artist   genre  \\\n",
       "0  FFB692EC      Kamigata To Boots  The Mass Missile    rock   \n",
       "2    20EC38      Funiculì funiculà       Mario Lanza     pop   \n",
       "3  A3DD03C9  Dragons in the Sunset        Fire + Ice    folk   \n",
       "5  842029A1              Преданная         IMPERVTOR  rusrap   \n",
       "9  E772D5C0              Pessimist           unknown   dance   \n",
       "\n",
       "               city      time        day  \n",
       "0  Saint-Petersburg  20:28:33  Wednesday  \n",
       "2  Saint-Petersburg  20:58:07  Wednesday  \n",
       "3  Saint-Petersburg  08:37:09     Monday  \n",
       "5  Saint-Petersburg  13:09:41     Friday  \n",
       "9  Saint-Petersburg  21:20:49  Wednesday  "
      ]
     },
     "execution_count": 28,
     "metadata": {},
     "output_type": "execute_result"
    }
   ],
   "source": [
    "spb_general = df[df['city'] == 'Saint-Petersburg']\n",
    "spb_general.head()\n"
   ]
  },
  {
   "cell_type": "markdown",
   "metadata": {
    "deletable": false,
    "id": "MEJV-CX2_Zcu",
    "tags": [
     "start_task"
    ]
   },
   "source": [
    "**Задание 24**\n",
    "\n",
    "Создайте функцию `genre_weekday()` с четырьмя параметрами:\n",
    "* таблица (датафрейм) с данными,\n",
    "* день недели,\n",
    "* начальная временная метка в формате 'hh:mm', \n",
    "* последняя временная метка в формате 'hh:mm'.\n",
    "\n",
    "Функция должна вернуть информацию о топ-10 жанров тех треков, которые прослушивали в указанный день, в промежутке между двумя отметками времени."
   ]
  },
  {
   "cell_type": "code",
   "execution_count": 29,
   "metadata": {
    "deletable": false,
    "id": "laJT9BYl_Zcu"
   },
   "outputs": [],
   "source": [
    "def genre_weekday(df, day, time1, time2):\n",
    "\n",
    "    genre_df = df[df['day'] == day]\n",
    "    \n",
    "    genre_df = genre_df[genre_df['time'] < time2]\n",
    "    genre_df = genre_df[genre_df['time'] > time1] \n",
    "    genre_df_grouped = genre_df.groupby('genre')['user_id'].count()\n",
    "    genre_df_sorted = genre_df_grouped.sort_values(ascending=False)\n",
    "\n",
    "    return genre_df_sorted[:10]"
   ]
  },
  {
   "cell_type": "markdown",
   "metadata": {
    "deletable": false,
    "editable": false,
    "id": "la2s2_PF_Zcu",
    "tags": [
     "start_task"
    ]
   },
   "source": [
    "**Задание 25**\n",
    "\n",
    "\n",
    "Cравните результаты функции `genre_weekday()` для Москвы и Санкт-Петербурга в понедельник утром (с 7:00 до 11:00) и в пятницу вечером (с 17:00 до 23:00):"
   ]
  },
  {
   "cell_type": "code",
   "execution_count": 30,
   "metadata": {
    "deletable": false,
    "id": "yz7itPUQ_Zcu"
   },
   "outputs": [
    {
     "data": {
      "text/plain": [
       "genre\n",
       "pop            781\n",
       "dance          549\n",
       "electronic     480\n",
       "rock           474\n",
       "hiphop         286\n",
       "ruspop         186\n",
       "world          181\n",
       "rusrap         175\n",
       "alternative    164\n",
       "unknown        161\n",
       "Name: user_id, dtype: int64"
      ]
     },
     "execution_count": 30,
     "metadata": {},
     "output_type": "execute_result"
    }
   ],
   "source": [
    "genre_weekday(moscow_general, 'Monday', '07:00', '11:00')"
   ]
  },
  {
   "cell_type": "code",
   "execution_count": 31,
   "metadata": {
    "deletable": false,
    "id": "kwUcHPdy_Zcu"
   },
   "outputs": [
    {
     "data": {
      "text/plain": [
       "genre\n",
       "pop            218\n",
       "dance          182\n",
       "rock           162\n",
       "electronic     147\n",
       "hiphop          80\n",
       "ruspop          64\n",
       "alternative     58\n",
       "rusrap          55\n",
       "jazz            44\n",
       "classical       40\n",
       "Name: user_id, dtype: int64"
      ]
     },
     "execution_count": 31,
     "metadata": {},
     "output_type": "execute_result"
    }
   ],
   "source": [
    "genre_weekday(spb_general, 'Monday', '07:00', '11:00')"
   ]
  },
  {
   "cell_type": "code",
   "execution_count": 32,
   "metadata": {
    "deletable": false,
    "id": "EzXVRE1o_Zcu"
   },
   "outputs": [
    {
     "data": {
      "text/plain": [
       "genre\n",
       "pop            713\n",
       "rock           517\n",
       "dance          495\n",
       "electronic     482\n",
       "hiphop         273\n",
       "world          208\n",
       "ruspop         170\n",
       "alternative    163\n",
       "classical      163\n",
       "rusrap         142\n",
       "Name: user_id, dtype: int64"
      ]
     },
     "execution_count": 32,
     "metadata": {},
     "output_type": "execute_result"
    }
   ],
   "source": [
    "genre_weekday(moscow_general, 'Friday', '17:00', '23:00')"
   ]
  },
  {
   "cell_type": "code",
   "execution_count": 33,
   "metadata": {
    "deletable": false,
    "id": "JZaEKu5v_Zcu"
   },
   "outputs": [
    {
     "data": {
      "text/plain": [
       "genre\n",
       "pop            256\n",
       "electronic     216\n",
       "rock           216\n",
       "dance          210\n",
       "hiphop          97\n",
       "alternative     63\n",
       "jazz            61\n",
       "classical       60\n",
       "rusrap          59\n",
       "world           54\n",
       "Name: user_id, dtype: int64"
      ]
     },
     "execution_count": 33,
     "metadata": {},
     "output_type": "execute_result"
    }
   ],
   "source": [
    "genre_weekday(spb_general, 'Friday', '17:00', '23:00')"
   ]
  },
  {
   "cell_type": "markdown",
   "metadata": {
    "deletable": false,
    "editable": false,
    "id": "wrCe4MNX_Zcu"
   },
   "source": [
    "**Выводы**\n",
    "\n",
    "Если сравнить топ-10 жанров в понедельник утром, можно сделать такие выводы:\n",
    "\n",
    "1. В Москве и Петербурге слушают похожую музыку. Единственное отличие — в московский рейтинг вошёл жанр “world”, а в петербургский — джаз и классика.\n",
    "\n",
    "2. В Москве пропущенных значений оказалось так много, что значение `'unknown'` заняло десятое место среди самых популярных жанров. Значит, пропущенные значения занимают существенную долю в данных и угрожают достоверности исследования.\n",
    "\n",
    "Вечер пятницы не меняет эту картину. Некоторые жанры поднимаются немного выше, другие спускаются, но в целом топ-10 остаётся тем же самым.\n",
    "\n",
    "Таким образом, вторая гипотеза подтвердилась лишь частично:\n",
    "* Пользователи слушают похожую музыку в начале недели и в конце.\n",
    "* Разница между Москвой и Петербургом не слишком выражена. В Москве чаще слушают русскую популярную музыку, в Петербурге — джаз.\n",
    "\n",
    "Однако пропуски в данных ставят под сомнение этот результат. В Москве их так много, что рейтинг топ-10 мог бы выглядеть иначе, если бы не утерянные  данные о жанрах."
   ]
  },
  {
   "cell_type": "markdown",
   "metadata": {
    "deletable": false,
    "editable": false,
    "id": "JolODAqr_Zcu"
   },
   "source": [
    "### Жанровые предпочтения в Москве и Петербурге\n",
    "\n",
    "Гипотеза: Петербург — столица рэпа, музыку этого жанра там слушают чаще, чем в Москве.  А Москва — город контрастов, в котором, тем не менее, преобладает поп-музыка."
   ]
  },
  {
   "cell_type": "markdown",
   "metadata": {
    "deletable": false,
    "editable": false,
    "id": "DlegSvaT_Zcu",
    "tags": [
     "start_task"
    ]
   },
   "source": [
    "**Задание 26**\n",
    "\n",
    "Сгруппируйте таблицу `moscow_general` по жанру и посчитайте прослушивания треков каждого жанра методом `count()`. Затем отсортируйте результат в порядке убывания и сохраните его в таблице `moscow_genres`."
   ]
  },
  {
   "cell_type": "code",
   "execution_count": 34,
   "metadata": {
    "deletable": false,
    "id": "r19lIPke_Zcu"
   },
   "outputs": [],
   "source": [
    "moscow_genres = moscow_general.groupby('genre')['genre'].count()\n",
    "moscow_genres = moscow_genres.sort_values(ascending=False)"
   ]
  },
  {
   "cell_type": "markdown",
   "metadata": {
    "deletable": false,
    "editable": false,
    "id": "6kMuomxTiIr8",
    "tags": [
     "start_task"
    ]
   },
   "source": [
    "**Задание 27**\n",
    "\n",
    "Выведите на экран первые десять строк `moscow_genres`:"
   ]
  },
  {
   "cell_type": "code",
   "execution_count": 35,
   "metadata": {
    "deletable": false,
    "id": "WhCSooF8_Zcv"
   },
   "outputs": [
    {
     "data": {
      "text/plain": [
       "genre\n",
       "pop            5892\n",
       "dance          4435\n",
       "rock           3965\n",
       "electronic     3786\n",
       "hiphop         2096\n",
       "classical      1616\n",
       "world          1432\n",
       "alternative    1379\n",
       "ruspop         1372\n",
       "rusrap         1161\n",
       "Name: genre, dtype: int64"
      ]
     },
     "execution_count": 35,
     "metadata": {},
     "output_type": "execute_result"
    }
   ],
   "source": [
    "moscow_genres.head(10)"
   ]
  },
  {
   "cell_type": "markdown",
   "metadata": {
    "deletable": false,
    "editable": false,
    "id": "cnPG2vnN_Zcv",
    "tags": [
     "start_task"
    ]
   },
   "source": [
    "**Задание 28**\n",
    "\n",
    "\n",
    "Теперь повторите то же и для Петербурга.\n",
    "\n",
    "Сгруппируйте таблицу `spb_general` по жанру. Посчитайте прослушивания треков каждого жанра. Результат отсортируйте в порядке убывания и сохраните в таблице `spb_genres`:\n"
   ]
  },
  {
   "cell_type": "code",
   "execution_count": 36,
   "metadata": {
    "deletable": false,
    "id": "gluLIpE7_Zcv"
   },
   "outputs": [],
   "source": [
    "spb_genres = spb_general.groupby('genre')['genre'].count()\n",
    "spb_genres = spb_genres.sort_values(ascending=False)"
   ]
  },
  {
   "cell_type": "markdown",
   "metadata": {
    "deletable": false,
    "editable": false,
    "id": "5Doha_ODgyQ8",
    "tags": [
     "start_task"
    ]
   },
   "source": [
    "**Задание 29**\n",
    "\n",
    "Выведите на экран первые десять строк `spb_genres`:"
   ]
  },
  {
   "cell_type": "code",
   "execution_count": 37,
   "metadata": {
    "deletable": false,
    "id": "uaGJHjVU_Zcv"
   },
   "outputs": [
    {
     "data": {
      "text/plain": [
       "genre\n",
       "pop            2431\n",
       "dance          1932\n",
       "rock           1879\n",
       "electronic     1736\n",
       "hiphop          960\n",
       "alternative     649\n",
       "classical       646\n",
       "rusrap          564\n",
       "ruspop          538\n",
       "world           515\n",
       "Name: genre, dtype: int64"
      ]
     },
     "execution_count": 37,
     "metadata": {},
     "output_type": "execute_result"
    }
   ],
   "source": [
    "spb_genres.head(10)"
   ]
  },
  {
   "cell_type": "markdown",
   "metadata": {
    "deletable": false,
    "editable": false,
    "id": "RY51YJYu_Zcv"
   },
   "source": [
    "**Выводы**"
   ]
  },
  {
   "cell_type": "markdown",
   "metadata": {
    "deletable": false,
    "editable": false,
    "id": "nVhnJEm__Zcv"
   },
   "source": [
    "Гипотеза частично подтвердилась:\n",
    "* Поп-музыка — самый популярный жанр в Москве, как и предполагала гипотеза. Более того, в топ-10 жанров встречается близкий жанр — русская популярная музыка.\n",
    "* Вопреки ожиданиям, рэп одинаково популярен в Москве и Петербурге. \n"
   ]
  },
  {
   "cell_type": "markdown",
   "metadata": {
    "deletable": false,
    "editable": false,
    "id": "ykKQ0N65_Zcv"
   },
   "source": [
    "## Итоги исследования"
   ]
  },
  {
   "cell_type": "markdown",
   "metadata": {
    "deletable": false,
    "editable": false,
    "id": "tjUwbHb3_Zcv"
   },
   "source": [
    "Вы проверили три гипотезы и установили:\n",
    "\n",
    "1. День недели по-разному влияет на активность пользователей в Москве и Петербурге. \n",
    "\n",
    "Первая гипотеза полностью подтвердилась.\n",
    "\n",
    "2. Музыкальные предпочтения не сильно меняются в течение недели — будь то Москва или Петербург. Небольшие различия заметны в начале недели, по понедельникам:\n",
    "* в Москве слушают музыку жанра “world”,\n",
    "* в Петербурге — джаз и классику.\n",
    "\n",
    "Таким образом, вторая гипотеза подтвердилась лишь отчасти. Этот результат мог оказаться иным, если бы не пропуски в данных.\n",
    "\n",
    "3. Во вкусах пользователей Москвы и Петербурга больше общего чем различий. Вопреки ожиданиям, предпочтения жанров в Петербурге напоминают московские.\n",
    "\n",
    "Третья гипотеза не подтвердилась. Если различия в предпочтениях и существуют, на основной массе пользователей они незаметны.\n",
    "\n",
    "**На практике исследования содержат проверки статистических гипотез.**\n",
    "Из данных одного сервиса не всегда можно сделать вывод о всех жителях города.\n",
    "Проверки статистических гипотез покажут, насколько они достоверны, исходя из имеющихся данных. \n",
    "С методами проверок гипотез вы ещё познакомитесь в следующих темах."
   ]
  }
 ],
 "metadata": {
  "ExecuteTimeLog": [
   {
    "duration": 53,
    "start_time": "2023-03-02T12:13:21.558Z"
   },
   {
    "duration": 6,
    "start_time": "2023-03-02T12:24:30.832Z"
   },
   {
    "duration": 83,
    "start_time": "2023-03-02T12:27:02.844Z"
   },
   {
    "duration": 9,
    "start_time": "2023-03-02T12:29:26.725Z"
   },
   {
    "duration": 8,
    "start_time": "2023-03-02T12:48:45.772Z"
   },
   {
    "duration": 372,
    "start_time": "2023-03-02T13:07:47.755Z"
   },
   {
    "duration": 516,
    "start_time": "2023-03-02T13:07:48.129Z"
   },
   {
    "duration": 9,
    "start_time": "2023-03-02T13:07:48.646Z"
   },
   {
    "duration": 29,
    "start_time": "2023-03-02T13:07:48.657Z"
   },
   {
    "duration": 2,
    "start_time": "2023-03-02T13:07:48.690Z"
   },
   {
    "duration": 7,
    "start_time": "2023-03-02T13:07:48.693Z"
   },
   {
    "duration": 22,
    "start_time": "2023-03-02T13:07:48.701Z"
   },
   {
    "duration": 4,
    "start_time": "2023-03-02T13:07:48.725Z"
   },
   {
    "duration": 31,
    "start_time": "2023-03-02T13:07:48.731Z"
   },
   {
    "duration": 198,
    "start_time": "2023-03-02T13:07:48.763Z"
   },
   {
    "duration": 0,
    "start_time": "2023-03-02T13:07:48.989Z"
   },
   {
    "duration": 0,
    "start_time": "2023-03-02T13:07:48.994Z"
   },
   {
    "duration": 0,
    "start_time": "2023-03-02T13:07:48.995Z"
   },
   {
    "duration": 0,
    "start_time": "2023-03-02T13:07:49.012Z"
   },
   {
    "duration": 0,
    "start_time": "2023-03-02T13:07:49.013Z"
   },
   {
    "duration": 0,
    "start_time": "2023-03-02T13:07:49.014Z"
   },
   {
    "duration": 0,
    "start_time": "2023-03-02T13:07:49.016Z"
   },
   {
    "duration": 1,
    "start_time": "2023-03-02T13:07:49.016Z"
   },
   {
    "duration": 0,
    "start_time": "2023-03-02T13:07:49.017Z"
   },
   {
    "duration": 0,
    "start_time": "2023-03-02T13:07:49.018Z"
   },
   {
    "duration": 0,
    "start_time": "2023-03-02T13:07:49.019Z"
   },
   {
    "duration": 0,
    "start_time": "2023-03-02T13:07:49.020Z"
   },
   {
    "duration": 0,
    "start_time": "2023-03-02T13:07:49.021Z"
   },
   {
    "duration": 0,
    "start_time": "2023-03-02T13:07:49.022Z"
   },
   {
    "duration": 0,
    "start_time": "2023-03-02T13:07:49.023Z"
   },
   {
    "duration": 0,
    "start_time": "2023-03-02T13:07:49.024Z"
   },
   {
    "duration": 0,
    "start_time": "2023-03-02T13:07:49.025Z"
   },
   {
    "duration": 0,
    "start_time": "2023-03-02T13:07:49.026Z"
   },
   {
    "duration": 1,
    "start_time": "2023-03-02T13:07:49.026Z"
   },
   {
    "duration": 0,
    "start_time": "2023-03-02T13:07:49.027Z"
   },
   {
    "duration": 0,
    "start_time": "2023-03-02T13:07:49.028Z"
   },
   {
    "duration": 0,
    "start_time": "2023-03-02T13:07:49.029Z"
   },
   {
    "duration": 0,
    "start_time": "2023-03-02T13:07:49.030Z"
   },
   {
    "duration": 0,
    "start_time": "2023-03-02T13:07:49.031Z"
   },
   {
    "duration": 0,
    "start_time": "2023-03-02T13:07:49.032Z"
   },
   {
    "duration": 0,
    "start_time": "2023-03-02T13:07:49.033Z"
   },
   {
    "duration": 0,
    "start_time": "2023-03-02T13:07:49.033Z"
   },
   {
    "duration": 0,
    "start_time": "2023-03-02T13:07:49.034Z"
   },
   {
    "duration": 4,
    "start_time": "2023-03-02T14:23:10.199Z"
   },
   {
    "duration": 199,
    "start_time": "2023-03-02T14:23:10.205Z"
   },
   {
    "duration": 15,
    "start_time": "2023-03-02T14:23:10.405Z"
   },
   {
    "duration": 32,
    "start_time": "2023-03-02T14:23:10.424Z"
   },
   {
    "duration": 3,
    "start_time": "2023-03-02T14:23:10.457Z"
   },
   {
    "duration": 5,
    "start_time": "2023-03-02T14:23:10.461Z"
   },
   {
    "duration": 13,
    "start_time": "2023-03-02T14:23:10.468Z"
   },
   {
    "duration": 3,
    "start_time": "2023-03-02T14:23:10.483Z"
   },
   {
    "duration": 29,
    "start_time": "2023-03-02T14:23:10.512Z"
   },
   {
    "duration": 186,
    "start_time": "2023-03-02T14:23:10.544Z"
   },
   {
    "duration": 0,
    "start_time": "2023-03-02T14:23:10.761Z"
   },
   {
    "duration": 0,
    "start_time": "2023-03-02T14:23:10.762Z"
   },
   {
    "duration": 0,
    "start_time": "2023-03-02T14:23:10.763Z"
   },
   {
    "duration": 0,
    "start_time": "2023-03-02T14:23:10.765Z"
   },
   {
    "duration": 0,
    "start_time": "2023-03-02T14:23:10.766Z"
   },
   {
    "duration": 0,
    "start_time": "2023-03-02T14:23:10.767Z"
   },
   {
    "duration": 0,
    "start_time": "2023-03-02T14:23:10.768Z"
   },
   {
    "duration": 0,
    "start_time": "2023-03-02T14:23:10.814Z"
   },
   {
    "duration": 0,
    "start_time": "2023-03-02T14:23:10.815Z"
   },
   {
    "duration": 0,
    "start_time": "2023-03-02T14:23:10.815Z"
   },
   {
    "duration": 0,
    "start_time": "2023-03-02T14:23:10.816Z"
   },
   {
    "duration": 0,
    "start_time": "2023-03-02T14:23:10.817Z"
   },
   {
    "duration": 0,
    "start_time": "2023-03-02T14:23:10.817Z"
   },
   {
    "duration": 0,
    "start_time": "2023-03-02T14:23:10.818Z"
   },
   {
    "duration": 0,
    "start_time": "2023-03-02T14:23:10.820Z"
   },
   {
    "duration": 0,
    "start_time": "2023-03-02T14:23:10.821Z"
   },
   {
    "duration": 0,
    "start_time": "2023-03-02T14:23:10.822Z"
   },
   {
    "duration": 0,
    "start_time": "2023-03-02T14:23:10.823Z"
   },
   {
    "duration": 0,
    "start_time": "2023-03-02T14:23:10.824Z"
   },
   {
    "duration": 0,
    "start_time": "2023-03-02T14:23:10.825Z"
   },
   {
    "duration": 0,
    "start_time": "2023-03-02T14:23:10.826Z"
   },
   {
    "duration": 1,
    "start_time": "2023-03-02T14:23:10.827Z"
   },
   {
    "duration": 0,
    "start_time": "2023-03-02T14:23:10.828Z"
   },
   {
    "duration": 0,
    "start_time": "2023-03-02T14:23:10.830Z"
   },
   {
    "duration": 0,
    "start_time": "2023-03-02T14:23:10.831Z"
   },
   {
    "duration": 0,
    "start_time": "2023-03-02T14:23:10.831Z"
   },
   {
    "duration": 0,
    "start_time": "2023-03-02T14:23:10.833Z"
   },
   {
    "duration": 0,
    "start_time": "2023-03-02T14:23:10.834Z"
   },
   {
    "duration": 61,
    "start_time": "2023-03-02T16:16:07.006Z"
   },
   {
    "duration": 9,
    "start_time": "2023-03-02T17:00:35.530Z"
   },
   {
    "duration": 8,
    "start_time": "2023-03-02T17:22:11.429Z"
   },
   {
    "duration": 430,
    "start_time": "2023-03-02T17:22:16.499Z"
   },
   {
    "duration": 184,
    "start_time": "2023-03-02T17:22:16.931Z"
   },
   {
    "duration": 20,
    "start_time": "2023-03-02T17:22:17.117Z"
   },
   {
    "duration": 40,
    "start_time": "2023-03-02T17:22:17.139Z"
   },
   {
    "duration": 2,
    "start_time": "2023-03-02T17:22:17.182Z"
   },
   {
    "duration": 7,
    "start_time": "2023-03-02T17:22:17.186Z"
   },
   {
    "duration": 32,
    "start_time": "2023-03-02T17:22:17.195Z"
   },
   {
    "duration": 5,
    "start_time": "2023-03-02T17:22:17.228Z"
   },
   {
    "duration": 35,
    "start_time": "2023-03-02T17:22:17.235Z"
   },
   {
    "duration": 22,
    "start_time": "2023-03-02T17:22:17.271Z"
   },
   {
    "duration": 38,
    "start_time": "2023-03-02T17:22:17.294Z"
   },
   {
    "duration": 96,
    "start_time": "2023-03-02T17:22:17.334Z"
   },
   {
    "duration": 100,
    "start_time": "2023-03-02T17:22:17.432Z"
   },
   {
    "duration": 3,
    "start_time": "2023-03-02T17:22:17.535Z"
   },
   {
    "duration": 6,
    "start_time": "2023-03-02T17:22:17.539Z"
   },
   {
    "duration": 4,
    "start_time": "2023-03-02T17:22:17.546Z"
   },
   {
    "duration": 6,
    "start_time": "2023-03-02T17:22:17.552Z"
   },
   {
    "duration": 10,
    "start_time": "2023-03-02T17:22:17.560Z"
   },
   {
    "duration": 16,
    "start_time": "2023-03-02T17:22:17.572Z"
   },
   {
    "duration": 12,
    "start_time": "2023-03-02T17:22:17.590Z"
   },
   {
    "duration": 4,
    "start_time": "2023-03-02T17:22:17.604Z"
   },
   {
    "duration": 12,
    "start_time": "2023-03-02T17:22:17.609Z"
   },
   {
    "duration": 2,
    "start_time": "2023-03-02T17:22:17.628Z"
   },
   {
    "duration": 4,
    "start_time": "2023-03-02T17:22:17.632Z"
   },
   {
    "duration": 6,
    "start_time": "2023-03-02T17:22:17.638Z"
   },
   {
    "duration": 16,
    "start_time": "2023-03-02T17:22:17.645Z"
   },
   {
    "duration": 15,
    "start_time": "2023-03-02T17:22:17.663Z"
   },
   {
    "duration": 15,
    "start_time": "2023-03-02T17:22:17.679Z"
   },
   {
    "duration": 6,
    "start_time": "2023-03-02T17:22:17.696Z"
   },
   {
    "duration": 89,
    "start_time": "2023-03-02T17:22:17.703Z"
   },
   {
    "duration": 0,
    "start_time": "2023-03-02T17:22:17.794Z"
   },
   {
    "duration": 0,
    "start_time": "2023-03-02T17:22:17.795Z"
   },
   {
    "duration": 0,
    "start_time": "2023-03-02T17:22:17.796Z"
   },
   {
    "duration": 0,
    "start_time": "2023-03-02T17:22:17.797Z"
   },
   {
    "duration": 0,
    "start_time": "2023-03-02T17:22:17.799Z"
   },
   {
    "duration": 0,
    "start_time": "2023-03-02T17:22:17.800Z"
   },
   {
    "duration": 0,
    "start_time": "2023-03-02T17:22:17.801Z"
   },
   {
    "duration": 0,
    "start_time": "2023-03-02T17:22:17.802Z"
   },
   {
    "duration": 2,
    "start_time": "2023-03-02T17:24:13.090Z"
   },
   {
    "duration": 184,
    "start_time": "2023-03-02T17:24:13.095Z"
   },
   {
    "duration": 7,
    "start_time": "2023-03-02T17:24:13.281Z"
   },
   {
    "duration": 39,
    "start_time": "2023-03-02T17:24:13.290Z"
   },
   {
    "duration": 2,
    "start_time": "2023-03-02T17:24:13.331Z"
   },
   {
    "duration": 5,
    "start_time": "2023-03-02T17:24:13.335Z"
   },
   {
    "duration": 11,
    "start_time": "2023-03-02T17:24:13.342Z"
   },
   {
    "duration": 3,
    "start_time": "2023-03-02T17:24:13.355Z"
   },
   {
    "duration": 25,
    "start_time": "2023-03-02T17:24:13.360Z"
   },
   {
    "duration": 26,
    "start_time": "2023-03-02T17:24:13.415Z"
   },
   {
    "duration": 22,
    "start_time": "2023-03-02T17:24:13.443Z"
   },
   {
    "duration": 119,
    "start_time": "2023-03-02T17:24:13.467Z"
   },
   {
    "duration": 84,
    "start_time": "2023-03-02T17:24:13.587Z"
   },
   {
    "duration": 2,
    "start_time": "2023-03-02T17:24:13.673Z"
   },
   {
    "duration": 10,
    "start_time": "2023-03-02T17:24:13.677Z"
   },
   {
    "duration": 10,
    "start_time": "2023-03-02T17:24:13.689Z"
   },
   {
    "duration": 15,
    "start_time": "2023-03-02T17:24:13.701Z"
   },
   {
    "duration": 2,
    "start_time": "2023-03-02T17:24:13.721Z"
   },
   {
    "duration": 4,
    "start_time": "2023-03-02T17:24:13.727Z"
   },
   {
    "duration": 8,
    "start_time": "2023-03-02T17:24:13.733Z"
   },
   {
    "duration": 5,
    "start_time": "2023-03-02T17:24:13.743Z"
   },
   {
    "duration": 6,
    "start_time": "2023-03-02T17:24:13.750Z"
   },
   {
    "duration": 10,
    "start_time": "2023-03-02T17:24:13.758Z"
   },
   {
    "duration": 6,
    "start_time": "2023-03-02T17:24:13.770Z"
   },
   {
    "duration": 6,
    "start_time": "2023-03-02T17:24:13.777Z"
   },
   {
    "duration": 4,
    "start_time": "2023-03-02T17:24:13.785Z"
   },
   {
    "duration": 4,
    "start_time": "2023-03-02T17:24:13.790Z"
   },
   {
    "duration": 2,
    "start_time": "2023-03-02T17:24:13.797Z"
   },
   {
    "duration": 11,
    "start_time": "2023-03-02T17:24:13.801Z"
   },
   {
    "duration": 77,
    "start_time": "2023-03-02T17:24:13.814Z"
   },
   {
    "duration": 0,
    "start_time": "2023-03-02T17:24:13.893Z"
   },
   {
    "duration": 0,
    "start_time": "2023-03-02T17:24:13.895Z"
   },
   {
    "duration": 0,
    "start_time": "2023-03-02T17:24:13.896Z"
   },
   {
    "duration": 0,
    "start_time": "2023-03-02T17:24:13.898Z"
   },
   {
    "duration": 0,
    "start_time": "2023-03-02T17:24:13.899Z"
   },
   {
    "duration": 0,
    "start_time": "2023-03-02T17:24:13.901Z"
   },
   {
    "duration": 0,
    "start_time": "2023-03-02T17:24:13.902Z"
   },
   {
    "duration": 0,
    "start_time": "2023-03-02T17:24:13.904Z"
   },
   {
    "duration": 433,
    "start_time": "2023-03-02T17:27:13.959Z"
   },
   {
    "duration": 182,
    "start_time": "2023-03-02T17:27:14.395Z"
   },
   {
    "duration": 9,
    "start_time": "2023-03-02T17:27:14.581Z"
   },
   {
    "duration": 48,
    "start_time": "2023-03-02T17:27:14.593Z"
   },
   {
    "duration": 3,
    "start_time": "2023-03-02T17:27:14.642Z"
   },
   {
    "duration": 8,
    "start_time": "2023-03-02T17:27:14.647Z"
   },
   {
    "duration": 15,
    "start_time": "2023-03-02T17:27:14.656Z"
   },
   {
    "duration": 9,
    "start_time": "2023-03-02T17:27:14.674Z"
   },
   {
    "duration": 36,
    "start_time": "2023-03-02T17:27:14.711Z"
   },
   {
    "duration": 23,
    "start_time": "2023-03-02T17:27:14.748Z"
   },
   {
    "duration": 42,
    "start_time": "2023-03-02T17:27:14.773Z"
   },
   {
    "duration": 71,
    "start_time": "2023-03-02T17:27:14.817Z"
   },
   {
    "duration": 105,
    "start_time": "2023-03-02T17:27:14.892Z"
   },
   {
    "duration": 3,
    "start_time": "2023-03-02T17:27:14.998Z"
   },
   {
    "duration": 28,
    "start_time": "2023-03-02T17:27:15.002Z"
   },
   {
    "duration": 5,
    "start_time": "2023-03-02T17:27:15.033Z"
   },
   {
    "duration": 5,
    "start_time": "2023-03-02T17:27:15.039Z"
   },
   {
    "duration": 8,
    "start_time": "2023-03-02T17:27:15.046Z"
   },
   {
    "duration": 17,
    "start_time": "2023-03-02T17:27:15.056Z"
   },
   {
    "duration": 12,
    "start_time": "2023-03-02T17:27:15.076Z"
   },
   {
    "duration": 9,
    "start_time": "2023-03-02T17:27:15.089Z"
   },
   {
    "duration": 5,
    "start_time": "2023-03-02T17:27:15.100Z"
   },
   {
    "duration": 5,
    "start_time": "2023-03-02T17:27:15.107Z"
   },
   {
    "duration": 5,
    "start_time": "2023-03-02T17:27:15.114Z"
   },
   {
    "duration": 11,
    "start_time": "2023-03-02T17:27:15.122Z"
   },
   {
    "duration": 3,
    "start_time": "2023-03-02T17:27:15.135Z"
   },
   {
    "duration": 4,
    "start_time": "2023-03-02T17:27:15.140Z"
   },
   {
    "duration": 8,
    "start_time": "2023-03-02T17:27:15.145Z"
   },
   {
    "duration": 4,
    "start_time": "2023-03-02T17:27:15.154Z"
   },
   {
    "duration": 80,
    "start_time": "2023-03-02T17:27:15.159Z"
   },
   {
    "duration": 0,
    "start_time": "2023-03-02T17:27:15.241Z"
   },
   {
    "duration": 0,
    "start_time": "2023-03-02T17:27:15.242Z"
   },
   {
    "duration": 0,
    "start_time": "2023-03-02T17:27:15.243Z"
   },
   {
    "duration": 0,
    "start_time": "2023-03-02T17:27:15.244Z"
   },
   {
    "duration": 0,
    "start_time": "2023-03-02T17:27:15.245Z"
   },
   {
    "duration": 0,
    "start_time": "2023-03-02T17:27:15.246Z"
   },
   {
    "duration": 0,
    "start_time": "2023-03-02T17:27:15.247Z"
   },
   {
    "duration": 0,
    "start_time": "2023-03-02T17:27:15.248Z"
   },
   {
    "duration": 373,
    "start_time": "2023-03-02T17:28:26.474Z"
   },
   {
    "duration": 176,
    "start_time": "2023-03-02T17:28:26.849Z"
   },
   {
    "duration": 7,
    "start_time": "2023-03-02T17:28:27.029Z"
   },
   {
    "duration": 29,
    "start_time": "2023-03-02T17:28:27.038Z"
   },
   {
    "duration": 2,
    "start_time": "2023-03-02T17:28:27.069Z"
   },
   {
    "duration": 4,
    "start_time": "2023-03-02T17:28:27.073Z"
   },
   {
    "duration": 16,
    "start_time": "2023-03-02T17:28:27.079Z"
   },
   {
    "duration": 30,
    "start_time": "2023-03-02T17:28:27.097Z"
   },
   {
    "duration": 28,
    "start_time": "2023-03-02T17:28:27.129Z"
   },
   {
    "duration": 23,
    "start_time": "2023-03-02T17:28:27.161Z"
   },
   {
    "duration": 44,
    "start_time": "2023-03-02T17:28:27.186Z"
   },
   {
    "duration": 65,
    "start_time": "2023-03-02T17:28:27.232Z"
   },
   {
    "duration": 124,
    "start_time": "2023-03-02T17:28:27.299Z"
   },
   {
    "duration": 4,
    "start_time": "2023-03-02T17:28:27.425Z"
   },
   {
    "duration": 3,
    "start_time": "2023-03-02T17:28:27.430Z"
   },
   {
    "duration": 4,
    "start_time": "2023-03-02T17:28:27.434Z"
   },
   {
    "duration": 4,
    "start_time": "2023-03-02T17:28:27.439Z"
   },
   {
    "duration": 3,
    "start_time": "2023-03-02T17:28:27.445Z"
   },
   {
    "duration": 7,
    "start_time": "2023-03-02T17:28:27.450Z"
   },
   {
    "duration": 4,
    "start_time": "2023-03-02T17:28:27.458Z"
   },
   {
    "duration": 18,
    "start_time": "2023-03-02T17:28:27.464Z"
   },
   {
    "duration": 16,
    "start_time": "2023-03-02T17:28:27.485Z"
   },
   {
    "duration": 26,
    "start_time": "2023-03-02T17:28:27.503Z"
   },
   {
    "duration": 14,
    "start_time": "2023-03-02T17:28:27.530Z"
   },
   {
    "duration": 10,
    "start_time": "2023-03-02T17:28:27.546Z"
   },
   {
    "duration": 5,
    "start_time": "2023-03-02T17:28:27.558Z"
   },
   {
    "duration": 5,
    "start_time": "2023-03-02T17:28:27.564Z"
   },
   {
    "duration": 2,
    "start_time": "2023-03-02T17:28:27.572Z"
   },
   {
    "duration": 5,
    "start_time": "2023-03-02T17:28:27.576Z"
   },
   {
    "duration": 84,
    "start_time": "2023-03-02T17:28:27.583Z"
   },
   {
    "duration": 0,
    "start_time": "2023-03-02T17:28:27.669Z"
   },
   {
    "duration": 0,
    "start_time": "2023-03-02T17:28:27.670Z"
   },
   {
    "duration": 0,
    "start_time": "2023-03-02T17:28:27.671Z"
   },
   {
    "duration": 0,
    "start_time": "2023-03-02T17:28:27.673Z"
   },
   {
    "duration": 0,
    "start_time": "2023-03-02T17:28:27.674Z"
   },
   {
    "duration": 0,
    "start_time": "2023-03-02T17:28:27.676Z"
   },
   {
    "duration": 0,
    "start_time": "2023-03-02T17:28:27.677Z"
   },
   {
    "duration": 0,
    "start_time": "2023-03-02T17:28:27.678Z"
   },
   {
    "duration": 364,
    "start_time": "2023-03-02T17:28:53.664Z"
   },
   {
    "duration": 208,
    "start_time": "2023-03-02T17:28:54.030Z"
   },
   {
    "duration": 12,
    "start_time": "2023-03-02T17:28:54.240Z"
   },
   {
    "duration": 71,
    "start_time": "2023-03-02T17:28:54.255Z"
   },
   {
    "duration": 4,
    "start_time": "2023-03-02T17:28:54.328Z"
   },
   {
    "duration": 6,
    "start_time": "2023-03-02T17:28:54.334Z"
   },
   {
    "duration": 18,
    "start_time": "2023-03-02T17:28:54.342Z"
   },
   {
    "duration": 4,
    "start_time": "2023-03-02T17:28:54.363Z"
   },
   {
    "duration": 60,
    "start_time": "2023-03-02T17:28:54.369Z"
   },
   {
    "duration": 22,
    "start_time": "2023-03-02T17:28:54.431Z"
   },
   {
    "duration": 22,
    "start_time": "2023-03-02T17:28:54.454Z"
   },
   {
    "duration": 88,
    "start_time": "2023-03-02T17:28:54.478Z"
   },
   {
    "duration": 96,
    "start_time": "2023-03-02T17:28:54.568Z"
   },
   {
    "duration": 2,
    "start_time": "2023-03-02T17:28:54.667Z"
   },
   {
    "duration": 5,
    "start_time": "2023-03-02T17:28:54.671Z"
   },
   {
    "duration": 3,
    "start_time": "2023-03-02T17:28:54.678Z"
   },
   {
    "duration": 4,
    "start_time": "2023-03-02T17:28:54.683Z"
   },
   {
    "duration": 3,
    "start_time": "2023-03-02T17:28:54.688Z"
   },
   {
    "duration": 3,
    "start_time": "2023-03-02T17:28:54.711Z"
   },
   {
    "duration": 16,
    "start_time": "2023-03-02T17:28:54.716Z"
   },
   {
    "duration": 18,
    "start_time": "2023-03-02T17:28:54.734Z"
   },
   {
    "duration": 4,
    "start_time": "2023-03-02T17:28:54.753Z"
   },
   {
    "duration": 5,
    "start_time": "2023-03-02T17:28:54.759Z"
   },
   {
    "duration": 3,
    "start_time": "2023-03-02T17:28:54.765Z"
   },
   {
    "duration": 4,
    "start_time": "2023-03-02T17:28:54.770Z"
   },
   {
    "duration": 4,
    "start_time": "2023-03-02T17:28:54.775Z"
   },
   {
    "duration": 4,
    "start_time": "2023-03-02T17:28:54.781Z"
   },
   {
    "duration": 4,
    "start_time": "2023-03-02T17:28:54.786Z"
   },
   {
    "duration": 24,
    "start_time": "2023-03-02T17:28:54.791Z"
   },
   {
    "duration": 73,
    "start_time": "2023-03-02T17:28:54.826Z"
   },
   {
    "duration": 0,
    "start_time": "2023-03-02T17:28:54.901Z"
   },
   {
    "duration": 0,
    "start_time": "2023-03-02T17:28:54.902Z"
   },
   {
    "duration": 0,
    "start_time": "2023-03-02T17:28:54.904Z"
   },
   {
    "duration": 0,
    "start_time": "2023-03-02T17:28:54.906Z"
   },
   {
    "duration": 0,
    "start_time": "2023-03-02T17:28:54.908Z"
   },
   {
    "duration": 1,
    "start_time": "2023-03-02T17:28:54.909Z"
   },
   {
    "duration": 0,
    "start_time": "2023-03-02T17:28:54.911Z"
   },
   {
    "duration": 0,
    "start_time": "2023-03-02T17:28:54.912Z"
   },
   {
    "duration": 419,
    "start_time": "2023-03-02T17:29:17.254Z"
   },
   {
    "duration": 189,
    "start_time": "2023-03-02T17:29:17.675Z"
   },
   {
    "duration": 12,
    "start_time": "2023-03-02T17:29:17.866Z"
   },
   {
    "duration": 49,
    "start_time": "2023-03-02T17:29:17.880Z"
   },
   {
    "duration": 3,
    "start_time": "2023-03-02T17:29:17.931Z"
   },
   {
    "duration": 5,
    "start_time": "2023-03-02T17:29:17.935Z"
   },
   {
    "duration": 15,
    "start_time": "2023-03-02T17:29:17.941Z"
   },
   {
    "duration": 5,
    "start_time": "2023-03-02T17:29:17.958Z"
   },
   {
    "duration": 65,
    "start_time": "2023-03-02T17:29:17.965Z"
   },
   {
    "duration": 24,
    "start_time": "2023-03-02T17:29:18.033Z"
   },
   {
    "duration": 26,
    "start_time": "2023-03-02T17:29:18.058Z"
   },
   {
    "duration": 97,
    "start_time": "2023-03-02T17:29:18.087Z"
   },
   {
    "duration": 99,
    "start_time": "2023-03-02T17:29:18.186Z"
   },
   {
    "duration": 4,
    "start_time": "2023-03-02T17:29:18.286Z"
   },
   {
    "duration": 8,
    "start_time": "2023-03-02T17:29:18.291Z"
   },
   {
    "duration": 26,
    "start_time": "2023-03-02T17:29:18.300Z"
   },
   {
    "duration": 3,
    "start_time": "2023-03-02T17:29:18.328Z"
   },
   {
    "duration": 4,
    "start_time": "2023-03-02T17:29:18.332Z"
   },
   {
    "duration": 4,
    "start_time": "2023-03-02T17:29:18.338Z"
   },
   {
    "duration": 4,
    "start_time": "2023-03-02T17:29:18.344Z"
   },
   {
    "duration": 7,
    "start_time": "2023-03-02T17:29:18.350Z"
   },
   {
    "duration": 4,
    "start_time": "2023-03-02T17:29:18.359Z"
   },
   {
    "duration": 5,
    "start_time": "2023-03-02T17:29:18.365Z"
   },
   {
    "duration": 7,
    "start_time": "2023-03-02T17:29:18.371Z"
   },
   {
    "duration": 5,
    "start_time": "2023-03-02T17:29:18.380Z"
   },
   {
    "duration": 4,
    "start_time": "2023-03-02T17:29:18.387Z"
   },
   {
    "duration": 42,
    "start_time": "2023-03-02T17:29:18.393Z"
   },
   {
    "duration": 4,
    "start_time": "2023-03-02T17:29:18.438Z"
   },
   {
    "duration": 10,
    "start_time": "2023-03-02T17:29:18.444Z"
   },
   {
    "duration": 87,
    "start_time": "2023-03-02T17:29:18.456Z"
   },
   {
    "duration": 0,
    "start_time": "2023-03-02T17:29:18.544Z"
   },
   {
    "duration": 0,
    "start_time": "2023-03-02T17:29:18.546Z"
   },
   {
    "duration": 0,
    "start_time": "2023-03-02T17:29:18.548Z"
   },
   {
    "duration": 0,
    "start_time": "2023-03-02T17:29:18.549Z"
   },
   {
    "duration": 0,
    "start_time": "2023-03-02T17:29:18.551Z"
   },
   {
    "duration": 0,
    "start_time": "2023-03-02T17:29:18.553Z"
   },
   {
    "duration": 0,
    "start_time": "2023-03-02T17:29:18.554Z"
   },
   {
    "duration": 0,
    "start_time": "2023-03-02T17:29:18.555Z"
   },
   {
    "duration": 79,
    "start_time": "2023-03-02T17:42:39.198Z"
   },
   {
    "duration": 19,
    "start_time": "2023-03-02T17:43:02.911Z"
   },
   {
    "duration": 8,
    "start_time": "2023-03-02T17:45:20.441Z"
   },
   {
    "duration": 10,
    "start_time": "2023-03-02T17:45:42.155Z"
   },
   {
    "duration": 11,
    "start_time": "2023-03-02T17:45:47.696Z"
   },
   {
    "duration": 11,
    "start_time": "2023-03-02T17:47:06.746Z"
   },
   {
    "duration": 44,
    "start_time": "2023-03-02T17:47:29.828Z"
   },
   {
    "duration": 48,
    "start_time": "2023-03-02T17:47:33.480Z"
   },
   {
    "duration": 37,
    "start_time": "2023-03-02T17:48:50.866Z"
   },
   {
    "duration": 48,
    "start_time": "2023-03-02T17:54:44.560Z"
   },
   {
    "duration": 67,
    "start_time": "2023-03-02T17:56:23.800Z"
   },
   {
    "duration": 62,
    "start_time": "2023-03-02T17:57:10.492Z"
   },
   {
    "duration": 49,
    "start_time": "2023-03-02T17:57:44.952Z"
   },
   {
    "duration": 61,
    "start_time": "2023-03-02T17:57:52.041Z"
   },
   {
    "duration": 35,
    "start_time": "2023-03-02T17:58:43.275Z"
   },
   {
    "duration": 34,
    "start_time": "2023-03-02T17:59:03.640Z"
   },
   {
    "duration": 16,
    "start_time": "2023-03-02T18:10:53.543Z"
   },
   {
    "duration": 12,
    "start_time": "2023-03-02T18:19:51.837Z"
   },
   {
    "duration": 37,
    "start_time": "2023-03-02T18:21:27.001Z"
   },
   {
    "duration": 33,
    "start_time": "2023-03-02T18:22:25.147Z"
   },
   {
    "duration": 55,
    "start_time": "2023-03-02T18:22:32.313Z"
   },
   {
    "duration": 12,
    "start_time": "2023-03-02T18:23:18.288Z"
   },
   {
    "duration": 56,
    "start_time": "2023-03-02T18:23:59.572Z"
   },
   {
    "duration": 57,
    "start_time": "2023-03-02T18:24:29.995Z"
   },
   {
    "duration": 8,
    "start_time": "2023-03-02T18:24:59.687Z"
   },
   {
    "duration": 13,
    "start_time": "2023-03-02T18:25:25.143Z"
   },
   {
    "duration": 10,
    "start_time": "2023-03-02T18:25:29.763Z"
   },
   {
    "duration": 11,
    "start_time": "2023-03-02T18:25:52.894Z"
   },
   {
    "duration": 15,
    "start_time": "2023-03-02T18:26:01.456Z"
   },
   {
    "duration": 429,
    "start_time": "2023-03-02T18:26:12.527Z"
   },
   {
    "duration": 194,
    "start_time": "2023-03-02T18:26:12.958Z"
   },
   {
    "duration": 8,
    "start_time": "2023-03-02T18:26:13.154Z"
   },
   {
    "duration": 30,
    "start_time": "2023-03-02T18:26:13.164Z"
   },
   {
    "duration": 22,
    "start_time": "2023-03-02T18:26:13.196Z"
   },
   {
    "duration": 10,
    "start_time": "2023-03-02T18:26:13.233Z"
   },
   {
    "duration": 18,
    "start_time": "2023-03-02T18:26:13.245Z"
   },
   {
    "duration": 7,
    "start_time": "2023-03-02T18:26:13.265Z"
   },
   {
    "duration": 36,
    "start_time": "2023-03-02T18:26:13.273Z"
   },
   {
    "duration": 35,
    "start_time": "2023-03-02T18:26:13.311Z"
   },
   {
    "duration": 25,
    "start_time": "2023-03-02T18:26:13.348Z"
   },
   {
    "duration": 91,
    "start_time": "2023-03-02T18:26:13.375Z"
   },
   {
    "duration": 117,
    "start_time": "2023-03-02T18:26:13.468Z"
   },
   {
    "duration": 74,
    "start_time": "2023-03-02T18:26:13.588Z"
   },
   {
    "duration": 35,
    "start_time": "2023-03-02T18:26:13.664Z"
   },
   {
    "duration": 28,
    "start_time": "2023-03-02T18:26:13.712Z"
   },
   {
    "duration": 74,
    "start_time": "2023-03-02T18:26:13.746Z"
   },
   {
    "duration": 0,
    "start_time": "2023-03-02T18:26:13.822Z"
   },
   {
    "duration": 0,
    "start_time": "2023-03-02T18:26:13.823Z"
   },
   {
    "duration": 0,
    "start_time": "2023-03-02T18:26:13.824Z"
   },
   {
    "duration": 0,
    "start_time": "2023-03-02T18:26:13.825Z"
   },
   {
    "duration": 0,
    "start_time": "2023-03-02T18:26:13.826Z"
   },
   {
    "duration": 0,
    "start_time": "2023-03-02T18:26:13.826Z"
   },
   {
    "duration": 0,
    "start_time": "2023-03-02T18:26:13.827Z"
   },
   {
    "duration": 0,
    "start_time": "2023-03-02T18:26:13.836Z"
   },
   {
    "duration": 0,
    "start_time": "2023-03-02T18:26:13.837Z"
   },
   {
    "duration": 0,
    "start_time": "2023-03-02T18:26:13.840Z"
   },
   {
    "duration": 0,
    "start_time": "2023-03-02T18:26:13.841Z"
   },
   {
    "duration": 0,
    "start_time": "2023-03-02T18:26:13.842Z"
   },
   {
    "duration": 0,
    "start_time": "2023-03-02T18:26:13.843Z"
   },
   {
    "duration": 1,
    "start_time": "2023-03-02T18:26:13.843Z"
   },
   {
    "duration": 0,
    "start_time": "2023-03-02T18:26:13.846Z"
   },
   {
    "duration": 0,
    "start_time": "2023-03-02T18:26:13.847Z"
   },
   {
    "duration": 0,
    "start_time": "2023-03-02T18:26:13.849Z"
   },
   {
    "duration": 0,
    "start_time": "2023-03-02T18:26:13.850Z"
   },
   {
    "duration": 0,
    "start_time": "2023-03-02T18:26:13.851Z"
   },
   {
    "duration": 0,
    "start_time": "2023-03-02T18:26:13.853Z"
   },
   {
    "duration": 0,
    "start_time": "2023-03-02T18:26:13.854Z"
   },
   {
    "duration": 106,
    "start_time": "2023-03-02T18:26:19.569Z"
   },
   {
    "duration": 136,
    "start_time": "2023-03-02T18:26:33.508Z"
   },
   {
    "duration": 381,
    "start_time": "2023-03-02T18:26:40.271Z"
   },
   {
    "duration": 196,
    "start_time": "2023-03-02T18:26:40.654Z"
   },
   {
    "duration": 8,
    "start_time": "2023-03-02T18:26:40.854Z"
   },
   {
    "duration": 52,
    "start_time": "2023-03-02T18:26:40.864Z"
   },
   {
    "duration": 4,
    "start_time": "2023-03-02T18:26:40.918Z"
   },
   {
    "duration": 25,
    "start_time": "2023-03-02T18:26:40.924Z"
   },
   {
    "duration": 17,
    "start_time": "2023-03-02T18:26:40.953Z"
   },
   {
    "duration": 3,
    "start_time": "2023-03-02T18:26:40.972Z"
   },
   {
    "duration": 32,
    "start_time": "2023-03-02T18:26:40.978Z"
   },
   {
    "duration": 28,
    "start_time": "2023-03-02T18:26:41.012Z"
   },
   {
    "duration": 27,
    "start_time": "2023-03-02T18:26:41.042Z"
   },
   {
    "duration": 120,
    "start_time": "2023-03-02T18:26:41.072Z"
   },
   {
    "duration": 82,
    "start_time": "2023-03-02T18:26:41.194Z"
   },
   {
    "duration": 78,
    "start_time": "2023-03-02T18:26:41.278Z"
   },
   {
    "duration": 37,
    "start_time": "2023-03-02T18:26:41.357Z"
   },
   {
    "duration": 35,
    "start_time": "2023-03-02T18:26:41.395Z"
   },
   {
    "duration": 95,
    "start_time": "2023-03-02T18:26:41.431Z"
   },
   {
    "duration": 0,
    "start_time": "2023-03-02T18:26:41.528Z"
   },
   {
    "duration": 0,
    "start_time": "2023-03-02T18:26:41.529Z"
   },
   {
    "duration": 0,
    "start_time": "2023-03-02T18:26:41.530Z"
   },
   {
    "duration": 0,
    "start_time": "2023-03-02T18:26:41.530Z"
   },
   {
    "duration": 0,
    "start_time": "2023-03-02T18:26:41.542Z"
   },
   {
    "duration": 0,
    "start_time": "2023-03-02T18:26:41.545Z"
   },
   {
    "duration": 0,
    "start_time": "2023-03-02T18:26:41.552Z"
   },
   {
    "duration": 0,
    "start_time": "2023-03-02T18:26:41.553Z"
   },
   {
    "duration": 0,
    "start_time": "2023-03-02T18:26:41.555Z"
   },
   {
    "duration": 0,
    "start_time": "2023-03-02T18:26:41.556Z"
   },
   {
    "duration": 1,
    "start_time": "2023-03-02T18:26:41.557Z"
   },
   {
    "duration": 0,
    "start_time": "2023-03-02T18:26:41.559Z"
   },
   {
    "duration": 0,
    "start_time": "2023-03-02T18:26:41.561Z"
   },
   {
    "duration": 0,
    "start_time": "2023-03-02T18:26:41.562Z"
   },
   {
    "duration": 0,
    "start_time": "2023-03-02T18:26:41.564Z"
   },
   {
    "duration": 0,
    "start_time": "2023-03-02T18:26:41.565Z"
   },
   {
    "duration": 0,
    "start_time": "2023-03-02T18:26:41.566Z"
   },
   {
    "duration": 0,
    "start_time": "2023-03-02T18:26:41.568Z"
   },
   {
    "duration": 0,
    "start_time": "2023-03-02T18:26:41.569Z"
   },
   {
    "duration": 0,
    "start_time": "2023-03-02T18:26:41.570Z"
   },
   {
    "duration": 0,
    "start_time": "2023-03-02T18:26:41.572Z"
   },
   {
    "duration": 120,
    "start_time": "2023-03-02T18:27:24.403Z"
   },
   {
    "duration": 35,
    "start_time": "2023-03-02T18:27:30.543Z"
   },
   {
    "duration": 108,
    "start_time": "2023-03-02T18:28:17.870Z"
   },
   {
    "duration": 33,
    "start_time": "2023-03-02T18:28:36.463Z"
   },
   {
    "duration": 59,
    "start_time": "2023-03-02T18:28:56.407Z"
   },
   {
    "duration": 12,
    "start_time": "2023-03-02T18:29:18.013Z"
   },
   {
    "duration": 7,
    "start_time": "2023-03-02T18:29:42.701Z"
   },
   {
    "duration": 19,
    "start_time": "2023-03-02T18:30:10.211Z"
   },
   {
    "duration": 16,
    "start_time": "2023-03-02T18:30:21.811Z"
   },
   {
    "duration": 12,
    "start_time": "2023-03-02T18:30:58.687Z"
   },
   {
    "duration": 20,
    "start_time": "2023-03-02T18:31:12.111Z"
   },
   {
    "duration": 65,
    "start_time": "2023-03-02T18:31:39.880Z"
   },
   {
    "duration": 11,
    "start_time": "2023-03-02T18:42:19.032Z"
   },
   {
    "duration": 4499,
    "start_time": "2023-03-02T18:42:54.671Z"
   },
   {
    "duration": 45,
    "start_time": "2023-03-02T18:43:23.800Z"
   },
   {
    "duration": 521,
    "start_time": "2023-03-02T18:43:59.308Z"
   },
   {
    "duration": 279,
    "start_time": "2023-03-02T18:43:59.837Z"
   },
   {
    "duration": 12,
    "start_time": "2023-03-02T18:44:00.118Z"
   },
   {
    "duration": 59,
    "start_time": "2023-03-02T18:44:00.133Z"
   },
   {
    "duration": 107,
    "start_time": "2023-03-02T18:44:00.195Z"
   },
   {
    "duration": 35,
    "start_time": "2023-03-02T18:44:00.305Z"
   },
   {
    "duration": 92,
    "start_time": "2023-03-02T18:44:00.346Z"
   },
   {
    "duration": 37,
    "start_time": "2023-03-02T18:44:00.440Z"
   },
   {
    "duration": 70,
    "start_time": "2023-03-02T18:44:00.479Z"
   },
   {
    "duration": 35,
    "start_time": "2023-03-02T18:44:00.555Z"
   },
   {
    "duration": 49,
    "start_time": "2023-03-02T18:44:00.591Z"
   },
   {
    "duration": 122,
    "start_time": "2023-03-02T18:44:00.642Z"
   },
   {
    "duration": 75,
    "start_time": "2023-03-02T18:44:00.768Z"
   },
   {
    "duration": 94,
    "start_time": "2023-03-02T18:44:00.844Z"
   },
   {
    "duration": 53,
    "start_time": "2023-03-02T18:44:00.940Z"
   },
   {
    "duration": 51,
    "start_time": "2023-03-02T18:44:00.995Z"
   },
   {
    "duration": 100,
    "start_time": "2023-03-02T18:44:01.048Z"
   },
   {
    "duration": 48,
    "start_time": "2023-03-02T18:44:01.150Z"
   },
   {
    "duration": 2,
    "start_time": "2023-03-02T18:44:01.200Z"
   },
   {
    "duration": 20,
    "start_time": "2023-03-02T18:44:01.204Z"
   },
   {
    "duration": 38,
    "start_time": "2023-03-02T18:44:01.226Z"
   },
   {
    "duration": 8,
    "start_time": "2023-03-02T18:44:01.266Z"
   },
   {
    "duration": 51,
    "start_time": "2023-03-02T18:44:01.276Z"
   },
   {
    "duration": 43,
    "start_time": "2023-03-02T18:44:01.329Z"
   },
   {
    "duration": 51,
    "start_time": "2023-03-02T18:44:01.374Z"
   },
   {
    "duration": 45,
    "start_time": "2023-03-02T18:44:01.427Z"
   },
   {
    "duration": 46,
    "start_time": "2023-03-02T18:44:01.475Z"
   },
   {
    "duration": 17,
    "start_time": "2023-03-02T18:44:01.525Z"
   },
   {
    "duration": 46,
    "start_time": "2023-03-02T18:44:01.544Z"
   },
   {
    "duration": 106,
    "start_time": "2023-03-02T18:44:01.591Z"
   },
   {
    "duration": 0,
    "start_time": "2023-03-02T18:44:01.699Z"
   },
   {
    "duration": 0,
    "start_time": "2023-03-02T18:44:01.701Z"
   },
   {
    "duration": 0,
    "start_time": "2023-03-02T18:44:01.702Z"
   },
   {
    "duration": 0,
    "start_time": "2023-03-02T18:44:01.703Z"
   },
   {
    "duration": 0,
    "start_time": "2023-03-02T18:44:01.705Z"
   },
   {
    "duration": 0,
    "start_time": "2023-03-02T18:44:01.706Z"
   },
   {
    "duration": 0,
    "start_time": "2023-03-02T18:44:01.708Z"
   },
   {
    "duration": 0,
    "start_time": "2023-03-02T18:44:01.709Z"
   },
   {
    "duration": 12,
    "start_time": "2023-03-02T18:44:52.390Z"
   },
   {
    "duration": 12,
    "start_time": "2023-03-02T18:45:33.557Z"
   },
   {
    "duration": 53,
    "start_time": "2023-03-02T18:46:09.237Z"
   },
   {
    "duration": 53,
    "start_time": "2023-03-02T18:46:24.558Z"
   },
   {
    "duration": 12,
    "start_time": "2023-03-02T18:46:35.464Z"
   },
   {
    "duration": 41,
    "start_time": "2023-03-02T18:46:49.140Z"
   },
   {
    "duration": 12,
    "start_time": "2023-03-02T18:47:01.475Z"
   },
   {
    "duration": 12,
    "start_time": "2023-03-02T18:47:25.855Z"
   },
   {
    "duration": 97,
    "start_time": "2023-03-02T19:24:27.907Z"
   },
   {
    "duration": 8,
    "start_time": "2023-03-02T19:24:42.066Z"
   },
   {
    "duration": 12,
    "start_time": "2023-03-02T19:24:57.654Z"
   },
   {
    "duration": 9,
    "start_time": "2023-03-02T19:25:22.931Z"
   },
   {
    "duration": 8,
    "start_time": "2023-03-02T19:25:28.805Z"
   },
   {
    "duration": 10,
    "start_time": "2023-03-02T19:27:50.271Z"
   },
   {
    "duration": 120,
    "start_time": "2023-03-02T19:28:01.485Z"
   },
   {
    "duration": 98,
    "start_time": "2023-03-02T19:28:07.207Z"
   },
   {
    "duration": 102,
    "start_time": "2023-03-02T20:15:45.856Z"
   },
   {
    "duration": 11,
    "start_time": "2023-03-02T20:15:55.335Z"
   },
   {
    "duration": 14,
    "start_time": "2023-03-02T20:16:19.531Z"
   },
   {
    "duration": 396,
    "start_time": "2023-03-02T20:17:12.194Z"
   },
   {
    "duration": 193,
    "start_time": "2023-03-02T20:17:12.591Z"
   },
   {
    "duration": 8,
    "start_time": "2023-03-02T20:17:12.785Z"
   },
   {
    "duration": 53,
    "start_time": "2023-03-02T20:17:12.795Z"
   },
   {
    "duration": 4,
    "start_time": "2023-03-02T20:17:12.852Z"
   },
   {
    "duration": 5,
    "start_time": "2023-03-02T20:17:12.857Z"
   },
   {
    "duration": 16,
    "start_time": "2023-03-02T20:17:12.863Z"
   },
   {
    "duration": 6,
    "start_time": "2023-03-02T20:17:12.881Z"
   },
   {
    "duration": 57,
    "start_time": "2023-03-02T20:17:12.889Z"
   },
   {
    "duration": 20,
    "start_time": "2023-03-02T20:17:12.954Z"
   },
   {
    "duration": 21,
    "start_time": "2023-03-02T20:17:12.976Z"
   },
   {
    "duration": 84,
    "start_time": "2023-03-02T20:17:12.999Z"
   },
   {
    "duration": 89,
    "start_time": "2023-03-02T20:17:13.085Z"
   },
   {
    "duration": 69,
    "start_time": "2023-03-02T20:17:13.175Z"
   },
   {
    "duration": 39,
    "start_time": "2023-03-02T20:17:13.246Z"
   },
   {
    "duration": 37,
    "start_time": "2023-03-02T20:17:13.286Z"
   },
   {
    "duration": 42,
    "start_time": "2023-03-02T20:17:13.331Z"
   },
   {
    "duration": 11,
    "start_time": "2023-03-02T20:17:13.375Z"
   },
   {
    "duration": 9,
    "start_time": "2023-03-02T20:17:13.388Z"
   },
   {
    "duration": 3,
    "start_time": "2023-03-02T20:17:13.399Z"
   },
   {
    "duration": 23,
    "start_time": "2023-03-02T20:17:13.421Z"
   },
   {
    "duration": 6,
    "start_time": "2023-03-02T20:17:13.446Z"
   },
   {
    "duration": 6,
    "start_time": "2023-03-02T20:17:13.453Z"
   },
   {
    "duration": 4,
    "start_time": "2023-03-02T20:17:13.460Z"
   },
   {
    "duration": 4,
    "start_time": "2023-03-02T20:17:13.465Z"
   },
   {
    "duration": 6,
    "start_time": "2023-03-02T20:17:13.471Z"
   },
   {
    "duration": 9,
    "start_time": "2023-03-02T20:17:13.478Z"
   },
   {
    "duration": 2,
    "start_time": "2023-03-02T20:17:13.489Z"
   },
   {
    "duration": 4,
    "start_time": "2023-03-02T20:17:13.492Z"
   },
   {
    "duration": 105,
    "start_time": "2023-03-02T20:17:13.498Z"
   },
   {
    "duration": 0,
    "start_time": "2023-03-02T20:17:13.604Z"
   },
   {
    "duration": 0,
    "start_time": "2023-03-02T20:17:13.605Z"
   },
   {
    "duration": 0,
    "start_time": "2023-03-02T20:17:13.606Z"
   },
   {
    "duration": 0,
    "start_time": "2023-03-02T20:17:13.607Z"
   },
   {
    "duration": 0,
    "start_time": "2023-03-02T20:17:13.607Z"
   },
   {
    "duration": 0,
    "start_time": "2023-03-02T20:17:13.608Z"
   },
   {
    "duration": 0,
    "start_time": "2023-03-02T20:17:13.609Z"
   },
   {
    "duration": 0,
    "start_time": "2023-03-02T20:17:13.610Z"
   },
   {
    "duration": 17,
    "start_time": "2023-03-03T14:12:06.253Z"
   },
   {
    "duration": 8,
    "start_time": "2023-03-03T14:12:07.085Z"
   },
   {
    "duration": 9,
    "start_time": "2023-03-03T14:12:07.426Z"
   },
   {
    "duration": 28,
    "start_time": "2023-03-03T14:12:07.981Z"
   },
   {
    "duration": 18,
    "start_time": "2023-03-03T14:12:08.484Z"
   },
   {
    "duration": 26,
    "start_time": "2023-03-03T14:12:38.779Z"
   },
   {
    "duration": 18,
    "start_time": "2023-03-03T14:12:38.924Z"
   },
   {
    "duration": 76,
    "start_time": "2023-03-03T14:14:12.248Z"
   },
   {
    "duration": 10,
    "start_time": "2023-03-03T14:14:26.725Z"
   },
   {
    "duration": 398,
    "start_time": "2023-03-03T14:15:04.988Z"
   },
   {
    "duration": 197,
    "start_time": "2023-03-03T14:15:05.388Z"
   },
   {
    "duration": 9,
    "start_time": "2023-03-03T14:15:05.587Z"
   },
   {
    "duration": 45,
    "start_time": "2023-03-03T14:15:05.597Z"
   },
   {
    "duration": 3,
    "start_time": "2023-03-03T14:15:05.644Z"
   },
   {
    "duration": 4,
    "start_time": "2023-03-03T14:15:05.649Z"
   },
   {
    "duration": 17,
    "start_time": "2023-03-03T14:15:05.655Z"
   },
   {
    "duration": 15,
    "start_time": "2023-03-03T14:15:05.674Z"
   },
   {
    "duration": 54,
    "start_time": "2023-03-03T14:15:05.691Z"
   },
   {
    "duration": 23,
    "start_time": "2023-03-03T14:15:05.747Z"
   },
   {
    "duration": 23,
    "start_time": "2023-03-03T14:15:05.772Z"
   },
   {
    "duration": 73,
    "start_time": "2023-03-03T14:15:05.815Z"
   },
   {
    "duration": 96,
    "start_time": "2023-03-03T14:15:05.889Z"
   },
   {
    "duration": 80,
    "start_time": "2023-03-03T14:15:05.988Z"
   },
   {
    "duration": 59,
    "start_time": "2023-03-03T14:15:06.069Z"
   },
   {
    "duration": 13,
    "start_time": "2023-03-03T14:15:06.130Z"
   },
   {
    "duration": 57,
    "start_time": "2023-03-03T14:15:06.146Z"
   },
   {
    "duration": 22,
    "start_time": "2023-03-03T14:15:06.205Z"
   },
   {
    "duration": 10,
    "start_time": "2023-03-03T14:15:06.228Z"
   },
   {
    "duration": 5,
    "start_time": "2023-03-03T14:15:06.240Z"
   },
   {
    "duration": 23,
    "start_time": "2023-03-03T14:15:06.247Z"
   },
   {
    "duration": 16,
    "start_time": "2023-03-03T14:15:06.271Z"
   },
   {
    "duration": 25,
    "start_time": "2023-03-03T14:15:06.314Z"
   },
   {
    "duration": 105,
    "start_time": "2023-03-03T14:15:06.340Z"
   },
   {
    "duration": 19,
    "start_time": "2023-03-03T14:15:06.447Z"
   },
   {
    "duration": 39,
    "start_time": "2023-03-03T14:15:06.468Z"
   },
   {
    "duration": 85,
    "start_time": "2023-03-03T14:15:06.509Z"
   },
   {
    "duration": 0,
    "start_time": "2023-03-03T14:15:06.597Z"
   },
   {
    "duration": 0,
    "start_time": "2023-03-03T14:15:06.598Z"
   },
   {
    "duration": 0,
    "start_time": "2023-03-03T14:15:06.599Z"
   },
   {
    "duration": 0,
    "start_time": "2023-03-03T14:15:06.601Z"
   },
   {
    "duration": 0,
    "start_time": "2023-03-03T14:15:06.602Z"
   },
   {
    "duration": 0,
    "start_time": "2023-03-03T14:15:06.604Z"
   },
   {
    "duration": 0,
    "start_time": "2023-03-03T14:15:06.605Z"
   },
   {
    "duration": 0,
    "start_time": "2023-03-03T14:15:06.607Z"
   },
   {
    "duration": 0,
    "start_time": "2023-03-03T14:15:06.614Z"
   },
   {
    "duration": 0,
    "start_time": "2023-03-03T14:15:06.615Z"
   },
   {
    "duration": 0,
    "start_time": "2023-03-03T14:15:06.620Z"
   },
   {
    "duration": 9,
    "start_time": "2023-03-03T14:15:24.729Z"
   },
   {
    "duration": 10,
    "start_time": "2023-03-03T14:15:49.654Z"
   },
   {
    "duration": 83,
    "start_time": "2023-03-03T14:19:47.224Z"
   },
   {
    "duration": 64,
    "start_time": "2023-03-03T14:20:08.269Z"
   },
   {
    "duration": 4,
    "start_time": "2023-03-03T14:21:27.687Z"
   },
   {
    "duration": 15,
    "start_time": "2023-03-03T14:23:23.710Z"
   },
   {
    "duration": 16,
    "start_time": "2023-03-03T14:23:42.948Z"
   },
   {
    "duration": 440,
    "start_time": "2023-03-03T14:25:21.883Z"
   },
   {
    "duration": 179,
    "start_time": "2023-03-03T14:25:22.326Z"
   },
   {
    "duration": 9,
    "start_time": "2023-03-03T14:25:22.506Z"
   },
   {
    "duration": 30,
    "start_time": "2023-03-03T14:25:22.517Z"
   },
   {
    "duration": 4,
    "start_time": "2023-03-03T14:25:22.549Z"
   },
   {
    "duration": 5,
    "start_time": "2023-03-03T14:25:22.554Z"
   },
   {
    "duration": 15,
    "start_time": "2023-03-03T14:25:22.562Z"
   },
   {
    "duration": 5,
    "start_time": "2023-03-03T14:25:22.612Z"
   },
   {
    "duration": 33,
    "start_time": "2023-03-03T14:25:22.619Z"
   },
   {
    "duration": 24,
    "start_time": "2023-03-03T14:25:22.654Z"
   },
   {
    "duration": 44,
    "start_time": "2023-03-03T14:25:22.680Z"
   },
   {
    "duration": 71,
    "start_time": "2023-03-03T14:25:22.726Z"
   },
   {
    "duration": 79,
    "start_time": "2023-03-03T14:25:22.813Z"
   },
   {
    "duration": 81,
    "start_time": "2023-03-03T14:25:22.895Z"
   },
   {
    "duration": 49,
    "start_time": "2023-03-03T14:25:22.977Z"
   },
   {
    "duration": 14,
    "start_time": "2023-03-03T14:25:23.028Z"
   },
   {
    "duration": 51,
    "start_time": "2023-03-03T14:25:23.044Z"
   },
   {
    "duration": 34,
    "start_time": "2023-03-03T14:25:23.097Z"
   },
   {
    "duration": 11,
    "start_time": "2023-03-03T14:25:23.133Z"
   },
   {
    "duration": 4,
    "start_time": "2023-03-03T14:25:23.146Z"
   },
   {
    "duration": 26,
    "start_time": "2023-03-03T14:25:23.152Z"
   },
   {
    "duration": 17,
    "start_time": "2023-03-03T14:25:23.180Z"
   },
   {
    "duration": 30,
    "start_time": "2023-03-03T14:25:23.213Z"
   },
   {
    "duration": 16,
    "start_time": "2023-03-03T14:25:23.244Z"
   },
   {
    "duration": 19,
    "start_time": "2023-03-03T14:25:23.262Z"
   },
   {
    "duration": 34,
    "start_time": "2023-03-03T14:25:23.283Z"
   },
   {
    "duration": 4,
    "start_time": "2023-03-03T14:25:23.318Z"
   },
   {
    "duration": 17,
    "start_time": "2023-03-03T14:25:23.324Z"
   },
   {
    "duration": 14,
    "start_time": "2023-03-03T14:25:23.343Z"
   },
   {
    "duration": 76,
    "start_time": "2023-03-03T14:25:23.359Z"
   },
   {
    "duration": 0,
    "start_time": "2023-03-03T14:25:23.437Z"
   },
   {
    "duration": 0,
    "start_time": "2023-03-03T14:25:23.439Z"
   },
   {
    "duration": 0,
    "start_time": "2023-03-03T14:25:23.441Z"
   },
   {
    "duration": 0,
    "start_time": "2023-03-03T14:25:23.443Z"
   },
   {
    "duration": 0,
    "start_time": "2023-03-03T14:25:23.445Z"
   },
   {
    "duration": 0,
    "start_time": "2023-03-03T14:25:23.447Z"
   },
   {
    "duration": 0,
    "start_time": "2023-03-03T14:25:23.449Z"
   },
   {
    "duration": 0,
    "start_time": "2023-03-03T14:25:23.451Z"
   },
   {
    "duration": 12,
    "start_time": "2023-03-03T14:26:12.328Z"
   },
   {
    "duration": 5,
    "start_time": "2023-03-03T14:34:31.419Z"
   },
   {
    "duration": 90,
    "start_time": "2023-03-03T14:37:17.360Z"
   },
   {
    "duration": 433,
    "start_time": "2023-03-03T14:38:01.869Z"
   },
   {
    "duration": 179,
    "start_time": "2023-03-03T14:38:02.304Z"
   },
   {
    "duration": 25,
    "start_time": "2023-03-03T14:38:02.487Z"
   },
   {
    "duration": 50,
    "start_time": "2023-03-03T14:38:02.516Z"
   },
   {
    "duration": 3,
    "start_time": "2023-03-03T14:38:02.568Z"
   },
   {
    "duration": 15,
    "start_time": "2023-03-03T14:38:02.574Z"
   },
   {
    "duration": 33,
    "start_time": "2023-03-03T14:38:02.592Z"
   },
   {
    "duration": 6,
    "start_time": "2023-03-03T14:38:02.628Z"
   },
   {
    "duration": 59,
    "start_time": "2023-03-03T14:38:02.636Z"
   },
   {
    "duration": 38,
    "start_time": "2023-03-03T14:38:02.711Z"
   },
   {
    "duration": 33,
    "start_time": "2023-03-03T14:38:02.751Z"
   },
   {
    "duration": 82,
    "start_time": "2023-03-03T14:38:02.786Z"
   },
   {
    "duration": 87,
    "start_time": "2023-03-03T14:38:02.872Z"
   },
   {
    "duration": 76,
    "start_time": "2023-03-03T14:38:02.961Z"
   },
   {
    "duration": 42,
    "start_time": "2023-03-03T14:38:03.039Z"
   },
   {
    "duration": 29,
    "start_time": "2023-03-03T14:38:03.083Z"
   },
   {
    "duration": 65,
    "start_time": "2023-03-03T14:38:03.114Z"
   },
   {
    "duration": 12,
    "start_time": "2023-03-03T14:38:03.182Z"
   },
   {
    "duration": 10,
    "start_time": "2023-03-03T14:38:03.212Z"
   },
   {
    "duration": 4,
    "start_time": "2023-03-03T14:38:03.224Z"
   },
   {
    "duration": 22,
    "start_time": "2023-03-03T14:38:03.230Z"
   },
   {
    "duration": 16,
    "start_time": "2023-03-03T14:38:03.254Z"
   },
   {
    "duration": 51,
    "start_time": "2023-03-03T14:38:03.272Z"
   },
   {
    "duration": 16,
    "start_time": "2023-03-03T14:38:03.325Z"
   },
   {
    "duration": 19,
    "start_time": "2023-03-03T14:38:03.343Z"
   },
   {
    "duration": 51,
    "start_time": "2023-03-03T14:38:03.364Z"
   },
   {
    "duration": 5,
    "start_time": "2023-03-03T14:38:03.416Z"
   },
   {
    "duration": 13,
    "start_time": "2023-03-03T14:38:03.423Z"
   },
   {
    "duration": 11,
    "start_time": "2023-03-03T14:38:03.438Z"
   },
   {
    "duration": 5,
    "start_time": "2023-03-03T14:38:03.451Z"
   },
   {
    "duration": 22,
    "start_time": "2023-03-03T14:38:03.458Z"
   },
   {
    "duration": 31,
    "start_time": "2023-03-03T14:38:03.482Z"
   },
   {
    "duration": 4,
    "start_time": "2023-03-03T14:38:03.516Z"
   },
   {
    "duration": 5,
    "start_time": "2023-03-03T14:38:03.521Z"
   },
   {
    "duration": 4,
    "start_time": "2023-03-03T14:38:03.528Z"
   },
   {
    "duration": 17,
    "start_time": "2023-03-03T14:38:03.534Z"
   },
   {
    "duration": 4,
    "start_time": "2023-03-03T14:38:03.553Z"
   },
   {
    "duration": 105,
    "start_time": "2023-03-03T14:38:03.559Z"
   },
   {
    "duration": 26,
    "start_time": "2023-03-03T14:38:13.205Z"
   },
   {
    "duration": 19,
    "start_time": "2023-03-03T14:38:30.363Z"
   },
   {
    "duration": 29,
    "start_time": "2023-03-03T14:38:58.088Z"
   },
   {
    "duration": 13,
    "start_time": "2023-03-03T14:38:58.325Z"
   },
   {
    "duration": 13,
    "start_time": "2023-03-03T14:42:12.508Z"
   },
   {
    "duration": 454,
    "start_time": "2023-03-03T14:42:51.296Z"
   },
   {
    "duration": 199,
    "start_time": "2023-03-03T14:42:51.752Z"
   },
   {
    "duration": 8,
    "start_time": "2023-03-03T14:42:51.953Z"
   },
   {
    "duration": 34,
    "start_time": "2023-03-03T14:42:51.963Z"
   },
   {
    "duration": 4,
    "start_time": "2023-03-03T14:42:52.012Z"
   },
   {
    "duration": 10,
    "start_time": "2023-03-03T14:42:52.019Z"
   },
   {
    "duration": 20,
    "start_time": "2023-03-03T14:42:52.031Z"
   },
   {
    "duration": 4,
    "start_time": "2023-03-03T14:42:52.054Z"
   },
   {
    "duration": 75,
    "start_time": "2023-03-03T14:42:52.061Z"
   },
   {
    "duration": 35,
    "start_time": "2023-03-03T14:42:52.139Z"
   },
   {
    "duration": 39,
    "start_time": "2023-03-03T14:42:52.176Z"
   },
   {
    "duration": 79,
    "start_time": "2023-03-03T14:42:52.217Z"
   },
   {
    "duration": 81,
    "start_time": "2023-03-03T14:42:52.297Z"
   },
   {
    "duration": 82,
    "start_time": "2023-03-03T14:42:52.381Z"
   },
   {
    "duration": 52,
    "start_time": "2023-03-03T14:42:52.465Z"
   },
   {
    "duration": 14,
    "start_time": "2023-03-03T14:42:52.519Z"
   },
   {
    "duration": 35,
    "start_time": "2023-03-03T14:42:52.535Z"
   },
   {
    "duration": 12,
    "start_time": "2023-03-03T14:42:52.572Z"
   },
   {
    "duration": 35,
    "start_time": "2023-03-03T14:42:52.586Z"
   },
   {
    "duration": 6,
    "start_time": "2023-03-03T14:42:52.623Z"
   },
   {
    "duration": 24,
    "start_time": "2023-03-03T14:42:52.630Z"
   },
   {
    "duration": 16,
    "start_time": "2023-03-03T14:42:52.655Z"
   },
   {
    "duration": 46,
    "start_time": "2023-03-03T14:42:52.672Z"
   },
   {
    "duration": 16,
    "start_time": "2023-03-03T14:42:52.720Z"
   },
   {
    "duration": 20,
    "start_time": "2023-03-03T14:42:52.739Z"
   },
   {
    "duration": 15,
    "start_time": "2023-03-03T14:42:52.762Z"
   },
   {
    "duration": 37,
    "start_time": "2023-03-03T14:42:52.779Z"
   },
   {
    "duration": 13,
    "start_time": "2023-03-03T14:42:52.818Z"
   },
   {
    "duration": 10,
    "start_time": "2023-03-03T14:42:52.833Z"
   },
   {
    "duration": 7,
    "start_time": "2023-03-03T14:42:52.845Z"
   },
   {
    "duration": 22,
    "start_time": "2023-03-03T14:42:52.854Z"
   },
   {
    "duration": 36,
    "start_time": "2023-03-03T14:42:52.878Z"
   },
   {
    "duration": 34,
    "start_time": "2023-03-03T14:42:52.916Z"
   },
   {
    "duration": 16,
    "start_time": "2023-03-03T14:42:52.952Z"
   },
   {
    "duration": 43,
    "start_time": "2023-03-03T14:42:52.970Z"
   },
   {
    "duration": 3,
    "start_time": "2023-03-03T14:42:53.015Z"
   },
   {
    "duration": 5,
    "start_time": "2023-03-03T14:42:53.019Z"
   },
   {
    "duration": 89,
    "start_time": "2023-03-03T14:42:53.025Z"
   },
   {
    "duration": 11,
    "start_time": "2023-03-03T14:45:21.894Z"
   },
   {
    "duration": 10,
    "start_time": "2023-03-03T14:45:23.757Z"
   },
   {
    "duration": 13,
    "start_time": "2023-03-03T14:46:04.305Z"
   },
   {
    "duration": 22,
    "start_time": "2023-03-03T14:46:35.856Z"
   },
   {
    "duration": 9,
    "start_time": "2023-03-03T14:46:56.548Z"
   },
   {
    "duration": 467,
    "start_time": "2023-03-03T14:47:02.235Z"
   },
   {
    "duration": 179,
    "start_time": "2023-03-03T14:47:02.705Z"
   },
   {
    "duration": 9,
    "start_time": "2023-03-03T14:47:02.885Z"
   },
   {
    "duration": 46,
    "start_time": "2023-03-03T14:47:02.895Z"
   },
   {
    "duration": 3,
    "start_time": "2023-03-03T14:47:02.945Z"
   },
   {
    "duration": 18,
    "start_time": "2023-03-03T14:47:02.950Z"
   },
   {
    "duration": 16,
    "start_time": "2023-03-03T14:47:02.969Z"
   },
   {
    "duration": 24,
    "start_time": "2023-03-03T14:47:02.987Z"
   },
   {
    "duration": 43,
    "start_time": "2023-03-03T14:47:03.013Z"
   },
   {
    "duration": 22,
    "start_time": "2023-03-03T14:47:03.058Z"
   },
   {
    "duration": 34,
    "start_time": "2023-03-03T14:47:03.082Z"
   },
   {
    "duration": 69,
    "start_time": "2023-03-03T14:47:03.118Z"
   },
   {
    "duration": 90,
    "start_time": "2023-03-03T14:47:03.189Z"
   },
   {
    "duration": 79,
    "start_time": "2023-03-03T14:47:03.282Z"
   },
   {
    "duration": 37,
    "start_time": "2023-03-03T14:47:03.363Z"
   },
   {
    "duration": 17,
    "start_time": "2023-03-03T14:47:03.412Z"
   },
   {
    "duration": 62,
    "start_time": "2023-03-03T14:47:03.431Z"
   },
   {
    "duration": 15,
    "start_time": "2023-03-03T14:47:03.514Z"
   },
   {
    "duration": 15,
    "start_time": "2023-03-03T14:47:03.531Z"
   },
   {
    "duration": 4,
    "start_time": "2023-03-03T14:47:03.550Z"
   },
   {
    "duration": 29,
    "start_time": "2023-03-03T14:47:03.555Z"
   },
   {
    "duration": 25,
    "start_time": "2023-03-03T14:47:03.614Z"
   },
   {
    "duration": 27,
    "start_time": "2023-03-03T14:47:03.641Z"
   },
   {
    "duration": 53,
    "start_time": "2023-03-03T14:47:03.671Z"
   },
   {
    "duration": 26,
    "start_time": "2023-03-03T14:47:03.727Z"
   },
   {
    "duration": 17,
    "start_time": "2023-03-03T14:47:03.755Z"
   },
   {
    "duration": 5,
    "start_time": "2023-03-03T14:47:03.774Z"
   },
   {
    "duration": 48,
    "start_time": "2023-03-03T14:47:03.782Z"
   },
   {
    "duration": 15,
    "start_time": "2023-03-03T14:47:03.833Z"
   },
   {
    "duration": 6,
    "start_time": "2023-03-03T14:47:03.850Z"
   },
   {
    "duration": 24,
    "start_time": "2023-03-03T14:47:03.857Z"
   },
   {
    "duration": 37,
    "start_time": "2023-03-03T14:47:03.882Z"
   },
   {
    "duration": 22,
    "start_time": "2023-03-03T14:47:03.921Z"
   },
   {
    "duration": 19,
    "start_time": "2023-03-03T14:47:03.944Z"
   },
   {
    "duration": 45,
    "start_time": "2023-03-03T14:47:03.966Z"
   },
   {
    "duration": 3,
    "start_time": "2023-03-03T14:47:04.014Z"
   },
   {
    "duration": 5,
    "start_time": "2023-03-03T14:47:04.018Z"
   },
   {
    "duration": 70,
    "start_time": "2023-03-03T14:47:04.025Z"
   },
   {
    "duration": 9,
    "start_time": "2023-03-03T14:47:11.362Z"
   },
   {
    "duration": 10,
    "start_time": "2023-03-03T14:47:28.366Z"
   },
   {
    "duration": 9,
    "start_time": "2023-03-03T14:55:47.755Z"
   },
   {
    "duration": 465,
    "start_time": "2023-03-03T14:57:01.073Z"
   },
   {
    "duration": 195,
    "start_time": "2023-03-03T14:57:01.543Z"
   },
   {
    "duration": 9,
    "start_time": "2023-03-03T14:57:01.740Z"
   },
   {
    "duration": 44,
    "start_time": "2023-03-03T14:57:01.751Z"
   },
   {
    "duration": 29,
    "start_time": "2023-03-03T14:57:01.798Z"
   },
   {
    "duration": 9,
    "start_time": "2023-03-03T14:57:01.829Z"
   },
   {
    "duration": 31,
    "start_time": "2023-03-03T14:57:01.840Z"
   },
   {
    "duration": 20,
    "start_time": "2023-03-03T14:57:01.873Z"
   },
   {
    "duration": 62,
    "start_time": "2023-03-03T14:57:01.895Z"
   },
   {
    "duration": 23,
    "start_time": "2023-03-03T14:57:01.958Z"
   },
   {
    "duration": 25,
    "start_time": "2023-03-03T14:57:01.982Z"
   },
   {
    "duration": 82,
    "start_time": "2023-03-03T14:57:02.009Z"
   },
   {
    "duration": 97,
    "start_time": "2023-03-03T14:57:02.093Z"
   },
   {
    "duration": 79,
    "start_time": "2023-03-03T14:57:02.193Z"
   },
   {
    "duration": 54,
    "start_time": "2023-03-03T14:57:02.274Z"
   },
   {
    "duration": 18,
    "start_time": "2023-03-03T14:57:02.330Z"
   },
   {
    "duration": 85,
    "start_time": "2023-03-03T14:57:02.350Z"
   },
   {
    "duration": 13,
    "start_time": "2023-03-03T14:57:02.437Z"
   },
   {
    "duration": 12,
    "start_time": "2023-03-03T14:57:02.452Z"
   },
   {
    "duration": 4,
    "start_time": "2023-03-03T14:57:02.466Z"
   },
   {
    "duration": 51,
    "start_time": "2023-03-03T14:57:02.472Z"
   },
   {
    "duration": 18,
    "start_time": "2023-03-03T14:57:02.525Z"
   },
   {
    "duration": 19,
    "start_time": "2023-03-03T14:57:02.545Z"
   },
   {
    "duration": 46,
    "start_time": "2023-03-03T14:57:02.566Z"
   },
   {
    "duration": 26,
    "start_time": "2023-03-03T14:57:02.614Z"
   },
   {
    "duration": 18,
    "start_time": "2023-03-03T14:57:02.643Z"
   },
   {
    "duration": 4,
    "start_time": "2023-03-03T14:57:02.663Z"
   },
   {
    "duration": 13,
    "start_time": "2023-03-03T14:57:02.669Z"
   },
   {
    "duration": 40,
    "start_time": "2023-03-03T14:57:02.684Z"
   },
   {
    "duration": 4,
    "start_time": "2023-03-03T14:57:02.728Z"
   },
   {
    "duration": 23,
    "start_time": "2023-03-03T14:57:02.735Z"
   },
   {
    "duration": 14,
    "start_time": "2023-03-03T14:57:02.760Z"
   },
   {
    "duration": 55,
    "start_time": "2023-03-03T14:57:02.775Z"
   },
   {
    "duration": 15,
    "start_time": "2023-03-03T14:57:02.832Z"
   },
   {
    "duration": 11,
    "start_time": "2023-03-03T14:57:02.849Z"
   },
   {
    "duration": 6,
    "start_time": "2023-03-03T14:57:02.862Z"
   },
   {
    "duration": 11,
    "start_time": "2023-03-03T14:57:02.870Z"
   },
   {
    "duration": 103,
    "start_time": "2023-03-03T14:57:02.883Z"
   },
   {
    "duration": 28,
    "start_time": "2023-03-03T14:59:01.225Z"
   }
  ],
  "colab": {
   "collapsed_sections": [
    "E0vqbgi9ay0H",
    "VUC88oWjTJw2"
   ],
   "provenance": []
  },
  "kernelspec": {
   "display_name": "Python 3 (ipykernel)",
   "language": "python",
   "name": "python3"
  },
  "language_info": {
   "codemirror_mode": {
    "name": "ipython",
    "version": 3
   },
   "file_extension": ".py",
   "mimetype": "text/x-python",
   "name": "python",
   "nbconvert_exporter": "python",
   "pygments_lexer": "ipython3",
   "version": "3.9.16"
  },
  "toc": {
   "base_numbering": 1,
   "nav_menu": {
    "height": "215px",
    "width": "403px"
   },
   "number_sections": true,
   "sideBar": true,
   "skip_h1_title": true,
   "title_cell": "Table of Contents",
   "title_sidebar": "Contents",
   "toc_cell": false,
   "toc_position": {
    "height": "calc(100% - 180px)",
    "left": "10px",
    "top": "150px",
    "width": "285.825px"
   },
   "toc_section_display": true,
   "toc_window_display": false
  }
 },
 "nbformat": 4,
 "nbformat_minor": 1
}
