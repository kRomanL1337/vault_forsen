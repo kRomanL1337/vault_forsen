{
 "cells": [
  {
   "cell_type": "markdown",
   "metadata": {},
   "source": [
    "# Содержание самостоятельной работы"
   ]
  },
  {
   "cell_type": "markdown",
   "metadata": {},
   "source": [
    "<ul type=\"square\">\n",
    "    <li><a href=\"#Описание-проекта\">Описание проекта</a></li>\n",
    "    <ol>\n",
    "        <li><a href=\"#Описание-тарифов\">Описание тарифов</a></li>\n",
    "        <li><a href=\"#Описание-данных\">Описание данных </a></li>\n",
    "    </ol><br>\n",
    "    <li><a href=\"#Изучим-общую-информацию-из-имеющихся-данных\">Изучим общую информацию из имеющихся данных</a></li>\n",
    "    <ol>\n",
    "        <li><a href=\"#Изучим-датасет-Calls\">Изучим датасет Calls</a></li>\n",
    "        <li><a href=\"#Изучим-датасет-Internet\">Изучим датасет Internet</a></li>\n",
    "        <li><a href=\"#Изучим-датасет-Messages\">Изучим датасет Messages</a></li>\n",
    "        <li><a href=\"#Изучим-датасет-Tariffs\">Изучим датасет Tariffs</a></li>\n",
    "        <li><a href=\"#Изучим-датасет-Users\">Изучим датасет Users</a></li>\n",
    "        <li><a href=\"#Вывод-по-изучению-общей-информации\">Вывод по изучению общей информации</a></li>\n",
    "    </ol><br>\n",
    "    <li><a href=\"#Предобработка-данных\">Предобработка данных</a></li>\n",
    "    <ol>\n",
    "        <li><a href=\"#Изменим-типы-данных\">Изменим типы данных</a></li>\n",
    "        <li><a href=\"#Округлим-значения-minutes-и-mb_used-у-тарифа-Ultra\">Округлим значения minutes и mb_used у тарифа Ultra</a></li>\n",
    "        <li><a href=\"#Посчитаем-количество-сделанных-звонков-и-израсходованных-минут-разговора-по-месяцам\">Посчитаем количество сделанных звонков и израсходованных минут разговора по месяцам</a></li>\n",
    "        <li><a href=\"#Посчитаем-количество-отправленных-сообщений-по-месяцам\">Посчитаем количество отправленных сообщений по месяцам</a></li>\n",
    "        <li><a href=\"#Посчитаем-объем-израсходованного-интернет-трафика-по-месяцам\">Посчитаем объем израсходованного интернет-трафика по месяцам</a></li>\n",
    "        <li><a href=\"#Посчитаем-помесячную-выручку-с-каждого-пользователя\">Посчитаем помесячную выручку с каждого пользователя</a></li>\n",
    "        <li><a href=\"#Вывод-по-предобработке-данных\">Вывод по предобработке данных</a></li>\n",
    "        </ol><br>\n",
    "    <li><a href=\"#Анализ-данных\">Анализ данных</a></li>\n",
    "    <ol>\n",
    "        <li><a href=\"#Сколько-минут-разговора,-сколько-сообщений-и-какой-объём-интернет-трафика-требуется-пользователям-каждого-тарифа-в-месяц?\">Сколько минут разговора, сколько сообщений и какой объем интернет-трафика требуется пользователям каждого тарифа в месяц?</a></li>\n",
    "        <li><a href=\"#Посчитаем-среднее-количество,-дисперсию-и-стандартное-отклонение.\">Посчитаем среднее количество, дисперсию и стандартное отклонение</a></li>\n",
    "        <li><a href=\"#Построим-гистограммы-и-опишем-распределения\">Построим гистограммы и опишем распределения</a></li>\n",
    "        <li><a href=\"#Вывод-по-Анализу-Данных\">Вывод по анализу данных</a></li>\n",
    "    </ol><br>\n",
    "    <li><a href=\"#Проверим-Гипотезы\">Проверим Гипотезы</a></li>\n",
    "    <ol>\n",
    "        <li><a href=\"#Средняя-выручка-пользователей-тарифов-«Ультра»-и-«Смарт»-различается\">Средняя выручка пользователей тарифов Ультра и Смарт отличается</a></li>\n",
    "        <li><a href=\"#Средняя-выручка-пользователей-из-Москвы-отличается-от-выручки-пользователей-из-других-регионов;\">Средняяя выручка пользователей из Москвы отличается от выручки пользователей из других регионов</li>\n",
    "    </ol><br>\n",
    "    <li><a href=\"#Общий-вывод\">Общий вывод</a></li>\n",
    "    <ol>\n",
    "    </ol>\n",
    "</ul>"
   ]
  },
  {
   "cell_type": "markdown",
   "metadata": {},
   "source": [
    "# Определение перспективного тарифа для компании Мегалайн"
   ]
  },
  {
   "cell_type": "markdown",
   "metadata": {},
   "source": [
    "## Описание проекта\n",
    "\n",
    "«Мегалайн» — федеральный оператор сотовой связи. <br>\n",
    "Клиентам предлагают два тарифных плана: «Смарт» и «Ультра». Чтобы скорректировать рекламный бюджет, коммерческий департамент хочет понять, какой тариф приносит больше денег.\n",
    "Проведем предварительный анализ тарифов на небольшой выборке клиентов. В нашем распоряжении данные 500 пользователей «Мегалайна»: кто они, откуда, каким тарифом пользуются, сколько звонков и сообщений каждый отправил за 2018 год. Проанализируем поведение клиентов и сделаем вывод - какой тариф лучше"
   ]
  },
  {
   "cell_type": "markdown",
   "metadata": {},
   "source": [
    "<h2>Описание тарифов</h2>\n",
    "<h3>Тариф «Смарт»</h3>\n",
    "<p>Ежемесячная плата: 550 рублей<br>\n",
    "Включено 500 минут разговора, 50 сообщений и 15 Гб интернет-трафика<br>\n",
    "Стоимость услуг сверх тарифного пакета:<br>\n",
    "минута разговора: 3 рубля<br>\n",
    "сообщение: 3 рубля<br>\n",
    "1 Гб интернет-трафика: 200 рублей</p><br>\n",
    "<h3>Тариф «Ультра»</h3>\n",
    "<p>Ежемесячная плата: 1950 рублей<br>\n",
    "Включено 3000 минут разговора, 1000 сообщений и 30 Гб интернет-трафика<br>\n",
    "Стоимость услуг сверх тарифного пакета:<br>\n",
    "минута разговора: 1 рубль<br>\n",
    "сообщение: 1 рубль<br>\n",
    "1 Гб интернет-трафика: 150 рублей<br>\n",
    "<u>Обратить внимание: «Мегалайн» всегда округляет вверх значения минут и мегабайтов. Если пользователь проговорил всего 1 секунду, в тарифе засчитывается целая минута.</u></p>"
   ]
  },
  {
   "cell_type": "markdown",
   "metadata": {},
   "source": [
    "<h2>Описание данных</h2><br>\n",
    "<b>Таблица users (информация о пользователях):</b><br>\n",
    "user_id — уникальный идентификатор пользователя<br>\n",
    "first_name — имя пользователя<br>\n",
    "last_name — фамилия пользователя<br>\n",
    "age — возраст пользователя (годы)<br>\n",
    "reg_date — дата подключения тарифа (день, месяц, год)<br>\n",
    "churn_date — дата прекращения пользования тарифом (если значение пропущено, то тариф ещё действовал на момент выгрузки данных)<br>\n",
    "city — город проживания пользователя<br>\n",
    "tariff — название тарифного плана<br><br>\n",
    "<b>Таблица calls (информация о звонках):</b><br>\n",
    "id — уникальный номер звонка<br>\n",
    "call_date — дата звонка<br>\n",
    "duration — длительность звонка в минутах<br>\n",
    "user_id — идентификатор пользователя, сделавшего звонок<br><br>\n",
    "<b>Таблица messages (информация о сообщениях):</b><br>\n",
    "id — уникальный номер сообщения<br>\n",
    "message_date — дата сообщения<br>\n",
    "user_id — идентификатор пользователя, отправившего сообщение<br><br>\n",
    "<b>Таблица internet (информация об интернет-сессиях):</b><br>\n",
    "id — уникальный номер сессии<br>\n",
    "mb_used — объём потраченного за сессию интернет-трафика (в мегабайтах)<br>\n",
    "session_date — дата интернет-сессии<br>\n",
    "user_id — идентификатор пользователя<br><br>\n",
    "<b>Таблица tariffs (информация о тарифах):</b><br>\n",
    "tariff_name — название тарифа<br>\n",
    "rub_monthly_fee — ежемесячная абонентская плата в рублях<br>\n",
    "minutes_included — количество минут разговора в месяц, включённых в абонентскую плату<br>\n",
    "messages_included — количество сообщений в месяц, включённых в абонентскую плату<br>\n",
    "mb_per_month_included — объём интернет-трафика, включённого в абонентскую плату (в мегабайтах)<br>\n",
    "rub_per_minute — стоимость минуты разговора сверх тарифного пакета (например, если в тарифе 100 минут разговора в месяц, то со 101 минуты будет взиматься плата)<br>\n",
    "rub_per_message — стоимость отправки сообщения сверх тарифного пакета<br>\n",
    "rub_per_gb — стоимость дополнительного гигабайта интернет-трафика сверх тарифного пакета (1 гигабайт = 1024 мегабайта)<br>"
   ]
  },
  {
   "cell_type": "markdown",
   "metadata": {},
   "source": [
    "## Изучим общую информацию из имеющихся данных "
   ]
  },
  {
   "cell_type": "code",
   "execution_count": 1,
   "metadata": {},
   "outputs": [],
   "source": [
    "#Подключим необходимые библиотеки для самостоятельной работы\n",
    "import pandas as pd\n",
    "import numpy as np\n",
    "import matplotlib.pyplot as plt\n",
    "%matplotlib inline\n",
    "import seaborn as sns\n",
    "from scipy import stats as st\n",
    "from math import ceil as math"
   ]
  },
  {
   "cell_type": "code",
   "execution_count": 2,
   "metadata": {},
   "outputs": [],
   "source": [
    "#Прочтем наши файлы с данными \n",
    "calls = pd.read_csv('calls.csv') # информация о звонках\n",
    "internet = pd.read_csv('internet.csv') # информация об интернет-сессиях\n",
    "messages = pd.read_csv('messages.csv') # информация о сообщениях\n",
    "tariffs = pd.read_csv('tariffs.csv') # информация о тарифах\n",
    "users = pd.read_csv('users.csv') # информация о пользователях"
   ]
  },
  {
   "cell_type": "markdown",
   "metadata": {},
   "source": [
    "### Изучим датасет Calls "
   ]
  },
  {
   "cell_type": "code",
   "execution_count": 3,
   "metadata": {},
   "outputs": [
    {
     "name": "stdout",
     "output_type": "stream",
     "text": [
      "<class 'pandas.core.frame.DataFrame'>\n",
      "RangeIndex: 202607 entries, 0 to 202606\n",
      "Data columns (total 4 columns):\n",
      " #   Column     Non-Null Count   Dtype  \n",
      "---  ------     --------------   -----  \n",
      " 0   id         202607 non-null  object \n",
      " 1   call_date  202607 non-null  object \n",
      " 2   duration   202607 non-null  float64\n",
      " 3   user_id    202607 non-null  int64  \n",
      "dtypes: float64(1), int64(1), object(2)\n",
      "memory usage: 4.6+ MB\n"
     ]
    }
   ],
   "source": [
    "#Получим информацию с таблицы \"Calls\" методом info\n",
    "calls.info()"
   ]
  },
  {
   "cell_type": "code",
   "execution_count": 4,
   "metadata": {},
   "outputs": [
    {
     "data": {
      "text/html": [
       "<div>\n",
       "<style scoped>\n",
       "    .dataframe tbody tr th:only-of-type {\n",
       "        vertical-align: middle;\n",
       "    }\n",
       "\n",
       "    .dataframe tbody tr th {\n",
       "        vertical-align: top;\n",
       "    }\n",
       "\n",
       "    .dataframe thead th {\n",
       "        text-align: right;\n",
       "    }\n",
       "</style>\n",
       "<table border=\"1\" class=\"dataframe\">\n",
       "  <thead>\n",
       "    <tr style=\"text-align: right;\">\n",
       "      <th></th>\n",
       "      <th>id</th>\n",
       "      <th>call_date</th>\n",
       "      <th>duration</th>\n",
       "      <th>user_id</th>\n",
       "    </tr>\n",
       "  </thead>\n",
       "  <tbody>\n",
       "    <tr>\n",
       "      <th>0</th>\n",
       "      <td>1000_0</td>\n",
       "      <td>2018-07-25</td>\n",
       "      <td>0.00</td>\n",
       "      <td>1000</td>\n",
       "    </tr>\n",
       "    <tr>\n",
       "      <th>1</th>\n",
       "      <td>1000_1</td>\n",
       "      <td>2018-08-17</td>\n",
       "      <td>0.00</td>\n",
       "      <td>1000</td>\n",
       "    </tr>\n",
       "    <tr>\n",
       "      <th>2</th>\n",
       "      <td>1000_2</td>\n",
       "      <td>2018-06-11</td>\n",
       "      <td>2.85</td>\n",
       "      <td>1000</td>\n",
       "    </tr>\n",
       "    <tr>\n",
       "      <th>3</th>\n",
       "      <td>1000_3</td>\n",
       "      <td>2018-09-21</td>\n",
       "      <td>13.80</td>\n",
       "      <td>1000</td>\n",
       "    </tr>\n",
       "    <tr>\n",
       "      <th>4</th>\n",
       "      <td>1000_4</td>\n",
       "      <td>2018-12-15</td>\n",
       "      <td>5.18</td>\n",
       "      <td>1000</td>\n",
       "    </tr>\n",
       "  </tbody>\n",
       "</table>\n",
       "</div>"
      ],
      "text/plain": [
       "       id   call_date  duration  user_id\n",
       "0  1000_0  2018-07-25      0.00     1000\n",
       "1  1000_1  2018-08-17      0.00     1000\n",
       "2  1000_2  2018-06-11      2.85     1000\n",
       "3  1000_3  2018-09-21     13.80     1000\n",
       "4  1000_4  2018-12-15      5.18     1000"
      ]
     },
     "execution_count": 4,
     "metadata": {},
     "output_type": "execute_result"
    }
   ],
   "source": [
    "#Выведем первые 5 строк таблицы calls\n",
    "calls.head()"
   ]
  },
  {
   "cell_type": "code",
   "execution_count": 5,
   "metadata": {},
   "outputs": [
    {
     "data": {
      "text/plain": [
       "Index(['id', 'call_date', 'duration', 'user_id'], dtype='object')"
      ]
     },
     "execution_count": 5,
     "metadata": {},
     "output_type": "execute_result"
    }
   ],
   "source": [
    "#Посмотрим на столбцы в таблице\n",
    "calls.columns"
   ]
  },
  {
   "cell_type": "code",
   "execution_count": 6,
   "metadata": {},
   "outputs": [
    {
     "data": {
      "text/plain": [
       "id           0\n",
       "call_date    0\n",
       "duration     0\n",
       "user_id      0\n",
       "dtype: int64"
      ]
     },
     "execution_count": 6,
     "metadata": {},
     "output_type": "execute_result"
    }
   ],
   "source": [
    "#проверим наличие пустых значений\n",
    "calls.isnull().sum()"
   ]
  },
  {
   "cell_type": "code",
   "execution_count": 7,
   "metadata": {},
   "outputs": [
    {
     "data": {
      "text/plain": [
       "0"
      ]
     },
     "execution_count": 7,
     "metadata": {},
     "output_type": "execute_result"
    }
   ],
   "source": [
    "#Проверим наличие дубликатов\n",
    "calls.duplicated().sum()"
   ]
  },
  {
   "cell_type": "markdown",
   "metadata": {},
   "source": [
    "Вывод: \n",
    " - Необходимо изменить типы данных в столбцах call_date : id, call_date, user_id\n",
    " - Пустых значений и дубликатов не имеется"
   ]
  },
  {
   "cell_type": "markdown",
   "metadata": {},
   "source": [
    "### Изучим датасет Internet"
   ]
  },
  {
   "cell_type": "code",
   "execution_count": 8,
   "metadata": {},
   "outputs": [
    {
     "name": "stdout",
     "output_type": "stream",
     "text": [
      "<class 'pandas.core.frame.DataFrame'>\n",
      "RangeIndex: 149396 entries, 0 to 149395\n",
      "Data columns (total 5 columns):\n",
      " #   Column        Non-Null Count   Dtype  \n",
      "---  ------        --------------   -----  \n",
      " 0   Unnamed: 0    149396 non-null  int64  \n",
      " 1   id            149396 non-null  object \n",
      " 2   mb_used       149396 non-null  float64\n",
      " 3   session_date  149396 non-null  object \n",
      " 4   user_id       149396 non-null  int64  \n",
      "dtypes: float64(1), int64(2), object(2)\n",
      "memory usage: 4.6+ MB\n"
     ]
    }
   ],
   "source": [
    "##Получим информацию с таблицы \"Internet\" методом info\n",
    "internet.info()"
   ]
  },
  {
   "cell_type": "code",
   "execution_count": 9,
   "metadata": {},
   "outputs": [
    {
     "data": {
      "text/html": [
       "<div>\n",
       "<style scoped>\n",
       "    .dataframe tbody tr th:only-of-type {\n",
       "        vertical-align: middle;\n",
       "    }\n",
       "\n",
       "    .dataframe tbody tr th {\n",
       "        vertical-align: top;\n",
       "    }\n",
       "\n",
       "    .dataframe thead th {\n",
       "        text-align: right;\n",
       "    }\n",
       "</style>\n",
       "<table border=\"1\" class=\"dataframe\">\n",
       "  <thead>\n",
       "    <tr style=\"text-align: right;\">\n",
       "      <th></th>\n",
       "      <th>Unnamed: 0</th>\n",
       "      <th>id</th>\n",
       "      <th>mb_used</th>\n",
       "      <th>session_date</th>\n",
       "      <th>user_id</th>\n",
       "    </tr>\n",
       "  </thead>\n",
       "  <tbody>\n",
       "    <tr>\n",
       "      <th>0</th>\n",
       "      <td>0</td>\n",
       "      <td>1000_0</td>\n",
       "      <td>112.95</td>\n",
       "      <td>2018-11-25</td>\n",
       "      <td>1000</td>\n",
       "    </tr>\n",
       "    <tr>\n",
       "      <th>1</th>\n",
       "      <td>1</td>\n",
       "      <td>1000_1</td>\n",
       "      <td>1052.81</td>\n",
       "      <td>2018-09-07</td>\n",
       "      <td>1000</td>\n",
       "    </tr>\n",
       "    <tr>\n",
       "      <th>2</th>\n",
       "      <td>2</td>\n",
       "      <td>1000_2</td>\n",
       "      <td>1197.26</td>\n",
       "      <td>2018-06-25</td>\n",
       "      <td>1000</td>\n",
       "    </tr>\n",
       "    <tr>\n",
       "      <th>3</th>\n",
       "      <td>3</td>\n",
       "      <td>1000_3</td>\n",
       "      <td>550.27</td>\n",
       "      <td>2018-08-22</td>\n",
       "      <td>1000</td>\n",
       "    </tr>\n",
       "    <tr>\n",
       "      <th>4</th>\n",
       "      <td>4</td>\n",
       "      <td>1000_4</td>\n",
       "      <td>302.56</td>\n",
       "      <td>2018-09-24</td>\n",
       "      <td>1000</td>\n",
       "    </tr>\n",
       "  </tbody>\n",
       "</table>\n",
       "</div>"
      ],
      "text/plain": [
       "   Unnamed: 0      id  mb_used session_date  user_id\n",
       "0           0  1000_0   112.95   2018-11-25     1000\n",
       "1           1  1000_1  1052.81   2018-09-07     1000\n",
       "2           2  1000_2  1197.26   2018-06-25     1000\n",
       "3           3  1000_3   550.27   2018-08-22     1000\n",
       "4           4  1000_4   302.56   2018-09-24     1000"
      ]
     },
     "execution_count": 9,
     "metadata": {},
     "output_type": "execute_result"
    }
   ],
   "source": [
    "#Выведем первые 5 строк таблицы internet\n",
    "internet.head()"
   ]
  },
  {
   "cell_type": "code",
   "execution_count": 10,
   "metadata": {},
   "outputs": [
    {
     "data": {
      "text/plain": [
       "Index(['Unnamed: 0', 'id', 'mb_used', 'session_date', 'user_id'], dtype='object')"
      ]
     },
     "execution_count": 10,
     "metadata": {},
     "output_type": "execute_result"
    }
   ],
   "source": [
    "#Посмотрим на столбцы в таблице \"Internet\"\n",
    "internet.columns"
   ]
  },
  {
   "cell_type": "code",
   "execution_count": 11,
   "metadata": {},
   "outputs": [
    {
     "data": {
      "text/plain": [
       "Unnamed: 0      0\n",
       "id              0\n",
       "mb_used         0\n",
       "session_date    0\n",
       "user_id         0\n",
       "dtype: int64"
      ]
     },
     "execution_count": 11,
     "metadata": {},
     "output_type": "execute_result"
    }
   ],
   "source": [
    "#Посчитаем количество пустых значений в таблице \"Internet\"\n",
    "internet.isnull().sum()"
   ]
  },
  {
   "cell_type": "code",
   "execution_count": 12,
   "metadata": {},
   "outputs": [
    {
     "data": {
      "text/plain": [
       "0"
      ]
     },
     "execution_count": 12,
     "metadata": {},
     "output_type": "execute_result"
    }
   ],
   "source": [
    "#Посчитает количество дубликатов в таблице \"Internet\"\n",
    "internet.duplicated().sum()"
   ]
  },
  {
   "cell_type": "markdown",
   "metadata": {},
   "source": [
    "Вывод: \n",
    " - Необходимо удалить столбец unnamed, так как он дублирует индексацию таблицы\n",
    " - Также нужно изменить типы данных в столбцах : id , session_date\n",
    " - Пустых значений и дубликатов не имеется"
   ]
  },
  {
   "cell_type": "markdown",
   "metadata": {},
   "source": [
    "### Изучим датасет Messages"
   ]
  },
  {
   "cell_type": "code",
   "execution_count": 13,
   "metadata": {},
   "outputs": [
    {
     "name": "stdout",
     "output_type": "stream",
     "text": [
      "<class 'pandas.core.frame.DataFrame'>\n",
      "RangeIndex: 123036 entries, 0 to 123035\n",
      "Data columns (total 3 columns):\n",
      " #   Column        Non-Null Count   Dtype \n",
      "---  ------        --------------   ----- \n",
      " 0   id            123036 non-null  object\n",
      " 1   message_date  123036 non-null  object\n",
      " 2   user_id       123036 non-null  int64 \n",
      "dtypes: int64(1), object(2)\n",
      "memory usage: 1.9+ MB\n"
     ]
    }
   ],
   "source": [
    "#Получим информацию с таблицы \"Messages\" методом info\n",
    "messages.info()"
   ]
  },
  {
   "cell_type": "code",
   "execution_count": 14,
   "metadata": {},
   "outputs": [
    {
     "data": {
      "text/html": [
       "<div>\n",
       "<style scoped>\n",
       "    .dataframe tbody tr th:only-of-type {\n",
       "        vertical-align: middle;\n",
       "    }\n",
       "\n",
       "    .dataframe tbody tr th {\n",
       "        vertical-align: top;\n",
       "    }\n",
       "\n",
       "    .dataframe thead th {\n",
       "        text-align: right;\n",
       "    }\n",
       "</style>\n",
       "<table border=\"1\" class=\"dataframe\">\n",
       "  <thead>\n",
       "    <tr style=\"text-align: right;\">\n",
       "      <th></th>\n",
       "      <th>id</th>\n",
       "      <th>message_date</th>\n",
       "      <th>user_id</th>\n",
       "    </tr>\n",
       "  </thead>\n",
       "  <tbody>\n",
       "    <tr>\n",
       "      <th>0</th>\n",
       "      <td>1000_0</td>\n",
       "      <td>2018-06-27</td>\n",
       "      <td>1000</td>\n",
       "    </tr>\n",
       "    <tr>\n",
       "      <th>1</th>\n",
       "      <td>1000_1</td>\n",
       "      <td>2018-10-08</td>\n",
       "      <td>1000</td>\n",
       "    </tr>\n",
       "    <tr>\n",
       "      <th>2</th>\n",
       "      <td>1000_2</td>\n",
       "      <td>2018-08-04</td>\n",
       "      <td>1000</td>\n",
       "    </tr>\n",
       "    <tr>\n",
       "      <th>3</th>\n",
       "      <td>1000_3</td>\n",
       "      <td>2018-06-16</td>\n",
       "      <td>1000</td>\n",
       "    </tr>\n",
       "    <tr>\n",
       "      <th>4</th>\n",
       "      <td>1000_4</td>\n",
       "      <td>2018-12-05</td>\n",
       "      <td>1000</td>\n",
       "    </tr>\n",
       "  </tbody>\n",
       "</table>\n",
       "</div>"
      ],
      "text/plain": [
       "       id message_date  user_id\n",
       "0  1000_0   2018-06-27     1000\n",
       "1  1000_1   2018-10-08     1000\n",
       "2  1000_2   2018-08-04     1000\n",
       "3  1000_3   2018-06-16     1000\n",
       "4  1000_4   2018-12-05     1000"
      ]
     },
     "execution_count": 14,
     "metadata": {},
     "output_type": "execute_result"
    }
   ],
   "source": [
    "#Выведем первые пять строк из таблицы \"Messages\"\n",
    "messages.head()"
   ]
  },
  {
   "cell_type": "code",
   "execution_count": 15,
   "metadata": {},
   "outputs": [
    {
     "data": {
      "text/plain": [
       "Index(['id', 'message_date', 'user_id'], dtype='object')"
      ]
     },
     "execution_count": 15,
     "metadata": {},
     "output_type": "execute_result"
    }
   ],
   "source": [
    "#Посмотрим на столбцы из таблицы \"Messages\"\n",
    "messages.columns"
   ]
  },
  {
   "cell_type": "code",
   "execution_count": 16,
   "metadata": {},
   "outputs": [
    {
     "data": {
      "text/plain": [
       "id              0\n",
       "message_date    0\n",
       "user_id         0\n",
       "dtype: int64"
      ]
     },
     "execution_count": 16,
     "metadata": {},
     "output_type": "execute_result"
    }
   ],
   "source": [
    "#Посчитаем количество пустых значений в таблице \"Messages\"\n",
    "messages.isnull().sum()"
   ]
  },
  {
   "cell_type": "code",
   "execution_count": 17,
   "metadata": {},
   "outputs": [
    {
     "data": {
      "text/plain": [
       "0"
      ]
     },
     "execution_count": 17,
     "metadata": {},
     "output_type": "execute_result"
    }
   ],
   "source": [
    "#Посчитаем количество дубликатов в таблице \"Messages\"\n",
    "messages.duplicated().sum()"
   ]
  },
  {
   "cell_type": "markdown",
   "metadata": {},
   "source": [
    "Вывод:\n",
    "\n",
    " - Изменить типы данных в столбце : id, message_date\n",
    " - Пустых значений и дубликатов не имеется"
   ]
  },
  {
   "cell_type": "markdown",
   "metadata": {},
   "source": [
    "### Изучим датасет Tariffs"
   ]
  },
  {
   "cell_type": "code",
   "execution_count": 18,
   "metadata": {},
   "outputs": [
    {
     "name": "stdout",
     "output_type": "stream",
     "text": [
      "<class 'pandas.core.frame.DataFrame'>\n",
      "RangeIndex: 2 entries, 0 to 1\n",
      "Data columns (total 8 columns):\n",
      " #   Column                 Non-Null Count  Dtype \n",
      "---  ------                 --------------  ----- \n",
      " 0   messages_included      2 non-null      int64 \n",
      " 1   mb_per_month_included  2 non-null      int64 \n",
      " 2   minutes_included       2 non-null      int64 \n",
      " 3   rub_monthly_fee        2 non-null      int64 \n",
      " 4   rub_per_gb             2 non-null      int64 \n",
      " 5   rub_per_message        2 non-null      int64 \n",
      " 6   rub_per_minute         2 non-null      int64 \n",
      " 7   tariff_name            2 non-null      object\n",
      "dtypes: int64(7), object(1)\n",
      "memory usage: 184.0+ bytes\n"
     ]
    }
   ],
   "source": [
    "##Получим информацию с таблицы \"Tariffs\" методом info\n",
    "tariffs.info()"
   ]
  },
  {
   "cell_type": "code",
   "execution_count": 19,
   "metadata": {},
   "outputs": [
    {
     "data": {
      "text/html": [
       "<div>\n",
       "<style scoped>\n",
       "    .dataframe tbody tr th:only-of-type {\n",
       "        vertical-align: middle;\n",
       "    }\n",
       "\n",
       "    .dataframe tbody tr th {\n",
       "        vertical-align: top;\n",
       "    }\n",
       "\n",
       "    .dataframe thead th {\n",
       "        text-align: right;\n",
       "    }\n",
       "</style>\n",
       "<table border=\"1\" class=\"dataframe\">\n",
       "  <thead>\n",
       "    <tr style=\"text-align: right;\">\n",
       "      <th></th>\n",
       "      <th>messages_included</th>\n",
       "      <th>mb_per_month_included</th>\n",
       "      <th>minutes_included</th>\n",
       "      <th>rub_monthly_fee</th>\n",
       "      <th>rub_per_gb</th>\n",
       "      <th>rub_per_message</th>\n",
       "      <th>rub_per_minute</th>\n",
       "      <th>tariff_name</th>\n",
       "    </tr>\n",
       "  </thead>\n",
       "  <tbody>\n",
       "    <tr>\n",
       "      <th>0</th>\n",
       "      <td>50</td>\n",
       "      <td>15360</td>\n",
       "      <td>500</td>\n",
       "      <td>550</td>\n",
       "      <td>200</td>\n",
       "      <td>3</td>\n",
       "      <td>3</td>\n",
       "      <td>smart</td>\n",
       "    </tr>\n",
       "    <tr>\n",
       "      <th>1</th>\n",
       "      <td>1000</td>\n",
       "      <td>30720</td>\n",
       "      <td>3000</td>\n",
       "      <td>1950</td>\n",
       "      <td>150</td>\n",
       "      <td>1</td>\n",
       "      <td>1</td>\n",
       "      <td>ultra</td>\n",
       "    </tr>\n",
       "  </tbody>\n",
       "</table>\n",
       "</div>"
      ],
      "text/plain": [
       "   messages_included  mb_per_month_included  minutes_included  \\\n",
       "0                 50                  15360               500   \n",
       "1               1000                  30720              3000   \n",
       "\n",
       "   rub_monthly_fee  rub_per_gb  rub_per_message  rub_per_minute tariff_name  \n",
       "0              550         200                3               3       smart  \n",
       "1             1950         150                1               1       ultra  "
      ]
     },
     "execution_count": 19,
     "metadata": {},
     "output_type": "execute_result"
    }
   ],
   "source": [
    "#Выведем первые пять строк таблицы \"Tariffs\"\n",
    "tariffs.head()"
   ]
  },
  {
   "cell_type": "code",
   "execution_count": 20,
   "metadata": {},
   "outputs": [
    {
     "data": {
      "text/plain": [
       "Index(['messages_included', 'mb_per_month_included', 'minutes_included',\n",
       "       'rub_monthly_fee', 'rub_per_gb', 'rub_per_message', 'rub_per_minute',\n",
       "       'tariff_name'],\n",
       "      dtype='object')"
      ]
     },
     "execution_count": 20,
     "metadata": {},
     "output_type": "execute_result"
    }
   ],
   "source": [
    "#Посмотрим на столбцы из таблицы \"Tariffs\"\n",
    "tariffs.columns"
   ]
  },
  {
   "cell_type": "code",
   "execution_count": 21,
   "metadata": {},
   "outputs": [
    {
     "data": {
      "text/plain": [
       "messages_included        0\n",
       "mb_per_month_included    0\n",
       "minutes_included         0\n",
       "rub_monthly_fee          0\n",
       "rub_per_gb               0\n",
       "rub_per_message          0\n",
       "rub_per_minute           0\n",
       "tariff_name              0\n",
       "dtype: int64"
      ]
     },
     "execution_count": 21,
     "metadata": {},
     "output_type": "execute_result"
    }
   ],
   "source": [
    "#Посчитаем количество пустых значений в таблице \"Tariffs\"\n",
    "tariffs.isnull().sum()"
   ]
  },
  {
   "cell_type": "code",
   "execution_count": 22,
   "metadata": {},
   "outputs": [
    {
     "data": {
      "text/plain": [
       "0"
      ]
     },
     "execution_count": 22,
     "metadata": {},
     "output_type": "execute_result"
    }
   ],
   "source": [
    "#Посчитаем количество дубликатов в таблице \"Tariffs\"\n",
    "tariffs.duplicated().sum()"
   ]
  },
  {
   "cell_type": "markdown",
   "metadata": {},
   "source": [
    "Вывод:\n",
    "\n",
    " - Типы данных указаны верно. Изменять ничего не нужно\n",
    " - Пустых значений и дубликатов не имеется"
   ]
  },
  {
   "cell_type": "markdown",
   "metadata": {},
   "source": [
    "### Изучим датасет Users"
   ]
  },
  {
   "cell_type": "code",
   "execution_count": 23,
   "metadata": {
    "scrolled": true
   },
   "outputs": [
    {
     "name": "stdout",
     "output_type": "stream",
     "text": [
      "<class 'pandas.core.frame.DataFrame'>\n",
      "RangeIndex: 500 entries, 0 to 499\n",
      "Data columns (total 8 columns):\n",
      " #   Column      Non-Null Count  Dtype \n",
      "---  ------      --------------  ----- \n",
      " 0   user_id     500 non-null    int64 \n",
      " 1   age         500 non-null    int64 \n",
      " 2   churn_date  38 non-null     object\n",
      " 3   city        500 non-null    object\n",
      " 4   first_name  500 non-null    object\n",
      " 5   last_name   500 non-null    object\n",
      " 6   reg_date    500 non-null    object\n",
      " 7   tariff      500 non-null    object\n",
      "dtypes: int64(2), object(6)\n",
      "memory usage: 19.6+ KB\n"
     ]
    }
   ],
   "source": [
    "##Получим информацию с таблицы \"Users\" методом info\n",
    "users.info()"
   ]
  },
  {
   "cell_type": "code",
   "execution_count": 24,
   "metadata": {},
   "outputs": [
    {
     "data": {
      "text/html": [
       "<div>\n",
       "<style scoped>\n",
       "    .dataframe tbody tr th:only-of-type {\n",
       "        vertical-align: middle;\n",
       "    }\n",
       "\n",
       "    .dataframe tbody tr th {\n",
       "        vertical-align: top;\n",
       "    }\n",
       "\n",
       "    .dataframe thead th {\n",
       "        text-align: right;\n",
       "    }\n",
       "</style>\n",
       "<table border=\"1\" class=\"dataframe\">\n",
       "  <thead>\n",
       "    <tr style=\"text-align: right;\">\n",
       "      <th></th>\n",
       "      <th>user_id</th>\n",
       "      <th>age</th>\n",
       "      <th>churn_date</th>\n",
       "      <th>city</th>\n",
       "      <th>first_name</th>\n",
       "      <th>last_name</th>\n",
       "      <th>reg_date</th>\n",
       "      <th>tariff</th>\n",
       "    </tr>\n",
       "  </thead>\n",
       "  <tbody>\n",
       "    <tr>\n",
       "      <th>0</th>\n",
       "      <td>1000</td>\n",
       "      <td>52</td>\n",
       "      <td>NaN</td>\n",
       "      <td>Краснодар</td>\n",
       "      <td>Рафаил</td>\n",
       "      <td>Верещагин</td>\n",
       "      <td>2018-05-25</td>\n",
       "      <td>ultra</td>\n",
       "    </tr>\n",
       "    <tr>\n",
       "      <th>1</th>\n",
       "      <td>1001</td>\n",
       "      <td>41</td>\n",
       "      <td>NaN</td>\n",
       "      <td>Москва</td>\n",
       "      <td>Иван</td>\n",
       "      <td>Ежов</td>\n",
       "      <td>2018-11-01</td>\n",
       "      <td>smart</td>\n",
       "    </tr>\n",
       "    <tr>\n",
       "      <th>2</th>\n",
       "      <td>1002</td>\n",
       "      <td>59</td>\n",
       "      <td>NaN</td>\n",
       "      <td>Стерлитамак</td>\n",
       "      <td>Евгений</td>\n",
       "      <td>Абрамович</td>\n",
       "      <td>2018-06-17</td>\n",
       "      <td>smart</td>\n",
       "    </tr>\n",
       "    <tr>\n",
       "      <th>3</th>\n",
       "      <td>1003</td>\n",
       "      <td>23</td>\n",
       "      <td>NaN</td>\n",
       "      <td>Москва</td>\n",
       "      <td>Белла</td>\n",
       "      <td>Белякова</td>\n",
       "      <td>2018-08-17</td>\n",
       "      <td>ultra</td>\n",
       "    </tr>\n",
       "    <tr>\n",
       "      <th>4</th>\n",
       "      <td>1004</td>\n",
       "      <td>68</td>\n",
       "      <td>NaN</td>\n",
       "      <td>Новокузнецк</td>\n",
       "      <td>Татьяна</td>\n",
       "      <td>Авдеенко</td>\n",
       "      <td>2018-05-14</td>\n",
       "      <td>ultra</td>\n",
       "    </tr>\n",
       "  </tbody>\n",
       "</table>\n",
       "</div>"
      ],
      "text/plain": [
       "   user_id  age churn_date         city first_name  last_name    reg_date  \\\n",
       "0     1000   52        NaN    Краснодар     Рафаил  Верещагин  2018-05-25   \n",
       "1     1001   41        NaN       Москва       Иван       Ежов  2018-11-01   \n",
       "2     1002   59        NaN  Стерлитамак    Евгений  Абрамович  2018-06-17   \n",
       "3     1003   23        NaN       Москва      Белла   Белякова  2018-08-17   \n",
       "4     1004   68        NaN  Новокузнецк    Татьяна   Авдеенко  2018-05-14   \n",
       "\n",
       "  tariff  \n",
       "0  ultra  \n",
       "1  smart  \n",
       "2  smart  \n",
       "3  ultra  \n",
       "4  ultra  "
      ]
     },
     "execution_count": 24,
     "metadata": {},
     "output_type": "execute_result"
    }
   ],
   "source": [
    "#Выведем первые пять строк таблицы \"Users\"\n",
    "users.head()"
   ]
  },
  {
   "cell_type": "code",
   "execution_count": 25,
   "metadata": {},
   "outputs": [
    {
     "data": {
      "text/plain": [
       "Index(['user_id', 'age', 'churn_date', 'city', 'first_name', 'last_name',\n",
       "       'reg_date', 'tariff'],\n",
       "      dtype='object')"
      ]
     },
     "execution_count": 25,
     "metadata": {},
     "output_type": "execute_result"
    }
   ],
   "source": [
    "#Посмотрим на столбцы таблицы \"Users\"\n",
    "users.columns"
   ]
  },
  {
   "cell_type": "code",
   "execution_count": 26,
   "metadata": {},
   "outputs": [
    {
     "data": {
      "text/plain": [
       "53    14\n",
       "42    14\n",
       "63    13\n",
       "71    13\n",
       "64    13\n",
       "73    12\n",
       "21    12\n",
       "40    12\n",
       "39    11\n",
       "47    11\n",
       "29    11\n",
       "26    11\n",
       "37    11\n",
       "41    10\n",
       "36    10\n",
       "58    10\n",
       "45    10\n",
       "70    10\n",
       "52    10\n",
       "51     9\n",
       "27     9\n",
       "48     9\n",
       "50     9\n",
       "28     9\n",
       "30     9\n",
       "24     9\n",
       "20     9\n",
       "19     9\n",
       "56     9\n",
       "23     9\n",
       "68     9\n",
       "66     9\n",
       "65     9\n",
       "69     8\n",
       "62     8\n",
       "60     8\n",
       "44     8\n",
       "55     8\n",
       "25     7\n",
       "43     7\n",
       "67     7\n",
       "35     7\n",
       "74     7\n",
       "32     7\n",
       "31     7\n",
       "46     7\n",
       "75     6\n",
       "54     6\n",
       "59     6\n",
       "18     6\n",
       "33     5\n",
       "34     5\n",
       "38     5\n",
       "22     5\n",
       "72     5\n",
       "49     4\n",
       "57     4\n",
       "61     3\n",
       "Name: age, dtype: int64"
      ]
     },
     "execution_count": 26,
     "metadata": {},
     "output_type": "execute_result"
    }
   ],
   "source": [
    "#Посмотрим на имеющиеся данные о возрасте. \n",
    "users['age'].value_counts()"
   ]
  },
  {
   "cell_type": "code",
   "execution_count": 27,
   "metadata": {},
   "outputs": [
    {
     "data": {
      "text/plain": [
       "smart    351\n",
       "ultra    149\n",
       "Name: tariff, dtype: int64"
      ]
     },
     "execution_count": 27,
     "metadata": {},
     "output_type": "execute_result"
    }
   ],
   "source": [
    "#Посмотрим сколько пользователей какого тарифа мы имеем\n",
    "users['tariff'].value_counts()"
   ]
  },
  {
   "cell_type": "code",
   "execution_count": 28,
   "metadata": {},
   "outputs": [
    {
     "data": {
      "text/plain": [
       "Радим        6\n",
       "Пётр         5\n",
       "Леонид       5\n",
       "Марта        4\n",
       "Кристина     4\n",
       "            ..\n",
       "Игнатий      1\n",
       "Эльвира      1\n",
       "Светлана     1\n",
       "Мирослава    1\n",
       "Людмила      1\n",
       "Name: first_name, Length: 246, dtype: int64"
      ]
     },
     "execution_count": 28,
     "metadata": {},
     "output_type": "execute_result"
    }
   ],
   "source": [
    "#Посмотрим на столбец first_name\n",
    "users['first_name'].value_counts()"
   ]
  },
  {
   "cell_type": "code",
   "execution_count": 29,
   "metadata": {},
   "outputs": [
    {
     "data": {
      "text/plain": [
       "Андреенко    5\n",
       "Анищенко     3\n",
       "Озерова      3\n",
       "Булгаков     3\n",
       "Соловьев     3\n",
       "            ..\n",
       "Игнатова     1\n",
       "Ёлчина       1\n",
       "Розанова     1\n",
       "Силин        1\n",
       "Круглов      1\n",
       "Name: last_name, Length: 419, dtype: int64"
      ]
     },
     "execution_count": 29,
     "metadata": {},
     "output_type": "execute_result"
    }
   ],
   "source": [
    "#Посмотрим на столбец last_name\n",
    "users['last_name'].value_counts()"
   ]
  },
  {
   "cell_type": "code",
   "execution_count": 30,
   "metadata": {},
   "outputs": [
    {
     "data": {
      "text/plain": [
       "Москва             99\n",
       "Санкт-Петербург    39\n",
       "Новосибирск        16\n",
       "Омск               14\n",
       "Казань             14\n",
       "                   ..\n",
       "Нижневартовск       1\n",
       "Архангельск         1\n",
       "Иваново             1\n",
       "Химки               1\n",
       "Подольск            1\n",
       "Name: city, Length: 76, dtype: int64"
      ]
     },
     "execution_count": 30,
     "metadata": {},
     "output_type": "execute_result"
    }
   ],
   "source": [
    "#Посмотрим на столбец city\n",
    "users['city'].value_counts()"
   ]
  },
  {
   "cell_type": "code",
   "execution_count": 31,
   "metadata": {},
   "outputs": [
    {
     "data": {
      "text/plain": [
       "user_id         0\n",
       "age             0\n",
       "churn_date    462\n",
       "city            0\n",
       "first_name      0\n",
       "last_name       0\n",
       "reg_date        0\n",
       "tariff          0\n",
       "dtype: int64"
      ]
     },
     "execution_count": 31,
     "metadata": {},
     "output_type": "execute_result"
    }
   ],
   "source": [
    "#Посчитаем количество пустых значений в таблице \"users\"\n",
    "users.isnull().sum()"
   ]
  },
  {
   "cell_type": "code",
   "execution_count": 32,
   "metadata": {},
   "outputs": [
    {
     "data": {
      "text/plain": [
       "0"
      ]
     },
     "execution_count": 32,
     "metadata": {},
     "output_type": "execute_result"
    }
   ],
   "source": [
    "#Посчитаем количество дубликатов таблицы \"Users\"\n",
    "users.duplicated().sum()"
   ]
  },
  {
   "cell_type": "markdown",
   "metadata": {},
   "source": [
    "Вывод:\n",
    "\n",
    "  - Изменить типы данных в : churn_date, reg_date, \n",
    "  - Привести к нижнему регистру названия городов, Имена и фамилии\n",
    "  - Имеются пустые значения в столбце churn_date, необходимо будет поработать с данным столбцом и решить, что будет делать с данным столбцом: игнорировать или проводить замены пустых значений на другие. \n",
    "  - Дубликатов нет."
   ]
  },
  {
   "cell_type": "markdown",
   "metadata": {},
   "source": [
    "### Вывод по изучению общей информации"
   ]
  },
  {
   "cell_type": "markdown",
   "metadata": {},
   "source": [
    "<div class=\"alert alert-block alert-info\">\n",
    "    <li>Практически во всех таблицах имеются проблемы с типами данных, которые нужно будет так же изменить</li>\n",
    "    <li>В Таблице Internet, имеется столбец - <b>Unnamed</b>, который можно будет удалить, так как он просто дублирует индексацию таблицы. </li>\n",
    "</div>    "
   ]
  },
  {
   "cell_type": "markdown",
   "metadata": {},
   "source": [
    "<a href=\"#Содержание-самостоятельной-работы\"><<< Вернуться к оглавлению</a>"
   ]
  },
  {
   "cell_type": "markdown",
   "metadata": {},
   "source": [
    "## Предобработка данных"
   ]
  },
  {
   "cell_type": "markdown",
   "metadata": {},
   "source": [
    " - Приведем данные к нужным типам;\n",
    " - Попробуем найти и исправить ошибки в данных.\n",
    " \n",
    "\n",
    "Также: \n",
    "\n",
    " - Посчитаем для каждого пользователя:\n",
    "   - количество сделанных звонков и израсходованных минут разговора по месяцам;\n",
    "   - количество отправленных сообщений по месяцам;\n",
    "   - объем израсходованного интернет-трафика по месяцам;\n",
    "   - помесячную выручку с каждого пользователя (вычтем бесплатный лимит из суммарного количества звонков, сообщений и интернет-трафика; остаток умножим на значение из тарифного плана; прибавим абонентскую плату, соответствующую тарифному плану)."
   ]
  },
  {
   "cell_type": "markdown",
   "metadata": {},
   "source": [
    "### Изменим типы данных"
   ]
  },
  {
   "cell_type": "code",
   "execution_count": 33,
   "metadata": {},
   "outputs": [],
   "source": [
    "#Изменим типы данных в таблице Calls\n",
    "calls['id'] = calls['id'].astype('int64')\n",
    "calls['call_date'] = pd.to_datetime(calls['call_date'])\n",
    "#calls['duration'] = calls['duration'].astype('int64')"
   ]
  },
  {
   "cell_type": "code",
   "execution_count": 34,
   "metadata": {},
   "outputs": [
    {
     "data": {
      "text/plain": [
       "id                    int64\n",
       "call_date    datetime64[ns]\n",
       "duration            float64\n",
       "user_id               int64\n",
       "dtype: object"
      ]
     },
     "execution_count": 34,
     "metadata": {},
     "output_type": "execute_result"
    }
   ],
   "source": [
    "#Проверим типы данных\n",
    "calls.dtypes"
   ]
  },
  {
   "cell_type": "code",
   "execution_count": 35,
   "metadata": {},
   "outputs": [],
   "source": [
    "#Изменим типы данных в таблице Internet\n",
    "internet['id'] = internet['id'].astype(int)\n",
    "internet['session_date'] = pd.to_datetime(internet['session_date'])"
   ]
  },
  {
   "cell_type": "code",
   "execution_count": 36,
   "metadata": {},
   "outputs": [
    {
     "data": {
      "text/plain": [
       "id                       int32\n",
       "mb_used                float64\n",
       "session_date    datetime64[ns]\n",
       "user_id                  int64\n",
       "dtype: object"
      ]
     },
     "execution_count": 36,
     "metadata": {},
     "output_type": "execute_result"
    }
   ],
   "source": [
    "#Удалим столбец unnamed в таблице Internet\n",
    "internet.drop('Unnamed: 0', axis='columns', inplace=True)\n",
    "internet.dtypes"
   ]
  },
  {
   "cell_type": "code",
   "execution_count": 37,
   "metadata": {
    "scrolled": true
   },
   "outputs": [
    {
     "data": {
      "text/html": [
       "<div>\n",
       "<style scoped>\n",
       "    .dataframe tbody tr th:only-of-type {\n",
       "        vertical-align: middle;\n",
       "    }\n",
       "\n",
       "    .dataframe tbody tr th {\n",
       "        vertical-align: top;\n",
       "    }\n",
       "\n",
       "    .dataframe thead th {\n",
       "        text-align: right;\n",
       "    }\n",
       "</style>\n",
       "<table border=\"1\" class=\"dataframe\">\n",
       "  <thead>\n",
       "    <tr style=\"text-align: right;\">\n",
       "      <th></th>\n",
       "      <th>id</th>\n",
       "      <th>mb_used</th>\n",
       "      <th>session_date</th>\n",
       "      <th>user_id</th>\n",
       "    </tr>\n",
       "  </thead>\n",
       "  <tbody>\n",
       "    <tr>\n",
       "      <th>0</th>\n",
       "      <td>10000</td>\n",
       "      <td>112.95</td>\n",
       "      <td>2018-11-25</td>\n",
       "      <td>1000</td>\n",
       "    </tr>\n",
       "    <tr>\n",
       "      <th>1</th>\n",
       "      <td>10001</td>\n",
       "      <td>1052.81</td>\n",
       "      <td>2018-09-07</td>\n",
       "      <td>1000</td>\n",
       "    </tr>\n",
       "    <tr>\n",
       "      <th>2</th>\n",
       "      <td>10002</td>\n",
       "      <td>1197.26</td>\n",
       "      <td>2018-06-25</td>\n",
       "      <td>1000</td>\n",
       "    </tr>\n",
       "    <tr>\n",
       "      <th>3</th>\n",
       "      <td>10003</td>\n",
       "      <td>550.27</td>\n",
       "      <td>2018-08-22</td>\n",
       "      <td>1000</td>\n",
       "    </tr>\n",
       "    <tr>\n",
       "      <th>4</th>\n",
       "      <td>10004</td>\n",
       "      <td>302.56</td>\n",
       "      <td>2018-09-24</td>\n",
       "      <td>1000</td>\n",
       "    </tr>\n",
       "  </tbody>\n",
       "</table>\n",
       "</div>"
      ],
      "text/plain": [
       "      id  mb_used session_date  user_id\n",
       "0  10000   112.95   2018-11-25     1000\n",
       "1  10001  1052.81   2018-09-07     1000\n",
       "2  10002  1197.26   2018-06-25     1000\n",
       "3  10003   550.27   2018-08-22     1000\n",
       "4  10004   302.56   2018-09-24     1000"
      ]
     },
     "execution_count": 37,
     "metadata": {},
     "output_type": "execute_result"
    }
   ],
   "source": [
    "#Посмотрим нашу таблицу.\n",
    "internet.head()"
   ]
  },
  {
   "cell_type": "code",
   "execution_count": 38,
   "metadata": {},
   "outputs": [],
   "source": [
    "#Изменим типы данных в таблице Messages\n",
    "messages['id'] = messages['id'].astype(int)\n",
    "messages['message_date'] = pd.to_datetime(messages['message_date'])"
   ]
  },
  {
   "cell_type": "code",
   "execution_count": 39,
   "metadata": {},
   "outputs": [
    {
     "data": {
      "text/plain": [
       "id                       int32\n",
       "message_date    datetime64[ns]\n",
       "user_id                  int64\n",
       "dtype: object"
      ]
     },
     "execution_count": 39,
     "metadata": {},
     "output_type": "execute_result"
    }
   ],
   "source": [
    "#Проверим изменили ли мы типы данных\n",
    "messages.dtypes"
   ]
  },
  {
   "cell_type": "code",
   "execution_count": 40,
   "metadata": {},
   "outputs": [
    {
     "data": {
      "text/html": [
       "<div>\n",
       "<style scoped>\n",
       "    .dataframe tbody tr th:only-of-type {\n",
       "        vertical-align: middle;\n",
       "    }\n",
       "\n",
       "    .dataframe tbody tr th {\n",
       "        vertical-align: top;\n",
       "    }\n",
       "\n",
       "    .dataframe thead th {\n",
       "        text-align: right;\n",
       "    }\n",
       "</style>\n",
       "<table border=\"1\" class=\"dataframe\">\n",
       "  <thead>\n",
       "    <tr style=\"text-align: right;\">\n",
       "      <th></th>\n",
       "      <th>id</th>\n",
       "      <th>message_date</th>\n",
       "      <th>user_id</th>\n",
       "    </tr>\n",
       "  </thead>\n",
       "  <tbody>\n",
       "    <tr>\n",
       "      <th>0</th>\n",
       "      <td>10000</td>\n",
       "      <td>2018-06-27</td>\n",
       "      <td>1000</td>\n",
       "    </tr>\n",
       "    <tr>\n",
       "      <th>1</th>\n",
       "      <td>10001</td>\n",
       "      <td>2018-10-08</td>\n",
       "      <td>1000</td>\n",
       "    </tr>\n",
       "    <tr>\n",
       "      <th>2</th>\n",
       "      <td>10002</td>\n",
       "      <td>2018-08-04</td>\n",
       "      <td>1000</td>\n",
       "    </tr>\n",
       "    <tr>\n",
       "      <th>3</th>\n",
       "      <td>10003</td>\n",
       "      <td>2018-06-16</td>\n",
       "      <td>1000</td>\n",
       "    </tr>\n",
       "    <tr>\n",
       "      <th>4</th>\n",
       "      <td>10004</td>\n",
       "      <td>2018-12-05</td>\n",
       "      <td>1000</td>\n",
       "    </tr>\n",
       "  </tbody>\n",
       "</table>\n",
       "</div>"
      ],
      "text/plain": [
       "      id message_date  user_id\n",
       "0  10000   2018-06-27     1000\n",
       "1  10001   2018-10-08     1000\n",
       "2  10002   2018-08-04     1000\n",
       "3  10003   2018-06-16     1000\n",
       "4  10004   2018-12-05     1000"
      ]
     },
     "execution_count": 40,
     "metadata": {},
     "output_type": "execute_result"
    }
   ],
   "source": [
    "#Выведем первые пять строк таблицы Messages\n",
    "messages.head()"
   ]
  },
  {
   "cell_type": "code",
   "execution_count": 41,
   "metadata": {},
   "outputs": [],
   "source": [
    "#Изменим типы данных и приведем к нижнему регистру нижеследующие столбцы\n",
    "users['churn_date'] = pd.to_datetime(users['churn_date'])\n",
    "users['reg_date'] = pd.to_datetime(users['reg_date'])\n",
    "users['city'] = users['city'].str.lower()\n",
    "users['first_name'] = users['first_name'].str.lower()\n",
    "users['last_name'] = users['last_name'].str.lower()"
   ]
  },
  {
   "cell_type": "code",
   "execution_count": 42,
   "metadata": {},
   "outputs": [
    {
     "data": {
      "text/html": [
       "<div>\n",
       "<style scoped>\n",
       "    .dataframe tbody tr th:only-of-type {\n",
       "        vertical-align: middle;\n",
       "    }\n",
       "\n",
       "    .dataframe tbody tr th {\n",
       "        vertical-align: top;\n",
       "    }\n",
       "\n",
       "    .dataframe thead th {\n",
       "        text-align: right;\n",
       "    }\n",
       "</style>\n",
       "<table border=\"1\" class=\"dataframe\">\n",
       "  <thead>\n",
       "    <tr style=\"text-align: right;\">\n",
       "      <th></th>\n",
       "      <th>user_id</th>\n",
       "      <th>age</th>\n",
       "      <th>churn_date</th>\n",
       "      <th>city</th>\n",
       "      <th>first_name</th>\n",
       "      <th>last_name</th>\n",
       "      <th>reg_date</th>\n",
       "      <th>tariff</th>\n",
       "    </tr>\n",
       "  </thead>\n",
       "  <tbody>\n",
       "    <tr>\n",
       "      <th>247</th>\n",
       "      <td>1247</td>\n",
       "      <td>19</td>\n",
       "      <td>NaT</td>\n",
       "      <td>москва</td>\n",
       "      <td>адам</td>\n",
       "      <td>тарасов</td>\n",
       "      <td>2018-05-23</td>\n",
       "      <td>smart</td>\n",
       "    </tr>\n",
       "    <tr>\n",
       "      <th>333</th>\n",
       "      <td>1333</td>\n",
       "      <td>58</td>\n",
       "      <td>NaT</td>\n",
       "      <td>москва</td>\n",
       "      <td>вера</td>\n",
       "      <td>антонова</td>\n",
       "      <td>2018-09-28</td>\n",
       "      <td>ultra</td>\n",
       "    </tr>\n",
       "    <tr>\n",
       "      <th>89</th>\n",
       "      <td>1089</td>\n",
       "      <td>19</td>\n",
       "      <td>NaT</td>\n",
       "      <td>иркутск</td>\n",
       "      <td>ксения</td>\n",
       "      <td>нечаева</td>\n",
       "      <td>2018-02-24</td>\n",
       "      <td>ultra</td>\n",
       "    </tr>\n",
       "    <tr>\n",
       "      <th>433</th>\n",
       "      <td>1433</td>\n",
       "      <td>71</td>\n",
       "      <td>NaT</td>\n",
       "      <td>подольск</td>\n",
       "      <td>клариса</td>\n",
       "      <td>алёшкова</td>\n",
       "      <td>2018-01-05</td>\n",
       "      <td>smart</td>\n",
       "    </tr>\n",
       "    <tr>\n",
       "      <th>307</th>\n",
       "      <td>1307</td>\n",
       "      <td>53</td>\n",
       "      <td>NaT</td>\n",
       "      <td>самара</td>\n",
       "      <td>симона</td>\n",
       "      <td>авсейкина</td>\n",
       "      <td>2018-05-04</td>\n",
       "      <td>smart</td>\n",
       "    </tr>\n",
       "    <tr>\n",
       "      <th>140</th>\n",
       "      <td>1140</td>\n",
       "      <td>22</td>\n",
       "      <td>NaT</td>\n",
       "      <td>киров</td>\n",
       "      <td>леонид</td>\n",
       "      <td>ахматулин</td>\n",
       "      <td>2018-12-31</td>\n",
       "      <td>smart</td>\n",
       "    </tr>\n",
       "    <tr>\n",
       "      <th>319</th>\n",
       "      <td>1319</td>\n",
       "      <td>70</td>\n",
       "      <td>NaT</td>\n",
       "      <td>санкт-петербург</td>\n",
       "      <td>харитон</td>\n",
       "      <td>парфенов</td>\n",
       "      <td>2018-08-24</td>\n",
       "      <td>smart</td>\n",
       "    </tr>\n",
       "    <tr>\n",
       "      <th>160</th>\n",
       "      <td>1160</td>\n",
       "      <td>73</td>\n",
       "      <td>NaT</td>\n",
       "      <td>ульяновск</td>\n",
       "      <td>борис</td>\n",
       "      <td>авдонюшкин</td>\n",
       "      <td>2018-07-03</td>\n",
       "      <td>smart</td>\n",
       "    </tr>\n",
       "    <tr>\n",
       "      <th>452</th>\n",
       "      <td>1452</td>\n",
       "      <td>74</td>\n",
       "      <td>NaT</td>\n",
       "      <td>москва</td>\n",
       "      <td>эмилия</td>\n",
       "      <td>абалдуева</td>\n",
       "      <td>2018-06-19</td>\n",
       "      <td>ultra</td>\n",
       "    </tr>\n",
       "    <tr>\n",
       "      <th>282</th>\n",
       "      <td>1282</td>\n",
       "      <td>59</td>\n",
       "      <td>NaT</td>\n",
       "      <td>ульяновск</td>\n",
       "      <td>артём</td>\n",
       "      <td>аракчеев</td>\n",
       "      <td>2018-01-21</td>\n",
       "      <td>smart</td>\n",
       "    </tr>\n",
       "  </tbody>\n",
       "</table>\n",
       "</div>"
      ],
      "text/plain": [
       "     user_id  age churn_date             city first_name   last_name  \\\n",
       "247     1247   19        NaT           москва       адам     тарасов   \n",
       "333     1333   58        NaT           москва       вера    антонова   \n",
       "89      1089   19        NaT          иркутск     ксения     нечаева   \n",
       "433     1433   71        NaT         подольск    клариса    алёшкова   \n",
       "307     1307   53        NaT           самара     симона   авсейкина   \n",
       "140     1140   22        NaT            киров     леонид   ахматулин   \n",
       "319     1319   70        NaT  санкт-петербург    харитон    парфенов   \n",
       "160     1160   73        NaT        ульяновск      борис  авдонюшкин   \n",
       "452     1452   74        NaT           москва     эмилия   абалдуева   \n",
       "282     1282   59        NaT        ульяновск      артём    аракчеев   \n",
       "\n",
       "      reg_date tariff  \n",
       "247 2018-05-23  smart  \n",
       "333 2018-09-28  ultra  \n",
       "89  2018-02-24  ultra  \n",
       "433 2018-01-05  smart  \n",
       "307 2018-05-04  smart  \n",
       "140 2018-12-31  smart  \n",
       "319 2018-08-24  smart  \n",
       "160 2018-07-03  smart  \n",
       "452 2018-06-19  ultra  \n",
       "282 2018-01-21  smart  "
      ]
     },
     "execution_count": 42,
     "metadata": {},
     "output_type": "execute_result"
    }
   ],
   "source": [
    "#Выведем случайные 10 строк таблицы Users\n",
    "users.sample(10)"
   ]
  },
  {
   "cell_type": "markdown",
   "metadata": {},
   "source": [
    "### Округлим значения minutes и mb_used у тарифа Ultra\n"
   ]
  },
  {
   "cell_type": "code",
   "execution_count": 43,
   "metadata": {},
   "outputs": [],
   "source": [
    "# Округлим минуты и мегабайты у всех тарифов :)\n",
    "calls['duration'] = calls['duration'].apply(np.ceil)\n",
    "internet['mb_used'] = internet['mb_used'].apply(np.ceil)"
   ]
  },
  {
   "cell_type": "markdown",
   "metadata": {},
   "source": [
    "### Посчитаем количество сделанных звонков и израсходованных минут разговора по месяцам"
   ]
  },
  {
   "cell_type": "code",
   "execution_count": 44,
   "metadata": {},
   "outputs": [
    {
     "data": {
      "text/html": [
       "<div>\n",
       "<style scoped>\n",
       "    .dataframe tbody tr th:only-of-type {\n",
       "        vertical-align: middle;\n",
       "    }\n",
       "\n",
       "    .dataframe tbody tr th {\n",
       "        vertical-align: top;\n",
       "    }\n",
       "\n",
       "    .dataframe thead tr th {\n",
       "        text-align: left;\n",
       "    }\n",
       "\n",
       "    .dataframe thead tr:last-of-type th {\n",
       "        text-align: right;\n",
       "    }\n",
       "</style>\n",
       "<table border=\"1\" class=\"dataframe\">\n",
       "  <thead>\n",
       "    <tr>\n",
       "      <th></th>\n",
       "      <th></th>\n",
       "      <th>count</th>\n",
       "      <th>sum</th>\n",
       "    </tr>\n",
       "    <tr>\n",
       "      <th></th>\n",
       "      <th></th>\n",
       "      <th>total_calls</th>\n",
       "      <th>total_calls</th>\n",
       "    </tr>\n",
       "    <tr>\n",
       "      <th>month</th>\n",
       "      <th>user_id</th>\n",
       "      <th></th>\n",
       "      <th></th>\n",
       "    </tr>\n",
       "  </thead>\n",
       "  <tbody>\n",
       "    <tr>\n",
       "      <th rowspan=\"5\" valign=\"top\">1</th>\n",
       "      <th>1005</th>\n",
       "      <td>15</td>\n",
       "      <td>95.0</td>\n",
       "    </tr>\n",
       "    <tr>\n",
       "      <th>1032</th>\n",
       "      <td>61</td>\n",
       "      <td>380.0</td>\n",
       "    </tr>\n",
       "    <tr>\n",
       "      <th>1045</th>\n",
       "      <td>1</td>\n",
       "      <td>9.0</td>\n",
       "    </tr>\n",
       "    <tr>\n",
       "      <th>1055</th>\n",
       "      <td>64</td>\n",
       "      <td>551.0</td>\n",
       "    </tr>\n",
       "    <tr>\n",
       "      <th>1071</th>\n",
       "      <td>24</td>\n",
       "      <td>194.0</td>\n",
       "    </tr>\n",
       "    <tr>\n",
       "      <th>...</th>\n",
       "      <th>...</th>\n",
       "      <td>...</td>\n",
       "      <td>...</td>\n",
       "    </tr>\n",
       "    <tr>\n",
       "      <th rowspan=\"5\" valign=\"top\">12</th>\n",
       "      <th>1494</th>\n",
       "      <td>62</td>\n",
       "      <td>418.0</td>\n",
       "    </tr>\n",
       "    <tr>\n",
       "      <th>1495</th>\n",
       "      <td>155</td>\n",
       "      <td>1031.0</td>\n",
       "    </tr>\n",
       "    <tr>\n",
       "      <th>1496</th>\n",
       "      <td>80</td>\n",
       "      <td>518.0</td>\n",
       "    </tr>\n",
       "    <tr>\n",
       "      <th>1497</th>\n",
       "      <td>71</td>\n",
       "      <td>545.0</td>\n",
       "    </tr>\n",
       "    <tr>\n",
       "      <th>1499</th>\n",
       "      <td>69</td>\n",
       "      <td>492.0</td>\n",
       "    </tr>\n",
       "  </tbody>\n",
       "</table>\n",
       "<p>3174 rows × 2 columns</p>\n",
       "</div>"
      ],
      "text/plain": [
       "                    count         sum\n",
       "              total_calls total_calls\n",
       "month user_id                        \n",
       "1     1005             15        95.0\n",
       "      1032             61       380.0\n",
       "      1045              1         9.0\n",
       "      1055             64       551.0\n",
       "      1071             24       194.0\n",
       "...                   ...         ...\n",
       "12    1494             62       418.0\n",
       "      1495            155      1031.0\n",
       "      1496             80       518.0\n",
       "      1497             71       545.0\n",
       "      1499             69       492.0\n",
       "\n",
       "[3174 rows x 2 columns]"
      ]
     },
     "execution_count": 44,
     "metadata": {},
     "output_type": "execute_result"
    }
   ],
   "source": [
    "# Добавим столбец month в таблицу calls, для того, чтобы можно было вывести количество звонков\n",
    "# и израсходаванных минут по месяцам. \n",
    "calls['month'] = pd.DatetimeIndex(calls['call_date']).month\n",
    "calls_times = calls.pivot_table(index=['month', 'user_id'], values='duration', aggfunc=['count', 'sum']).rename(columns={'duration': 'total_calls'})\n",
    "calls_times"
   ]
  },
  {
   "cell_type": "markdown",
   "metadata": {},
   "source": [
    "### Посчитаем количество отправленных сообщений по месяцам"
   ]
  },
  {
   "cell_type": "code",
   "execution_count": 45,
   "metadata": {},
   "outputs": [
    {
     "data": {
      "text/html": [
       "<div>\n",
       "<style scoped>\n",
       "    .dataframe tbody tr th:only-of-type {\n",
       "        vertical-align: middle;\n",
       "    }\n",
       "\n",
       "    .dataframe tbody tr th {\n",
       "        vertical-align: top;\n",
       "    }\n",
       "\n",
       "    .dataframe thead th {\n",
       "        text-align: right;\n",
       "    }\n",
       "</style>\n",
       "<table border=\"1\" class=\"dataframe\">\n",
       "  <thead>\n",
       "    <tr style=\"text-align: right;\">\n",
       "      <th></th>\n",
       "      <th></th>\n",
       "      <th>id</th>\n",
       "    </tr>\n",
       "    <tr>\n",
       "      <th>month</th>\n",
       "      <th>user_id</th>\n",
       "      <th></th>\n",
       "    </tr>\n",
       "  </thead>\n",
       "  <tbody>\n",
       "    <tr>\n",
       "      <th rowspan=\"5\" valign=\"top\">1</th>\n",
       "      <th>1005</th>\n",
       "      <td>7</td>\n",
       "    </tr>\n",
       "    <tr>\n",
       "      <th>1032</th>\n",
       "      <td>38</td>\n",
       "    </tr>\n",
       "    <tr>\n",
       "      <th>1045</th>\n",
       "      <td>5</td>\n",
       "    </tr>\n",
       "    <tr>\n",
       "      <th>1055</th>\n",
       "      <td>30</td>\n",
       "    </tr>\n",
       "    <tr>\n",
       "      <th>1071</th>\n",
       "      <td>16</td>\n",
       "    </tr>\n",
       "    <tr>\n",
       "      <th>...</th>\n",
       "      <th>...</th>\n",
       "      <td>...</td>\n",
       "    </tr>\n",
       "    <tr>\n",
       "      <th rowspan=\"5\" valign=\"top\">12</th>\n",
       "      <th>1493</th>\n",
       "      <td>78</td>\n",
       "    </tr>\n",
       "    <tr>\n",
       "      <th>1495</th>\n",
       "      <td>84</td>\n",
       "    </tr>\n",
       "    <tr>\n",
       "      <th>1496</th>\n",
       "      <td>51</td>\n",
       "    </tr>\n",
       "    <tr>\n",
       "      <th>1497</th>\n",
       "      <td>17</td>\n",
       "    </tr>\n",
       "    <tr>\n",
       "      <th>1499</th>\n",
       "      <td>66</td>\n",
       "    </tr>\n",
       "  </tbody>\n",
       "</table>\n",
       "<p>2717 rows × 1 columns</p>\n",
       "</div>"
      ],
      "text/plain": [
       "               id\n",
       "month user_id    \n",
       "1     1005      7\n",
       "      1032     38\n",
       "      1045      5\n",
       "      1055     30\n",
       "      1071     16\n",
       "...            ..\n",
       "12    1493     78\n",
       "      1495     84\n",
       "      1496     51\n",
       "      1497     17\n",
       "      1499     66\n",
       "\n",
       "[2717 rows x 1 columns]"
      ]
     },
     "execution_count": 45,
     "metadata": {},
     "output_type": "execute_result"
    }
   ],
   "source": [
    "# Посчитаем количество отправленных сообщений по месяцам для каждого пользователя\n",
    "messages['month'] = pd.DatetimeIndex(messages['message_date']).month\n",
    "messages_times = messages.pivot_table(index=['month','user_id'], values='id', aggfunc='count')\n",
    "messages_times"
   ]
  },
  {
   "cell_type": "markdown",
   "metadata": {},
   "source": [
    "### Посчитаем объем израсходованного интернет-трафика по месяцам"
   ]
  },
  {
   "cell_type": "code",
   "execution_count": 46,
   "metadata": {},
   "outputs": [
    {
     "data": {
      "text/html": [
       "<div>\n",
       "<style scoped>\n",
       "    .dataframe tbody tr th:only-of-type {\n",
       "        vertical-align: middle;\n",
       "    }\n",
       "\n",
       "    .dataframe tbody tr th {\n",
       "        vertical-align: top;\n",
       "    }\n",
       "\n",
       "    .dataframe thead th {\n",
       "        text-align: right;\n",
       "    }\n",
       "</style>\n",
       "<table border=\"1\" class=\"dataframe\">\n",
       "  <thead>\n",
       "    <tr style=\"text-align: right;\">\n",
       "      <th></th>\n",
       "      <th></th>\n",
       "      <th>mb_used</th>\n",
       "    </tr>\n",
       "    <tr>\n",
       "      <th>month</th>\n",
       "      <th>user_id</th>\n",
       "      <th></th>\n",
       "    </tr>\n",
       "  </thead>\n",
       "  <tbody>\n",
       "    <tr>\n",
       "      <th rowspan=\"5\" valign=\"top\">1</th>\n",
       "      <th>1005</th>\n",
       "      <td>2730.0</td>\n",
       "    </tr>\n",
       "    <tr>\n",
       "      <th>1032</th>\n",
       "      <td>24147.0</td>\n",
       "    </tr>\n",
       "    <tr>\n",
       "      <th>1045</th>\n",
       "      <td>2348.0</td>\n",
       "    </tr>\n",
       "    <tr>\n",
       "      <th>1055</th>\n",
       "      <td>17111.0</td>\n",
       "    </tr>\n",
       "    <tr>\n",
       "      <th>1071</th>\n",
       "      <td>15622.0</td>\n",
       "    </tr>\n",
       "    <tr>\n",
       "      <th>...</th>\n",
       "      <th>...</th>\n",
       "      <td>...</td>\n",
       "    </tr>\n",
       "    <tr>\n",
       "      <th rowspan=\"5\" valign=\"top\">2</th>\n",
       "      <th>1373</th>\n",
       "      <td>20194.0</td>\n",
       "    </tr>\n",
       "    <tr>\n",
       "      <th>1375</th>\n",
       "      <td>11753.0</td>\n",
       "    </tr>\n",
       "    <tr>\n",
       "      <th>1378</th>\n",
       "      <td>10818.0</td>\n",
       "    </tr>\n",
       "    <tr>\n",
       "      <th>1381</th>\n",
       "      <td>27761.0</td>\n",
       "    </tr>\n",
       "    <tr>\n",
       "      <th>1385</th>\n",
       "      <td>32655.0</td>\n",
       "    </tr>\n",
       "  </tbody>\n",
       "</table>\n",
       "<p>100 rows × 1 columns</p>\n",
       "</div>"
      ],
      "text/plain": [
       "               mb_used\n",
       "month user_id         \n",
       "1     1005      2730.0\n",
       "      1032     24147.0\n",
       "      1045      2348.0\n",
       "      1055     17111.0\n",
       "      1071     15622.0\n",
       "...                ...\n",
       "2     1373     20194.0\n",
       "      1375     11753.0\n",
       "      1378     10818.0\n",
       "      1381     27761.0\n",
       "      1385     32655.0\n",
       "\n",
       "[100 rows x 1 columns]"
      ]
     },
     "execution_count": 46,
     "metadata": {},
     "output_type": "execute_result"
    }
   ],
   "source": [
    "# Посчитаем объем траффика для каждого пользователя по месяцам\n",
    "internet['month'] = pd.DatetimeIndex(internet['session_date']).month\n",
    "internet_times = internet.pivot_table(index=['month','user_id'], values='mb_used', aggfunc='sum')\n",
    "internet_times.head(100)"
   ]
  },
  {
   "cell_type": "markdown",
   "metadata": {},
   "source": [
    "### Посчитаем помесячную выручку с каждого пользователя "
   ]
  },
  {
   "cell_type": "code",
   "execution_count": 47,
   "metadata": {},
   "outputs": [
    {
     "data": {
      "text/html": [
       "<div>\n",
       "<style scoped>\n",
       "    .dataframe tbody tr th:only-of-type {\n",
       "        vertical-align: middle;\n",
       "    }\n",
       "\n",
       "    .dataframe tbody tr th {\n",
       "        vertical-align: top;\n",
       "    }\n",
       "\n",
       "    .dataframe thead th {\n",
       "        text-align: right;\n",
       "    }\n",
       "</style>\n",
       "<table border=\"1\" class=\"dataframe\">\n",
       "  <thead>\n",
       "    <tr style=\"text-align: right;\">\n",
       "      <th></th>\n",
       "      <th>month</th>\n",
       "      <th>user_id</th>\n",
       "      <th>('count', 'total_calls')</th>\n",
       "      <th>('sum', 'total_calls')</th>\n",
       "    </tr>\n",
       "  </thead>\n",
       "  <tbody>\n",
       "    <tr>\n",
       "      <th>0</th>\n",
       "      <td>1</td>\n",
       "      <td>1005</td>\n",
       "      <td>15</td>\n",
       "      <td>95.0</td>\n",
       "    </tr>\n",
       "    <tr>\n",
       "      <th>1</th>\n",
       "      <td>1</td>\n",
       "      <td>1032</td>\n",
       "      <td>61</td>\n",
       "      <td>380.0</td>\n",
       "    </tr>\n",
       "    <tr>\n",
       "      <th>2</th>\n",
       "      <td>1</td>\n",
       "      <td>1045</td>\n",
       "      <td>1</td>\n",
       "      <td>9.0</td>\n",
       "    </tr>\n",
       "    <tr>\n",
       "      <th>3</th>\n",
       "      <td>1</td>\n",
       "      <td>1055</td>\n",
       "      <td>64</td>\n",
       "      <td>551.0</td>\n",
       "    </tr>\n",
       "    <tr>\n",
       "      <th>4</th>\n",
       "      <td>1</td>\n",
       "      <td>1071</td>\n",
       "      <td>24</td>\n",
       "      <td>194.0</td>\n",
       "    </tr>\n",
       "    <tr>\n",
       "      <th>...</th>\n",
       "      <td>...</td>\n",
       "      <td>...</td>\n",
       "      <td>...</td>\n",
       "      <td>...</td>\n",
       "    </tr>\n",
       "    <tr>\n",
       "      <th>3169</th>\n",
       "      <td>12</td>\n",
       "      <td>1494</td>\n",
       "      <td>62</td>\n",
       "      <td>418.0</td>\n",
       "    </tr>\n",
       "    <tr>\n",
       "      <th>3170</th>\n",
       "      <td>12</td>\n",
       "      <td>1495</td>\n",
       "      <td>155</td>\n",
       "      <td>1031.0</td>\n",
       "    </tr>\n",
       "    <tr>\n",
       "      <th>3171</th>\n",
       "      <td>12</td>\n",
       "      <td>1496</td>\n",
       "      <td>80</td>\n",
       "      <td>518.0</td>\n",
       "    </tr>\n",
       "    <tr>\n",
       "      <th>3172</th>\n",
       "      <td>12</td>\n",
       "      <td>1497</td>\n",
       "      <td>71</td>\n",
       "      <td>545.0</td>\n",
       "    </tr>\n",
       "    <tr>\n",
       "      <th>3173</th>\n",
       "      <td>12</td>\n",
       "      <td>1499</td>\n",
       "      <td>69</td>\n",
       "      <td>492.0</td>\n",
       "    </tr>\n",
       "  </tbody>\n",
       "</table>\n",
       "<p>3174 rows × 4 columns</p>\n",
       "</div>"
      ],
      "text/plain": [
       "      month  user_id  ('count', 'total_calls')  ('sum', 'total_calls')\n",
       "0         1     1005                        15                    95.0\n",
       "1         1     1032                        61                   380.0\n",
       "2         1     1045                         1                     9.0\n",
       "3         1     1055                        64                   551.0\n",
       "4         1     1071                        24                   194.0\n",
       "...     ...      ...                       ...                     ...\n",
       "3169     12     1494                        62                   418.0\n",
       "3170     12     1495                       155                  1031.0\n",
       "3171     12     1496                        80                   518.0\n",
       "3172     12     1497                        71                   545.0\n",
       "3173     12     1499                        69                   492.0\n",
       "\n",
       "[3174 rows x 4 columns]"
      ]
     },
     "execution_count": 47,
     "metadata": {},
     "output_type": "execute_result"
    }
   ],
   "source": [
    "# Создадим временный DataFrame c таблицей calls\n",
    "tempdata = pd.DataFrame(calls_times.to_records())\n",
    "tempdata"
   ]
  },
  {
   "cell_type": "code",
   "execution_count": 48,
   "metadata": {},
   "outputs": [
    {
     "data": {
      "text/html": [
       "<div>\n",
       "<style scoped>\n",
       "    .dataframe tbody tr th:only-of-type {\n",
       "        vertical-align: middle;\n",
       "    }\n",
       "\n",
       "    .dataframe tbody tr th {\n",
       "        vertical-align: top;\n",
       "    }\n",
       "\n",
       "    .dataframe thead th {\n",
       "        text-align: right;\n",
       "    }\n",
       "</style>\n",
       "<table border=\"1\" class=\"dataframe\">\n",
       "  <thead>\n",
       "    <tr style=\"text-align: right;\">\n",
       "      <th></th>\n",
       "      <th>user_id</th>\n",
       "      <th>month</th>\n",
       "      <th>calls</th>\n",
       "      <th>minutes</th>\n",
       "    </tr>\n",
       "  </thead>\n",
       "  <tbody>\n",
       "    <tr>\n",
       "      <th>0</th>\n",
       "      <td>1005</td>\n",
       "      <td>1</td>\n",
       "      <td>15</td>\n",
       "      <td>95.0</td>\n",
       "    </tr>\n",
       "    <tr>\n",
       "      <th>1</th>\n",
       "      <td>1032</td>\n",
       "      <td>1</td>\n",
       "      <td>61</td>\n",
       "      <td>380.0</td>\n",
       "    </tr>\n",
       "    <tr>\n",
       "      <th>2</th>\n",
       "      <td>1045</td>\n",
       "      <td>1</td>\n",
       "      <td>1</td>\n",
       "      <td>9.0</td>\n",
       "    </tr>\n",
       "    <tr>\n",
       "      <th>3</th>\n",
       "      <td>1055</td>\n",
       "      <td>1</td>\n",
       "      <td>64</td>\n",
       "      <td>551.0</td>\n",
       "    </tr>\n",
       "    <tr>\n",
       "      <th>4</th>\n",
       "      <td>1071</td>\n",
       "      <td>1</td>\n",
       "      <td>24</td>\n",
       "      <td>194.0</td>\n",
       "    </tr>\n",
       "    <tr>\n",
       "      <th>...</th>\n",
       "      <td>...</td>\n",
       "      <td>...</td>\n",
       "      <td>...</td>\n",
       "      <td>...</td>\n",
       "    </tr>\n",
       "    <tr>\n",
       "      <th>3169</th>\n",
       "      <td>1494</td>\n",
       "      <td>12</td>\n",
       "      <td>62</td>\n",
       "      <td>418.0</td>\n",
       "    </tr>\n",
       "    <tr>\n",
       "      <th>3170</th>\n",
       "      <td>1495</td>\n",
       "      <td>12</td>\n",
       "      <td>155</td>\n",
       "      <td>1031.0</td>\n",
       "    </tr>\n",
       "    <tr>\n",
       "      <th>3171</th>\n",
       "      <td>1496</td>\n",
       "      <td>12</td>\n",
       "      <td>80</td>\n",
       "      <td>518.0</td>\n",
       "    </tr>\n",
       "    <tr>\n",
       "      <th>3172</th>\n",
       "      <td>1497</td>\n",
       "      <td>12</td>\n",
       "      <td>71</td>\n",
       "      <td>545.0</td>\n",
       "    </tr>\n",
       "    <tr>\n",
       "      <th>3173</th>\n",
       "      <td>1499</td>\n",
       "      <td>12</td>\n",
       "      <td>69</td>\n",
       "      <td>492.0</td>\n",
       "    </tr>\n",
       "  </tbody>\n",
       "</table>\n",
       "<p>3174 rows × 4 columns</p>\n",
       "</div>"
      ],
      "text/plain": [
       "      user_id  month  calls  minutes\n",
       "0        1005      1     15     95.0\n",
       "1        1032      1     61    380.0\n",
       "2        1045      1      1      9.0\n",
       "3        1055      1     64    551.0\n",
       "4        1071      1     24    194.0\n",
       "...       ...    ...    ...      ...\n",
       "3169     1494     12     62    418.0\n",
       "3170     1495     12    155   1031.0\n",
       "3171     1496     12     80    518.0\n",
       "3172     1497     12     71    545.0\n",
       "3173     1499     12     69    492.0\n",
       "\n",
       "[3174 rows x 4 columns]"
      ]
     },
     "execution_count": 48,
     "metadata": {},
     "output_type": "execute_result"
    }
   ],
   "source": [
    "# Создадим monthly_profit датафрейм для подсчета прибыли компании и перенесем в него столбцы из временного датафрейма, \n",
    "#с количеством звонков и общим количество проговоренных минут, так же переименуем столбцы\n",
    "monthly_profit = pd.DataFrame()\n",
    "monthly_profit['user_id'] = tempdata['user_id']\n",
    "monthly_profit['month']   = tempdata['month']\n",
    "monthly_profit['calls']   = tempdata.iloc[:, 2]\n",
    "monthly_profit['minutes'] = tempdata.iloc[:, 3]\n",
    "monthly_profit"
   ]
  },
  {
   "cell_type": "code",
   "execution_count": 49,
   "metadata": {},
   "outputs": [
    {
     "data": {
      "text/html": [
       "<div>\n",
       "<style scoped>\n",
       "    .dataframe tbody tr th:only-of-type {\n",
       "        vertical-align: middle;\n",
       "    }\n",
       "\n",
       "    .dataframe tbody tr th {\n",
       "        vertical-align: top;\n",
       "    }\n",
       "\n",
       "    .dataframe thead th {\n",
       "        text-align: right;\n",
       "    }\n",
       "</style>\n",
       "<table border=\"1\" class=\"dataframe\">\n",
       "  <thead>\n",
       "    <tr style=\"text-align: right;\">\n",
       "      <th></th>\n",
       "      <th>month</th>\n",
       "      <th>user_id</th>\n",
       "      <th>messages</th>\n",
       "    </tr>\n",
       "  </thead>\n",
       "  <tbody>\n",
       "    <tr>\n",
       "      <th>0</th>\n",
       "      <td>1</td>\n",
       "      <td>1005</td>\n",
       "      <td>7</td>\n",
       "    </tr>\n",
       "    <tr>\n",
       "      <th>1</th>\n",
       "      <td>1</td>\n",
       "      <td>1032</td>\n",
       "      <td>38</td>\n",
       "    </tr>\n",
       "    <tr>\n",
       "      <th>2</th>\n",
       "      <td>1</td>\n",
       "      <td>1045</td>\n",
       "      <td>5</td>\n",
       "    </tr>\n",
       "    <tr>\n",
       "      <th>3</th>\n",
       "      <td>1</td>\n",
       "      <td>1055</td>\n",
       "      <td>30</td>\n",
       "    </tr>\n",
       "    <tr>\n",
       "      <th>4</th>\n",
       "      <td>1</td>\n",
       "      <td>1071</td>\n",
       "      <td>16</td>\n",
       "    </tr>\n",
       "    <tr>\n",
       "      <th>...</th>\n",
       "      <td>...</td>\n",
       "      <td>...</td>\n",
       "      <td>...</td>\n",
       "    </tr>\n",
       "    <tr>\n",
       "      <th>2712</th>\n",
       "      <td>12</td>\n",
       "      <td>1493</td>\n",
       "      <td>78</td>\n",
       "    </tr>\n",
       "    <tr>\n",
       "      <th>2713</th>\n",
       "      <td>12</td>\n",
       "      <td>1495</td>\n",
       "      <td>84</td>\n",
       "    </tr>\n",
       "    <tr>\n",
       "      <th>2714</th>\n",
       "      <td>12</td>\n",
       "      <td>1496</td>\n",
       "      <td>51</td>\n",
       "    </tr>\n",
       "    <tr>\n",
       "      <th>2715</th>\n",
       "      <td>12</td>\n",
       "      <td>1497</td>\n",
       "      <td>17</td>\n",
       "    </tr>\n",
       "    <tr>\n",
       "      <th>2716</th>\n",
       "      <td>12</td>\n",
       "      <td>1499</td>\n",
       "      <td>66</td>\n",
       "    </tr>\n",
       "  </tbody>\n",
       "</table>\n",
       "<p>2717 rows × 3 columns</p>\n",
       "</div>"
      ],
      "text/plain": [
       "      month  user_id  messages\n",
       "0         1     1005         7\n",
       "1         1     1032        38\n",
       "2         1     1045         5\n",
       "3         1     1055        30\n",
       "4         1     1071        16\n",
       "...     ...      ...       ...\n",
       "2712     12     1493        78\n",
       "2713     12     1495        84\n",
       "2714     12     1496        51\n",
       "2715     12     1497        17\n",
       "2716     12     1499        66\n",
       "\n",
       "[2717 rows x 3 columns]"
      ]
     },
     "execution_count": 49,
     "metadata": {},
     "output_type": "execute_result"
    }
   ],
   "source": [
    "#Создадим новый временный датафрейм с таблицей messages и переименуем столбец id  в messages\n",
    "tempdata = pd.DataFrame(messages_times.to_records()).rename(columns={'id': 'messages'})\n",
    "tempdata"
   ]
  },
  {
   "cell_type": "code",
   "execution_count": 50,
   "metadata": {},
   "outputs": [
    {
     "data": {
      "text/html": [
       "<div>\n",
       "<style scoped>\n",
       "    .dataframe tbody tr th:only-of-type {\n",
       "        vertical-align: middle;\n",
       "    }\n",
       "\n",
       "    .dataframe tbody tr th {\n",
       "        vertical-align: top;\n",
       "    }\n",
       "\n",
       "    .dataframe thead th {\n",
       "        text-align: right;\n",
       "    }\n",
       "</style>\n",
       "<table border=\"1\" class=\"dataframe\">\n",
       "  <thead>\n",
       "    <tr style=\"text-align: right;\">\n",
       "      <th></th>\n",
       "      <th>user_id</th>\n",
       "      <th>month</th>\n",
       "      <th>calls</th>\n",
       "      <th>minutes</th>\n",
       "      <th>messages</th>\n",
       "    </tr>\n",
       "  </thead>\n",
       "  <tbody>\n",
       "    <tr>\n",
       "      <th>0</th>\n",
       "      <td>1005</td>\n",
       "      <td>1</td>\n",
       "      <td>15.0</td>\n",
       "      <td>95.0</td>\n",
       "      <td>7.0</td>\n",
       "    </tr>\n",
       "    <tr>\n",
       "      <th>1</th>\n",
       "      <td>1032</td>\n",
       "      <td>1</td>\n",
       "      <td>61.0</td>\n",
       "      <td>380.0</td>\n",
       "      <td>38.0</td>\n",
       "    </tr>\n",
       "    <tr>\n",
       "      <th>2</th>\n",
       "      <td>1045</td>\n",
       "      <td>1</td>\n",
       "      <td>1.0</td>\n",
       "      <td>9.0</td>\n",
       "      <td>5.0</td>\n",
       "    </tr>\n",
       "    <tr>\n",
       "      <th>3</th>\n",
       "      <td>1055</td>\n",
       "      <td>1</td>\n",
       "      <td>64.0</td>\n",
       "      <td>551.0</td>\n",
       "      <td>30.0</td>\n",
       "    </tr>\n",
       "    <tr>\n",
       "      <th>4</th>\n",
       "      <td>1071</td>\n",
       "      <td>1</td>\n",
       "      <td>24.0</td>\n",
       "      <td>194.0</td>\n",
       "      <td>16.0</td>\n",
       "    </tr>\n",
       "    <tr>\n",
       "      <th>...</th>\n",
       "      <td>...</td>\n",
       "      <td>...</td>\n",
       "      <td>...</td>\n",
       "      <td>...</td>\n",
       "      <td>...</td>\n",
       "    </tr>\n",
       "    <tr>\n",
       "      <th>3208</th>\n",
       "      <td>1106</td>\n",
       "      <td>12</td>\n",
       "      <td>NaN</td>\n",
       "      <td>NaN</td>\n",
       "      <td>24.0</td>\n",
       "    </tr>\n",
       "    <tr>\n",
       "      <th>3209</th>\n",
       "      <td>1231</td>\n",
       "      <td>12</td>\n",
       "      <td>NaN</td>\n",
       "      <td>NaN</td>\n",
       "      <td>191.0</td>\n",
       "    </tr>\n",
       "    <tr>\n",
       "      <th>3210</th>\n",
       "      <td>1328</td>\n",
       "      <td>12</td>\n",
       "      <td>NaN</td>\n",
       "      <td>NaN</td>\n",
       "      <td>7.0</td>\n",
       "    </tr>\n",
       "    <tr>\n",
       "      <th>3211</th>\n",
       "      <td>1473</td>\n",
       "      <td>12</td>\n",
       "      <td>NaN</td>\n",
       "      <td>NaN</td>\n",
       "      <td>20.0</td>\n",
       "    </tr>\n",
       "    <tr>\n",
       "      <th>3212</th>\n",
       "      <td>1489</td>\n",
       "      <td>12</td>\n",
       "      <td>NaN</td>\n",
       "      <td>NaN</td>\n",
       "      <td>35.0</td>\n",
       "    </tr>\n",
       "  </tbody>\n",
       "</table>\n",
       "<p>3213 rows × 5 columns</p>\n",
       "</div>"
      ],
      "text/plain": [
       "      user_id  month  calls  minutes  messages\n",
       "0        1005      1   15.0     95.0       7.0\n",
       "1        1032      1   61.0    380.0      38.0\n",
       "2        1045      1    1.0      9.0       5.0\n",
       "3        1055      1   64.0    551.0      30.0\n",
       "4        1071      1   24.0    194.0      16.0\n",
       "...       ...    ...    ...      ...       ...\n",
       "3208     1106     12    NaN      NaN      24.0\n",
       "3209     1231     12    NaN      NaN     191.0\n",
       "3210     1328     12    NaN      NaN       7.0\n",
       "3211     1473     12    NaN      NaN      20.0\n",
       "3212     1489     12    NaN      NaN      35.0\n",
       "\n",
       "[3213 rows x 5 columns]"
      ]
     },
     "execution_count": 50,
     "metadata": {},
     "output_type": "execute_result"
    }
   ],
   "source": [
    "# Соединим временный датафрейм с нашим monthly_profit таблицей\n",
    "monthly_profit = monthly_profit.merge(tempdata, on=['user_id', 'month'], how='outer')\n",
    "monthly_profit"
   ]
  },
  {
   "cell_type": "code",
   "execution_count": 51,
   "metadata": {},
   "outputs": [
    {
     "data": {
      "text/html": [
       "<div>\n",
       "<style scoped>\n",
       "    .dataframe tbody tr th:only-of-type {\n",
       "        vertical-align: middle;\n",
       "    }\n",
       "\n",
       "    .dataframe tbody tr th {\n",
       "        vertical-align: top;\n",
       "    }\n",
       "\n",
       "    .dataframe thead th {\n",
       "        text-align: right;\n",
       "    }\n",
       "</style>\n",
       "<table border=\"1\" class=\"dataframe\">\n",
       "  <thead>\n",
       "    <tr style=\"text-align: right;\">\n",
       "      <th></th>\n",
       "      <th>user_id</th>\n",
       "      <th>month</th>\n",
       "      <th>calls</th>\n",
       "      <th>minutes</th>\n",
       "      <th>messages</th>\n",
       "      <th>mb_used</th>\n",
       "    </tr>\n",
       "  </thead>\n",
       "  <tbody>\n",
       "    <tr>\n",
       "      <th>0</th>\n",
       "      <td>1005</td>\n",
       "      <td>1</td>\n",
       "      <td>15.0</td>\n",
       "      <td>95.0</td>\n",
       "      <td>7.0</td>\n",
       "      <td>2730.0</td>\n",
       "    </tr>\n",
       "    <tr>\n",
       "      <th>1</th>\n",
       "      <td>1032</td>\n",
       "      <td>1</td>\n",
       "      <td>61.0</td>\n",
       "      <td>380.0</td>\n",
       "      <td>38.0</td>\n",
       "      <td>24147.0</td>\n",
       "    </tr>\n",
       "    <tr>\n",
       "      <th>2</th>\n",
       "      <td>1045</td>\n",
       "      <td>1</td>\n",
       "      <td>1.0</td>\n",
       "      <td>9.0</td>\n",
       "      <td>5.0</td>\n",
       "      <td>2348.0</td>\n",
       "    </tr>\n",
       "    <tr>\n",
       "      <th>3</th>\n",
       "      <td>1055</td>\n",
       "      <td>1</td>\n",
       "      <td>64.0</td>\n",
       "      <td>551.0</td>\n",
       "      <td>30.0</td>\n",
       "      <td>17111.0</td>\n",
       "    </tr>\n",
       "    <tr>\n",
       "      <th>4</th>\n",
       "      <td>1071</td>\n",
       "      <td>1</td>\n",
       "      <td>24.0</td>\n",
       "      <td>194.0</td>\n",
       "      <td>16.0</td>\n",
       "      <td>15622.0</td>\n",
       "    </tr>\n",
       "    <tr>\n",
       "      <th>...</th>\n",
       "      <td>...</td>\n",
       "      <td>...</td>\n",
       "      <td>...</td>\n",
       "      <td>...</td>\n",
       "      <td>...</td>\n",
       "      <td>...</td>\n",
       "    </tr>\n",
       "    <tr>\n",
       "      <th>3209</th>\n",
       "      <td>1231</td>\n",
       "      <td>12</td>\n",
       "      <td>NaN</td>\n",
       "      <td>NaN</td>\n",
       "      <td>191.0</td>\n",
       "      <td>32481.0</td>\n",
       "    </tr>\n",
       "    <tr>\n",
       "      <th>3210</th>\n",
       "      <td>1328</td>\n",
       "      <td>12</td>\n",
       "      <td>NaN</td>\n",
       "      <td>NaN</td>\n",
       "      <td>7.0</td>\n",
       "      <td>39461.0</td>\n",
       "    </tr>\n",
       "    <tr>\n",
       "      <th>3211</th>\n",
       "      <td>1473</td>\n",
       "      <td>12</td>\n",
       "      <td>NaN</td>\n",
       "      <td>NaN</td>\n",
       "      <td>20.0</td>\n",
       "      <td>18432.0</td>\n",
       "    </tr>\n",
       "    <tr>\n",
       "      <th>3212</th>\n",
       "      <td>1489</td>\n",
       "      <td>12</td>\n",
       "      <td>NaN</td>\n",
       "      <td>NaN</td>\n",
       "      <td>35.0</td>\n",
       "      <td>17341.0</td>\n",
       "    </tr>\n",
       "    <tr>\n",
       "      <th>3213</th>\n",
       "      <td>1476</td>\n",
       "      <td>4</td>\n",
       "      <td>NaN</td>\n",
       "      <td>NaN</td>\n",
       "      <td>NaN</td>\n",
       "      <td>531.0</td>\n",
       "    </tr>\n",
       "  </tbody>\n",
       "</table>\n",
       "<p>3214 rows × 6 columns</p>\n",
       "</div>"
      ],
      "text/plain": [
       "      user_id  month  calls  minutes  messages  mb_used\n",
       "0        1005      1   15.0     95.0       7.0   2730.0\n",
       "1        1032      1   61.0    380.0      38.0  24147.0\n",
       "2        1045      1    1.0      9.0       5.0   2348.0\n",
       "3        1055      1   64.0    551.0      30.0  17111.0\n",
       "4        1071      1   24.0    194.0      16.0  15622.0\n",
       "...       ...    ...    ...      ...       ...      ...\n",
       "3209     1231     12    NaN      NaN     191.0  32481.0\n",
       "3210     1328     12    NaN      NaN       7.0  39461.0\n",
       "3211     1473     12    NaN      NaN      20.0  18432.0\n",
       "3212     1489     12    NaN      NaN      35.0  17341.0\n",
       "3213     1476      4    NaN      NaN       NaN    531.0\n",
       "\n",
       "[3214 rows x 6 columns]"
      ]
     },
     "execution_count": 51,
     "metadata": {},
     "output_type": "execute_result"
    }
   ],
   "source": [
    "#Создадим новый временный датафрейм с таблицей internet и соединим его с нашим monthly_profit таблицей\n",
    "tempdata = pd.DataFrame(internet_times.to_records())\n",
    "monthly_profit = monthly_profit.merge(tempdata, on=['user_id', 'month'], how='outer')\n",
    "monthly_profit"
   ]
  },
  {
   "cell_type": "code",
   "execution_count": 52,
   "metadata": {},
   "outputs": [
    {
     "data": {
      "text/html": [
       "<div>\n",
       "<style scoped>\n",
       "    .dataframe tbody tr th:only-of-type {\n",
       "        vertical-align: middle;\n",
       "    }\n",
       "\n",
       "    .dataframe tbody tr th {\n",
       "        vertical-align: top;\n",
       "    }\n",
       "\n",
       "    .dataframe thead th {\n",
       "        text-align: right;\n",
       "    }\n",
       "</style>\n",
       "<table border=\"1\" class=\"dataframe\">\n",
       "  <thead>\n",
       "    <tr style=\"text-align: right;\">\n",
       "      <th></th>\n",
       "      <th>user_id</th>\n",
       "      <th>month</th>\n",
       "      <th>calls</th>\n",
       "      <th>minutes</th>\n",
       "      <th>messages</th>\n",
       "      <th>mb_used</th>\n",
       "      <th>tariff</th>\n",
       "      <th>city</th>\n",
       "      <th>age</th>\n",
       "    </tr>\n",
       "  </thead>\n",
       "  <tbody>\n",
       "    <tr>\n",
       "      <th>0</th>\n",
       "      <td>1005</td>\n",
       "      <td>1.0</td>\n",
       "      <td>15.0</td>\n",
       "      <td>95.0</td>\n",
       "      <td>7.0</td>\n",
       "      <td>2730.0</td>\n",
       "      <td>smart</td>\n",
       "      <td>набережные челны</td>\n",
       "      <td>67</td>\n",
       "    </tr>\n",
       "    <tr>\n",
       "      <th>1</th>\n",
       "      <td>1005</td>\n",
       "      <td>2.0</td>\n",
       "      <td>69.0</td>\n",
       "      <td>456.0</td>\n",
       "      <td>38.0</td>\n",
       "      <td>7394.0</td>\n",
       "      <td>smart</td>\n",
       "      <td>набережные челны</td>\n",
       "      <td>67</td>\n",
       "    </tr>\n",
       "    <tr>\n",
       "      <th>2</th>\n",
       "      <td>1005</td>\n",
       "      <td>3.0</td>\n",
       "      <td>77.0</td>\n",
       "      <td>606.0</td>\n",
       "      <td>56.0</td>\n",
       "      <td>11117.0</td>\n",
       "      <td>smart</td>\n",
       "      <td>набережные челны</td>\n",
       "      <td>67</td>\n",
       "    </tr>\n",
       "    <tr>\n",
       "      <th>3</th>\n",
       "      <td>1005</td>\n",
       "      <td>4.0</td>\n",
       "      <td>101.0</td>\n",
       "      <td>712.0</td>\n",
       "      <td>41.0</td>\n",
       "      <td>9365.0</td>\n",
       "      <td>smart</td>\n",
       "      <td>набережные челны</td>\n",
       "      <td>67</td>\n",
       "    </tr>\n",
       "    <tr>\n",
       "      <th>4</th>\n",
       "      <td>1005</td>\n",
       "      <td>5.0</td>\n",
       "      <td>73.0</td>\n",
       "      <td>595.0</td>\n",
       "      <td>42.0</td>\n",
       "      <td>7877.0</td>\n",
       "      <td>smart</td>\n",
       "      <td>набережные челны</td>\n",
       "      <td>67</td>\n",
       "    </tr>\n",
       "    <tr>\n",
       "      <th>...</th>\n",
       "      <td>...</td>\n",
       "      <td>...</td>\n",
       "      <td>...</td>\n",
       "      <td>...</td>\n",
       "      <td>...</td>\n",
       "      <td>...</td>\n",
       "      <td>...</td>\n",
       "      <td>...</td>\n",
       "      <td>...</td>\n",
       "    </tr>\n",
       "    <tr>\n",
       "      <th>3211</th>\n",
       "      <td>1328</td>\n",
       "      <td>10.0</td>\n",
       "      <td>NaN</td>\n",
       "      <td>NaN</td>\n",
       "      <td>6.0</td>\n",
       "      <td>22447.0</td>\n",
       "      <td>ultra</td>\n",
       "      <td>мурманск</td>\n",
       "      <td>44</td>\n",
       "    </tr>\n",
       "    <tr>\n",
       "      <th>3212</th>\n",
       "      <td>1328</td>\n",
       "      <td>11.0</td>\n",
       "      <td>NaN</td>\n",
       "      <td>NaN</td>\n",
       "      <td>8.0</td>\n",
       "      <td>35567.0</td>\n",
       "      <td>ultra</td>\n",
       "      <td>мурманск</td>\n",
       "      <td>44</td>\n",
       "    </tr>\n",
       "    <tr>\n",
       "      <th>3213</th>\n",
       "      <td>1328</td>\n",
       "      <td>12.0</td>\n",
       "      <td>NaN</td>\n",
       "      <td>NaN</td>\n",
       "      <td>7.0</td>\n",
       "      <td>39461.0</td>\n",
       "      <td>ultra</td>\n",
       "      <td>мурманск</td>\n",
       "      <td>44</td>\n",
       "    </tr>\n",
       "    <tr>\n",
       "      <th>3214</th>\n",
       "      <td>1128</td>\n",
       "      <td>NaN</td>\n",
       "      <td>NaN</td>\n",
       "      <td>NaN</td>\n",
       "      <td>NaN</td>\n",
       "      <td>NaN</td>\n",
       "      <td>ultra</td>\n",
       "      <td>волжский</td>\n",
       "      <td>51</td>\n",
       "    </tr>\n",
       "    <tr>\n",
       "      <th>3215</th>\n",
       "      <td>1371</td>\n",
       "      <td>NaN</td>\n",
       "      <td>NaN</td>\n",
       "      <td>NaN</td>\n",
       "      <td>NaN</td>\n",
       "      <td>NaN</td>\n",
       "      <td>smart</td>\n",
       "      <td>омск</td>\n",
       "      <td>50</td>\n",
       "    </tr>\n",
       "  </tbody>\n",
       "</table>\n",
       "<p>3216 rows × 9 columns</p>\n",
       "</div>"
      ],
      "text/plain": [
       "      user_id  month  calls  minutes  messages  mb_used tariff  \\\n",
       "0        1005    1.0   15.0     95.0       7.0   2730.0  smart   \n",
       "1        1005    2.0   69.0    456.0      38.0   7394.0  smart   \n",
       "2        1005    3.0   77.0    606.0      56.0  11117.0  smart   \n",
       "3        1005    4.0  101.0    712.0      41.0   9365.0  smart   \n",
       "4        1005    5.0   73.0    595.0      42.0   7877.0  smart   \n",
       "...       ...    ...    ...      ...       ...      ...    ...   \n",
       "3211     1328   10.0    NaN      NaN       6.0  22447.0  ultra   \n",
       "3212     1328   11.0    NaN      NaN       8.0  35567.0  ultra   \n",
       "3213     1328   12.0    NaN      NaN       7.0  39461.0  ultra   \n",
       "3214     1128    NaN    NaN      NaN       NaN      NaN  ultra   \n",
       "3215     1371    NaN    NaN      NaN       NaN      NaN  smart   \n",
       "\n",
       "                  city  age  \n",
       "0     набережные челны   67  \n",
       "1     набережные челны   67  \n",
       "2     набережные челны   67  \n",
       "3     набережные челны   67  \n",
       "4     набережные челны   67  \n",
       "...                ...  ...  \n",
       "3211          мурманск   44  \n",
       "3212          мурманск   44  \n",
       "3213          мурманск   44  \n",
       "3214          волжский   51  \n",
       "3215              омск   50  \n",
       "\n",
       "[3216 rows x 9 columns]"
      ]
     },
     "execution_count": 52,
     "metadata": {},
     "output_type": "execute_result"
    }
   ],
   "source": [
    "# Создадим датафрейм tariff_times и перенесем в него столбцы из таблицы users, чтобы соединить их с monthly_profit таблицей\n",
    "tariff_times = pd.DataFrame()\n",
    "tariff_times[['user_id','tariff','city','age']] = users[['user_id','tariff','city','age']]\n",
    "monthly_profit = monthly_profit.merge(tariff_times, on='user_id', how='outer')\n",
    "monthly_profit"
   ]
  },
  {
   "cell_type": "code",
   "execution_count": 53,
   "metadata": {},
   "outputs": [
    {
     "data": {
      "text/plain": [
       "user_id       0\n",
       "month         2\n",
       "calls        42\n",
       "minutes      42\n",
       "messages    499\n",
       "mb_used      13\n",
       "tariff        0\n",
       "city          0\n",
       "age           0\n",
       "dtype: int64"
      ]
     },
     "execution_count": 53,
     "metadata": {},
     "output_type": "execute_result"
    }
   ],
   "source": [
    "#Проверим на наличие пустых значений\n",
    "monthly_profit.isnull().sum()"
   ]
  },
  {
   "cell_type": "code",
   "execution_count": 54,
   "metadata": {},
   "outputs": [],
   "source": [
    "#Заменим пустые значения нулем\n",
    "monthly_profit = monthly_profit.fillna(0)"
   ]
  },
  {
   "cell_type": "markdown",
   "metadata": {},
   "source": [
    "Вычтем бесплатный лимит из суммарного количества звонков, сообщений и интернет-трафика; остаток умножим на значение из тарифного плана; прибавим абонентскую плату, соответствующую тарифному плану"
   ]
  },
  {
   "cell_type": "code",
   "execution_count": 55,
   "metadata": {},
   "outputs": [],
   "source": [
    "#Объявим переменные с ценами и включенными пакетами по нашим тарифам\n",
    "smart_megabytes_included = 15360\n",
    "smart_messages_included = 50\n",
    "smart_minutes_included = 500\n",
    "smart_monthly_price = 550\n",
    "smart_price_for_megabyte = 0.1953\n",
    "smart_price_for_message = 3\n",
    "smart_price_for_minute = 3\n",
    "\n",
    "ultra_megabytes_included = 30720\n",
    "ultra_messages_included = 1000\n",
    "ultra_minutes_included = 3000\n",
    "ultra_monthly_price = 1950\n",
    "ultra_price_for_megabyte = 0.1464\n",
    "ultra_price_for_message = 1\n",
    "ultra_price_for_minute = 1"
   ]
  },
  {
   "cell_type": "code",
   "execution_count": 56,
   "metadata": {},
   "outputs": [],
   "source": [
    "#Напишем функцию для подсчета прибыли \n",
    "\n",
    "def profit_of_megaline(row):\n",
    "    # Объявим переменные из столбцов нашей таблицы\n",
    "    mb_used = row['mb_used']\n",
    "    tariff = row['tariff']\n",
    "    minutes = row['minutes']\n",
    "    messages = row['messages']\n",
    "    total_megabytes = 0\n",
    "    total_messages = 0 \n",
    "    total_minutes = 0\n",
    "    \n",
    "    # Проведем расчеты, если тариф Смарт, то будут использоваться эти расчеты\n",
    "    if tariff == 'smart':\n",
    "        if mb_used > smart_megabytes_included:\n",
    "            total_megabytes = (mb_used - smart_megabytes_included) * smart_price_for_megabyte\n",
    "        if minutes > smart_minutes_included:\n",
    "            total_minutes = (minutes - smart_minutes_included) * smart_price_for_minute\n",
    "        if messages > smart_messages_included:\n",
    "            total_messages = (messages - smart_messages_included) * smart_price_for_message\n",
    "        \n",
    "        return total_megabytes + total_minutes + total_messages + smart_monthly_price\n",
    "    \n",
    "    #Если тариф Ультра, то возьмем эти расчеты\n",
    "    if tariff == 'ultra':\n",
    "        if mb_used > ultra_megabytes_included:\n",
    "            total_megabytes = (mb_used - ultra_megabytes_included) * ultra_price_for_megabyte\n",
    "        if minutes > ultra_minutes_included:\n",
    "            total_minutes = (minutes - ultra_minutes_included) * ultra_price_for_minute\n",
    "        if messages > ultra_messages_included:\n",
    "            total_messages = (messages - ultra_messages_included) * ultra_price_for_message\n",
    "        return total_megabytes + total_minutes + total_messages + ultra_monthly_price"
   ]
  },
  {
   "cell_type": "code",
   "execution_count": 57,
   "metadata": {},
   "outputs": [],
   "source": [
    "# вызовем функцию profit_of_megaline с помощью метода apply и передадим все столбцы через axis = 1\n",
    "monthly_profit['profit'] = monthly_profit.apply(profit_of_megaline, axis=1)"
   ]
  },
  {
   "cell_type": "code",
   "execution_count": 58,
   "metadata": {},
   "outputs": [
    {
     "data": {
      "text/html": [
       "<div>\n",
       "<style scoped>\n",
       "    .dataframe tbody tr th:only-of-type {\n",
       "        vertical-align: middle;\n",
       "    }\n",
       "\n",
       "    .dataframe tbody tr th {\n",
       "        vertical-align: top;\n",
       "    }\n",
       "\n",
       "    .dataframe thead th {\n",
       "        text-align: right;\n",
       "    }\n",
       "</style>\n",
       "<table border=\"1\" class=\"dataframe\">\n",
       "  <thead>\n",
       "    <tr style=\"text-align: right;\">\n",
       "      <th></th>\n",
       "      <th>user_id</th>\n",
       "      <th>month</th>\n",
       "      <th>calls</th>\n",
       "      <th>minutes</th>\n",
       "      <th>messages</th>\n",
       "      <th>mb_used</th>\n",
       "      <th>tariff</th>\n",
       "      <th>city</th>\n",
       "      <th>age</th>\n",
       "      <th>profit</th>\n",
       "    </tr>\n",
       "  </thead>\n",
       "  <tbody>\n",
       "    <tr>\n",
       "      <th>2703</th>\n",
       "      <td>1369</td>\n",
       "      <td>12.0</td>\n",
       "      <td>38.0</td>\n",
       "      <td>286.0</td>\n",
       "      <td>115.0</td>\n",
       "      <td>23015.0</td>\n",
       "      <td>ultra</td>\n",
       "      <td>краснодар</td>\n",
       "      <td>31</td>\n",
       "      <td>1950.0000</td>\n",
       "    </tr>\n",
       "    <tr>\n",
       "      <th>692</th>\n",
       "      <td>1285</td>\n",
       "      <td>2.0</td>\n",
       "      <td>10.0</td>\n",
       "      <td>79.0</td>\n",
       "      <td>31.0</td>\n",
       "      <td>645.0</td>\n",
       "      <td>smart</td>\n",
       "      <td>краснодар</td>\n",
       "      <td>44</td>\n",
       "      <td>550.0000</td>\n",
       "    </tr>\n",
       "    <tr>\n",
       "      <th>138</th>\n",
       "      <td>1168</td>\n",
       "      <td>11.0</td>\n",
       "      <td>142.0</td>\n",
       "      <td>1053.0</td>\n",
       "      <td>42.0</td>\n",
       "      <td>31927.0</td>\n",
       "      <td>ultra</td>\n",
       "      <td>кострома</td>\n",
       "      <td>28</td>\n",
       "      <td>2126.7048</td>\n",
       "    </tr>\n",
       "    <tr>\n",
       "      <th>2515</th>\n",
       "      <td>1417</td>\n",
       "      <td>10.0</td>\n",
       "      <td>56.0</td>\n",
       "      <td>333.0</td>\n",
       "      <td>78.0</td>\n",
       "      <td>10993.0</td>\n",
       "      <td>smart</td>\n",
       "      <td>тольятти</td>\n",
       "      <td>34</td>\n",
       "      <td>634.0000</td>\n",
       "    </tr>\n",
       "    <tr>\n",
       "      <th>1822</th>\n",
       "      <td>1172</td>\n",
       "      <td>9.0</td>\n",
       "      <td>63.0</td>\n",
       "      <td>460.0</td>\n",
       "      <td>10.0</td>\n",
       "      <td>22796.0</td>\n",
       "      <td>smart</td>\n",
       "      <td>санкт-петербург</td>\n",
       "      <td>40</td>\n",
       "      <td>2002.2508</td>\n",
       "    </tr>\n",
       "    <tr>\n",
       "      <th>1943</th>\n",
       "      <td>1332</td>\n",
       "      <td>10.0</td>\n",
       "      <td>63.0</td>\n",
       "      <td>507.0</td>\n",
       "      <td>38.0</td>\n",
       "      <td>17286.0</td>\n",
       "      <td>smart</td>\n",
       "      <td>москва</td>\n",
       "      <td>23</td>\n",
       "      <td>947.1478</td>\n",
       "    </tr>\n",
       "    <tr>\n",
       "      <th>2456</th>\n",
       "      <td>1312</td>\n",
       "      <td>10.0</td>\n",
       "      <td>79.0</td>\n",
       "      <td>613.0</td>\n",
       "      <td>30.0</td>\n",
       "      <td>23249.0</td>\n",
       "      <td>smart</td>\n",
       "      <td>санкт-петербург</td>\n",
       "      <td>21</td>\n",
       "      <td>2429.7217</td>\n",
       "    </tr>\n",
       "    <tr>\n",
       "      <th>931</th>\n",
       "      <td>1009</td>\n",
       "      <td>8.0</td>\n",
       "      <td>33.0</td>\n",
       "      <td>249.0</td>\n",
       "      <td>9.0</td>\n",
       "      <td>23738.0</td>\n",
       "      <td>smart</td>\n",
       "      <td>пермь</td>\n",
       "      <td>24</td>\n",
       "      <td>2186.2234</td>\n",
       "    </tr>\n",
       "    <tr>\n",
       "      <th>593</th>\n",
       "      <td>1158</td>\n",
       "      <td>10.0</td>\n",
       "      <td>62.0</td>\n",
       "      <td>468.0</td>\n",
       "      <td>62.0</td>\n",
       "      <td>15544.0</td>\n",
       "      <td>smart</td>\n",
       "      <td>новокузнецк</td>\n",
       "      <td>45</td>\n",
       "      <td>621.9352</td>\n",
       "    </tr>\n",
       "    <tr>\n",
       "      <th>2707</th>\n",
       "      <td>1379</td>\n",
       "      <td>11.0</td>\n",
       "      <td>144.0</td>\n",
       "      <td>1089.0</td>\n",
       "      <td>99.0</td>\n",
       "      <td>40210.0</td>\n",
       "      <td>ultra</td>\n",
       "      <td>москва</td>\n",
       "      <td>39</td>\n",
       "      <td>3339.3360</td>\n",
       "    </tr>\n",
       "    <tr>\n",
       "      <th>2888</th>\n",
       "      <td>1333</td>\n",
       "      <td>9.0</td>\n",
       "      <td>7.0</td>\n",
       "      <td>50.0</td>\n",
       "      <td>16.0</td>\n",
       "      <td>4022.0</td>\n",
       "      <td>ultra</td>\n",
       "      <td>москва</td>\n",
       "      <td>58</td>\n",
       "      <td>1950.0000</td>\n",
       "    </tr>\n",
       "    <tr>\n",
       "      <th>508</th>\n",
       "      <td>1006</td>\n",
       "      <td>2.0</td>\n",
       "      <td>3.0</td>\n",
       "      <td>42.0</td>\n",
       "      <td>0.0</td>\n",
       "      <td>1395.0</td>\n",
       "      <td>smart</td>\n",
       "      <td>ульяновск</td>\n",
       "      <td>21</td>\n",
       "      <td>550.0000</td>\n",
       "    </tr>\n",
       "    <tr>\n",
       "      <th>1855</th>\n",
       "      <td>1241</td>\n",
       "      <td>10.0</td>\n",
       "      <td>32.0</td>\n",
       "      <td>222.0</td>\n",
       "      <td>25.0</td>\n",
       "      <td>25622.0</td>\n",
       "      <td>smart</td>\n",
       "      <td>новосибирск</td>\n",
       "      <td>71</td>\n",
       "      <td>2554.1686</td>\n",
       "    </tr>\n",
       "    <tr>\n",
       "      <th>3073</th>\n",
       "      <td>1062</td>\n",
       "      <td>12.0</td>\n",
       "      <td>33.0</td>\n",
       "      <td>290.0</td>\n",
       "      <td>12.0</td>\n",
       "      <td>4520.0</td>\n",
       "      <td>smart</td>\n",
       "      <td>москва</td>\n",
       "      <td>24</td>\n",
       "      <td>550.0000</td>\n",
       "    </tr>\n",
       "    <tr>\n",
       "      <th>1783</th>\n",
       "      <td>1101</td>\n",
       "      <td>10.0</td>\n",
       "      <td>84.0</td>\n",
       "      <td>530.0</td>\n",
       "      <td>0.0</td>\n",
       "      <td>13787.0</td>\n",
       "      <td>smart</td>\n",
       "      <td>казань</td>\n",
       "      <td>27</td>\n",
       "      <td>640.0000</td>\n",
       "    </tr>\n",
       "    <tr>\n",
       "      <th>1004</th>\n",
       "      <td>1064</td>\n",
       "      <td>11.0</td>\n",
       "      <td>68.0</td>\n",
       "      <td>479.0</td>\n",
       "      <td>40.0</td>\n",
       "      <td>14497.0</td>\n",
       "      <td>smart</td>\n",
       "      <td>якутск</td>\n",
       "      <td>55</td>\n",
       "      <td>550.0000</td>\n",
       "    </tr>\n",
       "    <tr>\n",
       "      <th>240</th>\n",
       "      <td>1282</td>\n",
       "      <td>9.0</td>\n",
       "      <td>122.0</td>\n",
       "      <td>836.0</td>\n",
       "      <td>67.0</td>\n",
       "      <td>19946.0</td>\n",
       "      <td>smart</td>\n",
       "      <td>ульяновск</td>\n",
       "      <td>59</td>\n",
       "      <td>2504.6458</td>\n",
       "    </tr>\n",
       "    <tr>\n",
       "      <th>1187</th>\n",
       "      <td>1402</td>\n",
       "      <td>4.0</td>\n",
       "      <td>105.0</td>\n",
       "      <td>733.0</td>\n",
       "      <td>21.0</td>\n",
       "      <td>24644.0</td>\n",
       "      <td>ultra</td>\n",
       "      <td>пенза</td>\n",
       "      <td>23</td>\n",
       "      <td>1950.0000</td>\n",
       "    </tr>\n",
       "    <tr>\n",
       "      <th>2747</th>\n",
       "      <td>1432</td>\n",
       "      <td>11.0</td>\n",
       "      <td>90.0</td>\n",
       "      <td>650.0</td>\n",
       "      <td>61.0</td>\n",
       "      <td>21586.0</td>\n",
       "      <td>smart</td>\n",
       "      <td>улан-удэ</td>\n",
       "      <td>48</td>\n",
       "      <td>2248.9378</td>\n",
       "    </tr>\n",
       "    <tr>\n",
       "      <th>2289</th>\n",
       "      <td>1492</td>\n",
       "      <td>9.0</td>\n",
       "      <td>99.0</td>\n",
       "      <td>694.0</td>\n",
       "      <td>10.0</td>\n",
       "      <td>20678.0</td>\n",
       "      <td>smart</td>\n",
       "      <td>санкт-петербург</td>\n",
       "      <td>63</td>\n",
       "      <td>2170.6054</td>\n",
       "    </tr>\n",
       "  </tbody>\n",
       "</table>\n",
       "</div>"
      ],
      "text/plain": [
       "      user_id  month  calls  minutes  messages  mb_used tariff  \\\n",
       "2703     1369   12.0   38.0    286.0     115.0  23015.0  ultra   \n",
       "692      1285    2.0   10.0     79.0      31.0    645.0  smart   \n",
       "138      1168   11.0  142.0   1053.0      42.0  31927.0  ultra   \n",
       "2515     1417   10.0   56.0    333.0      78.0  10993.0  smart   \n",
       "1822     1172    9.0   63.0    460.0      10.0  22796.0  smart   \n",
       "1943     1332   10.0   63.0    507.0      38.0  17286.0  smart   \n",
       "2456     1312   10.0   79.0    613.0      30.0  23249.0  smart   \n",
       "931      1009    8.0   33.0    249.0       9.0  23738.0  smart   \n",
       "593      1158   10.0   62.0    468.0      62.0  15544.0  smart   \n",
       "2707     1379   11.0  144.0   1089.0      99.0  40210.0  ultra   \n",
       "2888     1333    9.0    7.0     50.0      16.0   4022.0  ultra   \n",
       "508      1006    2.0    3.0     42.0       0.0   1395.0  smart   \n",
       "1855     1241   10.0   32.0    222.0      25.0  25622.0  smart   \n",
       "3073     1062   12.0   33.0    290.0      12.0   4520.0  smart   \n",
       "1783     1101   10.0   84.0    530.0       0.0  13787.0  smart   \n",
       "1004     1064   11.0   68.0    479.0      40.0  14497.0  smart   \n",
       "240      1282    9.0  122.0    836.0      67.0  19946.0  smart   \n",
       "1187     1402    4.0  105.0    733.0      21.0  24644.0  ultra   \n",
       "2747     1432   11.0   90.0    650.0      61.0  21586.0  smart   \n",
       "2289     1492    9.0   99.0    694.0      10.0  20678.0  smart   \n",
       "\n",
       "                 city  age     profit  \n",
       "2703        краснодар   31  1950.0000  \n",
       "692         краснодар   44   550.0000  \n",
       "138          кострома   28  2126.7048  \n",
       "2515         тольятти   34   634.0000  \n",
       "1822  санкт-петербург   40  2002.2508  \n",
       "1943           москва   23   947.1478  \n",
       "2456  санкт-петербург   21  2429.7217  \n",
       "931             пермь   24  2186.2234  \n",
       "593       новокузнецк   45   621.9352  \n",
       "2707           москва   39  3339.3360  \n",
       "2888           москва   58  1950.0000  \n",
       "508         ульяновск   21   550.0000  \n",
       "1855      новосибирск   71  2554.1686  \n",
       "3073           москва   24   550.0000  \n",
       "1783           казань   27   640.0000  \n",
       "1004           якутск   55   550.0000  \n",
       "240         ульяновск   59  2504.6458  \n",
       "1187            пенза   23  1950.0000  \n",
       "2747         улан-удэ   48  2248.9378  \n",
       "2289  санкт-петербург   63  2170.6054  "
      ]
     },
     "execution_count": 58,
     "metadata": {},
     "output_type": "execute_result"
    }
   ],
   "source": [
    "#Посмотрим 20 случайных строк\n",
    "monthly_profit.sample(20)"
   ]
  },
  {
   "cell_type": "markdown",
   "metadata": {},
   "source": [
    "### Вывод по предобработке данных"
   ]
  },
  {
   "cell_type": "markdown",
   "metadata": {},
   "source": [
    "<div class=\"alert alert-block alert-info\">\n",
    "    <li>Привели к правильным типам данных наши таблицы</li>\n",
    "    <li>Удалили лишние столбцы с таблиц</li>\n",
    "    <li>Заменили пустые значения на 0 в пустых столбцах</li>\n",
    "\n",
    "Также: \n",
    "\n",
    " - Посчитали для каждого пользователя:\n",
    "   - количество сделанных звонков и израсходованных минут разговора по месяцам;\n",
    "   - количество отправленных сообщений по месяцам;\n",
    "   - объем израсходованного интернет-трафика по месяцам;\n",
    "   - помесячную выручку с каждого пользователя \n",
    "</div>  "
   ]
  },
  {
   "cell_type": "markdown",
   "metadata": {},
   "source": [
    "<a href=\"#Содержание-самостоятельной-работы\"><<< Вернуться к оглавлению</a>"
   ]
  },
  {
   "cell_type": "markdown",
   "metadata": {},
   "source": [
    "## Анализ данных"
   ]
  },
  {
   "cell_type": "markdown",
   "metadata": {},
   "source": [
    "### Сколько минут разговора, сколько сообщений и какой объём интернет-трафика требуется пользователям каждого тарифа в месяц?\n"
   ]
  },
  {
   "cell_type": "code",
   "execution_count": 59,
   "metadata": {},
   "outputs": [],
   "source": [
    "#Передадим переменным smart_tariff и ultra_tariff соответственные данные из таблицы\n",
    "smart_tariff = monthly_profit[monthly_profit['tariff']=='smart']\n",
    "ultra_tariff = monthly_profit[monthly_profit['tariff']=='ultra']"
   ]
  },
  {
   "cell_type": "code",
   "execution_count": 60,
   "metadata": {},
   "outputs": [
    {
     "data": {
      "text/html": [
       "<div>\n",
       "<style scoped>\n",
       "    .dataframe tbody tr th:only-of-type {\n",
       "        vertical-align: middle;\n",
       "    }\n",
       "\n",
       "    .dataframe tbody tr th {\n",
       "        vertical-align: top;\n",
       "    }\n",
       "\n",
       "    .dataframe thead th {\n",
       "        text-align: right;\n",
       "    }\n",
       "</style>\n",
       "<table border=\"1\" class=\"dataframe\">\n",
       "  <thead>\n",
       "    <tr style=\"text-align: right;\">\n",
       "      <th></th>\n",
       "      <th>month</th>\n",
       "      <th>mb_used</th>\n",
       "      <th>messages</th>\n",
       "      <th>minutes</th>\n",
       "      <th>profit</th>\n",
       "    </tr>\n",
       "  </thead>\n",
       "  <tbody>\n",
       "    <tr>\n",
       "      <th>0</th>\n",
       "      <td>0.0</td>\n",
       "      <td>0.0</td>\n",
       "      <td>0.0</td>\n",
       "      <td>0.0</td>\n",
       "      <td>550.0000</td>\n",
       "    </tr>\n",
       "    <tr>\n",
       "      <th>1</th>\n",
       "      <td>1.0</td>\n",
       "      <td>289831.0</td>\n",
       "      <td>620.0</td>\n",
       "      <td>6931.0</td>\n",
       "      <td>23886.5965</td>\n",
       "    </tr>\n",
       "    <tr>\n",
       "      <th>2</th>\n",
       "      <td>2.0</td>\n",
       "      <td>673461.0</td>\n",
       "      <td>1397.0</td>\n",
       "      <td>17324.0</td>\n",
       "      <td>46650.8275</td>\n",
       "    </tr>\n",
       "    <tr>\n",
       "      <th>3</th>\n",
       "      <td>3.0</td>\n",
       "      <td>1164537.0</td>\n",
       "      <td>2453.0</td>\n",
       "      <td>30034.0</td>\n",
       "      <td>86113.2362</td>\n",
       "    </tr>\n",
       "    <tr>\n",
       "      <th>4</th>\n",
       "      <td>4.0</td>\n",
       "      <td>1509702.0</td>\n",
       "      <td>3443.0</td>\n",
       "      <td>41119.0</td>\n",
       "      <td>103300.1209</td>\n",
       "    </tr>\n",
       "    <tr>\n",
       "      <th>5</th>\n",
       "      <td>5.0</td>\n",
       "      <td>2231353.0</td>\n",
       "      <td>4762.0</td>\n",
       "      <td>54618.0</td>\n",
       "      <td>161711.4951</td>\n",
       "    </tr>\n",
       "    <tr>\n",
       "      <th>6</th>\n",
       "      <td>6.0</td>\n",
       "      <td>2593622.0</td>\n",
       "      <td>5478.0</td>\n",
       "      <td>64885.0</td>\n",
       "      <td>188525.8817</td>\n",
       "    </tr>\n",
       "    <tr>\n",
       "      <th>7</th>\n",
       "      <td>7.0</td>\n",
       "      <td>3168466.0</td>\n",
       "      <td>6784.0</td>\n",
       "      <td>82079.0</td>\n",
       "      <td>234774.3990</td>\n",
       "    </tr>\n",
       "    <tr>\n",
       "      <th>8</th>\n",
       "      <td>8.0</td>\n",
       "      <td>3908561.0</td>\n",
       "      <td>7905.0</td>\n",
       "      <td>99045.0</td>\n",
       "      <td>295738.4932</td>\n",
       "    </tr>\n",
       "    <tr>\n",
       "      <th>9</th>\n",
       "      <td>9.0</td>\n",
       "      <td>4244377.0</td>\n",
       "      <td>8746.0</td>\n",
       "      <td>111439.0</td>\n",
       "      <td>311750.4821</td>\n",
       "    </tr>\n",
       "    <tr>\n",
       "      <th>10</th>\n",
       "      <td>10.0</td>\n",
       "      <td>4932898.0</td>\n",
       "      <td>9927.0</td>\n",
       "      <td>125284.0</td>\n",
       "      <td>383612.2770</td>\n",
       "    </tr>\n",
       "    <tr>\n",
       "      <th>11</th>\n",
       "      <td>11.0</td>\n",
       "      <td>5345940.0</td>\n",
       "      <td>10768.0</td>\n",
       "      <td>137544.0</td>\n",
       "      <td>405530.8507</td>\n",
       "    </tr>\n",
       "    <tr>\n",
       "      <th>12</th>\n",
       "      <td>12.0</td>\n",
       "      <td>6112113.0</td>\n",
       "      <td>12130.0</td>\n",
       "      <td>161275.0</td>\n",
       "      <td>507464.1052</td>\n",
       "    </tr>\n",
       "  </tbody>\n",
       "</table>\n",
       "</div>"
      ],
      "text/plain": [
       "    month    mb_used  messages   minutes       profit\n",
       "0     0.0        0.0       0.0       0.0     550.0000\n",
       "1     1.0   289831.0     620.0    6931.0   23886.5965\n",
       "2     2.0   673461.0    1397.0   17324.0   46650.8275\n",
       "3     3.0  1164537.0    2453.0   30034.0   86113.2362\n",
       "4     4.0  1509702.0    3443.0   41119.0  103300.1209\n",
       "5     5.0  2231353.0    4762.0   54618.0  161711.4951\n",
       "6     6.0  2593622.0    5478.0   64885.0  188525.8817\n",
       "7     7.0  3168466.0    6784.0   82079.0  234774.3990\n",
       "8     8.0  3908561.0    7905.0   99045.0  295738.4932\n",
       "9     9.0  4244377.0    8746.0  111439.0  311750.4821\n",
       "10   10.0  4932898.0    9927.0  125284.0  383612.2770\n",
       "11   11.0  5345940.0   10768.0  137544.0  405530.8507\n",
       "12   12.0  6112113.0   12130.0  161275.0  507464.1052"
      ]
     },
     "execution_count": 60,
     "metadata": {},
     "output_type": "execute_result"
    }
   ],
   "source": [
    "#Посчитаем сколько минут разговора, Сколько сообщений и какой объем интернет-трафика \n",
    "# требуется пользователям тарифа Smart в месяц\n",
    "smart_pivot = smart_tariff.pivot_table(index='month', values=['minutes','messages','mb_used','profit'], aggfunc='sum')\n",
    "smart_stat = pd.DataFrame(smart_pivot.to_records())\n",
    "smart_stat"
   ]
  },
  {
   "cell_type": "code",
   "execution_count": 61,
   "metadata": {},
   "outputs": [
    {
     "data": {
      "text/html": [
       "<div>\n",
       "<style scoped>\n",
       "    .dataframe tbody tr th:only-of-type {\n",
       "        vertical-align: middle;\n",
       "    }\n",
       "\n",
       "    .dataframe tbody tr th {\n",
       "        vertical-align: top;\n",
       "    }\n",
       "\n",
       "    .dataframe thead th {\n",
       "        text-align: right;\n",
       "    }\n",
       "</style>\n",
       "<table border=\"1\" class=\"dataframe\">\n",
       "  <thead>\n",
       "    <tr style=\"text-align: right;\">\n",
       "      <th></th>\n",
       "      <th>month</th>\n",
       "      <th>mb_used</th>\n",
       "      <th>messages</th>\n",
       "      <th>minutes</th>\n",
       "      <th>profit</th>\n",
       "    </tr>\n",
       "  </thead>\n",
       "  <tbody>\n",
       "    <tr>\n",
       "      <th>1</th>\n",
       "      <td>1.0</td>\n",
       "      <td>118382.0</td>\n",
       "      <td>304.0</td>\n",
       "      <td>3853.0</td>\n",
       "      <td>17550.0000</td>\n",
       "    </tr>\n",
       "    <tr>\n",
       "      <th>2</th>\n",
       "      <td>2.0</td>\n",
       "      <td>282887.0</td>\n",
       "      <td>527.0</td>\n",
       "      <td>7131.0</td>\n",
       "      <td>47352.8064</td>\n",
       "    </tr>\n",
       "    <tr>\n",
       "      <th>3</th>\n",
       "      <td>3.0</td>\n",
       "      <td>649423.0</td>\n",
       "      <td>1195.0</td>\n",
       "      <td>18117.0</td>\n",
       "      <td>74153.1912</td>\n",
       "    </tr>\n",
       "    <tr>\n",
       "      <th>4</th>\n",
       "      <td>4.0</td>\n",
       "      <td>926409.0</td>\n",
       "      <td>1736.0</td>\n",
       "      <td>25191.0</td>\n",
       "      <td>109747.2912</td>\n",
       "    </tr>\n",
       "    <tr>\n",
       "      <th>5</th>\n",
       "      <td>5.0</td>\n",
       "      <td>1298540.0</td>\n",
       "      <td>2536.0</td>\n",
       "      <td>34192.0</td>\n",
       "      <td>137678.6640</td>\n",
       "    </tr>\n",
       "    <tr>\n",
       "      <th>6</th>\n",
       "      <td>6.0</td>\n",
       "      <td>1591148.0</td>\n",
       "      <td>3505.0</td>\n",
       "      <td>40295.0</td>\n",
       "      <td>170689.1448</td>\n",
       "    </tr>\n",
       "    <tr>\n",
       "      <th>7</th>\n",
       "      <td>7.0</td>\n",
       "      <td>1866833.0</td>\n",
       "      <td>4536.0</td>\n",
       "      <td>49667.0</td>\n",
       "      <td>191865.4224</td>\n",
       "    </tr>\n",
       "    <tr>\n",
       "      <th>8</th>\n",
       "      <td>8.0</td>\n",
       "      <td>2096565.0</td>\n",
       "      <td>5183.0</td>\n",
       "      <td>54653.0</td>\n",
       "      <td>221605.8144</td>\n",
       "    </tr>\n",
       "    <tr>\n",
       "      <th>9</th>\n",
       "      <td>9.0</td>\n",
       "      <td>2210554.0</td>\n",
       "      <td>6013.0</td>\n",
       "      <td>62036.0</td>\n",
       "      <td>231574.2456</td>\n",
       "    </tr>\n",
       "    <tr>\n",
       "      <th>10</th>\n",
       "      <td>10.0</td>\n",
       "      <td>2467856.0</td>\n",
       "      <td>7187.0</td>\n",
       "      <td>68644.0</td>\n",
       "      <td>252993.3528</td>\n",
       "    </tr>\n",
       "    <tr>\n",
       "      <th>11</th>\n",
       "      <td>11.0</td>\n",
       "      <td>2653912.0</td>\n",
       "      <td>7476.0</td>\n",
       "      <td>72545.0</td>\n",
       "      <td>278815.2960</td>\n",
       "    </tr>\n",
       "    <tr>\n",
       "      <th>12</th>\n",
       "      <td>12.0</td>\n",
       "      <td>3032089.0</td>\n",
       "      <td>8425.0</td>\n",
       "      <td>82400.0</td>\n",
       "      <td>295534.0824</td>\n",
       "    </tr>\n",
       "  </tbody>\n",
       "</table>\n",
       "</div>"
      ],
      "text/plain": [
       "    month    mb_used  messages  minutes       profit\n",
       "1     1.0   118382.0     304.0   3853.0   17550.0000\n",
       "2     2.0   282887.0     527.0   7131.0   47352.8064\n",
       "3     3.0   649423.0    1195.0  18117.0   74153.1912\n",
       "4     4.0   926409.0    1736.0  25191.0  109747.2912\n",
       "5     5.0  1298540.0    2536.0  34192.0  137678.6640\n",
       "6     6.0  1591148.0    3505.0  40295.0  170689.1448\n",
       "7     7.0  1866833.0    4536.0  49667.0  191865.4224\n",
       "8     8.0  2096565.0    5183.0  54653.0  221605.8144\n",
       "9     9.0  2210554.0    6013.0  62036.0  231574.2456\n",
       "10   10.0  2467856.0    7187.0  68644.0  252993.3528\n",
       "11   11.0  2653912.0    7476.0  72545.0  278815.2960\n",
       "12   12.0  3032089.0    8425.0  82400.0  295534.0824"
      ]
     },
     "execution_count": 61,
     "metadata": {},
     "output_type": "execute_result"
    }
   ],
   "source": [
    "#Посчитаем сколько минут разговора, Сколько сообщений и какой объем интернет-трафика \n",
    "# требуется пользователям тарифа Ultra в месяц\n",
    "ultra_pivot = ultra_tariff.pivot_table(index='month', values=['minutes','messages','mb_used','profit'], aggfunc='sum')\n",
    "ultra_stat = pd.DataFrame(ultra_pivot.to_records())\n",
    "ultra_stat.drop(0)"
   ]
  },
  {
   "cell_type": "markdown",
   "metadata": {},
   "source": [
    "### Посчитаем среднее количество, дисперсию и стандартное отклонение."
   ]
  },
  {
   "cell_type": "code",
   "execution_count": 62,
   "metadata": {},
   "outputs": [
    {
     "name": "stdout",
     "output_type": "stream",
     "text": [
      "Среднее minutes: 418\n",
      "Медиана minutes: 422\n",
      "Дисперсия minutes: 36265\n",
      "Среднее отклонение minutes: 190 \n",
      "\n",
      "Среднее messages: 33\n",
      "Медиана messages: 28\n",
      "Дисперсия messages: 797\n",
      "Среднее отклонение messages: 28 \n",
      "\n",
      "Среднее mb_used: 16222\n",
      "Медиана mb_used: 16529\n",
      "Дисперсия mb_used: 34632986\n",
      "Среднее отклонение mb_used: 5885 \n",
      "\n",
      "Среднее profit: 1233\n",
      "Медиана profit: 960\n",
      "Дисперсия profit: 620038\n",
      "Среднее отклонение profit: 787 \n",
      "\n"
     ]
    }
   ],
   "source": [
    "#Посчитаем среднее, медиану, дисперсию и среднее отклонение для тарифа Smart\n",
    "for column in smart_tariff[['minutes','messages','mb_used','profit']]:\n",
    "    print('Среднее {}: {:.0f}'.format(column,smart_tariff[column].mean()))\n",
    "    print('Медиана {}: {:.0f}'.format(column,smart_tariff[column].median()))\n",
    "    print('Дисперсия {}: {:.0f}'.format(column,np.var(smart_tariff[column])))\n",
    "    print('Среднее отклонение {}: {:.0f} \\n'.format(column, np.std(smart_tariff[column])))"
   ]
  },
  {
   "cell_type": "code",
   "execution_count": 63,
   "metadata": {},
   "outputs": [
    {
     "name": "stdout",
     "output_type": "stream",
     "text": [
      "Среднее minutes: 526\n",
      "Медиана minutes: 518\n",
      "Дисперсия minutes: 100950\n",
      "Среднее отклонение minutes: 318 \n",
      "\n",
      "Среднее messages: 49\n",
      "Медиана messages: 38\n",
      "Дисперсия messages: 2283\n",
      "Среднее отклонение messages: 48 \n",
      "\n",
      "Среднее mb_used: 19467\n",
      "Медиана mb_used: 19320\n",
      "Дисперсия mb_used: 102113596\n",
      "Среднее отклонение mb_used: 10105 \n",
      "\n",
      "Среднее profit: 2060\n",
      "Медиана profit: 1950\n",
      "Дисперсия profit: 126562\n",
      "Среднее отклонение profit: 356 \n",
      "\n"
     ]
    }
   ],
   "source": [
    "#Посчитаем среднее, медиану, дисперсию и среднее отклонение для тарифа Ultra\n",
    "for column in ultra_tariff[['minutes','messages','mb_used','profit']]:    \n",
    "    print('Среднее {}: {:.0f}'.format(column,ultra_tariff[column].mean()))\n",
    "    print('Медиана {}: {:.0f}'.format(column,ultra_tariff[column].median()))\n",
    "    print('Дисперсия {}: {:.0f}'.format(column,np.var(ultra_tariff[column])))\n",
    "    print('Среднее отклонение {}: {:.0f} \\n'.format(column, np.std(ultra_tariff[column])))"
   ]
  },
  {
   "cell_type": "markdown",
   "metadata": {},
   "source": [
    "### Построим гистограммы и опишем распределения"
   ]
  },
  {
   "cell_type": "code",
   "execution_count": 64,
   "metadata": {},
   "outputs": [],
   "source": [
    "#Напишем функцию для построения гистограмм\n",
    "def histogram_drawing(column, title):\n",
    "    sns.set_style('darkgrid')\n",
    "    plt.figure(figsize=(12,6))\n",
    "    plt.title(title, fontsize=15)\n",
    "    sns.distplot(smart_tariff[column], label='Тариф Smart', kde=False)\n",
    "    sns.distplot(ultra_tariff[column], label='Тариф Ultra', kde=False)\n",
    "    plt.axvline(np.mean(smart_tariff[column]),color='g', linestyle='--', label='Smart среднее')\n",
    "    plt.axvline(np.mean(ultra_tariff[column]),color='g', linestyle='-', label='Ultra среднее')\n",
    "    plt.legend()"
   ]
  },
  {
   "cell_type": "code",
   "execution_count": 65,
   "metadata": {},
   "outputs": [
    {
     "data": {
      "image/png": "[encoded data removed]",
      "text/plain": [
       "<Figure size 864x432 with 1 Axes>"
      ]
     },
     "metadata": {},
     "output_type": "display_data"
    }
   ],
   "source": [
    "#Построим гистограммы для mb_used тарифов ultra и smart\n",
    "histogram_drawing('mb_used', 'Распределение по мегабайтам у тарифов Ultra и Smart')"
   ]
  },
  {
   "cell_type": "code",
   "execution_count": 66,
   "metadata": {},
   "outputs": [
    {
     "data": {
      "image/png": "[encoded data removed]",
      "text/plain": [
       "<Figure size 864x432 with 1 Axes>"
      ]
     },
     "metadata": {},
     "output_type": "display_data"
    }
   ],
   "source": [
    "#Построим гистограммы для minutes тарифов ultra и smart\n",
    "histogram_drawing('minutes','Распределение по минутам у тарифов Ultra и Smart')"
   ]
  },
  {
   "cell_type": "code",
   "execution_count": 67,
   "metadata": {},
   "outputs": [
    {
     "data": {
      "image/png": "[encoded data removed]",
      "text/plain": [
       "<Figure size 864x432 with 1 Axes>"
      ]
     },
     "metadata": {},
     "output_type": "display_data"
    }
   ],
   "source": [
    "#Построим гистограммы для messages тарифов ultra и smart\n",
    "histogram_drawing('messages','Распределение по сообщениям у тарифов Ultra и Smart')"
   ]
  },
  {
   "cell_type": "code",
   "execution_count": 68,
   "metadata": {},
   "outputs": [
    {
     "data": {
      "image/png": "[encoded data removed]",
      "text/plain": [
       "<Figure size 864x432 with 1 Axes>"
      ]
     },
     "metadata": {},
     "output_type": "display_data"
    },
    {
     "data": {
      "image/png": "[encoded data removed]",
      "text/plain": [
       "<Figure size 864x432 with 1 Axes>"
      ]
     },
     "metadata": {},
     "output_type": "display_data"
    },
    {
     "data": {
      "image/png": "[encoded data removed]",
      "text/plain": [
       "<Figure size 864x432 with 1 Axes>"
      ]
     },
     "metadata": {},
     "output_type": "display_data"
    }
   ],
   "source": [
    "#Построим boxplot'ы с помощью цикла \n",
    "for columns in monthly_profit[['mb_used','minutes','messages']]:\n",
    "    plt.figure(figsize=(12,6))\n",
    "    plt.title(columns, fontsize=15)\n",
    "    sns.boxplot(data=monthly_profit, x=columns, y='tariff')"
   ]
  },
  {
   "cell_type": "markdown",
   "metadata": {},
   "source": [
    "<b>Вывод</b><br><br>\n",
    "Исходя из полученных графиков видно, что пользователи тарифа <b>Smart</b> в среднем:<br>\n",
    " - проговаривают 400 минут, когда пользователи тарифа <b>Ultra</b> проговаривают 500 минут<br>\n",
    " - скачивают ~ 16000 мегабайт, когда пользователи тарифа <b>Ultra</b> скачивают ~ 20 000 мегабайт<br>\n",
    " - отправляют 33 сообщений, когда пользователи тарифа <b>Ultra</b> отправляют ~ 49 сообщений<br>"
   ]
  },
  {
   "cell_type": "code",
   "execution_count": 69,
   "metadata": {},
   "outputs": [
    {
     "data": {
      "text/plain": [
       "<matplotlib.legend.Legend at 0x1b1a7748>"
      ]
     },
     "execution_count": 69,
     "metadata": {},
     "output_type": "execute_result"
    },
    {
     "data": {
      "image/png": "[encoded data removed]",
      "text/plain": [
       "<Figure size 864x432 with 1 Axes>"
      ]
     },
     "metadata": {},
     "output_type": "display_data"
    }
   ],
   "source": [
    "plt.figure(figsize=(12,6))\n",
    "plt.title('Распределение выручки у тарифов Ultra и Smart', fontsize=15)\n",
    "ax = sns.distplot(a=smart_tariff['profit'], label='Тариф Смарт', kde=False)\n",
    "ax = sns.distplot(a=ultra_tariff['profit'], label='Тариф Ультра', kde=False)\n",
    "ax.set(xlabel='Выручка в рублях по тарифам ')\n",
    "plt.legend()"
   ]
  },
  {
   "cell_type": "code",
   "execution_count": 70,
   "metadata": {},
   "outputs": [
    {
     "data": {
      "text/plain": [
       "<matplotlib.legend.Legend at 0x1b54d6a0>"
      ]
     },
     "execution_count": 70,
     "metadata": {},
     "output_type": "execute_result"
    },
    {
     "data": {
      "image/png": "[encoded data removed]",
      "text/plain": [
       "<Figure size 864x432 with 1 Axes>"
      ]
     },
     "metadata": {},
     "output_type": "display_data"
    }
   ],
   "source": [
    "#Построим два графика по прибыли без учета абон платы\n",
    "plt.figure(figsize=(12,6))\n",
    "plt.title('Распределение выручки у тарифов Ultra и Smart без учета Абонентской платы', fontsize=15)\n",
    "ax = sns.distplot(a=smart_tariff['profit']-550, label='Тариф Смарт', kde=False)\n",
    "ax = sns.distplot(a=ultra_tariff['profit']-1950, label='Тариф Ультра', kde=False)\n",
    "ax.set(xlabel='Выручка в рублях по тарифам')\n",
    "plt.legend()"
   ]
  },
  {
   "cell_type": "markdown",
   "metadata": {},
   "source": [
    "Исходя из графика видно, что больше всего сверх абонплаты, оплачивают пользователи тарифа Смарт. Большинству пользователей тарифа Ультра достаточно пакета с имеющимися минутами и мегабайтами. "
   ]
  },
  {
   "cell_type": "code",
   "execution_count": 71,
   "metadata": {},
   "outputs": [
    {
     "name": "stdout",
     "output_type": "stream",
     "text": [
      "Количество клиентов с тарифом Ультра: 149\n",
      "Количество клиентов с тарифом Смарт: 351\n",
      "\n",
      "В среднем один пользователь тарифа Ультра приносит: 13634 рублей\n",
      "В среднем один пользователь тарифа Смарт приносит: 7834 рублей\n",
      "\n",
      "Годавая прибыль по тарифу Ультра: 2031509 рублей\n",
      "Годовая прибыль по тарифу Смарт: 2749609 рублей\n",
      "\n"
     ]
    }
   ],
   "source": [
    "smart = users[users['tariff']=='smart']\n",
    "ultra = users[users['tariff']=='ultra']\n",
    "\n",
    "print('Количество клиентов с тарифом Ультра: {}'.format(ultra['tariff'].count()))\n",
    "print('Количество клиентов с тарифом Смарт: {}\\n'.format(smart['tariff'].count()))\n",
    "print('В среднем один пользователь тарифа Ультра приносит: {:.0f} рублей'.format(ultra_tariff['profit'].sum()/ultra['tariff'].count()))\n",
    "print('В среднем один пользователь тарифа Смарт приносит: {:.0f} рублей\\n'.format(smart_tariff['profit'].sum()/smart['tariff'].count()))\n",
    "print('Годавая прибыль по тарифу Ультра: {:.0f} рублей'.format(ultra_tariff['profit'].sum()))\n",
    "print('Годовая прибыль по тарифу Смарт: {:.0f} рублей\\n'.format(smart_tariff['profit'].sum()))"
   ]
  },
  {
   "cell_type": "markdown",
   "metadata": {},
   "source": [
    "### Вывод по Анализу Данных"
   ]
  },
  {
   "cell_type": "markdown",
   "metadata": {},
   "source": [
    "<div class=\"alert alert-block alert-info\">\n",
    "Как и ожидалось, пользователи тарифа Ультра, тратят больше интернет-трафика, делают больше звонков и отправляют больше сообщений больше, чем пользователи тарифа Смарт.<br><br>\n",
    "Если смотреть по средней выручке от каждого пользователя, то мы можем видеть, что каждый пользователь тарифа Ультра приносит компании в среднем 13 630 рублей в год. Когда пользователь тарифа Смарт приносит лишь 7834  рублей в год.<br><br>\n",
    "Но если посчитать годовую выручку компании, то мы видим, что выручка по тарифу Смарт приносит компании 2 749 609  рублей в год, когда выручка по тарифу Ультра приносит 2 031 509  рублей в год. \n",
    " <br><br> <i>* Количество пользователей тарифа Смарт 351, а пользователей тарифа Ультра 149.</i> \n",
    "    \n",
    "</div>"
   ]
  },
  {
   "cell_type": "markdown",
   "metadata": {},
   "source": [
    "<a href=\"#Содержание-самостоятельной-работы\"><<< Вернуться к оглавлению</a>"
   ]
  },
  {
   "cell_type": "markdown",
   "metadata": {},
   "source": [
    "## Проверим Гипотезы"
   ]
  },
  {
   "cell_type": "markdown",
   "metadata": {},
   "source": [
    "### Средняя выручка пользователей тарифов «Ультра» и «Смарт» различается\n"
   ]
  },
  {
   "cell_type": "markdown",
   "metadata": {},
   "source": [
    "Сформулируем нулевые гипотезы:\n",
    "    - Нулевая гипотеза H₀: Средняя выручка пользователей тарифов Смарт и Ультра не различается\n",
    "    - Альтернативная гипотеза H₁: Средняя выручка пользователей тарифов Смарт и Ультра различается"
   ]
  },
  {
   "cell_type": "code",
   "execution_count": 72,
   "metadata": {},
   "outputs": [
    {
     "data": {
      "text/plain": [
       "68      1950.0000\n",
       "69      1950.0000\n",
       "70      1950.0000\n",
       "71      1950.0000\n",
       "72      1950.0000\n",
       "          ...    \n",
       "3205    1950.0000\n",
       "3211    1950.0000\n",
       "3212    2659.6008\n",
       "3213    3229.6824\n",
       "3214    1950.0000\n",
       "Name: profit, Length: 986, dtype: float64"
      ]
     },
     "execution_count": 72,
     "metadata": {},
     "output_type": "execute_result"
    }
   ],
   "source": [
    "# Посчитаем данные по выручке от каждого пользователя \n",
    "ultra_hyp = monthly_profit[monthly_profit['tariff']=='ultra']['profit']\n",
    "smart_hyp = monthly_profit[monthly_profit['tariff']=='smart']['profit']\n",
    "\n",
    "ultra_hyp"
   ]
  },
  {
   "cell_type": "code",
   "execution_count": 73,
   "metadata": {},
   "outputs": [
    {
     "data": {
      "text/plain": [
       "1233.0084148430494"
      ]
     },
     "execution_count": 73,
     "metadata": {},
     "output_type": "execute_result"
    }
   ],
   "source": [
    "smart_hyp.mean()"
   ]
  },
  {
   "cell_type": "code",
   "execution_count": 74,
   "metadata": {},
   "outputs": [
    {
     "name": "stdout",
     "output_type": "stream",
     "text": [
      "p-значение: 2.9834597829370533e-296\n",
      "Отвергаем нулевую гипотезу\n"
     ]
    }
   ],
   "source": [
    "#Выполним проверку гипотезы. Будем использовать метод ttest_ind\n",
    "\n",
    "alpha = .05\n",
    "\n",
    "results = st.ttest_ind(ultra_hyp, smart_hyp, equal_var=False)\n",
    "\n",
    "print('p-значение:', results.pvalue)\n",
    "\n",
    "\n",
    "if (results.pvalue < alpha):\n",
    "    print(\"Отвергаем нулевую гипотезу\")\n",
    "else:\n",
    "    print(\"Не получилось отвергнуть нулевую гипотезу\")"
   ]
  },
  {
   "cell_type": "markdown",
   "metadata": {},
   "source": [
    "<u>Исходя из нашего теста мы видим, что средняя выручка в тарифах ультра и смарт различается. Отвергаем нулевую гипотезу\n",
    "</u>"
   ]
  },
  {
   "cell_type": "markdown",
   "metadata": {},
   "source": [
    "### Средняя выручка пользователей из Москвы отличается от выручки пользователей из других регионов;"
   ]
  },
  {
   "cell_type": "markdown",
   "metadata": {},
   "source": [
    "Сформулируем нулевые гипотезы : \n",
    "    - Нулевая гипотеза H₀: Средняя выручка пользователей из Москвы не отличается от выручки пользователей из других регионов\n",
    "    - Альтернативная гипотеза H₁: Средняя выручка пользователей ииз Москвы отличается от выручки пользователей из других регионов"
   ]
  },
  {
   "cell_type": "code",
   "execution_count": 75,
   "metadata": {},
   "outputs": [
    {
     "data": {
      "text/plain": [
       "1507.2323355155481"
      ]
     },
     "execution_count": 75,
     "metadata": {},
     "output_type": "execute_result"
    }
   ],
   "source": [
    "moscow_city = monthly_profit[monthly_profit['city']=='москва'].profit\n",
    "others_city = monthly_profit[monthly_profit['city']!='москва'].profit\n",
    "moscow_city.mean()"
   ]
  },
  {
   "cell_type": "code",
   "execution_count": 76,
   "metadata": {},
   "outputs": [
    {
     "data": {
      "text/plain": [
       "1481.8422722840692"
      ]
     },
     "execution_count": 76,
     "metadata": {},
     "output_type": "execute_result"
    }
   ],
   "source": [
    "others_city.mean()"
   ]
  },
  {
   "cell_type": "code",
   "execution_count": 77,
   "metadata": {},
   "outputs": [
    {
     "name": "stdout",
     "output_type": "stream",
     "text": [
      "p-значение: 0.45173745836083723\n",
      "Не получилось отвергнуть нулевую гипотезу\n"
     ]
    }
   ],
   "source": [
    "#Выполним проверку гипотезы.\n",
    "\n",
    "alpha = .05\n",
    "\n",
    "results = st.ttest_ind(moscow_city, others_city, equal_var = False)\n",
    "\n",
    "print('p-значение:', results.pvalue)\n",
    "\n",
    "\n",
    "if (results.pvalue < alpha):\n",
    "    print(\"Отвергаем нулевую гипотезу\")\n",
    "else:\n",
    "    print(\"Не получилось отвергнуть нулевую гипотезу\")"
   ]
  },
  {
   "cell_type": "markdown",
   "metadata": {},
   "source": [
    "<u>Исходя из нашего теста мы видим, что средняя выручка пользователей с Москвы не отличается от пользователей из других регионов. Проведя тест мы не смогли отвергнуть нулевую гипотезу</u>"
   ]
  },
  {
   "cell_type": "markdown",
   "metadata": {},
   "source": [
    "<a href=\"#Содержание-самостоятельной-работы\"><<< Вернуться к оглавлению</a>"
   ]
  },
  {
   "cell_type": "markdown",
   "metadata": {},
   "source": [
    "## Общий вывод"
   ]
  },
  {
   "cell_type": "markdown",
   "metadata": {},
   "source": [
    "<div class=\"alert alert-block alert-info\">\n",
    " - Мы изучили наши таблицы, проверили их на наличие пустых значений, дубликатов и неправильных типов данных. После, в предобработке мы поменяли типы данных практически во всех столбцах, так как многие были указаны неверно.И подготовили все таблицы для дальнейшего анализа. <br><br>\n",
    " - По ТЗ: посчитали: Сколько минут разговора, сколько сообщений и какой объем интернет-трафика требуется пользователям каждого тарифа в месяц? Посчитали среднее количество, дисперсию и стандартное отклонение<br><br>\n",
    " - Проверили гипотезы. Убедились, что выручка тарифов Смарт и Ультра различается. Убедились, что выручка клиентов с Москвы и других регионов не отличается. <br><br>\n",
    " - Изучив данные, мы выявили, что клиенты тарифа Ультра расходуют больше интернет-трафика, делают больше звонков и отправляют больше сообщений, нежели клиенты тарифа Смарт и практически не превышают лимит своего пакета, чего не скажешь о клиентах тарифа Смарт. Но по годовой выручке, компания получает больше выручки по тарифу Смарт, так как пользователей данного тарифа больше чем Ультра. Если считать по каждому пользователю то в среднем пользователь тарифа Ультра приносит больше выручки в год чем, пользователь Смарта.   <br><Br>\n",
    "    Если брать считать по итоговой прибыли от тарифов Ультра и Смарт, то Смарт выгоден для компании аж на 700к рублей в год. \n",
    "    Но если считать ценность пользователя каждого тарифа, то пользователь тарифа Ультра приносят больше дохода, чем один пользователь тарифа Смарт\n",
    "    <br>  \n",
    "</div>"
   ]
  },
  {
   "cell_type": "markdown",
   "metadata": {},
   "source": [
    "<a href=\"#Содержание-самостоятельной-работы\"><<< Вернуться к оглавлению</a>"
   ]
  }
 ],
 "metadata": {
  "kernelspec": {
   "display_name": "Python 3",
   "language": "python",
   "name": "python3"
  },
  "language_info": {
   "codemirror_mode": {
    "name": "ipython",
    "version": 3
   },
   "file_extension": ".py",
   "mimetype": "text/x-python",
   "name": "python",
   "nbconvert_exporter": "python",
   "pygments_lexer": "ipython3",
   "version": "3.8.5"
  }
 },
 "nbformat": 4,
 "nbformat_minor": 4
}
