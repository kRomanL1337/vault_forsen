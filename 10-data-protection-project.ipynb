{
 "cells": [
  {
   "cell_type": "markdown",
   "metadata": {
    "toc": true
   },
   "source": [
    "<h1>Содержание<span class=\"tocSkip\"></span></h1>\n",
    "<div class=\"toc\"><ul class=\"toc-item\"><li><span><a href=\"#Загрузка-данных\" data-toc-modified-id=\"Загрузка-данных-1\"><span class=\"toc-item-num\">1&nbsp;&nbsp;</span>Загрузка данных</a></span></li><li><span><a href=\"#Умножение-матриц\" data-toc-modified-id=\"Умножение-матриц-2\"><span class=\"toc-item-num\">2&nbsp;&nbsp;</span>Умножение матриц</a></span></li><li><span><a href=\"#Алгоритм-преобразования\" data-toc-modified-id=\"Алгоритм-преобразования-3\"><span class=\"toc-item-num\">3&nbsp;&nbsp;</span>Алгоритм преобразования</a></span></li><li><span><a href=\"#Проверка-алгоритма\" data-toc-modified-id=\"Проверка-алгоритма-4\"><span class=\"toc-item-num\">4&nbsp;&nbsp;</span>Проверка алгоритма</a></span></li><li><span><a href=\"#Чек-лист-проверки\" data-toc-modified-id=\"Чек-лист-проверки-5\"><span class=\"toc-item-num\">5&nbsp;&nbsp;</span>Чек-лист проверки</a></span></li></ul></div>"
   ]
  },
  {
   "cell_type": "markdown",
   "metadata": {},
   "source": [
    "# Защита персональных данных клиентов"
   ]
  },
  {
   "cell_type": "markdown",
   "metadata": {},
   "source": [
    "Вам нужно защитить данные клиентов страховой компании «Хоть потоп». Разработайте такой метод преобразования данных, чтобы по ним было сложно восстановить персональную информацию. Обоснуйте корректность его работы.\n",
    "\n",
    "Нужно защитить данные, чтобы при преобразовании качество моделей машинного обучения не ухудшилось. Подбирать наилучшую модель не требуется."
   ]
  },
  {
   "cell_type": "markdown",
   "metadata": {},
   "source": [
    "## Загрузка данных"
   ]
  },
  {
   "cell_type": "code",
   "execution_count": 1,
   "metadata": {},
   "outputs": [
    {
     "name": "stderr",
     "output_type": "stream",
     "text": [
      "C:\\Users\\Games\\AppData\\Local\\Temp\\ipykernel_28432\\3918809254.py:3: DeprecationWarning: Importing display from IPython.core.display is deprecated since IPython 7.14, please import from IPython display\n",
      "  from IPython.core.display import display, HTML\n"
     ]
    }
   ],
   "source": [
    "import pandas as pd\n",
    "import numpy as np\n",
    "from IPython.core.display import display, HTML\n",
    "from sklearn.linear_model import LinearRegression\n",
    "from sklearn.metrics import r2_score\n"
   ]
  },
  {
   "cell_type": "code",
   "execution_count": 2,
   "metadata": {},
   "outputs": [
    {
     "data": {
      "text/html": [
       "<style>.container { width:88% !important; }</style>"
      ],
      "text/plain": [
       "<IPython.core.display.HTML object>"
      ]
     },
     "metadata": {},
     "output_type": "display_data"
    }
   ],
   "source": [
    "display(HTML(\"<style>.container { width:88% !important; }</style>\"))"
   ]
  },
  {
   "cell_type": "code",
   "execution_count": 3,
   "metadata": {},
   "outputs": [],
   "source": [
    "try:\n",
    "    forsen = pd.read_csv('/datasets/insurance.csv')\n",
    "except:\n",
    "    forsen = pd.read_csv('C:/Users/Games/Downloads/insurance.csv')"
   ]
  },
  {
   "cell_type": "code",
   "execution_count": 4,
   "metadata": {},
   "outputs": [
    {
     "name": "stdout",
     "output_type": "stream",
     "text": [
      "<class 'pandas.core.frame.DataFrame'>\n",
      "RangeIndex: 5000 entries, 0 to 4999\n",
      "Data columns (total 5 columns):\n",
      " #   Column             Non-Null Count  Dtype  \n",
      "---  ------             --------------  -----  \n",
      " 0   Пол                5000 non-null   int64  \n",
      " 1   Возраст            5000 non-null   float64\n",
      " 2   Зарплата           5000 non-null   float64\n",
      " 3   Члены семьи        5000 non-null   int64  \n",
      " 4   Страховые выплаты  5000 non-null   int64  \n",
      "dtypes: float64(2), int64(3)\n",
      "memory usage: 195.4 KB\n"
     ]
    },
    {
     "data": {
      "text/html": [
       "<div>\n",
       "<style scoped>\n",
       "    .dataframe tbody tr th:only-of-type {\n",
       "        vertical-align: middle;\n",
       "    }\n",
       "\n",
       "    .dataframe tbody tr th {\n",
       "        vertical-align: top;\n",
       "    }\n",
       "\n",
       "    .dataframe thead th {\n",
       "        text-align: right;\n",
       "    }\n",
       "</style>\n",
       "<table border=\"1\" class=\"dataframe\">\n",
       "  <thead>\n",
       "    <tr style=\"text-align: right;\">\n",
       "      <th></th>\n",
       "      <th>Пол</th>\n",
       "      <th>Возраст</th>\n",
       "      <th>Зарплата</th>\n",
       "      <th>Члены семьи</th>\n",
       "      <th>Страховые выплаты</th>\n",
       "    </tr>\n",
       "  </thead>\n",
       "  <tbody>\n",
       "    <tr>\n",
       "      <th>0</th>\n",
       "      <td>1</td>\n",
       "      <td>41.0</td>\n",
       "      <td>49600.0</td>\n",
       "      <td>1</td>\n",
       "      <td>0</td>\n",
       "    </tr>\n",
       "    <tr>\n",
       "      <th>1</th>\n",
       "      <td>0</td>\n",
       "      <td>46.0</td>\n",
       "      <td>38000.0</td>\n",
       "      <td>1</td>\n",
       "      <td>1</td>\n",
       "    </tr>\n",
       "    <tr>\n",
       "      <th>2</th>\n",
       "      <td>0</td>\n",
       "      <td>29.0</td>\n",
       "      <td>21000.0</td>\n",
       "      <td>0</td>\n",
       "      <td>0</td>\n",
       "    </tr>\n",
       "    <tr>\n",
       "      <th>3</th>\n",
       "      <td>0</td>\n",
       "      <td>21.0</td>\n",
       "      <td>41700.0</td>\n",
       "      <td>2</td>\n",
       "      <td>0</td>\n",
       "    </tr>\n",
       "    <tr>\n",
       "      <th>4</th>\n",
       "      <td>1</td>\n",
       "      <td>28.0</td>\n",
       "      <td>26100.0</td>\n",
       "      <td>0</td>\n",
       "      <td>0</td>\n",
       "    </tr>\n",
       "  </tbody>\n",
       "</table>\n",
       "</div>"
      ],
      "text/plain": [
       "   Пол  Возраст  Зарплата  Члены семьи  Страховые выплаты\n",
       "0    1     41.0   49600.0            1                  0\n",
       "1    0     46.0   38000.0            1                  1\n",
       "2    0     29.0   21000.0            0                  0\n",
       "3    0     21.0   41700.0            2                  0\n",
       "4    1     28.0   26100.0            0                  0"
      ]
     },
     "metadata": {},
     "output_type": "display_data"
    },
    {
     "data": {
      "text/plain": [
       "(None, (5000, 5), None)"
      ]
     },
     "execution_count": 4,
     "metadata": {},
     "output_type": "execute_result"
    }
   ],
   "source": [
    "forsen.info(), forsen.shape, display(forsen.head())"
   ]
  },
  {
   "cell_type": "code",
   "execution_count": 5,
   "metadata": {},
   "outputs": [
    {
     "name": "stdout",
     "output_type": "stream",
     "text": [
      "Дубликатов в датасете: 153\n"
     ]
    }
   ],
   "source": [
    "print('Дубликатов в датасете:', forsen.duplicated().sum())"
   ]
  },
  {
   "cell_type": "code",
   "execution_count": 6,
   "metadata": {},
   "outputs": [
    {
     "data": {
      "text/html": [
       "<div>\n",
       "<style scoped>\n",
       "    .dataframe tbody tr th:only-of-type {\n",
       "        vertical-align: middle;\n",
       "    }\n",
       "\n",
       "    .dataframe tbody tr th {\n",
       "        vertical-align: top;\n",
       "    }\n",
       "\n",
       "    .dataframe thead th {\n",
       "        text-align: right;\n",
       "    }\n",
       "</style>\n",
       "<table border=\"1\" class=\"dataframe\">\n",
       "  <thead>\n",
       "    <tr style=\"text-align: right;\">\n",
       "      <th></th>\n",
       "      <th>Пол</th>\n",
       "      <th>Возраст</th>\n",
       "      <th>Зарплата</th>\n",
       "      <th>Члены семьи</th>\n",
       "      <th>Страховые выплаты</th>\n",
       "    </tr>\n",
       "  </thead>\n",
       "  <tbody>\n",
       "    <tr>\n",
       "      <th>281</th>\n",
       "      <td>1</td>\n",
       "      <td>39.0</td>\n",
       "      <td>48100.0</td>\n",
       "      <td>1</td>\n",
       "      <td>0</td>\n",
       "    </tr>\n",
       "    <tr>\n",
       "      <th>488</th>\n",
       "      <td>1</td>\n",
       "      <td>24.0</td>\n",
       "      <td>32900.0</td>\n",
       "      <td>1</td>\n",
       "      <td>0</td>\n",
       "    </tr>\n",
       "    <tr>\n",
       "      <th>513</th>\n",
       "      <td>0</td>\n",
       "      <td>31.0</td>\n",
       "      <td>37400.0</td>\n",
       "      <td>2</td>\n",
       "      <td>0</td>\n",
       "    </tr>\n",
       "    <tr>\n",
       "      <th>718</th>\n",
       "      <td>1</td>\n",
       "      <td>22.0</td>\n",
       "      <td>32600.0</td>\n",
       "      <td>1</td>\n",
       "      <td>0</td>\n",
       "    </tr>\n",
       "    <tr>\n",
       "      <th>785</th>\n",
       "      <td>0</td>\n",
       "      <td>20.0</td>\n",
       "      <td>35800.0</td>\n",
       "      <td>0</td>\n",
       "      <td>0</td>\n",
       "    </tr>\n",
       "    <tr>\n",
       "      <th>...</th>\n",
       "      <td>...</td>\n",
       "      <td>...</td>\n",
       "      <td>...</td>\n",
       "      <td>...</td>\n",
       "      <td>...</td>\n",
       "    </tr>\n",
       "    <tr>\n",
       "      <th>4793</th>\n",
       "      <td>1</td>\n",
       "      <td>24.0</td>\n",
       "      <td>37800.0</td>\n",
       "      <td>0</td>\n",
       "      <td>0</td>\n",
       "    </tr>\n",
       "    <tr>\n",
       "      <th>4902</th>\n",
       "      <td>1</td>\n",
       "      <td>35.0</td>\n",
       "      <td>38700.0</td>\n",
       "      <td>1</td>\n",
       "      <td>0</td>\n",
       "    </tr>\n",
       "    <tr>\n",
       "      <th>4935</th>\n",
       "      <td>1</td>\n",
       "      <td>19.0</td>\n",
       "      <td>32700.0</td>\n",
       "      <td>0</td>\n",
       "      <td>0</td>\n",
       "    </tr>\n",
       "    <tr>\n",
       "      <th>4945</th>\n",
       "      <td>1</td>\n",
       "      <td>21.0</td>\n",
       "      <td>45800.0</td>\n",
       "      <td>0</td>\n",
       "      <td>0</td>\n",
       "    </tr>\n",
       "    <tr>\n",
       "      <th>4965</th>\n",
       "      <td>0</td>\n",
       "      <td>22.0</td>\n",
       "      <td>40100.0</td>\n",
       "      <td>1</td>\n",
       "      <td>0</td>\n",
       "    </tr>\n",
       "  </tbody>\n",
       "</table>\n",
       "<p>153 rows × 5 columns</p>\n",
       "</div>"
      ],
      "text/plain": [
       "      Пол  Возраст  Зарплата  Члены семьи  Страховые выплаты\n",
       "281     1     39.0   48100.0            1                  0\n",
       "488     1     24.0   32900.0            1                  0\n",
       "513     0     31.0   37400.0            2                  0\n",
       "718     1     22.0   32600.0            1                  0\n",
       "785     0     20.0   35800.0            0                  0\n",
       "...   ...      ...       ...          ...                ...\n",
       "4793    1     24.0   37800.0            0                  0\n",
       "4902    1     35.0   38700.0            1                  0\n",
       "4935    1     19.0   32700.0            0                  0\n",
       "4945    1     21.0   45800.0            0                  0\n",
       "4965    0     22.0   40100.0            1                  0\n",
       "\n",
       "[153 rows x 5 columns]"
      ]
     },
     "metadata": {},
     "output_type": "display_data"
    }
   ],
   "source": [
    "duplicateRows = forsen[forsen.duplicated()]\n",
    "display(duplicateRows)"
   ]
  },
  {
   "cell_type": "code",
   "execution_count": 7,
   "metadata": {},
   "outputs": [],
   "source": [
    "forsen = forsen.drop_duplicates()"
   ]
  },
  {
   "cell_type": "code",
   "execution_count": 8,
   "metadata": {},
   "outputs": [
    {
     "name": "stdout",
     "output_type": "stream",
     "text": [
      "<class 'pandas.core.frame.DataFrame'>\n",
      "Int64Index: 4847 entries, 0 to 4999\n",
      "Data columns (total 5 columns):\n",
      " #   Column             Non-Null Count  Dtype  \n",
      "---  ------             --------------  -----  \n",
      " 0   Пол                4847 non-null   int64  \n",
      " 1   Возраст            4847 non-null   float64\n",
      " 2   Зарплата           4847 non-null   float64\n",
      " 3   Члены семьи        4847 non-null   int64  \n",
      " 4   Страховые выплаты  4847 non-null   int64  \n",
      "dtypes: float64(2), int64(3)\n",
      "memory usage: 227.2 KB\n"
     ]
    }
   ],
   "source": [
    "forsen.info()"
   ]
  },
  {
   "cell_type": "code",
   "execution_count": 9,
   "metadata": {},
   "outputs": [
    {
     "data": {
      "text/plain": [
       "((4847, 4), (4847,))"
      ]
     },
     "execution_count": 9,
     "metadata": {},
     "output_type": "execute_result"
    }
   ],
   "source": [
    "X = forsen.drop(columns='Страховые выплаты', axis=1)\n",
    "y = forsen['Страховые выплаты']\n",
    "\n",
    "X.shape, y.shape"
   ]
  },
  {
   "cell_type": "markdown",
   "metadata": {},
   "source": [
    "Открыли файл, посмотрели, что в датасете 5к строк, 5 столбцов. Пропусков нет, было 153 дубликата, я их убрал. Не должно сказаться на дальнейших результатах работы. Признаки определили выше, целевой в том числе."
   ]
  },
  {
   "cell_type": "markdown",
   "metadata": {},
   "source": [
    "## Умножение матриц"
   ]
  },
  {
   "cell_type": "markdown",
   "metadata": {},
   "source": [
    "В этом задании вы можете записывать формулы в *Jupyter Notebook.*\n",
    "\n",
    "Чтобы записать формулу внутри текста, окружите её символами доллара \\\\$; если снаружи —  двойными символами \\\\$\\\\$. Эти формулы записываются на языке вёрстки *LaTeX.* \n",
    "\n",
    "Для примера мы записали формулы линейной регрессии. Можете их скопировать и отредактировать, чтобы решить задачу.\n",
    "\n",
    "Работать в *LaTeX* необязательно."
   ]
  },
  {
   "cell_type": "markdown",
   "metadata": {},
   "source": [
    "Обозначения:\n",
    "\n",
    "- $X$ — матрица признаков (нулевой столбец состоит из единиц)\n",
    "\n",
    "- $y$ — вектор целевого признака\n",
    "\n",
    "- $P$ — матрица, на которую умножаются признаки\n",
    "\n",
    "- $w$ — вектор весов линейной регрессии (нулевой элемент равен сдвигу)"
   ]
  },
  {
   "cell_type": "markdown",
   "metadata": {},
   "source": [
    "Предсказания:\n",
    "\n",
    "$$\n",
    "a = Xw\n",
    "$$\n",
    "\n",
    "Задача обучения:\n",
    "\n",
    "$$\n",
    "w = \\arg\\min_w MSE(Xw, y)\n",
    "$$\n",
    "\n",
    "Формула обучения:\n",
    "\n",
    "$$\n",
    "w = (X^T X)^{-1} X^T y\n",
    "$$"
   ]
  },
  {
   "cell_type": "markdown",
   "metadata": {},
   "source": [
    "**Ответ: b (не изменится)**\n",
    "\n",
    "**Обоснование: (ниже)**\n",
    "\n",
    "Начнём с формулы обучения и заменим в ней X на XZ (умножение на обратимую матрицу) и далее раскроем скобки и приведем формулу к такому виду, чтобы можно было показать отношение между $w$ и $w_{new}$.\n",
    "\n",
    "$$\n",
    "a_{new} = XZw_{new}\n",
    "$$\n",
    "\n",
    "Представим новую матрицу признаков $X1$ как произведение старой $X$ на матрицу $Z$(обратимую):\n",
    "\n",
    "$$\n",
    "X1 = X * Z\n",
    "$$\n",
    "\n",
    "Подставим новое значение X1 в формулу $w_{new}$:\n",
    "\n",
    "$$\n",
    "w_{new} = ((XZ)^T XZ)^{-1} (XZ)^T y\n",
    "$$\n",
    "\n",
    "Раскроем первое произведение $(XZ)^T$:\n",
    "\n",
    "$$\n",
    "w_{new} = (Z^T X^T XZ)^{-1} Z^T X^T y \n",
    "$$\n",
    "\n",
    "Перегруппируем множители в скобках:\n",
    "\n",
    "$$\n",
    "w_{new} = (Z^T (X^T X) Z)^{-1} Z^T X^T y\n",
    "$$\n",
    "\n",
    "Так как $Z$ по условию обратимая, то произведение $(Z^T)^{-1} Z^T = E$ (единичная матрица):\n",
    "\n",
    "$$\n",
    "w_{new} = Z^{-1} (X^T X)^{-1} E X^T y = Z^{-1} (X^T X)^{-1} X^T y \n",
    "$$\n",
    "\n",
    "Можно заметить, что справа у нас оказалась формула для $w$:\n",
    "\n",
    "$$\n",
    "w_{new} = Z^{-1} (X^T X)^{-1} X^T y = Z^{-1} w\n",
    "$$\n",
    "\n",
    "Подставим новое значение весов 𝑤1 в формулу для предсказаний линейной регрессии:\n",
    "\n",
    "$$\n",
    "a_{new} = XZZ^{-1} w\n",
    "$$\n",
    "\n",
    "Так как $Z$ по условию обратимая, то произведение $ZZ^{-1}$ снова равно $E$:\n",
    "\n",
    "$$\n",
    "a_{new} = XZZ^{-1} w = XEw = Xw = a\n",
    "$$\n",
    "\n",
    "Предсказания $a_{new}$ для матрицы признаков, умноженных на обратимую матрицу $Z$ равны предсказаниям $a$. Качество лин. регрессии при умножении признаков на обратимую матрицу не изменится. Что касается связи для $w$ и $w_{new}$, то $w_{new} = Z^{-1} w$. "
   ]
  },
  {
   "cell_type": "markdown",
   "metadata": {},
   "source": [
    "## Алгоритм преобразования"
   ]
  },
  {
   "cell_type": "markdown",
   "metadata": {},
   "source": [
    "**Алгоритм**\n",
    "\n",
    "Для шифрования данных будем умножать матрицу признаков на обратимую матрицу, которая будет генерироваться случайным образом.\n",
    "\n",
    "Этапы алгоритма:\n",
    "\n",
    "* Составление матрицы;\n",
    "* проверка матрицы на обратимость;\n",
    "* получение матрицы преобразованных признаков;\n",
    "* применение алгоритма на преобразованных признаках и сравнение полученного R2 score с R2 score на оригинальных данных;\n"
   ]
  },
  {
   "cell_type": "markdown",
   "metadata": {},
   "source": [
    "**Обоснование**\n",
    "\n",
    "При умножении признаков на обратимую матрицу качество линейной регрессии не изменится, то есть данный алгоритм позволяет защитить данные, а потом восстановить их, зная обратную матрицу P, если это необходимо"
   ]
  },
  {
   "cell_type": "markdown",
   "metadata": {},
   "source": [
    "## Проверка алгоритма"
   ]
  },
  {
   "cell_type": "code",
   "execution_count": 10,
   "metadata": {
    "scrolled": true
   },
   "outputs": [
    {
     "name": "stdout",
     "output_type": "stream",
     "text": [
      "Original data R2 score: 0.4302010044852067\n",
      "Encrypted data R2 score: 0.4302010044852015\n"
     ]
    }
   ],
   "source": [
    "def data_encrypted(X, y):\n",
    "    \n",
    "    Z = np.random.rand(X.shape[1], X.shape[1])\n",
    "    while np.linalg.det(Z) == 0:\n",
    "        Z = np.random.rand(X.shape[1], X.shape[1])\n",
    "    X_encrypted = X@Z\n",
    "    \n",
    "    model = LinearRegression()\n",
    "    model.fit(X_encrypted, y)\n",
    "    \n",
    "    y_pred_encrypted = model.predict(X_encrypted)\n",
    "    r2_encrypted = r2_score(y, y_pred_encrypted)\n",
    "    \n",
    "    return X_encrypted, r2_encrypted\n",
    "\n",
    "\n",
    "X_encrypted, r2_encrypted = data_encrypted(X, y)\n",
    "\n",
    "\n",
    "model_original = LinearRegression()\n",
    "model_original.fit(X, y)\n",
    "\n",
    "y_pred_original = model_original.predict(X)\n",
    "r2_original = r2_score(y, y_pred_original)\n",
    "\n",
    "print(\"Original data R2 score:\", r2_original)\n",
    "print(\"Encrypted data R2 score:\", r2_encrypted)"
   ]
  },
  {
   "cell_type": "markdown",
   "metadata": {},
   "source": [
    "**Вывод:**"
   ]
  },
  {
   "cell_type": "markdown",
   "metadata": {},
   "source": [
    "**Метрики одинаковы. Качество линейной регрессии из sklearn не отличается до и после преобразования.**"
   ]
  }
 ],
 "metadata": {
  "ExecuteTimeLog": [
   {
    "duration": 1707,
    "start_time": "2023-07-06T01:28:51.925Z"
   },
   {
    "duration": 66,
    "start_time": "2023-07-06T01:28:53.634Z"
   },
   {
    "duration": 30,
    "start_time": "2023-07-06T01:28:53.701Z"
   },
   {
    "duration": 23,
    "start_time": "2023-07-06T01:28:53.733Z"
   },
   {
    "duration": 5,
    "start_time": "2023-07-06T01:28:53.758Z"
   },
   {
    "duration": 16,
    "start_time": "2023-07-06T01:28:53.765Z"
   },
   {
    "duration": 4,
    "start_time": "2023-07-06T01:28:53.783Z"
   },
   {
    "duration": 11,
    "start_time": "2023-07-06T01:28:53.789Z"
   },
   {
    "duration": 8,
    "start_time": "2023-07-06T01:28:53.802Z"
   },
   {
    "duration": 59,
    "start_time": "2023-07-06T01:28:53.812Z"
   },
   {
    "duration": 14,
    "start_time": "2023-07-06T01:50:12.762Z"
   },
   {
    "duration": 1940,
    "start_time": "2023-07-06T21:25:40.271Z"
   },
   {
    "duration": 69,
    "start_time": "2023-07-06T21:25:42.214Z"
   },
   {
    "duration": 131,
    "start_time": "2023-07-06T21:25:42.284Z"
   },
   {
    "duration": 23,
    "start_time": "2023-07-06T21:25:42.417Z"
   },
   {
    "duration": 13,
    "start_time": "2023-07-06T21:25:42.442Z"
   },
   {
    "duration": 21,
    "start_time": "2023-07-06T21:25:42.457Z"
   },
   {
    "duration": 5,
    "start_time": "2023-07-06T21:25:42.480Z"
   },
   {
    "duration": 24,
    "start_time": "2023-07-06T21:25:42.487Z"
   },
   {
    "duration": 6,
    "start_time": "2023-07-06T21:25:42.513Z"
   },
   {
    "duration": 157,
    "start_time": "2023-07-06T21:25:42.521Z"
   },
   {
    "duration": 143,
    "start_time": "2023-07-06T22:01:19.234Z"
   },
   {
    "duration": 1890,
    "start_time": "2023-07-07T20:00:49.916Z"
   },
   {
    "duration": 80,
    "start_time": "2023-07-07T20:00:51.809Z"
   },
   {
    "duration": 148,
    "start_time": "2023-07-07T20:00:51.891Z"
   },
   {
    "duration": 25,
    "start_time": "2023-07-07T20:00:52.041Z"
   },
   {
    "duration": 28,
    "start_time": "2023-07-07T20:00:52.068Z"
   },
   {
    "duration": 28,
    "start_time": "2023-07-07T20:00:52.098Z"
   },
   {
    "duration": 17,
    "start_time": "2023-07-07T20:00:52.128Z"
   },
   {
    "duration": 35,
    "start_time": "2023-07-07T20:00:52.147Z"
   },
   {
    "duration": 32,
    "start_time": "2023-07-07T20:00:52.184Z"
   },
   {
    "duration": 58,
    "start_time": "2023-07-07T20:00:52.218Z"
   },
   {
    "duration": 1882,
    "start_time": "2023-07-07T20:08:32.032Z"
   },
   {
    "duration": 85,
    "start_time": "2023-07-07T20:08:33.917Z"
   },
   {
    "duration": 32,
    "start_time": "2023-07-07T20:08:34.005Z"
   },
   {
    "duration": 29,
    "start_time": "2023-07-07T20:08:34.040Z"
   },
   {
    "duration": 15,
    "start_time": "2023-07-07T20:08:34.071Z"
   },
   {
    "duration": 30,
    "start_time": "2023-07-07T20:08:34.089Z"
   },
   {
    "duration": 10,
    "start_time": "2023-07-07T20:08:34.122Z"
   },
   {
    "duration": 41,
    "start_time": "2023-07-07T20:08:34.133Z"
   },
   {
    "duration": 15,
    "start_time": "2023-07-07T20:08:34.177Z"
   },
   {
    "duration": 75,
    "start_time": "2023-07-07T20:08:34.196Z"
   }
  ],
  "kernelspec": {
   "display_name": "Python 3 (ipykernel)",
   "language": "python",
   "name": "python3"
  },
  "language_info": {
   "codemirror_mode": {
    "name": "ipython",
    "version": 3
   },
   "file_extension": ".py",
   "mimetype": "text/x-python",
   "name": "python",
   "nbconvert_exporter": "python",
   "pygments_lexer": "ipython3",
   "version": "3.9.16"
  },
  "toc": {
   "base_numbering": 1,
   "nav_menu": {},
   "number_sections": true,
   "sideBar": true,
   "skip_h1_title": true,
   "title_cell": "Содержание",
   "title_sidebar": "Contents",
   "toc_cell": true,
   "toc_position": {},
   "toc_section_display": true,
   "toc_window_display": false
  }
 },
 "nbformat": 4,
 "nbformat_minor": 2
}
